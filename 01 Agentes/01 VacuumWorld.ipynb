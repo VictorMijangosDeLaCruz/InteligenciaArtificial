{
 "cells": [
  {
   "cell_type": "markdown",
   "id": "bac36a95",
   "metadata": {},
   "source": [
    "# Mundo de la aspiradora\n",
    "\n",
    "Este notebook presenta un agente que interactúa en el mundo de la aspiradora, tal como se presenta en Russel & Norvig (2021). Una versión más compleja de este mundo puede encontrarse en <url>https://github.com/rayheberer/AI-A-Modern-Approach/tree/master/Chapter%202%20Intelligent%20Agents</url>.\n",
    "\n",
    "Describiremos la forma en que se puede crear este mundo, para que un agente aspiradora actúe en éste.\n",
    "\n",
    "### Definición de los cuartos\n",
    "\n",
    "En primer lugar construiremos los cuartos o cuadrados en los que va interactuar el agente aspiradora. El ambiente se conformará de un conjunto de cuartos dispuestos en ciertas posiciones."
   ]
  },
  {
   "cell_type": "code",
   "execution_count": 1,
   "id": "e0848006",
   "metadata": {},
   "outputs": [],
   "source": [
    "class Square(object):\n",
    "    def __init__(self, name):\n",
    "        \"\"\"\n",
    "        Crea un objeto square, que representa los cuadrados del ambiente.\n",
    "\n",
    "        Argumentos\n",
    "        ----------\n",
    "        name : str\n",
    "          Nombre del cuadrado ('A', 'B', etc.)\n",
    "        \"\"\"\n",
    "        self.name = name\n",
    "        self.dirt = 0\n",
    "        \n",
    "        # Hasta que no se coloque con cuadrados vecinos, los movimientos no llevan a ningún lado\n",
    "        self.left = self\n",
    "        self.right = self\n",
    "        self.up = self\n",
    "        self.down = self\n",
    "        \n",
    "    def __str__(self):\n",
    "        return self.name"
   ]
  },
  {
   "cell_type": "markdown",
   "id": "d20f5cc7",
   "metadata": {},
   "source": [
    "## Creación del ambiente\n",
    "\n",
    "El ambiente del mundo de la aspiradora consta de un conjunto de cuadros estructurados en diferentes posiciones; estos cuadros pueden estar al lado de otros, o bien abajo o arriba de estos. \n",
    "\n",
    "En este ejemplo, consideramos un mundo con cuatro cuadros en los que se puede posicionar el agente. El agente puede moverse en 4 posiciones, izquierda, derecha, arriba y abajo. La configuración en los cuartos que exploramos está configurada de la siguiente forma:\n",
    "\n",
    "$$[A] [B] \\\\ [C] [D]$$\n",
    "\n",
    "Los nombres de los cuartos son A, B, C y D. Los cuadros A y B están en la parte superior y C y D en la parte inferior. A y C están del lado izquierdo y B, D del lado derecho.\n",
    "Asimismo, uno o ambos cuadrados pueden estar sucios (lo que se indica con 1) o limpios (indicado con 0). El ambiente indicará, de manera, aleatoria qué cuadrado está o no sucio."
   ]
  },
  {
   "cell_type": "code",
   "execution_count": 2,
   "id": "02ca9c69",
   "metadata": {},
   "outputs": [],
   "source": [
    "import random\n",
    "\n",
    "class VacuumWorld(object):\n",
    "    def __init__(self, dirt_init='random'):\n",
    "        \"\"\"\n",
    "        Objeto que crea el ambiente para el mundo de la aspiradora:\n",
    "        Se conforma de:\n",
    "        - Dos cuadrados: A y B (A a la izquierda de B)\n",
    "        - Indicación de la limpieza (0) o suciedad (1) de los cuadrados.\n",
    "\n",
    "        Argumentos\n",
    "        ----------\n",
    "        dirt_init : str\n",
    "          Forma en que se inicializará la suciedad de los cuadrados.\n",
    "        \"\"\"\n",
    "        self.squares = []\n",
    "        self.A,self.B,self.C,self.D = Square('A'),Square('B'),Square('C'),Square('D')\n",
    "        self.squares.append(self.A)\n",
    "        self.squares.append(self.B)\n",
    "        self.squares.append(self.C)\n",
    "        self.squares.append(self.D)\n",
    "\n",
    "        #Configuración de los cuartos\n",
    "        self.A.left,self.A.right,self.A.up,self.A.down = self.A,self.B,self.A,self.C\n",
    "        self.B.left,self.B.right,self.B.up,self.B.down = self.A,self.B,self.B,self.D\n",
    "        self.C.left,self.C.right,self.C.up,self.C.down = self.C,self.D,self.A,self.C\n",
    "        self.D.left,self.D.right,self.D.up,self.D.down = self.C,self.D,self.B,self.D\n",
    "\n",
    "        #Inicialización de suciedad\n",
    "        self.dirt_init = dirt_init\n",
    "        self.initialize_dirt()\n",
    "        \n",
    "    def __str__(self):\n",
    "        return '[({},{}) ({},{})]\\n[({},{}) ({},{})]'.format(self.A.name,self.A.dirt, self.B.name,self.B.dirt,\n",
    "                                                   self.C.name,self.C.dirt, self.D.name,self.D.dirt)\n",
    "        \n",
    "    def initialize_dirt(self):\n",
    "        \"\"\"\n",
    "        Inicializa la suciedad de los cuadrados:\n",
    "\n",
    "        Opciones (se indican en init)\n",
    "        --------\n",
    "        random : Inicializa con uno de los cuadrados sucios y otro limpio de forma aleatoria.\n",
    "        dirty : Inicializa con los dos cuadrados sucios\n",
    "        clean : Inicializa con los dos cuadrados limpios\n",
    "        \"\"\"\n",
    "        if self.dirt_init=='random':\n",
    "            for square in self.squares:\n",
    "                if random.random() > 0.5:\n",
    "                    square.dirt = 1\n",
    "                else:\n",
    "                    square.dirt = 0\n",
    "\n",
    "        elif self.dirt_init=='dirty':\n",
    "            for square in self.squares:\n",
    "                square.dirt = 1\n",
    "\n",
    "        else:\n",
    "            for square, value in zip(self.squares, self.dirt_init):\n",
    "                square.dirt = value"
   ]
  },
  {
   "cell_type": "markdown",
   "id": "d915e194",
   "metadata": {},
   "source": [
    "### Creación del ambiente\n",
    "\n",
    "Finalmente, podemos crear el ambiente y observar como se comporta la suciedad en ésta. Cada cuarto tiene asociado un 0 (limpio) o un 1 (sucio)."
   ]
  },
  {
   "cell_type": "code",
   "execution_count": 3,
   "id": "18d20e9b",
   "metadata": {},
   "outputs": [
    {
     "name": "stdout",
     "output_type": "stream",
     "text": [
      "[(A,0) (B,0)]\n",
      "[(C,0) (D,0)]\n"
     ]
    }
   ],
   "source": [
    "env = VacuumWorld(dirt_init='random')\n",
    "print(env)"
   ]
  },
  {
   "cell_type": "markdown",
   "id": "ca2a8645",
   "metadata": {},
   "source": [
    "## Creación del agente\n",
    "\n",
    "El agente será un objeto que pueda interactuar con el ambiente. Este se compondrá de los siguientes elementos:\n",
    "\n",
    "* Sensores: El agente tiene acceso a la información del lugar (cuadrado) en que está y si este cuadrado está sucio.\n",
    "* Actuadores: El agente puede realizar las siguientes acciones:\n",
    "  1. Moverse a la izquierda ('Left').\n",
    "  2. Moverse a la derecha ('Right').\n",
    "  3. Moverse hacia arriba ('Up').\n",
    "  4. Moverse hacia abajo ('Down').\n",
    "  5. Limpiar ('Clean')."
   ]
  },
  {
   "cell_type": "code",
   "execution_count": 4,
   "id": "bfa1fbb4",
   "metadata": {},
   "outputs": [],
   "source": [
    "class Agent(VacuumWorld):\n",
    "    \"\"\"\n",
    "    Agente de aspiradora. Cuyas acciones son limpiar, o moverse en las cuatro direcciones.\n",
    "    Asimismo, el agente guarda una secuencia de percepciones.\n",
    "    \"\"\"\n",
    "    def __init__(self, location=None):\n",
    "        self.location = location\n",
    "        self.perceptions = [(self.location.name, self.location.dirt)]\n",
    "    \n",
    "    def act(self,action):\n",
    "        \"\"\"Función para actuar\"\"\"\n",
    "        if action == 'Clean':\n",
    "            self.location.dirt = 0\n",
    "            self.perceptions.append((self.location.name,self.location.dirt))\n",
    "        elif action == 'Left':\n",
    "            self.location = self.location.left\n",
    "            self.perceptions.append((self.location.name,self.location.dirt))\n",
    "        elif action == 'Right':\n",
    "            self.location = self.location.right\n",
    "            self.perceptions.append((self.location.name,self.location.dirt))\n",
    "        elif action == 'Up':\n",
    "            self.location = self.location.up\n",
    "            self.perceptions.append((self.location.name,self.location.dirt))\n",
    "        elif action == 'Down':\n",
    "            self.location = self.location.down\n",
    "            self.perceptions.append((self.location.name,self.location.dirt))\n",
    "        else:\n",
    "            print('No es una acción permitida')"
   ]
  },
  {
   "cell_type": "markdown",
   "id": "ace85a36",
   "metadata": {},
   "source": [
    "Ahora podemos generar el agente posicionándolo en alguno de los cuartos del ambiente. "
   ]
  },
  {
   "cell_type": "code",
   "execution_count": 5,
   "id": "5cb68712",
   "metadata": {},
   "outputs": [
    {
     "name": "stdout",
     "output_type": "stream",
     "text": [
      "[(A,0) (B,0)]\n",
      "[(C,0) (D,0)]\n",
      "A\n"
     ]
    }
   ],
   "source": [
    "agent = Agent(location=env.A)\n",
    "print(env)\n",
    "print(agent.location)"
   ]
  },
  {
   "cell_type": "markdown",
   "id": "a38e6ae5",
   "metadata": {},
   "source": [
    "Asimismo, el agente puede realizar acciones que se le indiquen, de tal forma que estas afecten a la disposición del ambiente:"
   ]
  },
  {
   "cell_type": "code",
   "execution_count": 6,
   "id": "b96375ef",
   "metadata": {},
   "outputs": [
    {
     "name": "stdout",
     "output_type": "stream",
     "text": [
      "Ambiente después de la acción:\n",
      "[(A,0) (B,0)]\n",
      "[(C,0) (D,0)] A\n",
      "Ambiente después de la acción:\n",
      "[(A,0) (B,0)]\n",
      "[(C,0) (D,0)] B\n",
      "Ambiente después de la acción:\n",
      "[(A,0) (B,0)]\n",
      "[(C,0) (D,0)] B\n",
      "Ambiente después de la acción:\n",
      "[(A,0) (B,0)]\n",
      "[(C,0) (D,0)] D\n",
      "Ambiente después de la acción:\n",
      "[(A,0) (B,0)]\n",
      "[(C,0) (D,0)] D\n",
      "Ambiente después de la acción:\n",
      "[(A,0) (B,0)]\n",
      "[(C,0) (D,0)] C\n",
      "Ambiente después de la acción:\n",
      "[(A,0) (B,0)]\n",
      "[(C,0) (D,0)] C\n"
     ]
    }
   ],
   "source": [
    "agent.act(action='Clean')\n",
    "print('Ambiente después de la acción:\\n{} {}'.format(env,agent.location))\n",
    "agent.act(action='Right')\n",
    "print('Ambiente después de la acción:\\n{} {}'.format(env,agent.location))\n",
    "agent.act(action='Clean')\n",
    "print('Ambiente después de la acción:\\n{} {}'.format(env,agent.location))\n",
    "agent.act(action='Down')\n",
    "print('Ambiente después de la acción:\\n{} {}'.format(env,agent.location))\n",
    "agent.act(action='Clean')\n",
    "print('Ambiente después de la acción:\\n{} {}'.format(env,agent.location))\n",
    "agent.act(action='Left')\n",
    "print('Ambiente después de la acción:\\n{} {}'.format(env,agent.location))\n",
    "agent.act(action='Clean')\n",
    "print('Ambiente después de la acción:\\n{} {}'.format(env,agent.location))"
   ]
  },
  {
   "cell_type": "markdown",
   "id": "adbe8c7e",
   "metadata": {},
   "source": [
    "Finalmente, podemos ver que el agente guarda una secuencia de percepciones:"
   ]
  },
  {
   "cell_type": "code",
   "execution_count": 7,
   "id": "7090b5d1",
   "metadata": {},
   "outputs": [
    {
     "name": "stdout",
     "output_type": "stream",
     "text": [
      "[('A', 0), ('A', 0), ('B', 0), ('B', 0), ('D', 0), ('D', 0), ('C', 0), ('C', 0)]\n"
     ]
    }
   ],
   "source": [
    "print(agent.perceptions)"
   ]
  },
  {
   "cell_type": "code",
   "execution_count": null,
   "id": "8ce06f76",
   "metadata": {},
   "outputs": [],
   "source": []
  }
 ],
 "metadata": {
  "kernelspec": {
   "display_name": "Python 3 (ipykernel)",
   "language": "python",
   "name": "python3"
  },
  "language_info": {
   "codemirror_mode": {
    "name": "ipython",
    "version": 3
   },
   "file_extension": ".py",
   "mimetype": "text/x-python",
   "name": "python",
   "nbconvert_exporter": "python",
   "pygments_lexer": "ipython3",
   "version": "3.8.10"
  }
 },
 "nbformat": 4,
 "nbformat_minor": 5
}
