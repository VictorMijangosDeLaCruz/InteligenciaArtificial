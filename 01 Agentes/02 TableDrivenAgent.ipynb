{
 "cells": [
  {
   "cell_type": "markdown",
   "id": "3c06d5a5",
   "metadata": {},
   "source": [
    "# Agente dirigido mediante tabla\n",
    "\n",
    "Un agente dirigido mediante tabla es un agente que ejecuta la función del agente a aprtir de una tabla de percepciones y acciones, la cual, precisamente, asocia a cada secuencia de percepciones una acción.\n",
    "\n",
    "Antes de definir este agente determinaremos el ambiente, que en este caso será el mundo de la aspiradora, pues este mundo permite definir una tabla que puede llegar a solucionar el problema de limpiar del mundo, aunque no de la manera más eficiente."
   ]
  },
  {
   "cell_type": "code",
   "execution_count": 1,
   "id": "4a7e3c3c",
   "metadata": {},
   "outputs": [
    {
     "name": "stdout",
     "output_type": "stream",
     "text": [
      "[(A,1) (B,1)]\n",
      "[(C,1) (D,0)]\n"
     ]
    }
   ],
   "source": [
    "from vacuum_world import VacuumWorld\n",
    "\n",
    "env = VacuumWorld()\n",
    "print(env)"
   ]
  },
  {
   "cell_type": "markdown",
   "id": "f0796c8c",
   "metadata": {},
   "source": [
    "## Generación del agente dirigido mediante tabla\n",
    "\n",
    "El agente guardara las percepciones, así como las locaciones. El agente requiere de una tabla para poder ejecutar las acciones. En este caso, la tabla que definiremos tomará sólo una percepción, pero pueden definirse agentes dirigidos mediante tablas que puedan tomar una secuencia de percepciones más extensa. \n",
    "\n",
    "Definimos una función <i>decide</i> que determina una acción en base a la tabla de percepciones. Dada la percepción actual, se accede a la acción que la tabla asocia. Asimismo, puede ejecutar la acción."
   ]
  },
  {
   "cell_type": "code",
   "execution_count": 2,
   "id": "7dcf17b5",
   "metadata": {},
   "outputs": [],
   "source": [
    "class TableDrivenAgent(VacuumWorld):\n",
    "    \"\"\"\n",
    "    Objeto agente.\n",
    "    \"\"\"\n",
    "    def __init__(self, table, location=None):\n",
    "        \"\"\"\n",
    "        percept\n",
    "            Percepción del agente, enlista las percepciones hasta el estado actual\n",
    "        table\n",
    "            Tabla de percepción-acción\n",
    "        location\n",
    "            Lugar donde se localiza el agente\n",
    "        \"\"\"\n",
    "        self.location = location\n",
    "        self.perceptions = [(self.location.name, self.location.dirt)]\n",
    "        self.table = table\n",
    "        \n",
    "    def decide(self):\n",
    "        \"\"\"\n",
    "        Simple función para ejecutar una acción a partir de \n",
    "        consultar la tabla\n",
    "        \"\"\"\n",
    "        action = self.table[self.perceptions[-1]]\n",
    "        #Cuando se tiene más de una acción\n",
    "        #la acción se realiza aleatoriamente\n",
    "        if type(action) == list:\n",
    "            action = random.choice(action)\n",
    "        \n",
    "        return action\n",
    "    \n",
    "    def act(self,action):\n",
    "        \"\"\"Función para actuar\"\"\"\n",
    "        if action == 'Clean':\n",
    "            self.location.dirt = 0\n",
    "            self.perceptions.append((self.location.name,self.location.dirt))\n",
    "        elif action == 'Left':\n",
    "            self.location = self.location.left\n",
    "            self.perceptions.append((self.location.name,self.location.dirt))\n",
    "        elif action == 'Right':\n",
    "            self.location = self.location.right\n",
    "            self.perceptions.append((self.location.name,self.location.dirt))\n",
    "        elif action == 'Up':\n",
    "            self.location = self.location.up\n",
    "            self.perceptions.append((self.location.name,self.location.dirt))\n",
    "        elif action == 'Down':\n",
    "            self.location = self.location.down\n",
    "            self.perceptions.append((self.location.name,self.location.dirt))\n",
    "        else:\n",
    "            print('No es una acción permitida')"
   ]
  },
  {
   "cell_type": "markdown",
   "id": "2098c263",
   "metadata": {},
   "source": [
    "La tabla que definimos es muy simple, toma únicamente la percepción, el lugar en el que se encuentra el agente y si este esta sucio o limpio. Si está sucio, limpia el cuarto, pero si está limpio, entonces se mueve hacia un cuarto cercano. Esta tabla no es la única posible y puede ampliarse si se considera un número mayor de percepciones."
   ]
  },
  {
   "cell_type": "code",
   "execution_count": 3,
   "id": "8b06920b",
   "metadata": {},
   "outputs": [],
   "source": [
    "#tabla de percepciones\n",
    "table = {('A',1):'Clean', ('A',0): 'Right', \n",
    "         ('B',1):'Clean', ('B',0): 'Down',\n",
    "         ('C',1):'Clean', ('C',0): 'Right', \n",
    "         ('D',1):'Clean', ('D',0): 'Left'}"
   ]
  },
  {
   "cell_type": "markdown",
   "id": "5298742a",
   "metadata": {},
   "source": [
    "Ahora podemos definir al agente, posicionándolo en el primer cuarto y viendo cuál es la última percepción que se ha definido."
   ]
  },
  {
   "cell_type": "code",
   "execution_count": 4,
   "id": "6b6b4d91",
   "metadata": {},
   "outputs": [
    {
     "name": "stdout",
     "output_type": "stream",
     "text": [
      "[('A', 1)]\n"
     ]
    }
   ],
   "source": [
    "agent = TableDrivenAgent(table=table, location=env.A)\n",
    "print(agent.perceptions)"
   ]
  },
  {
   "cell_type": "markdown",
   "id": "ca0b5b6d",
   "metadata": {},
   "source": [
    "Finalmente, podemos usar las percepciones para que el agente escoja una acción con respecto a la tabla y la última percepción que tuvo. De esta forma modifica el ambiente buscando limpiar todos los cuartos."
   ]
  },
  {
   "cell_type": "code",
   "execution_count": 5,
   "id": "e477fab6",
   "metadata": {},
   "outputs": [
    {
     "name": "stdout",
     "output_type": "stream",
     "text": [
      "Ambiente después de la acción Clean:\n",
      "[(A,0) (B,1)]\n",
      "[(C,1) (D,0)] A\n",
      "Ambiente después de la acción Right:\n",
      "[(A,0) (B,1)]\n",
      "[(C,1) (D,0)] B\n",
      "Ambiente después de la acción Clean:\n",
      "[(A,0) (B,0)]\n",
      "[(C,1) (D,0)] B\n",
      "Ambiente después de la acción Down:\n",
      "[(A,0) (B,0)]\n",
      "[(C,1) (D,0)] D\n",
      "Ambiente después de la acción Left:\n",
      "[(A,0) (B,0)]\n",
      "[(C,1) (D,0)] C\n"
     ]
    }
   ],
   "source": [
    "action = agent.decide()\n",
    "agent.act(action=action)\n",
    "print('Ambiente después de la acción {}:\\n{} {}'.format(action,env,agent.location))\n",
    "\n",
    "action = agent.decide()\n",
    "agent.act(action=action)\n",
    "print('Ambiente después de la acción {}:\\n{} {}'.format(action,env,agent.location))\n",
    "\n",
    "action = agent.decide()\n",
    "agent.act(action=action)\n",
    "print('Ambiente después de la acción {}:\\n{} {}'.format(action,env,agent.location))\n",
    "\n",
    "action = agent.decide()\n",
    "agent.act(action=action)\n",
    "print('Ambiente después de la acción {}:\\n{} {}'.format(action,env,agent.location))\n",
    "\n",
    "action = agent.decide()\n",
    "agent.act(action=action)\n",
    "print('Ambiente después de la acción {}:\\n{} {}'.format(action,env,agent.location))"
   ]
  },
  {
   "cell_type": "markdown",
   "id": "db160845",
   "metadata": {},
   "source": [
    "El problema de este agente es que la tabla puede ser dificil de construir, pues hay más de una acción que se puede realizar en cada estado. Asimismo, tener un agente dirigido mediante tabla implica que quien programa conozca un plan para que el agente pueda completar su tarea, si este plan no se conoce, no se puede garantizar que el agente cumpla con el objetivo. Asimismo, este plan puede ser poco eficiente, en este ejemplo, la tabla completa la tarea, pero siempre en el mayor número de pasos."
   ]
  }
 ],
 "metadata": {
  "kernelspec": {
   "display_name": "Python 3",
   "language": "python",
   "name": "python3"
  },
  "language_info": {
   "codemirror_mode": {
    "name": "ipython",
    "version": 3
   },
   "file_extension": ".py",
   "mimetype": "text/x-python",
   "name": "python",
   "nbconvert_exporter": "python",
   "pygments_lexer": "ipython3",
   "version": "3.8.8"
  }
 },
 "nbformat": 4,
 "nbformat_minor": 5
}
