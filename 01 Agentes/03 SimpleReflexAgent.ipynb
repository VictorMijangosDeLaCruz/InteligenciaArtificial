{
 "cells": [
  {
   "cell_type": "markdown",
   "id": "b42951af",
   "metadata": {},
   "source": [
    "# Agente reactivo simple\n",
    "\n",
    "Un agente reactivo simple es un agente que reacciona sólo a la percepción actual; en este sentido, no requiere de la historia de las percepciones para solucionar un problema. Este tipo de agentes no requieren guardar percepciones, ya que simplemente actúan ante la percepción actual.\n",
    "\n",
    "Aquí proponemos un agente reactivo simple para el mundo de la aspiradora. En primer lugar, creamos el entorno:"
   ]
  },
  {
   "cell_type": "code",
   "execution_count": 1,
   "id": "bc588c58",
   "metadata": {},
   "outputs": [
    {
     "name": "stdout",
     "output_type": "stream",
     "text": [
      "[(A,1) (B,1)]\n",
      "[(C,1) (D,0)]\n"
     ]
    }
   ],
   "source": [
    "from vacuum_world import VacuumWorld\n",
    "\n",
    "env = VacuumWorld()\n",
    "print(env)"
   ]
  },
  {
   "cell_type": "markdown",
   "id": "bebbf0ff",
   "metadata": {},
   "source": [
    "## Creación del agente\n",
    "\n",
    "Un agente reactivo simple no requiere guardar una secuencia de percepciones, pues selecciona una acción en base únicamente a la percepción actual del mundo. De cierta forma, este agente no preserva memoria de las percepciones pasadas.\n",
    "\n",
    "El agente reactivo simple se basará en <b>reglas de condición-acción</b>, las cuáles son reglas que seleccionan una acción en base a una condición; estas reglas son de la forma ''si $X$ entonces $Y$''. El programa del agente puede pensarse como:\n",
    "\n",
    "```\n",
    "procedure Simple-Reflex-Agent(percept) {\n",
    "  persistent: rules, Reglas condición-acción;\n",
    "  state = Interpret(percept)\n",
    "  action = Rule_match(state, rules)\n",
    "  return action\n",
    "}\n",
    "```\n",
    "\n",
    "En este caso tendremos reglas de la forma\n",
    "\n",
    "```python\n",
    "if percept == X:\n",
    "    action = Y\n",
    "```\n",
    "\n",
    "Es decir, la coincidencia de la regla con el estado se da en las condiciones. Para el mundo de la aspiradora, considerando que las percepciones se interpretan como estar sucio y la localización del agente, tendremos las siguientes condiciones:\n",
    "\n",
    "```python\n",
    "if is_dirt == True{\n",
    "    action = Clean\n",
    "}\n",
    "else{\n",
    "    if agent_location == A:\n",
    "        action = Right\n",
    "    if agent_location == B:\n",
    "        action = Down\n",
    "    if agent_location == C:\n",
    "        action = Up\n",
    "    if agent_location == D:\n",
    "        action = Left\n",
    "}\n",
    "```\n",
    "Estas reglas bastarán para que el agente actúe en el mundo."
   ]
  },
  {
   "cell_type": "code",
   "execution_count": 2,
   "id": "e495efbe",
   "metadata": {},
   "outputs": [],
   "source": [
    "class SimpleReflexAgent(object):\n",
    "    \"\"\" Agente reactivo simple.\"\"\"\n",
    "    def __init__(self, location=None):\n",
    "        self.location = location\n",
    "        #No guarda historia de percepciones\n",
    "        \n",
    "    def decide(self):\n",
    "        \"\"\"Función de decisión basada en la percepción actual\"\"\"\n",
    "        if self.location.dirt == 1:\n",
    "            self.location.dirt = 0\n",
    "            return 'Clean'\n",
    "        else:\n",
    "            if self.location.name == 'A':\n",
    "                self.location = self.location.right\n",
    "                return 'Move to {}'.format(self.location.name)\n",
    "            elif self.location.name == 'B':\n",
    "                self.location = self.location.down\n",
    "                return 'Move to {}'.format(self.location.name)\n",
    "            elif self.location.name == 'C':\n",
    "                self.location = self.location.up\n",
    "                return 'Move to {}'.format(self.location.name)\n",
    "            elif self.location.name == 'D':\n",
    "                self.location = self.location.left\n",
    "                return 'Move to {}'.format(self.location.name)"
   ]
  },
  {
   "cell_type": "markdown",
   "id": "a49368c3",
   "metadata": {},
   "source": [
    "Ahora podemos pasar a aplicar las reglas de condición-acción del agente reactivo simple en el mundo de la aspiradora. Iniciamos el agente en una posición."
   ]
  },
  {
   "cell_type": "code",
   "execution_count": 3,
   "id": "a972dc8d",
   "metadata": {},
   "outputs": [
    {
     "name": "stdout",
     "output_type": "stream",
     "text": [
      "[(A,1) (B,1)]\n",
      "[(C,1) (D,0)]\n",
      "A\n"
     ]
    }
   ],
   "source": [
    "agent = SimpleReflexAgent(location=env.A)\n",
    "print(env)\n",
    "print(agent.location)"
   ]
  },
  {
   "cell_type": "markdown",
   "id": "89e6f723",
   "metadata": {},
   "source": [
    "Ahora podemos hacer que el agente reactivo simple actúe hasta que logre limpiar todo el ambiente."
   ]
  },
  {
   "cell_type": "code",
   "execution_count": 4,
   "id": "5b72e32f",
   "metadata": {},
   "outputs": [
    {
     "name": "stdout",
     "output_type": "stream",
     "text": [
      "Clean\n",
      "A\n",
      "[(A,0) (B,1)]\n",
      "[(C,1) (D,0)]\n",
      "Move to B\n",
      "B\n",
      "[(A,0) (B,1)]\n",
      "[(C,1) (D,0)]\n",
      "Clean\n",
      "B\n",
      "[(A,0) (B,0)]\n",
      "[(C,1) (D,0)]\n",
      "Move to D\n",
      "D\n",
      "[(A,0) (B,0)]\n",
      "[(C,1) (D,0)]\n",
      "Move to C\n",
      "C\n",
      "[(A,0) (B,0)]\n",
      "[(C,1) (D,0)]\n",
      "Clean\n",
      "C\n",
      "[(A,0) (B,0)]\n",
      "[(C,0) (D,0)]\n"
     ]
    }
   ],
   "source": [
    "#Mientras haya suciedad en un cuarto\n",
    "#el agente ejecutará las reglas de condición-acción\n",
    "while not all([sq.dirt==0 for sq in env.squares]):\n",
    "    print(agent.decide())\n",
    "    print(agent.location)\n",
    "    print(env)"
   ]
  },
  {
   "cell_type": "markdown",
   "id": "0d96dc98",
   "metadata": {},
   "source": [
    "En general, este agente reactivo simple será capaz de cumplir con el objetivo de limpiar el cuarto sin importar la configuración en el que este cuarto se encuentre, ni la posición en que el agente comience. Pues, sin importar su posición inicial, el agente recorrerá todo el ambiente en el sentido de las manecillas del reloj. Si inicia en A, pasará a B, después D y finalmente C; pero si inicia en C, pasará a A, luego a B y finalmente a D.\n",
    "\n",
    "Además, el agente revisa primero si la percepción le dice que el cuadro está sucio, y si es el caso, lo limpia. Si no, se moverá como lo hemos indicado. De esta forma garantizamos que limpia antes de moverse y, por tanto, que al recorrer todos los cuartos acabará por limpiarlos.\n",
    "\n",
    "Sin embargo, este agente no optimiza el tiempo en que tarda en limpiar los cuartos, pues si, por ejemplo, si el agente inicia en A y sólo está sucio el cuarto C, el agente recorrerá todos los otros cuartos antes de completar la tarea, en lugar de moverse directamente de A a C.\n",
    "\n",
    "Esto se complejiza cuando el ambiente cuenta con más cuartos. En mundos muy grandes, con un gran número de cuartos, el agente tendrá que completar todos los cuartos para limpiar el mundo, en lugar de buscar la ruta más corta para limpiar los cuartos sucios."
   ]
  }
 ],
 "metadata": {
  "kernelspec": {
   "display_name": "Python 3 (ipykernel)",
   "language": "python",
   "name": "python3"
  },
  "language_info": {
   "codemirror_mode": {
    "name": "ipython",
    "version": 3
   },
   "file_extension": ".py",
   "mimetype": "text/x-python",
   "name": "python",
   "nbconvert_exporter": "python",
   "pygments_lexer": "ipython3",
   "version": "3.8.10"
  }
 },
 "nbformat": 4,
 "nbformat_minor": 5
}
