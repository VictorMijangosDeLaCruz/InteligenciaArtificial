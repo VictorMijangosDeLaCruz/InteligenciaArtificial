{
 "cells": [
  {
   "cell_type": "markdown",
   "id": "7fbdf62e",
   "metadata": {},
   "source": [
    "# Mundo de laberinto\n",
    "\n",
    "Definimos un problema que consiste en simular el recorrido de un agente que hace desde un punto inicial en un mapa laberinto, donde se puede encontrar con obstáculos que obstruyan su camino. El objetivo del agente es llegar a una meta marcada dentro del mapa.\n",
    "\n",
    "Para simular este problema, se contará con la siguiente información:\n",
    "\n",
    "1. Mapa del laberinto (board): define la estructura del ambiente, indicando donde están los obstáculos (se marcan con '#', y indica dónde está la meta ('x') y dónde se encuentra el agente ('o').\n",
    "2. Meta (goal): indica dónde está la meta ('x') en términos de coordenadas del mapa [x,y].\n",
    "\n",
    "La simulación del problema, además cuenta con las siguientes funciones:\n",
    "\n",
    "1. actions: dado un estado, regresa las acciones legales, que corresponden a los movimientos que puede realizar el agente sin toparse con un obstáculo.\n",
    "2. result: dado un estado y una acción, regresa el estado resultante de ejecutar la acción en el estado dado.\n",
    "3. move: realiza el movimiento en la simulación; es decir, desplaza el agente de su estado previo a un nuevo estado.\n",
    "4. draw: Dibuja el mapa en formato de imagen.\n",
    "5. is_goal: revisa si el estado es meta o no. Puede haber más de una meta."
   ]
  },
  {
   "cell_type": "code",
   "execution_count": 1,
   "id": "41f547fe",
   "metadata": {},
   "outputs": [],
   "source": [
    "class Maze(object):\n",
    "    \"\"\"Simulador de laberinto\"\"\"\n",
    "    def __init__(self, board):\n",
    "        #Define el laberinto\n",
    "        self.board = [list(x) for x in board.split(\"\\n\") if x]\n",
    "        #Guardo el estado inicial\n",
    "        self.goal = None\n",
    "        \n",
    "        for y in range(len(self.board)):\n",
    "            for x in range(len(self.board[y])):\n",
    "                if self.board[y][x] == 'o':\n",
    "                    #El inicial es el estado con el símbolo 'o'\n",
    "                    self.initial = (x,y)\n",
    "                elif self.board[y][x] == 'x':\n",
    "                    #La meta es el estado con el símbolo 'x'\n",
    "                    self.goal = (x,y)\n",
    "                    \n",
    "    def __str__(self):\n",
    "        return '\\n'.join([''.join(symbols) for symbols in self.board])\n",
    "        \n",
    "    def actions(self, state):\n",
    "        \"\"\"Define las posibles acciones permitidas en cada estado\"\"\"\n",
    "        actions = []\n",
    "        for action in [\"up\",\"down\",\"left\",\"right\"]:\n",
    "            newx, newy = self.result(state, action)\n",
    "            #Una acción no permitida es aquella donde se\n",
    "            #topa con un símbolo # que indica pared\n",
    "            if self.board[newy][newx] != \"#\":\n",
    "                actions.append(action)\n",
    "        return actions\n",
    "    \n",
    "    def result(self, state, action):\n",
    "        \"\"\"Calcula el estado resultante de la acción\"\"\"\n",
    "        #Determina el estado actual\n",
    "        x, y = state\n",
    "        #Genera el resultado de las acciones\n",
    "        if action.count(\"up\"):\n",
    "            y -= 1\n",
    "        if action.count(\"down\"):\n",
    "            y += 1\n",
    "        if action.count(\"left\"):\n",
    "            x -= 1\n",
    "        if action.count(\"right\"):\n",
    "            x += 1\n",
    "\n",
    "        new_state = (x, y)\n",
    "        return new_state\n",
    "    \n",
    "    def move(self, state, new_state, symbol='o'):\n",
    "        \"\"\"Cambia la posición del agente de un estado a otro\"\"\"\n",
    "        #Estado anterior y posterior\n",
    "        x,y = state\n",
    "        new_x, new_y = new_state\n",
    "        if self.board[new_y][new_x] == ' ':\n",
    "            #Mueve al agente al mismo estado\n",
    "            self.board[y][x] = ' '\n",
    "            self.board[new_y][new_x] = symbol\n",
    "        else:\n",
    "            pass\n",
    "        \n",
    "    def draw(self):\n",
    "        \"\"\"Dibuja el mapa\"\"\"\n",
    "        import matplotlib.pyplot as plt\n",
    "        import numpy as np\n",
    "        #Crea imagen\n",
    "        img = np.ones((len(self.board), len(self.board[0]), 4))\n",
    "        for i, row in enumerate(self.board):\n",
    "            for j, element in enumerate(row):\n",
    "                #Colorea al agente de azul, la meta de verde y los \n",
    "                #obstáculos de negro\n",
    "                if element == '#':\n",
    "                    img[i,j] = np.array([0,0,0,1])\n",
    "                elif element == 'o':\n",
    "                    img[i,j] = np.array([0.2,0.5,0.8,1])\n",
    "                elif element == 'x':\n",
    "                    img[i,j] = np.array([0.2,0.9,0.5,1])\n",
    "\n",
    "        plt.imshow(img)\n",
    "        plt.show()\n",
    "    \n",
    "    def is_goal(self, state):\n",
    "        \"\"\"Determina si un estado es meta\"\"\"\n",
    "        return state == self.goal"
   ]
  },
  {
   "cell_type": "markdown",
   "id": "ef85fe35",
   "metadata": {},
   "source": [
    "Ahora podemos ver cómo se comporta esta simulación de un laberinto. Para esto, necesitamos primero dibujar un mapa, que será una cadena una malla donde las entradas serán cadenas de texto: 1) 'o' representa al agente; 2) 'x' representa la meta; 3) ' ' representa espacio donde puede moverse el agente; y 4) '#' representa obstáculos que impiden la movilidad del agente. El mapa tendrá coordenadas que consisten en un plano, por lo que marcamos estas coordenadas como [x,y], tal que x representa las posiciones en el eje horizontal mientras $y$ en el vertical."
   ]
  },
  {
   "cell_type": "code",
   "execution_count": 2,
   "id": "88fa5d56",
   "metadata": {},
   "outputs": [],
   "source": [
    "mapa = \"\"\"\n",
    "##############################\n",
    "# o         #              # #\n",
    "######  #   ##########  #  # #\n",
    "#       #   ##          #    #\n",
    "#  #           #   #####     x\n",
    "##############################\n",
    "\"\"\""
   ]
  },
  {
   "cell_type": "markdown",
   "id": "30c18b11",
   "metadata": {},
   "source": [
    "Ya con el mapa definido, podemos entonces pasarlo a la clase que hemos programado para que construya la simulación y podamos actuar sobre este mapa. Podemos, por ejemplo, identificar las coordenadas del estado inicial, así como las coordenadas del estado final."
   ]
  },
  {
   "cell_type": "code",
   "execution_count": 3,
   "id": "cc88f9a3",
   "metadata": {},
   "outputs": [
    {
     "data": {
      "image/png": "[encoded data removed]",
      "text/plain": [
       "<Figure size 640x480 with 1 Axes>"
      ]
     },
     "metadata": {},
     "output_type": "display_data"
    },
    {
     "name": "stdout",
     "output_type": "stream",
     "text": [
      "Coordenadas inicial: (2, 1)\n",
      "Coordenadas meta: (29, 4)\n"
     ]
    }
   ],
   "source": [
    "maze = Maze(mapa)\n",
    "maze.draw()\n",
    "print('Coordenadas inicial: {}\\nCoordenadas meta: {}'.format(maze.initial, maze.goal))"
   ]
  },
  {
   "cell_type": "markdown",
   "id": "0eaaf941",
   "metadata": {},
   "source": [
    "Podemos entonces ver el resultado de sus acciones y mover al agente a través del laberinto:"
   ]
  },
  {
   "cell_type": "code",
   "execution_count": 4,
   "id": "4e140c4d",
   "metadata": {},
   "outputs": [
    {
     "data": {
      "image/png": "[encoded data removed]",
      "text/plain": [
       "<Figure size 640x480 with 1 Axes>"
      ]
     },
     "metadata": {},
     "output_type": "display_data"
    },
    {
     "data": {
      "image/png": "[encoded data removed]",
      "text/plain": [
       "<Figure size 640x480 with 1 Axes>"
      ]
     },
     "metadata": {},
     "output_type": "display_data"
    }
   ],
   "source": [
    "new_state = maze.result(maze.initial, \"right\")\n",
    "maze.move(maze.initial, new_state)\n",
    "maze.draw()\n",
    "maze.move(new_state, maze.result(new_state, \"right\") )\n",
    "maze.draw()"
   ]
  },
  {
   "cell_type": "markdown",
   "id": "b995641a",
   "metadata": {},
   "source": [
    "### Referencias\n",
    "La construcción de este problema puede consultarse en: \n",
    "* Joshi, P. (2017). \"Building a maze solver\", en <i>Artificial Intelligence with Python</i>. Packt Publishing, pp. 191-196."
   ]
  }
 ],
 "metadata": {
  "kernelspec": {
   "display_name": "Python 3 (ipykernel)",
   "language": "python",
   "name": "python3"
  },
  "language_info": {
   "codemirror_mode": {
    "name": "ipython",
    "version": 3
   },
   "file_extension": ".py",
   "mimetype": "text/x-python",
   "name": "python",
   "nbconvert_exporter": "python",
   "pygments_lexer": "ipython3",
   "version": "3.8.10"
  }
 },
 "nbformat": 4,
 "nbformat_minor": 5
}
