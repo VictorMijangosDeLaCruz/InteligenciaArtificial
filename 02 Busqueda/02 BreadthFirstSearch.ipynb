{
 "cells": [
  {
   "cell_type": "markdown",
   "id": "924609ae",
   "metadata": {},
   "source": [
    "# Algoritmo de búsqueda primero en amplitud\n",
    "\n",
    "El algoritmo de búsqueda primero en amplitud o breadth first search se basa en expandir los nodos del árbol de búsqueda de manera ordenada, jerárquica; primero expandirá el nodo raíz y posteriormente cada uno de sus hijos. Entonces procederá a expandir los hijos del primer nodo que expandió primero y así hasta expandir todos los nodos.\n",
    "\n",
    "Es decir, el algoritmo de primero en amplitud expande todos los nodos de un nivel de profundidad del árbol primero para pasar a expandir los del siguiente nivel.\n",
    "\n",
    "Aquí presentamos una implementación del algoritmo de primero en amplitud para solucionar el problema del laberinto, en donde buscamos llevar un punto 'o' hacia la meta marcada con 'x'. Generamos el laberinto.\n",
    "\n",
    "### Creación del problema de laberinto\n",
    "\n",
    "El problema del laberinto presenta un agente que marcamos como 'o' que inicia en un punto del mapa del laberinto y tiene que llegar a la salida marcada con 'x'. Usamos la clase para simular este ambiente."
   ]
  },
  {
   "cell_type": "code",
   "execution_count": 1,
   "id": "532f7d72",
   "metadata": {},
   "outputs": [],
   "source": [
    "from maze_simulator import Maze"
   ]
  },
  {
   "cell_type": "code",
   "execution_count": 2,
   "id": "ff646a8d",
   "metadata": {},
   "outputs": [
    {
     "data": {
      "image/png": "[encoded data removed]",
      "text/plain": [
       "<Figure size 640x480 with 1 Axes>"
      ]
     },
     "metadata": {},
     "output_type": "display_data"
    }
   ],
   "source": [
    "mapa = \"\"\"\n",
    "##############################\n",
    "# o         #                #\n",
    "# ####      ########         #\n",
    "#    #      #           #    #\n",
    "#    ###       ##### ####    #\n",
    "#      #     ###   #         #\n",
    "#  #           #   #         x\n",
    "##############################\n",
    "\"\"\"\n",
    "\n",
    "ent = Maze(mapa)\n",
    "ent.draw()"
   ]
  },
  {
   "cell_type": "markdown",
   "id": "b85d7b87",
   "metadata": {},
   "source": [
    "## Creación del algoritmo primero en amplitud\n",
    "\n",
    "El algoritmo primero en amplitud requiere de una pila de tipo FIFO, asimismo, definiremos una clase para los nodos del árbol y una función para expandir estos nodos construyendo los nodos hijos.\n",
    "\n",
    "#### Pila\n",
    "\n",
    "La pila FIFO (First-In-First-Out) es una pila que hace pop sobre los elementos que han entrado primero. De esta forma, en la expansión del árbol de búsqueda se tiene que los nodos que se expandirán primero son aquellos que están más arriba en la jerarquía del árbol, es decir, los de menor profundidad.\n",
    "\n",
    "Para definir esta pila, usamos una lista que guarda los elementos/nodos. Definimos la función <i>push</i> que introducirá nuevos elementos, y la función <i>pop</i> que sacará al elemento en la cola de la pila. También requerimos de una función que nos indique cuando la pila está vacía, pues esta se usará en el algoritmo."
   ]
  },
  {
   "cell_type": "code",
   "execution_count": 3,
   "id": "94fe57f6",
   "metadata": {},
   "outputs": [],
   "source": [
    "class FIFOQueue(object):\n",
    "    \"\"\"Clase de una cola FIFO en los problemas de búsqueda\"\"\"\n",
    "    def __init__(self):\n",
    "        self.queue = []\n",
    "  \n",
    "    def __str__(self):\n",
    "        return ' '.join([str(q) for q in self.queue])\n",
    "  \n",
    "    def isEmpty(self):\n",
    "        \"\"\"Revisa si la pila es vacía\"\"\"\n",
    "        return self.queue == []\n",
    "  \n",
    "    def push(self, element):\n",
    "        \"\"\"Introduce un elemento a la pila\"\"\"\n",
    "        self.queue.append(element)\n",
    "  \n",
    "    def pop(self):\n",
    "        \"\"\"Saca el primer elemento de la pila\"\"\"\n",
    "        first_element = self.queue[0]\n",
    "        del self.queue[0]\n",
    "    \n",
    "        return first_element\n",
    "    \n",
    "    def top(self):\n",
    "        \"\"\"Muestra el elemento en el tope de la pila\"\"\"\n",
    "        item = self.queue[0]\n",
    "        \n",
    "        return item"
   ]
  },
  {
   "cell_type": "markdown",
   "id": "4e04c4e7",
   "metadata": {},
   "source": [
    "#### Expansión de nodos\n",
    "\n",
    "Definimos un nodo como un objecto que tendrá los siguientes elementos: 1) un estado, que indicará precisamente qué estado del mundo representa este nodo; 2) padre, que indica de dónde viene el nodo actual; y 3) acción, que indica que acción generó al nodo.\n",
    "\n",
    "Para expandir los nodos, usamos las acciones legales y aplicamos la función que nos da el resultado de esa acción aplicada al estado actual. Con el resultado, generamos nuevos nodos hijos del árbol de búsqueda."
   ]
  },
  {
   "cell_type": "code",
   "execution_count": 4,
   "id": "23a8b666",
   "metadata": {},
   "outputs": [],
   "source": [
    "class Node(object):\n",
    "    \"\"\"Clase para crear nodos con sus atributos\"\"\"\n",
    "    def __init__(self):\n",
    "        self.state = (0,0)\n",
    "        self.parent = None \n",
    "        self.action = None\n",
    "        #self.cost = 0 #El costo no es tomado en cuenta en este método\n",
    "        \n",
    "    def __str__(self):\n",
    "        if self.parent == None:\n",
    "            return \"State: {}, Cost: {}\".format(self.state,self.cost)\n",
    "        else:\n",
    "            return \"State: {}, Action: {}, Parent: {}, Cost: {}\".format(self.state,self.action,self.parent.state,self.cost)\n",
    "            \n",
    "            \n",
    "def expand(problem, node):\n",
    "    \"\"\"Función para expandir los nodos dado el problema\"\"\"\n",
    "    #Nodo inicial\n",
    "    s = node.state \n",
    "\n",
    "    for action in problem.actions(s):\n",
    "        #Ejecuta la acción\n",
    "        new_s = problem.result(s, action)\n",
    "        \n",
    "        #Genera un nuevo nodo\n",
    "        new_node,new_node.state,new_node.parent,new_node.action = Node(),new_s,node,action\n",
    "        \n",
    "        yield new_node"
   ]
  },
  {
   "cell_type": "markdown",
   "id": "4d8351cc",
   "metadata": {},
   "source": [
    "### Algoritmo\n",
    "\n",
    "El algoritmo, como ya lo hemos señalado, buscará expandir los nodos de menor profundidad primero, por lo que se enfocará en la amplitud del árbol de búsqueda. Para esto, utiliza la pila FIFO para guardar la frontera. Los pasos que sigue el algoritmo son:\n",
    "\n",
    "1. Guarda el nodo inicial\n",
    "2. Genera la frontera con este primer nodo, y guarda los estados alcanzados\n",
    "3. Mientras la frontera no esté vacía realiza:\n",
    "    1. Expande el nodo con jerarquía más alta de la frontera\n",
    "    2. Revisa si el hijo no es meta, si lo es acaba\n",
    "    3. En otro caso, guarda el nodo hijo en la frontera si esté no ha sido alcanzado todavía\n",
    " \n",
    "El algoritmo termina al alcanzar la meta, o bien al agotar los nodos posibles sin encontrar esta meta.\n",
    "\n",
    "El algoritmo revisa si un nodo es meta inmediatamente cuando este surge en una expansión, estrategia que se conoce como <i>Early Goal Test</i> (prueba temprana de meta)."
   ]
  },
  {
   "cell_type": "code",
   "execution_count": 5,
   "id": "f6d6b7fe",
   "metadata": {},
   "outputs": [],
   "source": [
    "def BreadthFirstSearch(problem):\n",
    "    \"\"\"Algoritmo Breadth-First Search\"\"\"\n",
    "    #Almacenamiento de nodos\n",
    "    nodes = []\n",
    "    #Nodo inicial\n",
    "    node = Node()\n",
    "    node.state = problem.initial\n",
    "    \n",
    "    #Revisa si el nodo es meta\n",
    "    if node in problem.goal:\n",
    "        return nodes\n",
    "    \n",
    "    #Frontera con cola de prioridad\n",
    "    frontier = FIFOQueue()\n",
    "    frontier.push(node)\n",
    "    #Nodos alcanzados\n",
    "    reached = {problem.initial:node}\n",
    "\n",
    "    #Mientras la frontera no esté vacía\n",
    "    while frontier.isEmpty() == False:\n",
    "        #Pop en frontera\n",
    "        node = frontier.pop()\n",
    "        #Guarda el nodo en la lista\n",
    "        nodes.append(node)\n",
    "        \n",
    "        #Expande el nodo actual\n",
    "        for child in expand(problem, node):\n",
    "            #Guarda el estado del hijo\n",
    "            state = child.state\n",
    "            \n",
    "            #Revisa si el nodo es meta\n",
    "            if problem.is_goal(state):\n",
    "                nodes.append(child)\n",
    "                return nodes\n",
    "            \n",
    "            #Guarda los hijos no alcanzados o que tengan menor costo\n",
    "            if state not in reached.keys():\n",
    "                reached[state] = child\n",
    "                frontier.push(child)\n",
    "        \n",
    "    #Si no logra llegar a un nodo final\n",
    "    #El algoritmo regresa mensaje de error\n",
    "    return \"No se ha logrado llegar a un estado final.\""
   ]
  },
  {
   "cell_type": "markdown",
   "id": "992083d4",
   "metadata": {},
   "source": [
    "#### Aplicación del algoritmo\n",
    "\n",
    "Aplicamos entonces el algoritmo de primero en profundidad al problema del laberinto. Esto generará el árbol de búsqueda, en donde, si lo ha hecho correctamente, ha alcanzado el estado meta y por tanto ha generado el camino de acciones que llevan a la meta."
   ]
  },
  {
   "cell_type": "code",
   "execution_count": 6,
   "id": "836f6614",
   "metadata": {},
   "outputs": [],
   "source": [
    "#Aplica el algoritmo al problema\n",
    "tree = BreadthFirstSearch(ent)"
   ]
  },
  {
   "cell_type": "markdown",
   "id": "c9f0b63b",
   "metadata": {},
   "source": [
    "Definimos una función que nos permita recuperar del árbol de búsqueda los nodos que definen el camino encontrado. Simplemente recorremos el árbol desde el nodo meta hasta el nodo raíz; el camino encontrado, será el que nos lleva a la solución.\n",
    "\n",
    "A partir de esto, podemos visualizar la solución; en este caso, podemos visualizar el camino que siguió el agente desde el punto en el que inició hasta la meta."
   ]
  },
  {
   "cell_type": "code",
   "execution_count": 7,
   "id": "56d7e6bb",
   "metadata": {},
   "outputs": [
    {
     "data": {
      "image/png": "[encoded data removed]",
      "text/plain": [
       "<Figure size 640x480 with 1 Axes>"
      ]
     },
     "metadata": {},
     "output_type": "display_data"
    }
   ],
   "source": [
    "def get_path(search_tree, root):\n",
    "    \"\"\"Recorre el árbol de búsqueda de atrás hacia el inicio para obtener el camino de acciones\n",
    "    que llevaron a la meta.\"\"\"\n",
    "    #Meta\n",
    "    leaf = search_tree[::-1][0]\n",
    "    #Padre de la meta\n",
    "    parent = leaf.parent\n",
    "    #Adjunta la meta y su padre al camino\n",
    "    path = [leaf, parent]\n",
    "    #Recorre el árbol de búsqueda hasta el inicial\n",
    "    while parent.state != root:\n",
    "        parent = parent.parent\n",
    "        #Adjunta los padres en el camino\n",
    "        path.append(parent)\n",
    "        \n",
    "    return path[::-1]\n",
    "\n",
    "#Visualiza la solución\n",
    "prev_s = ent.initial\n",
    "for n in get_path(tree, ent.initial):\n",
    "    ent.move(prev_s, n.state)\n",
    "    prev_s = n.state\n",
    "    \n",
    "ent.draw()"
   ]
  },
  {
   "cell_type": "markdown",
   "id": "cd77ccb6",
   "metadata": {},
   "source": [
    "     "
   ]
  }
 ],
 "metadata": {
  "kernelspec": {
   "display_name": "Python 3 (ipykernel)",
   "language": "python",
   "name": "python3"
  },
  "language_info": {
   "codemirror_mode": {
    "name": "ipython",
    "version": 3
   },
   "file_extension": ".py",
   "mimetype": "text/x-python",
   "name": "python",
   "nbconvert_exporter": "python",
   "pygments_lexer": "ipython3",
   "version": "3.8.10"
  }
 },
 "nbformat": 4,
 "nbformat_minor": 5
}
