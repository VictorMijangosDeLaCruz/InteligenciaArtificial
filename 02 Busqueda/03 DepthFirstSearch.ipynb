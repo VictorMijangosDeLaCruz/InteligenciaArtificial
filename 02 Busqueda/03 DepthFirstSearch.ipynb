{
 "cells": [
  {
   "cell_type": "markdown",
   "id": "0bc005c2",
   "metadata": {},
   "source": [
    "# Algoritmo de búsqueda primero en profundidad\n",
    "\n",
    "El algoritmo de búsqueda primero en profundidad o depth-first search se basa en expandir los nodos que se encuentren a mayor profundidad en éste. De esta forma, los primeros nodos en expandirse serán aquellos que estén más bajo dentro de la profundidad del árlbol. Esto contrasta con el algoritmo de primero en amplitud, pues este algoritmo expandía, de manera contraria, los nodos de menor profundidad primero.\n",
    "\n",
    "Esta estrategia permite al lagoritmo tratar de encontrar una solución en los nodos que resultaron de acciones consecutivas, en lugar de expandir priemero aquellos que ha expandido de una acción previa. \n",
    "\n",
    "Aquí presentamos una implementación del algoritmo de primero en profundidad para solucionar el problema del laberinto, en donde buscamos llevar un punto 'o' hacia la meta marcada con 'x'. Generamos el laberinto.\n",
    "\n",
    "### Creación del problema del laberinto\n",
    "\n",
    "Utilizaremos el mismo problema de laberinto que hemos usado con el algoritmo de primero en amplitud."
   ]
  },
  {
   "cell_type": "code",
   "execution_count": 1,
   "id": "614a0ace",
   "metadata": {},
   "outputs": [
    {
     "name": "stdout",
     "output_type": "stream",
     "text": [
      "##############################\n",
      "# o         #                #\n",
      "# ####      ########         #\n",
      "#    #      #           #    #\n",
      "#    ###       ##### ####    #\n",
      "#      #     ###   #         #\n",
      "#  #           #   #         x\n",
      "##############################\n"
     ]
    }
   ],
   "source": [
    "from maze_simulator import Maze\n",
    "\n",
    "mapa = \"\"\"\n",
    "##############################\n",
    "# o         #                #\n",
    "# ####      ########         #\n",
    "#    #      #           #    #\n",
    "#    ###       ##### ####    #\n",
    "#      #     ###   #         #\n",
    "#  #           #   #         x\n",
    "##############################\n",
    "\"\"\"\n",
    "\n",
    "ent = Maze(mapa)\n",
    "print(ent)"
   ]
  },
  {
   "cell_type": "markdown",
   "id": "f52c1153",
   "metadata": {},
   "source": [
    "## Creación del algoritmo primero en amplitud\n",
    "\n",
    "El algoritmo primero en profundidad requiere de una pila de tipo LIFO, asimismo, definiremos una clase para los nodos del árbol y una función para expandir estos nodos construyendo los nodos hijos.\n",
    "\n",
    "#### Pila\n",
    "\n",
    "La pila LIFO (Last-In-First-Out) es una pila que hace pop sobre los elementos que han entrado al último. De esta forma, en la expansión del árbol de búsqueda se tiene que los nodos que se expandirán primero son aquellos que están a mayor profunidad en el árbol, que son los nodos que han entrado al último en la pila.\n",
    "\n",
    "Para definir esta pila, usamos una lista que guarda los elementos/nodos. Definimos la función <i>push</i> que introducirá nuevos elementos, y la función <i>pop</i> que sacará al elemento en el tope de la pila. También requerimos de una función que nos indique cuando la pila está vacía, pues esta se usará en el algoritmo."
   ]
  },
  {
   "cell_type": "code",
   "execution_count": 2,
   "id": "9d1ef3c3",
   "metadata": {},
   "outputs": [],
   "source": [
    "class LIFOQueue(object):\n",
    "    \"\"\"Clase de una cola FIFO en los problemas de búsqueda\"\"\"\n",
    "    def __init__(self):\n",
    "        self.queue = []\n",
    "  \n",
    "    def __str__(self):\n",
    "        return ' '.join([str(q) for q in self.queue])\n",
    "  \n",
    "    def isEmpty(self):\n",
    "        \"\"\"Revisa si la pila es vacía\"\"\"\n",
    "        return self.queue == []\n",
    "  \n",
    "    def push(self, element):\n",
    "        \"\"\"Introudce un elemento a la pila\"\"\"\n",
    "        self.queue.append(element)\n",
    "  \n",
    "    def pop(self):\n",
    "        \"\"\"Saca el primer elemento de la pila\"\"\"\n",
    "        first_element = self.queue[-1]\n",
    "        del self.queue[-1]\n",
    "    \n",
    "        return first_element\n",
    "    \n",
    "    def top(self):\n",
    "        \"\"\"Muestra el elemento en el tope de la pila\"\"\"\n",
    "        item = self.queue[-1]\n",
    "        \n",
    "        return item"
   ]
  },
  {
   "cell_type": "markdown",
   "id": "4f2d5520",
   "metadata": {},
   "source": [
    "#### Expansión de nodos\n",
    "\n",
    "Definimos un nodo como un objecto que tendrá los siguientes elementos: 1) un estado, que indicará precisamente qué estado del mundo representa este nodo; 2) padre, que indica de dónde viene el nodo actual; y 3) acción, que indica que acción generó al nodo.\n",
    "\n",
    "Para expandir los nodos, usamos las acciones legales y aplicamos la función que nos da el resultado de esa acción aplicada al estado actual. Con el resultado, generamos nuevos nodos hijos del árbol de búsqueda."
   ]
  },
  {
   "cell_type": "code",
   "execution_count": 3,
   "id": "eb5847ac",
   "metadata": {},
   "outputs": [],
   "source": [
    "class Node(object):\n",
    "    \"\"\"Clase para crear nodos con sus atributos\"\"\"\n",
    "    def __init__(self):\n",
    "        self.state = (0,0)\n",
    "        self.parent = None \n",
    "        self.action = None\n",
    "        #self.cost = 0 #El costo no es tomado en cuenta en este método\n",
    "        \n",
    "    def __str__(self):\n",
    "        if self.parent == None:\n",
    "            return \"State: {}, Cost: {}\".format(self.state,self.cost)\n",
    "        else:\n",
    "            return \"State: {}, Action: {}, Parent: {}, Cost: {}\".format(self.state,self.action,self.parent.state,self.cost)\n",
    "            \n",
    "            \n",
    "def expand(problem, node):\n",
    "    \"\"\"Función para expandir los nodos dado el problema\"\"\"\n",
    "    #Nodo inical\n",
    "    s = node.state \n",
    "\n",
    "    for action in problem.actions(s):\n",
    "        #Ejecuta la acción\n",
    "        new_s = problem.result(s, action)\n",
    "        \n",
    "        #Genera un nuevo nodo\n",
    "        new_node,new_node.state,new_node.parent,new_node.action = Node(),new_s,node,action\n",
    "        \n",
    "        yield new_node"
   ]
  },
  {
   "cell_type": "markdown",
   "id": "b79dc752",
   "metadata": {},
   "source": [
    "### Algoritmo\n",
    "\n",
    "El algoritmo de primero en profundidad usa la pila LIFO para expandir los nodos de mayor profundidad primero. El algoritmo consta de los siguientes pasos:\n",
    "\n",
    "1. Guarda el nodo inicial\n",
    "2. Genera la frontera con este primer nodo, donde la frontera es una pila LIFO\n",
    "3. Mientras la frontera esté vacía realiza:\n",
    "    1. Saca el nodo del tope de la pila; es decir, el de mayor profundidad\n",
    "    2. Revisa si este nodo es terminal, si lo es termina\n",
    "    3. En otro caso, expande el nodo\n",
    "    4. Guarda los nodos hijos en la frontera.\n",
    "    \n",
    "El algoritmo terminará entonces cuando la meta es alcanzada. \n",
    "\n",
    "Además de la forma de expandir los nodos, este algoritmo se diferencia del primero en amplitud en que la revisión de si un nodo es meta se hace al sacar al nodo de la pila y cuando los nodos hijos se expanden. A esta estrategia se le conoce como <i>Late Goal Test</i> (prueba tardía de meta), pues revisa si el nodo es meta hasta que este ha sido expulsado de la pila y no inmediatamente al ser generado."
   ]
  },
  {
   "cell_type": "code",
   "execution_count": 4,
   "id": "5086e7b7",
   "metadata": {},
   "outputs": [],
   "source": [
    "def DepthFirstSearch(problem):\n",
    "    \"\"\"Algoritmo Breadth-First Search\"\"\"\n",
    "    #Almacenamiento de nodos\n",
    "    nodes = []\n",
    "    #Nodo inicial\n",
    "    node = Node()\n",
    "    node.state = problem.initial\n",
    "    \n",
    "    #Revisa si el nodo es meta\n",
    "    if node in problem.goal:\n",
    "        return nodes\n",
    "    \n",
    "    #Frontera con cola de prioridad\n",
    "    frontier = LIFOQueue()\n",
    "    frontier.push(node)\n",
    "    #Nodos alcanzados\n",
    "    reached = {problem.initial:node}\n",
    "\n",
    "    #Mientras la frontera no esté vacía\n",
    "    while frontier.isEmpty() == False:\n",
    "        #Pop en frontera\n",
    "        node = frontier.pop()\n",
    "        #Revisa si el nodo es meta\n",
    "        if problem.is_goal(node.state):\n",
    "            nodes.append(child)\n",
    "            return nodes\n",
    "        #Guarda el nodo en la lista\n",
    "        nodes.append(node)\n",
    "        \n",
    "        #Expande el nodo actual\n",
    "        for child in expand(problem, node):\n",
    "            #Guarda el estado del hijo\n",
    "            state = child.state\n",
    "            \n",
    "            #Guarda los hijos no alcanzados o que tengan menor costo\n",
    "            if state not in reached.keys():\n",
    "                reached[state] = child\n",
    "                frontier.push(child)\n",
    "        \n",
    "    #Si no logra llegar a un nodo final\n",
    "    #El algoritmo regresa mensaje de error\n",
    "    return \"No se ha logrado llegar a un estado final.\""
   ]
  },
  {
   "cell_type": "markdown",
   "id": "83502367",
   "metadata": {},
   "source": [
    "#### Aplicación del algoritmo\n",
    "\n",
    "Ahora aplicamos el algoritmo al problema del laberinto y a partir de esto obtenemos el camino solución para que el agente alcance la meta. Ilustramos las acciones en el camino que sigue el agente hasta la meta."
   ]
  },
  {
   "cell_type": "code",
   "execution_count": 5,
   "id": "5fb41d45",
   "metadata": {},
   "outputs": [],
   "source": [
    "#Aplica el algortimo al problema\n",
    "tree = DepthFirstSearch(ent)"
   ]
  },
  {
   "cell_type": "code",
   "execution_count": 6,
   "id": "3514c523",
   "metadata": {},
   "outputs": [
    {
     "name": "stdout",
     "output_type": "stream",
     "text": [
      "##############################\n",
      "# o.........#                #\n",
      "# ####     .########   ......#\n",
      "#    #  ....# ..........#   .#\n",
      "#    ###.   ...##### ####....#\n",
      "#      #.....###   #     .   #\n",
      "#  #           #   #     ....x\n",
      "##############################\n"
     ]
    }
   ],
   "source": [
    "def get_path(search_tree, root):\n",
    "    \"\"\"Recorre el árbol de búsqueda de atrás hacia el inicio para obtener el camino de acciones\n",
    "    que llevaron a la meta.\"\"\"\n",
    "    #Meta\n",
    "    leaf = search_tree[::-1][0]\n",
    "    #Padre de la meta\n",
    "    parent = leaf.parent\n",
    "    #Adjunta la meta y su padre al camino\n",
    "    path = [leaf, parent]\n",
    "    #Recorre el árbol de búsqueda hasta el inicial\n",
    "    while parent.state != root:\n",
    "        parent = parent.parent\n",
    "        #Adjunta los padres en el camino\n",
    "        path.append(parent)\n",
    "        \n",
    "    return path[::-1]\n",
    "\n",
    "#Visualiza la solución\n",
    "prev_s = ent.initial\n",
    "for n in get_path(tree, ent.initial):\n",
    "    ent.move(prev_s, n.state, symbol='.')\n",
    "    prev_s = n.state\n",
    "    \n",
    "print(ent)"
   ]
  },
  {
   "cell_type": "markdown",
   "id": "b63c11b2",
   "metadata": {},
   "source": [
    "Uno de los problemas del algoritmo de primero en profundidad es que puede encontrar soluciones de mayor longitud, pues si existe una solución no-optima, un camino de mayor longitud en el árbol, esta se seguirá explorando hasta encontrar una solución. Por tanto, si bien puede encontrar una solución, esta no será necesariamente la más óptima. Esto es uno de los riesgos de expandir los nodos más profundos. En este caso, por ejemplo, se nota que la solución encontrada es menos óptima que la encontró el algoritmo de primero en amplitud."
   ]
  }
 ],
 "metadata": {
  "kernelspec": {
   "display_name": "Python 3",
   "language": "python",
   "name": "python3"
  },
  "language_info": {
   "codemirror_mode": {
    "name": "ipython",
    "version": 3
   },
   "file_extension": ".py",
   "mimetype": "text/x-python",
   "name": "python",
   "nbconvert_exporter": "python",
   "pygments_lexer": "ipython3",
   "version": "3.8.8"
  }
 },
 "nbformat": 4,
 "nbformat_minor": 5
}
