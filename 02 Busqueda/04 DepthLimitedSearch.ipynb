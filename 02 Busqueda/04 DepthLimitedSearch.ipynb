{
 "cells": [
  {
   "cell_type": "markdown",
   "id": "11746fa3",
   "metadata": {},
   "source": [
    "# Algoritmo de búsqueda de profundidad limitada\n",
    "\n",
    "El algoritmo de primero en profundidad tiene el problema que, aunque encuentre la solución, no sea la solución óptima pues buscará intensivamente por un camino maximizando la profundidad del árbol. Esto también implica que puede tardarse demasiado en converger. Para solventar esto, se propone el algoritmo de búsqueda de profundidad limitada, el cual definirá un máximo de profundidad sobre la que va a buscar el algoritmo. Esta profundidad máxima limitará la búsqueda en profundidad y, por tanto, limitará también la longitud de una solución encontrada.\n",
    "\n",
    "Planteamos aquí la aplicación del algoritmo de búsqueda de profundidad limitada para el problema del laberinto.\n",
    "\n",
    "### Creación del problema del laberinto\n",
    "\n",
    "Creamos el problema del laberinto como lo hemos venido haciendo:"
   ]
  },
  {
   "cell_type": "code",
   "execution_count": 1,
   "id": "2f71b0e0",
   "metadata": {},
   "outputs": [
    {
     "data": {
      "image/png": "[encoded data removed]",
      "text/plain": [
       "<Figure size 640x480 with 1 Axes>"
      ]
     },
     "metadata": {},
     "output_type": "display_data"
    }
   ],
   "source": [
    "from maze_simulator import Maze\n",
    "\n",
    "mapa = \"\"\"\n",
    "##############################\n",
    "# o         #                #\n",
    "# ####      ########         #\n",
    "#    #      #           #    #\n",
    "#    ###       ##### ####    #\n",
    "#      #     ###   #         #\n",
    "#  #           #   #         x\n",
    "##############################\n",
    "\"\"\"\n",
    "\n",
    "ent = Maze(mapa)\n",
    "ent.draw()"
   ]
  },
  {
   "cell_type": "markdown",
   "id": "70aa297e",
   "metadata": {},
   "source": [
    "### Pila y nodos\n",
    "\n",
    "Como se trata de una búsqueda en profundidad, utilizaremos una pila LIFO (Last-In-First-Ou) que permitirá expandir primero los nodos que entran al último a la pila y que corresponden a los nodos de mayor profundidad. Asimismo, creamos el objeto nodo, tomando en cuenta la profundidad de éstos, pues el algoritmo de profundidad limitada necesita saber en qué profundidad se encuentra un nodo para no expandir más éstos."
   ]
  },
  {
   "cell_type": "code",
   "execution_count": 2,
   "id": "a690457a",
   "metadata": {},
   "outputs": [],
   "source": [
    "class LIFOQueue(object):\n",
    "    \"\"\"Clase de una cola FIFO en los problemas de búsqueda\"\"\"\n",
    "    def __init__(self):\n",
    "        self.queue = []\n",
    "    def __str__(self):\n",
    "        return ' '.join([str(q) for q in self.queue])\n",
    "    def isEmpty(self):\n",
    "        return self.queue == []\n",
    "    def push(self, element):\n",
    "        self.queue.append(element)\n",
    "    def pop(self):\n",
    "        last_element = self.queue[-1]\n",
    "        del self.queue[-1]\n",
    "        return last_element\n",
    "    \n",
    "class Node(object):\n",
    "    \"\"\"Clase para crear nodos con sus atributos.\"\"\"\n",
    "    def __init__(self):\n",
    "        self.state = (0,0)\n",
    "        self.parent = None \n",
    "        self.action = None\n",
    "        #Guarda la profundidad del nodo\n",
    "        self.depth = 0\n",
    "    def __str__(self):\n",
    "        if self.parent == None:\n",
    "            return \"State: {}\".format(self.state)\n",
    "        else:\n",
    "            return \"State: {}, Action: {}, Parent: {}\".format(self.state,self.action,self.parent.state)   \n",
    "            \n",
    "def expand(problem, node):\n",
    "    \"\"\"Función para expandir los nodos dado el problema\"\"\"\n",
    "    s = node.state \n",
    "    for action in problem.actions(s):\n",
    "        new_s = problem.result(s, action)        \n",
    "        new_node,new_node.state,new_node.parent,new_node.action = Node(),new_s,node,action\n",
    "        new_node.depth = node.depth + 1\n",
    "        yield new_node"
   ]
  },
  {
   "cell_type": "markdown",
   "id": "5139282e",
   "metadata": {},
   "source": [
    "### Algoritmo\n",
    "\n",
    "El algoritmo de búsqueda de profundidad limitada se implementará de manera similar al algoritmo de primero en profundidad, pero pondremos una restricción: cuando el nodo se encuentra a una profundidad dada $l$ ya no expandirá más este nodo.\n",
    "\n",
    "Si el algoritmo ha expandido todos los nodos con profundidad menor a $l$ sin encontrar una solución, entonces mandará un mensaje de `cutoff` que indicará precisamente que el algoritmo no ha podido encontrar la solución (al menos a ese nivel de profundidad). En caso contrario, el algoritmo regresará la solución."
   ]
  },
  {
   "cell_type": "code",
   "execution_count": 3,
   "id": "7aa95799-8480-4431-b59f-735a704d6220",
   "metadata": {},
   "outputs": [],
   "source": [
    "def DepthLimitedSearch(problem,l):\n",
    "    \"\"\"Algoritmo Depth-Limited Search\"\"\"\n",
    "    #Almacenamiento de nodos\n",
    "    nodes = []\n",
    "    #Nodo inicial\n",
    "    node = Node()\n",
    "    node.state = problem.initial    \n",
    "    #Frontera con cola de prioridad\n",
    "    frontier = LIFOQueue()\n",
    "    frontier.push(node)\n",
    "    #Nodos alcanzados\n",
    "    reached = {problem.initial:node}\n",
    "    #resultado\n",
    "    result = \"failure\"\n",
    "\n",
    "    #Mientras la frontera no esté vacía\n",
    "    while frontier.isEmpty() == False:\n",
    "        #Pop en frontera\n",
    "        node = frontier.pop()\n",
    "        #Guarda el nodo en la lista\n",
    "        nodes.append(node)\n",
    "        \n",
    "        if problem.is_goal(node.state):\n",
    "            print(\"Se encontró solución\")\n",
    "            return nodes\n",
    "        if node.depth > l:\n",
    "            result = \"cutoff\"\n",
    "        else:\n",
    "            for child in expand(problem, node):\n",
    "                state = child.state\n",
    "                if state not in reached.keys():\n",
    "                    reached[state] = child\n",
    "                    frontier.push(child)\n",
    "    \n",
    "    return result"
   ]
  },
  {
   "cell_type": "markdown",
   "id": "3b94fdd3",
   "metadata": {},
   "source": [
    "#### Aplicación del algoritmo al problema\n",
    "\n",
    "En el problema del laberinto podemos escoger una profundidad pequeña, de tal forma que el algoritmo de profundidad limitada no pueda encontrar la solución, en este caso regresará `cutoff`, pues no ha podido encontrar la solución en esta profundidad."
   ]
  },
  {
   "cell_type": "code",
   "execution_count": 4,
   "id": "733772da",
   "metadata": {},
   "outputs": [
    {
     "name": "stdout",
     "output_type": "stream",
     "text": [
      "cutoff\n"
     ]
    }
   ],
   "source": [
    "tree_5 = DepthLimitedSearch(ent,l=10)\n",
    "print(tree_5)"
   ]
  },
  {
   "cell_type": "markdown",
   "id": "2eaffcd9",
   "metadata": {},
   "source": [
    "Podemos encontrar una solución si escogemos un número más grande en el parámetro de la profundidad. Aunque si este número es muy grande, puede encontrarse una solución similar al de búsqueda de primero en profundidad."
   ]
  },
  {
   "cell_type": "code",
   "execution_count": 5,
   "id": "998db50b",
   "metadata": {},
   "outputs": [
    {
     "name": "stdout",
     "output_type": "stream",
     "text": [
      "Se encontró solución\n"
     ]
    }
   ],
   "source": [
    "tree = DepthLimitedSearch(ent,l=50)"
   ]
  },
  {
   "cell_type": "markdown",
   "id": "e09c1f3f",
   "metadata": {},
   "source": [
    "Finalmente, podemos visualizar la solución encontrada por el algoritmo."
   ]
  },
  {
   "cell_type": "code",
   "execution_count": 6,
   "id": "81b486be",
   "metadata": {},
   "outputs": [
    {
     "data": {
      "image/png": "[encoded data removed]",
      "text/plain": [
       "<Figure size 640x480 with 1 Axes>"
      ]
     },
     "metadata": {},
     "output_type": "display_data"
    }
   ],
   "source": [
    "def get_path(search_tree, root):\n",
    "    \"\"\"Recupera la solución.\"\"\"\n",
    "    leaf = search_tree[::-1][0]\n",
    "    parent = leaf.parent\n",
    "    path = [leaf, parent]\n",
    "    while parent.state != root:\n",
    "        parent = parent.parent\n",
    "        path.append(parent)\n",
    "        \n",
    "    return path[::-1]\n",
    "\n",
    "#Visualiza la solución\n",
    "prev_s = ent.initial\n",
    "for n in get_path(tree, ent.initial):\n",
    "    ent.move(prev_s, n.state)\n",
    "    prev_s = n.state\n",
    "    \n",
    "ent.draw()"
   ]
  },
  {
   "cell_type": "markdown",
   "id": "dbbacd37",
   "metadata": {},
   "source": [
    "El problema del algoritmo de búsqueda de profundidad limitada es que en muchos problemas no conocemos de principio la profundidad para hacer la búsqueda. Existen algunas propuestas para encontrar esta profundidad (como tomar el diámetro de la gráfica del problema), entre ellas una de las más comunes es implementar el algoritmo de Búsqueda de profundidad iterativa.\n",
    "\n",
    "# Algoritmo de búsqueda de profundidad iterativa\n",
    "\n",
    "El algoritmo de búsqueda de profundidad iterative o <i>Iterative Deepening Search</i> es una adaptación del algoritmo de profundidad limitada, en donde se itera un contador sobre el parámetro de profundidad iterativa. Esto permite explorar diferentes profundidades hasta encontrar una solución en alguna de ellas.\n",
    "\n",
    "El algoritmo comenzará con un contador de profundidad con $l=0$, donde $l$ es la profundidad, y entonces aplicará el algoritmo de profundidad limitado con este valor de profundidad. Si no se encuentra solución, entonces aumentará en 1 la profundidad para volver a aplicar el algoritmo de profundidad limitada. Este proceso se repetirá hasta que se encuentre la solución. De esta forma, este algoritmo garantiza encontrar una solución, aunque puede ser más costoso."
   ]
  },
  {
   "cell_type": "code",
   "execution_count": 7,
   "id": "ebde21b3",
   "metadata": {},
   "outputs": [],
   "source": [
    "def IterativeDeepeningSearch(problem):\n",
    "    \"\"\"Algoritmo de Iterative Deepening Search.\"\"\"\n",
    "    #Inicializa la profundidad\n",
    "    l = 0\n",
    "    #Revisa si hay resultados\n",
    "    result = DepthLimitedSearch(problem,l)\n",
    "    #Itera hasta encontrar una solución\n",
    "    while result == \"cutoff\":\n",
    "        #Agrega una profundidad más\n",
    "        l += 1\n",
    "        #Revisa el resultado\n",
    "        result = DepthLimitedSearch(problem,l)\n",
    "    \n",
    "    print(\"Resuelto en {} iteraciones\".format(l))\n",
    "    return result"
   ]
  },
  {
   "cell_type": "markdown",
   "id": "16d30885",
   "metadata": {},
   "source": [
    "#### Aplicación del algoritmo al problema\n",
    "\n",
    "Aplicando el algoritmo de búsqueda de profundidad iterativa al problema del laberinto, podemos ver que se encuentra una solución, y el algoritmo imprimirá la profundidad en que se encontró la solución."
   ]
  },
  {
   "cell_type": "code",
   "execution_count": 8,
   "id": "be2ce1f8",
   "metadata": {},
   "outputs": [
    {
     "name": "stdout",
     "output_type": "stream",
     "text": [
      "Se encontró solución\n",
      "Resuelto en 43 iteraciones\n"
     ]
    },
    {
     "data": {
      "image/png": "[encoded data removed]",
      "text/plain": [
       "<Figure size 640x480 with 1 Axes>"
      ]
     },
     "metadata": {},
     "output_type": "display_data"
    }
   ],
   "source": [
    "ent_it = Maze(mapa)\n",
    "tree_it = IterativeDeepeningSearch(ent_it)\n",
    "\n",
    "#Visualiza la solución\n",
    "prev_s = ent_it.initial\n",
    "for n in get_path(tree_it, ent_it.initial):\n",
    "    ent_it.move(prev_s, n.state)\n",
    "    prev_s = n.state\n",
    "    \n",
    "ent_it.draw()"
   ]
  },
  {
   "cell_type": "markdown",
   "id": "28fca048",
   "metadata": {},
   "source": [
    "Como se puede notar, la solución encontrada es incluso más corta que la que encontraba el algoritmo de profundidad limitada."
   ]
  }
 ],
 "metadata": {
  "kernelspec": {
   "display_name": "Python 3 (ipykernel)",
   "language": "python",
   "name": "python3"
  },
  "language_info": {
   "codemirror_mode": {
    "name": "ipython",
    "version": 3
   },
   "file_extension": ".py",
   "mimetype": "text/x-python",
   "name": "python",
   "nbconvert_exporter": "python",
   "pygments_lexer": "ipython3",
   "version": "3.8.10"
  }
 },
 "nbformat": 4,
 "nbformat_minor": 5
}
