{
 "cells": [
  {
   "cell_type": "markdown",
   "id": "5be2993a",
   "metadata": {},
   "source": [
    "# Mundo del laberinto con tráfico\n",
    "\n",
    "Para comparar los algoritmos de búsqueda informada conviene definir un problema que cuente con una función de costo.\n",
    "El problema que aquí definiremos es el problema del laberinto: que un agente, iniciando de un punto arbitrario de un mapa, pueda llegar a una meta o punto final marcado en el mapa; además, introducimos un nuevo factor para determinar el costo de cada acción en un estado dado. Este nuevo factor puede verse como el \"tráfico\": así, moverse a ciertas regiones del laberinto le costará más al agente que moverse hacia otras. En particular definimos 3 tipos de costo:\n",
    "\n",
    "1. Tráfico pesado: son regiones en que el costo de moverse es de 3.\n",
    "2. Tráfico ligero: son regiones en que el costo de moverse es de 2.\n",
    "3. No tráfico: son regiones en el que el costo de moverse es de 1.\n",
    "\n",
    "En una aplicación real, se podría considerar el promedio de tiempo de transitar por estas regiones, si se cuenta con esta información. En este caso simplificamos el proceso tomando en cuenta estos valores. \n",
    "\n",
    "Para incluir el costo dentro del modelo simplemente definimos una función de costo que tome en cuenta estos valores de tráfico. Estos valores se toman de un mapa que representamos como cadena de texto; cada valor de tráfico se representa con un símbolo textual:\n",
    "\n",
    "1. Tráfico pesado: símbolo '-' (guión)\n",
    "2. Tráfico ligero: símbolo '.' (punto)\n",
    "3. No tráfico: símbolo ' ' (espacio)"
   ]
  },
  {
   "cell_type": "code",
   "execution_count": 1,
   "id": "8ddc249b",
   "metadata": {},
   "outputs": [],
   "source": [
    "class Maze(object):\n",
    "    \"\"\"Simulador de laberinto\"\"\"\n",
    "    def __init__(self, board):\n",
    "        #Define el laberinto\n",
    "        self.board = [list(x) for x in board.split(\"\\n\") if x]\n",
    "        #Guardo el estado inicial\n",
    "        self.goal = None\n",
    "        \n",
    "        for y in range(len(self.board)):\n",
    "            for x in range(len(self.board[y])):\n",
    "                if self.board[y][x] == 'o':\n",
    "                    #El inicial es el estado con el símbolo 'o'\n",
    "                    self.initial = (x,y)\n",
    "                elif self.board[y][x] == 'x':\n",
    "                    #La meta es el estado con el símbolo 'x'\n",
    "                    self.goal = (x,y)\n",
    "                    \n",
    "    def __str__(self):\n",
    "        return '\\n'.join([''.join(symbols) for symbols in self.board])\n",
    "        \n",
    "    def actions(self, state):\n",
    "        \"\"\"Define las posibles acciones permitidas en cada estado\"\"\"\n",
    "        actions = []\n",
    "        for action in [\"up\",\"down\",\"left\",\"right\"]:\n",
    "            newx, newy = self.result(state, action)\n",
    "            #Una acción no permitida es aquella donde se\n",
    "            #topa con un símbolo # que indica pared\n",
    "            if self.board[newy][newx] != \"#\":\n",
    "                actions.append(action)\n",
    "        return actions\n",
    "    \n",
    "    def result(self, state, action):\n",
    "        \"\"\"Calcula el estado resultante de la acción\"\"\"\n",
    "        x, y = state\n",
    "        if action.count(\"up\"):\n",
    "            y -= 1\n",
    "        if action.count(\"down\"):\n",
    "            y += 1\n",
    "        if action.count(\"left\"):\n",
    "            x -= 1\n",
    "        if action.count(\"right\"):\n",
    "            x += 1\n",
    "\n",
    "        new_state = (x, y)\n",
    "        return new_state\n",
    "    \n",
    "    def move(self, state, new_state, symbol='o'):\n",
    "        \"\"\"Cambia la posición del agente de un estado a otro\"\"\"\n",
    "        x,y = state\n",
    "        new_x, new_y = new_state\n",
    "        if self.board[new_y][new_x] == ' ':\n",
    "            self.board[y][x] = ' '\n",
    "            self.board[new_y][new_x] = symbol\n",
    "        else:\n",
    "            pass\n",
    "        \n",
    "    def cost(self, prev, action, next, normal=' ',low='.',high='-'):\n",
    "        \"\"\"Función de costo con base en 'tráfico'\"\"\"\n",
    "        res = self.board[next[1]][next[0]]\n",
    "        #Situación de costo normal\n",
    "        if res == normal:\n",
    "            return 1\n",
    "        #Tráfico ligero\n",
    "        elif res == low:\n",
    "            return 2\n",
    "        #Tráfico alto\n",
    "        elif res == high:\n",
    "            return 3\n",
    "        #Casos donde está el final\n",
    "        else:\n",
    "            return 0\n",
    "        \n",
    "    def draw(self, low='.', high='-'):\n",
    "        \"\"\"Dibuja el mapa\"\"\"\n",
    "        import matplotlib.pyplot as plt\n",
    "        import numpy as np\n",
    "\n",
    "        img = np.ones((len(self.board), len(self.board[0]), 4))\n",
    "        for i, row in enumerate(self.board):\n",
    "            for j, element in enumerate(row):\n",
    "                if element == '#':\n",
    "                    img[i,j] = np.array([0,0,0,1])\n",
    "                elif element == 'o':\n",
    "                    img[i,j] = np.array([0.2,0.5,0.8,1])\n",
    "                elif element == 'x':\n",
    "                    img[i,j] = np.array([0.2,0.9,0.5,1])\n",
    "                elif element == high:\n",
    "                    img[i,j] = np.array([1,0.2,0.2,0.4])\n",
    "                elif element == low:\n",
    "                    img[i,j] = np.array([0.9,0.6,0.3,0.4])    \n",
    "\n",
    "        plt.imshow(img)\n",
    "        plt.show()\n",
    "    \n",
    "    def is_goal(self, state):\n",
    "        \"\"\"Determina si un estado es meta\"\"\"\n",
    "        return state == self.goal"
   ]
  },
  {
   "cell_type": "markdown",
   "id": "1e3a644a",
   "metadata": {},
   "source": [
    "### Ejemplo de laberinto\n",
    "\n",
    "Para construir el laberinto utilizamos los símbolos de obstáculo, de agente y de meta; además incluimos los símbolos de trafíco. Para visualizar el tráfico usamos un color rojo: el tráfico ligero se representa por un tono más claro."
   ]
  },
  {
   "cell_type": "code",
   "execution_count": 2,
   "id": "371d27ef",
   "metadata": {},
   "outputs": [
    {
     "data": {
      "image/png": "[encoded data removed]",
      "text/plain": [
       "<Figure size 432x288 with 1 Axes>"
      ]
     },
     "metadata": {
      "needs_background": "light"
     },
     "output_type": "display_data"
    }
   ],
   "source": [
    "mapa = \"\"\"\n",
    "##############################\n",
    "# o------...#                #\n",
    "# ####------########         #\n",
    "#    #------#           #    #\n",
    "#    ###-      #####-####....#\n",
    "#      #-    ###   #-....    #\n",
    "#  #    .      #   #---------x\n",
    "##############################\n",
    "\"\"\"\n",
    "\n",
    "ent = Maze(mapa)\n",
    "ent.draw()"
   ]
  },
  {
   "cell_type": "markdown",
   "id": "a6eba339",
   "metadata": {},
   "source": [
    "También podemos ver que el costo de esta configuración del mapa hará que si el agente se mueve a la derecha se tenga un costo de 3, pues se moverá a una región de alto tráfico (rojo intenso), mientras que si se mueve a la izquierda el costo será de 1, pues se mueve a una región sin tráfico."
   ]
  },
  {
   "cell_type": "code",
   "execution_count": 3,
   "id": "a9ab33b3",
   "metadata": {},
   "outputs": [
    {
     "name": "stdout",
     "output_type": "stream",
     "text": [
      "Costo (derecha): 3\n",
      "Costo (izquierda): 1\n"
     ]
    }
   ],
   "source": [
    "#Movimiento a la derecha\n",
    "r_state = ent.result(ent.initial, \"right\")\n",
    "print(\"Costo (derecha): {}\".format(ent.cost(ent.initial, \"right\", r_state)))\n",
    "#Movimiento a la izquierda\n",
    "l_state = ent.result(ent.initial, \"left\")\n",
    "print(\"Costo (izquierda): {}\".format(ent.cost(ent.initial, \"left\", l_state)))"
   ]
  },
  {
   "cell_type": "markdown",
   "id": "c441abba",
   "metadata": {},
   "source": [
    "Así, además de encontrar un camino corto, se buscará minimizar el tiempo que se pasa en el tráfico, por lo que la solución óptima no sólo dependerá de la distancia del agente al estado final."
   ]
  }
 ],
 "metadata": {
  "kernelspec": {
   "display_name": "Python 3",
   "language": "python",
   "name": "python3"
  },
  "language_info": {
   "codemirror_mode": {
    "name": "ipython",
    "version": 3
   },
   "file_extension": ".py",
   "mimetype": "text/x-python",
   "name": "python",
   "nbconvert_exporter": "python",
   "pygments_lexer": "ipython3",
   "version": "3.8.8"
  }
 },
 "nbformat": 4,
 "nbformat_minor": 5
}
