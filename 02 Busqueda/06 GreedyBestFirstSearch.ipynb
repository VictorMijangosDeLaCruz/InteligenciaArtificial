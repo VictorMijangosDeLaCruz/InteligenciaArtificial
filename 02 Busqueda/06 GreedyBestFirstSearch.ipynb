{
 "cells": [
  {
   "cell_type": "markdown",
   "id": "1857f6c8",
   "metadata": {},
   "source": [
    "# Algoritmo de búsqueda primero mejor ambicioso\n",
    "\n",
    "Dentro de los algoritmos de búsqueda heurística, el algoritmo de primero mejor ambicioso es aquel que usa como función de prioridad únicamente a la heurística, sin tomar en cuenta el costo. \n",
    "\n",
    "Una <b>heurística</b> es una función sobre los estados que nos da información sobre qué tan cercanos estamos a la meta. Es decir, nos da información externa al problema de búsqueda que podemos aprovechar para obtener una solución óptima. Cabe señalar que la heurística depende del problema que estemos tratando.\n",
    "\n",
    "Aquí presentamos la aplicación del algoritmo de primero mejor ambicioso al problema del laberinto con tráfico. Para esto definirmeos una heurística adecuada a este problema y veremos cómo afecta el hecho de que el algoritmo sea \"ambicioso\" al costo de la solución.\n",
    "\n",
    "### Construcción del problema\n",
    "\n",
    "El problema será el del laberinto, incluyendo regiones con tráfico pesado (costo 3) y tráfico ligero (costo 2). Construimos un mapa en donde indicamos la cantidad de tráfico, la posición del agente (azul), y la meta (verde)."
   ]
  },
  {
   "cell_type": "code",
   "execution_count": 1,
   "id": "2ffa73cf",
   "metadata": {},
   "outputs": [
    {
     "data": {
      "image/png": "[encoded data removed]",
      "text/plain": [
       "<Figure size 432x288 with 1 Axes>"
      ]
     },
     "metadata": {
      "needs_background": "light"
     },
     "output_type": "display_data"
    }
   ],
   "source": [
    "import numpy as np\n",
    "from maze_simulator import TrafficMaze\n",
    "\n",
    "mapa = \"\"\"\n",
    "##############################\n",
    "# o------...#                #\n",
    "# ####------########         #\n",
    "#    #------#           #    #\n",
    "#. . ###-      #####-####....#\n",
    "# -    #-    ###   #-....    #\n",
    "#  #    .      #   #---------x\n",
    "##############################\n",
    "\"\"\"\n",
    "\n",
    "ent = TrafficMaze(mapa)\n",
    "ent.draw()"
   ]
  },
  {
   "cell_type": "markdown",
   "id": "0eede951",
   "metadata": {},
   "source": [
    "## Heurística\n",
    "\n",
    "Recordemos que la heurístia es una función $h: V \\to \\mathbb{R}$ que nos da información de la posición del estado del nodo con respecto a la meta. Ya que nuestra problema se busca llegar de un punto A (la posición inicial del agente) a un punto B (la meta), resulta natural utilizar como heurística una distancia. En particular proponemos el uso de la distancia euclideana, definida como:\n",
    "\n",
    "$$h(n) = \\sqrt{(x_n - x_{goal})^2 + (y_n-y_{goal})^2}$$\n",
    "\n",
    "Donde $(x_n,y_n)$ son las coordenadas de la posición del agente en el estado representado por el nodo $n$ y $(x_{goal}, y_{goal})$ son las coordenadas de la meta."
   ]
  },
  {
   "cell_type": "code",
   "execution_count": 2,
   "id": "104da930",
   "metadata": {},
   "outputs": [],
   "source": [
    "def h(state, goal):\n",
    "    \"\"\"Heurísitca euclideana\"\"\"\n",
    "    x1,y1 = state\n",
    "    x2,y2 = goal\n",
    "    #Obtiene distancia euclideana\n",
    "    dist = np.sqrt((x2-x1)**2 + (y2-y1)**2)\n",
    "    \n",
    "    return dist"
   ]
  },
  {
   "cell_type": "markdown",
   "id": "0d5b7d3d",
   "metadata": {},
   "source": [
    "## Implementación del algoritmo\n",
    "\n",
    "El algoritmo de primero mejor ambicioso debe expandir en cada caso el nodo que tiene el valor de la distancia más pequeña. Para esto usamos una pila de prioridad.\n",
    "\n",
    "### Pila\n",
    "\n",
    "La pila de prioridad va a tomar como elemento de salida aquel que tenga la prioridad más alta. En general, esta prioridad se toma como el argumento que maximiza una función de prioridad. Sin embargo, como aquí estamos usando una métrica, lo ideal es que está sea lo más pequeña posible (que estemos más cerca de la meta). Por tanto, en lugar de tomar el elemento con el valor más grande, tomaremos el elemento con el valor más pequeño, que equivale a tomar aquel elemento que maximiza el valor negativo de la heurística."
   ]
  },
  {
   "cell_type": "code",
   "execution_count": 3,
   "id": "7e0fc311",
   "metadata": {},
   "outputs": [],
   "source": [
    "class PriorityQueue(object):\n",
    "    \"\"\"Clase de una cola de prioridad en los problemas de búsqueda.\"\"\"\n",
    "    def __init__(self,f=lambda x: 1):\n",
    "        self.queue = []\n",
    "        self.f = f\n",
    "  \n",
    "    def __str__(self):\n",
    "        return ' '.join([str(q) for q in self.queue])\n",
    "  \n",
    "    def isEmpty(self):\n",
    "        return self.queue == []\n",
    "  \n",
    "    def push(self, element):\n",
    "        \"\"\"Agrega elementos a la pila\"\"\"\n",
    "        self.queue.append(element)\n",
    "  \n",
    "    def pop(self):\n",
    "        \"\"\"Saca de la pila el elemento con mayor valor f.\"\"\"\n",
    "        #Encuentra el elemento máximo en base al costo\n",
    "        min_element = np.argmin([element.f for element in self.queue])\n",
    "        #Guarda el elemento máximo\n",
    "        item = self.queue[min_element]\n",
    "        #Borra este elemento de la cola\n",
    "        del self.queue[min_element]\n",
    "    \n",
    "        return item"
   ]
  },
  {
   "cell_type": "markdown",
   "id": "a4908761",
   "metadata": {},
   "source": [
    "#### Nodos y expansión\n",
    "\n",
    "Los nodos guardarán la información necesaria para poder aplicar el algoritmo. El método de expansión será el mismo que hemos utilizado antes. Sin embargo, cabe resaltar la construcción de la función $f$, pues como podemos ver, se toma sólo el valor de la heurística; esto es:\n",
    "\n",
    "$$f(n) = h(n)$$"
   ]
  },
  {
   "cell_type": "code",
   "execution_count": 4,
   "id": "b5d828f1",
   "metadata": {},
   "outputs": [],
   "source": [
    "class Node(object):\n",
    "    \"\"\"Clase para crear nodos con sus atributos.\"\"\"\n",
    "    def __init__(self):\n",
    "        self.state = (0,0)\n",
    "        self.parent = None \n",
    "        self.action = None\n",
    "        self.cost = 0\n",
    "        self.f = 0\n",
    "        \n",
    "    def __str__(self):\n",
    "        if self.parent == None:\n",
    "            return \"State: {}\".format(self.state)\n",
    "        else:\n",
    "            return \"State: {}, Action: {}, Parent: {}\".format(self.state,self.action,self.parent.state)   \n",
    "            \n",
    "def expand(problem, node):\n",
    "    \"\"\"Función para expandir los nodos dado el problema\"\"\"\n",
    "    s = node.state \n",
    "    for action in problem.actions(s):\n",
    "        #Aplica la función de resultado\n",
    "        new_s = problem.result(s, action)\n",
    "        #Crea el nuevo nodo\n",
    "        new_node,new_node.state,new_node.parent,new_node.action = Node(),new_s,node,action\n",
    "        #No agregamos el costo, pero lo consideramos para ver el costo final del camino\n",
    "        new_node.cost = node.cost + problem.cost(s,action,new_s)\n",
    "        #Agrega sólo la heurística al nodo\n",
    "        new_node.f = h(s,new_s)\n",
    "        \n",
    "        yield new_node"
   ]
  },
  {
   "cell_type": "markdown",
   "id": "3a61f2a4",
   "metadata": {},
   "source": [
    "### Algoritmo de primero mejor ambicioso\n",
    "\n",
    "El algoritmo de primero mejor ambicioso se basa en el algoritmo de primero mejor, pero en donde la función de prioridad está definida por la heurística. Es por esto que se le llama ambicioso, pues no toma en cuenta el costo y busca llegar a la meta lo más rápido posible sin importar que el costo sea grande. Este algoritmo usa un método de Late-Goal Test para revisar si el nodo es final."
   ]
  },
  {
   "cell_type": "code",
   "execution_count": 5,
   "id": "f895a2d6",
   "metadata": {},
   "outputs": [],
   "source": [
    "def GreedySearch(problem):\n",
    "    \"\"\"Algoritmo de búsqueda ambiciosa.\"\"\"\n",
    "    #Almacenamiento de nodos\n",
    "    nodes = []\n",
    "    #Nodo inicial\n",
    "    node = Node()\n",
    "    node.state = problem.initial\n",
    "    #Frontera con cola de prioridad\n",
    "    frontier = PriorityQueue()\n",
    "    frontier.push(node)\n",
    "    #Nodos alcanzados\n",
    "    reached = {problem.initial:node}\n",
    "\n",
    "    #Mientras la frontera no esté vacía\n",
    "    while frontier.isEmpty() == False:\n",
    "        #Pop en frontera\n",
    "        node = frontier.pop()\n",
    "        #Guarda el nodo en la lista\n",
    "        nodes.append(node)\n",
    "        #Actualiza el estado del problema\n",
    "        problem.state = node.state\n",
    "\n",
    "        #Si llega a un estado final se detiene \n",
    "        #y regresa el camino de nodos\n",
    "        if problem.state == problem.goal:\n",
    "            return nodes\n",
    "\n",
    "        #Expande el nodo actual\n",
    "        expantion = expand(problem, node)\n",
    "        for child in expantion:\n",
    "            #print(child.f)\n",
    "            #Guarda estado de los hijos\n",
    "            state = child.state\n",
    "            #Guarda los hijos no alcanzados o que tengan menor costo\n",
    "            if state not in reached.keys() or child.f < reached[state].f:\n",
    "                reached[state] = child\n",
    "                frontier.push(child)\n",
    "\n",
    "    #Si no logra llegar a un nodo final\n",
    "    #El algoritmo regresa mensaje de error\n",
    "    return \"No se ha logrado llegar a un estado final.\""
   ]
  },
  {
   "cell_type": "markdown",
   "id": "7840917a",
   "metadata": {},
   "source": [
    "#### Aplicación del algoritmo\n",
    "\n",
    "Finalmente, podemos aplicar el método al problema del laberingo con los casos de tráfico y ver cómo se desempeña este algoritmo. "
   ]
  },
  {
   "cell_type": "code",
   "execution_count": 6,
   "id": "73992506",
   "metadata": {},
   "outputs": [],
   "source": [
    "tree = GreedySearch(ent)"
   ]
  },
  {
   "cell_type": "markdown",
   "id": "20f3cce4",
   "metadata": {},
   "source": [
    "El resultado obtenido se muestra a continuación:"
   ]
  },
  {
   "cell_type": "code",
   "execution_count": 7,
   "id": "94b1dc20",
   "metadata": {},
   "outputs": [
    {
     "data": {
      "image/png": "[encoded data removed]",
      "text/plain": [
       "<Figure size 432x288 with 1 Axes>"
      ]
     },
     "metadata": {
      "needs_background": "light"
     },
     "output_type": "display_data"
    },
    {
     "name": "stdout",
     "output_type": "stream",
     "text": [
      "Solución\n"
     ]
    },
    {
     "data": {
      "image/png": "[encoded data removed]",
      "text/plain": [
       "<Figure size 432x288 with 1 Axes>"
      ]
     },
     "metadata": {
      "needs_background": "light"
     },
     "output_type": "display_data"
    },
    {
     "name": "stdout",
     "output_type": "stream",
     "text": [
      "Costo total: 73\n"
     ]
    }
   ],
   "source": [
    "def get_path(search_tree, root):\n",
    "    \"\"\"Recupera la solución.\"\"\"\n",
    "    leaf = search_tree[::-1][0]\n",
    "    parent = leaf.parent\n",
    "    path = [leaf, parent]\n",
    "    while parent.state != root:\n",
    "        parent = parent.parent\n",
    "        path.append(parent)\n",
    "        \n",
    "    return path[::-1]\n",
    "\n",
    "ent.draw()\n",
    "#Visualiza la solución\n",
    "prev_s = ent.initial\n",
    "for n in get_path(tree, ent.initial):\n",
    "    ent.move(prev_s, n.state)\n",
    "    prev_s = n.state\n",
    "\n",
    "print('Solución')\n",
    "ent.draw()\n",
    "print('Costo total: {}'.format(tree[-1].cost))"
   ]
  },
  {
   "cell_type": "markdown",
   "id": "46ed1bb9",
   "metadata": {},
   "source": [
    "Como se puede observar, el camino obtenido parece el más corto en cuestión de distancia, pues hemos buscado encontrar un camino que sea minimice una distancia euclideana. Sin embargo, el costo del camino no es el más bajo esperado, pues de hecho el agente pasa por varias secciones que contienen tráfico alto."
   ]
  }
 ],
 "metadata": {
  "kernelspec": {
   "display_name": "Python 3",
   "language": "python",
   "name": "python3"
  },
  "language_info": {
   "codemirror_mode": {
    "name": "ipython",
    "version": 3
   },
   "file_extension": ".py",
   "mimetype": "text/x-python",
   "name": "python",
   "nbconvert_exporter": "python",
   "pygments_lexer": "ipython3",
   "version": "3.8.8"
  }
 },
 "nbformat": 4,
 "nbformat_minor": 5
}
