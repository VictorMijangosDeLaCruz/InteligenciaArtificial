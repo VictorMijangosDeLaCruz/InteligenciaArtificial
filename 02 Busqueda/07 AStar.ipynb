{
 "cells": [
  {
   "cell_type": "markdown",
   "id": "1440101e",
   "metadata": {},
   "source": [
    "# Algoritmo de búsqueda $A^*$\n",
    "\n",
    "El algoritmo de $A^*$ es el algoritmo más reconocido dentro de la búsqueda heurística. Este algoritmo incorpora una heurística y la combina con la función de costo para buscar encontrar la solución óptima al problema. A diferencia del algoritmo de primero mejor ambicioso, el tomar en cuenta el costo va a permitir que la solución si sea óptima, siempre y cuando se cumplan la condición de que la heurística sea admisible.\n",
    "\n",
    "### Cración del problema\n",
    "\n",
    "Nuestro problema será un laberinto con tráfico. En este caso, utilizamos el mismo mapa que hemos utilizado con el problema que previamente resolvió el algoritmo de primer mejor ambicioso. Esto nos permitirá comparar los resultados obtenidos."
   ]
  },
  {
   "cell_type": "code",
   "execution_count": 1,
   "id": "2ffa73cf",
   "metadata": {},
   "outputs": [
    {
     "data": {
      "image/png": "[encoded data removed]",
      "text/plain": [
       "<Figure size 432x288 with 1 Axes>"
      ]
     },
     "metadata": {
      "needs_background": "light"
     },
     "output_type": "display_data"
    }
   ],
   "source": [
    "import numpy as np\n",
    "from maze_simulator import TrafficMaze\n",
    "\n",
    "mapa = \"\"\"\n",
    "##############################\n",
    "# o------...#                #\n",
    "# ####------########         #\n",
    "#    #------#           #    #\n",
    "#. . ###-      #####-####....#\n",
    "# -    #-    ###   #-....    #\n",
    "#  #    .      #   #---------x\n",
    "##############################\n",
    "\"\"\"\n",
    "\n",
    "ent = TrafficMaze(mapa)\n",
    "ent.draw()"
   ]
  },
  {
   "cell_type": "markdown",
   "id": "18d7ff43",
   "metadata": {},
   "source": [
    "## Heurística\n",
    "\n",
    "La heurística que elegimos será la misma que para el método de primero mejor ambicioso. Es decir, tomamos como heurística la distancia euclideana o distancia en linea recta, definidia como:\n",
    "\n",
    "$$h(n) = \\sqrt{(x_n - x_{goal})^2 + (y_n-y_{goal})^2}$$\n",
    "\n",
    "Esta heurística es admisible pues nunca sobre estima el costo óptimo del camino. Esto es fácil de ver como la heurística asume un camino recto desde el punto en que se encuentra el agente, hasta la meta; mientras que el camino óptimo se enfrenta a los obstáculos y al tráfico. Entonces, podemos garantizar que:\n",
    "\n",
    "$$h(n) < C^*$$\n",
    "\n",
    "Donde $C^*$ es el costo del camino óptimo. Ya que la heurística es admisible, podemos garantizar que el algoritmo encontrará una solución óptima."
   ]
  },
  {
   "cell_type": "code",
   "execution_count": 2,
   "id": "104da930",
   "metadata": {},
   "outputs": [],
   "source": [
    "def h(state, goal,p=3):\n",
    "    \"\"\"Heurísitca euclideana\"\"\"\n",
    "    x1,y1 = state\n",
    "    x2,y2 = goal\n",
    "    #Obtiene distancia euclideana\n",
    "    dist = ((x2-x1)**p + (y2-y1)**p)**(1/p)\n",
    "    \n",
    "    return dist.real"
   ]
  },
  {
   "cell_type": "markdown",
   "id": "017e0714",
   "metadata": {},
   "source": [
    "## Creación del algoritmo $A^*$\n",
    "\n",
    "Para crear el algoritmo necesitamos utilizar una pila de prioridad que tome el nodo con menor costo y menor heurística. Definimos nuestra pila de prioridad de la misma forma que para el caso de primero mejor ambicioso."
   ]
  },
  {
   "cell_type": "code",
   "execution_count": 3,
   "id": "97864e37",
   "metadata": {},
   "outputs": [],
   "source": [
    "class PriorityQueue(object):\n",
    "    \"\"\"Clase de una cola de prioridad en los problemas de búsqueda.\"\"\"\n",
    "    def __init__(self,f=lambda x: 1):\n",
    "        self.queue = []\n",
    "        self.f = f\n",
    "  \n",
    "    def __str__(self):\n",
    "        return ' '.join([str(q) for q in self.queue])\n",
    "  \n",
    "    def isEmpty(self):\n",
    "        return self.queue == []\n",
    "  \n",
    "    def push(self, element):\n",
    "        \"\"\"Agrega elementos a la pila\"\"\"\n",
    "        self.queue.append(element)\n",
    "  \n",
    "    def pop(self):\n",
    "        \"\"\"Saca de la pila el elemento con mayor valor f.\"\"\"\n",
    "        #Encuentra el elemento máximo en base al costo\n",
    "        min_element = np.argmin([element.f for element in self.queue])\n",
    "        #Guarda el elemento máximo\n",
    "        item = self.queue[min_element]\n",
    "        #Borra este elemento de la cola\n",
    "        del self.queue[min_element]\n",
    "    \n",
    "        return item"
   ]
  },
  {
   "cell_type": "markdown",
   "id": "a35532b3",
   "metadata": {},
   "source": [
    "### Nodo y expansión\n",
    "\n",
    "Los nodos tendrán la misma estructura que hemos venido utilizando, guardando el costo y la función de prioridad $f$. Pero en el algoritmo de $A^*$ está función tomará en cuenta tanto el costo como la heurística. Podemos ver que entonces la función $f$ estará dada como:\n",
    "\n",
    "$$f(n) = g(n) + h(n)$$\n",
    "\n",
    "Donde $g(n)$ es el costo del camino desde el nodo inicial hasta el nodo actual. Entonces, al crear el nuevo nodo tomaremos en cuenta esta forma de obtener los valores de $f$."
   ]
  },
  {
   "cell_type": "code",
   "execution_count": 4,
   "id": "b5d828f1",
   "metadata": {},
   "outputs": [],
   "source": [
    "class Node(object):\n",
    "    \"\"\"Clase para crear nodos con sus atributos.\"\"\"\n",
    "    def __init__(self):\n",
    "        self.state = (0,0)\n",
    "        self.parent = None \n",
    "        self.action = None\n",
    "        self.cost = 0\n",
    "        self.f = 0\n",
    "        \n",
    "    def __str__(self):\n",
    "        if self.parent == None:\n",
    "            return \"State: {}\".format(self.state)\n",
    "        else:\n",
    "            return \"State: {}, Action: {}, Parent: {}\".format(self.state,self.action,self.parent.state)   \n",
    "            \n",
    "def expand(problem, node):\n",
    "    \"\"\"Función para expandir los nodos dado el problema\"\"\"\n",
    "    s = node.state \n",
    "    for action in problem.actions(s):\n",
    "        #Aplica la función de resultado\n",
    "        new_s = problem.result(s, action)\n",
    "        #Crea el nuevo nodo\n",
    "        new_node,new_node.state,new_node.parent,new_node.action = Node(),new_s,node,action\n",
    "        #Agrega el costo\n",
    "        new_node.cost = node.cost + problem.cost(s,action,new_s)\n",
    "        #Agrega sólo la heurística al nodo\n",
    "        new_node.f = new_node.cost + h(new_s, problem.goal)\n",
    "        \n",
    "        yield new_node"
   ]
  },
  {
   "cell_type": "markdown",
   "id": "fdc8b1cc",
   "metadata": {},
   "source": [
    "## Algoritmo $A^*$\n",
    "\n",
    "El algoritmo de $A^*$ es similar a primero mejor ambicioso y el algoritmo de dijkstra, extendiendo estos al incorporar tanto la función de costo como al función heurística. Al igual que el algoritmo de primero mejor ambicioso utiliza un Late-Goal Test para revisar si el nodo es final."
   ]
  },
  {
   "cell_type": "code",
   "execution_count": 5,
   "id": "f895a2d6",
   "metadata": {},
   "outputs": [],
   "source": [
    "def AStar(problem):\n",
    "    \"\"\"Algoritmo A* para generar el camino más apto\"\"\"\n",
    "    #Almacenamiento de nodos\n",
    "    nodes = []\n",
    "    #Nodo inicial\n",
    "    node = Node()\n",
    "    node.state = problem.initial\n",
    "    #Frontera con cola de prioridad\n",
    "    frontier = PriorityQueue()\n",
    "    frontier.push(node)\n",
    "    #Nodos alcanzados\n",
    "    reached = {problem.initial:node}\n",
    "\n",
    "    #Mientras la frontera no esté vacía\n",
    "    while frontier.isEmpty() == False:\n",
    "        #Pop en frontera\n",
    "        node = frontier.pop()\n",
    "        #Guarda el nodo en la lista\n",
    "        nodes.append(node)\n",
    "        #Actualiza el estado del problema\n",
    "        problem.state = node.state\n",
    "\n",
    "        #Si llega a un estado final se detiene \n",
    "        #y regresa el camino de nodos\n",
    "        if problem.state == problem.goal:\n",
    "            return nodes\n",
    "\n",
    "        #Expande el nodo actual\n",
    "        expantion = expand(problem, node)\n",
    "        for child in expantion:\n",
    "            #Guarda estado de los hijos\n",
    "            state = child.state\n",
    "            #Guarda los hijos no alcanzados o que tengan menor costo\n",
    "            if state not in reached.keys() or child.f < reached[state].f:\n",
    "                reached[state] = child\n",
    "                frontier.push(child)\n",
    "\n",
    "    #Si no logra llegar a un nodo final\n",
    "    #El algoritmo regresa mensaje de error\n",
    "    return \"No se ha logrado llegar a un estado final.\""
   ]
  },
  {
   "cell_type": "markdown",
   "id": "f2573879",
   "metadata": {},
   "source": [
    "### Aplicación del algoritmo\n",
    "\n",
    "Ahora podemos aplicar el algoritmo de $A^*$ al problema del laberinto con tráfico tal como lo hemos definido."
   ]
  },
  {
   "cell_type": "code",
   "execution_count": 6,
   "id": "73992506",
   "metadata": {},
   "outputs": [],
   "source": [
    "tree = AStar(ent)"
   ]
  },
  {
   "cell_type": "markdown",
   "id": "58f210c5",
   "metadata": {},
   "source": [
    "Finalmente, vemos la solución propuesta por el algoritmo:"
   ]
  },
  {
   "cell_type": "code",
   "execution_count": 7,
   "id": "94b1dc20",
   "metadata": {},
   "outputs": [
    {
     "data": {
      "image/png": "[encoded data removed]",
      "text/plain": [
       "<Figure size 432x288 with 1 Axes>"
      ]
     },
     "metadata": {
      "needs_background": "light"
     },
     "output_type": "display_data"
    },
    {
     "name": "stdout",
     "output_type": "stream",
     "text": [
      "Solución\n"
     ]
    },
    {
     "data": {
      "image/png": "[encoded data removed]",
      "text/plain": [
       "<Figure size 432x288 with 1 Axes>"
      ]
     },
     "metadata": {
      "needs_background": "light"
     },
     "output_type": "display_data"
    },
    {
     "name": "stdout",
     "output_type": "stream",
     "text": [
      "Costo total: 45\n"
     ]
    }
   ],
   "source": [
    "def get_path(search_tree, root):\n",
    "    \"\"\"Recupera la solución.\"\"\"\n",
    "    leaf = search_tree[::-1][0]\n",
    "    parent = leaf.parent\n",
    "    path = [leaf, parent]\n",
    "    while parent.state != root:\n",
    "        parent = parent.parent\n",
    "        path.append(parent)\n",
    "        \n",
    "    return path[::-1]\n",
    "\n",
    "ent.draw()\n",
    "#Visualiza la solución\n",
    "prev_s = ent.initial\n",
    "for n in get_path(tree, ent.initial):\n",
    "    ent.move(prev_s, n.state)\n",
    "    prev_s = n.state\n",
    "\n",
    "print('Solución')\n",
    "ent.draw()\n",
    "print('Costo total: {}'.format(tree[-1].cost))"
   ]
  },
  {
   "cell_type": "markdown",
   "id": "09aae88d",
   "metadata": {},
   "source": [
    "Podemos observar que la solución es disinta a la que se obtuvo con el algoritmo de primero mejor ambicioso; de hecho, la solución es un camino que en principio parece más largo, pero que evita precisamente las regiones de tráficos, minimizando así el costo total del camino."
   ]
  }
 ],
 "metadata": {
  "kernelspec": {
   "display_name": "Python 3",
   "language": "python",
   "name": "python3"
  },
  "language_info": {
   "codemirror_mode": {
    "name": "ipython",
    "version": 3
   },
   "file_extension": ".py",
   "mimetype": "text/x-python",
   "name": "python",
   "nbconvert_exporter": "python",
   "pygments_lexer": "ipython3",
   "version": "3.8.8"
  }
 },
 "nbformat": 4,
 "nbformat_minor": 5
}
