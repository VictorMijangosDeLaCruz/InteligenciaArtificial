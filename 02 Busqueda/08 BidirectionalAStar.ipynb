{
 "cells": [
  {
   "cell_type": "markdown",
   "id": "16b0d4f9",
   "metadata": {},
   "source": [
    "# Búsqueda bidireccional\n",
    "\n",
    "El algoritmo de búsqueda bidireccional busca reducri la complejidad de la búsqueda al realizar dos búsquedas de manera simultánea: 1) una búsqueda desde el estado inicial hasta el estado final; y 2) una búsqueda desde el estado final hasta el inicial. El algoritmo determinará en qué puntos ambas búsquedas coinciden y de esta forma, uniendo ambos caminos, dará una solución final.\n",
    "\n",
    "Aquí implementamos una búsqueda bidireccional en base a $A^*$ para solucionar el problema del laberinto.\n",
    "\n",
    "### Creación del problema\n",
    "\n",
    "Una de las desventajas de la búsqueda bidireccional es que requiere definir dos problemas de búsqueda: uno para el avance y otro para el retroceso. El problema de avance es el problema original, donde buscamos llegar de un estado inicial a uno final. El problema de retroceso corresponde a la versión invertida de este problema, aquí se parte de lo que originalemente era el estado final y se busca llegar al estado inicial original. \n",
    "\n",
    "En el caso del problema del laberinto, generar estos problemas es sencillo, pues sólo debemos cambiar los indicadores de incio y meta dentro del mapa. De esta forma, podemos ver que los problemas obtenidos son similares, pero con la meta y el inicial invertidos."
   ]
  },
  {
   "cell_type": "code",
   "execution_count": 1,
   "id": "25c5da9b",
   "metadata": {},
   "outputs": [
    {
     "name": "stdout",
     "output_type": "stream",
     "text": [
      "Problema de avance\n"
     ]
    },
    {
     "data": {
      "image/png": "[encoded data removed]",
      "text/plain": [
       "<Figure size 432x288 with 1 Axes>"
      ]
     },
     "metadata": {
      "needs_background": "light"
     },
     "output_type": "display_data"
    },
    {
     "name": "stdout",
     "output_type": "stream",
     "text": [
      "Estado inicial: (2, 1)\n",
      "Estado final: (27, 6)\n",
      "\n",
      "Problema de retroceso\n"
     ]
    },
    {
     "data": {
      "image/png": "[encoded data removed]",
      "text/plain": [
       "<Figure size 432x288 with 1 Axes>"
      ]
     },
     "metadata": {
      "needs_background": "light"
     },
     "output_type": "display_data"
    },
    {
     "name": "stdout",
     "output_type": "stream",
     "text": [
      "Estado inicial: (27, 6)\n",
      "Estado final: (2, 1)\n"
     ]
    }
   ],
   "source": [
    "import numpy as np\n",
    "from maze_simulator import TrafficMaze\n",
    "\n",
    "forward_map = \"\"\"\n",
    "##############################\n",
    "# o------...#                #\n",
    "# ####------########         #\n",
    "#    #------#           #    #\n",
    "#. . ###-      #####-####....#\n",
    "# -    #-    ###   #-....    #\n",
    "#  #    .      #   #-------x-#\n",
    "##############################\n",
    "\"\"\"\n",
    "backward_map = \"\"\"\n",
    "##############################\n",
    "# x------...#                #\n",
    "# ####------########         #\n",
    "#    #------#           #    #\n",
    "#. . ###-      #####-####....#\n",
    "# -    #-    ###   #-....    #\n",
    "#  #    .      #   #-------o-#\n",
    "##############################\n",
    "\"\"\"\n",
    "\n",
    "forward = TrafficMaze(forward_map)\n",
    "print('Problema de avance')\n",
    "forward.draw()\n",
    "print('Estado inicial: {}\\nEstado final: {}'.format(forward.initial, forward.goal))\n",
    "\n",
    "backward = TrafficMaze(backward_map)\n",
    "print('\\nProblema de retroceso')\n",
    "backward.draw()\n",
    "print('Estado inicial: {}\\nEstado final: {}'.format(backward.initial, backward.goal))"
   ]
  },
  {
   "cell_type": "markdown",
   "id": "15a95328",
   "metadata": {},
   "source": [
    "## Heurística\n",
    "\n",
    "Cuando tenemos un algoritmo de búsqueda bidireccional que ocupa una función heurístca más una función de costo, podemos ver que tenemos dos funciones de prioridad, $f_F$ y $f_B$ para el problema de avance y de retroceso, respectivamente. En el caso del avance la función está dada por:\n",
    "\n",
    "$$f_F(n) = g_F(n) + h_F(n)$$\n",
    "\n",
    "Mientras que para el retroceso tenemos algos similar:\n",
    "\n",
    "$$f_F(n) = g_F(n) + h_F(n)$$\n",
    "\n",
    "Tanto las funciones de costo como las heurísticas no tienen, en principio, que ser iguales. Por ejemplo, una heurística basada en distancias no será la misma en ambas direcciones, pues la distancia a la meta cambia en tanto cambia la meta.\n",
    "\n",
    "En este caso, utilizaremos la heurística de distancia euclideana para ambos problemas. Sólo debe tomarse en cuenta que en cada caso, el punto meta con respecto al cual se toma la métrica varía."
   ]
  },
  {
   "cell_type": "code",
   "execution_count": 2,
   "id": "b6a5f4e3",
   "metadata": {},
   "outputs": [],
   "source": [
    "def h(state, goal,p=2):\n",
    "    \"\"\"Heurísitca euclideana\"\"\"\n",
    "    x1,y1 = state\n",
    "    x2,y2 = goal\n",
    "    #Obtiene distancia euclideana\n",
    "    dist = ((x2-x1)**p + (y2-y1)**p)**(1/p)\n",
    "    \n",
    "    return dist.real"
   ]
  },
  {
   "cell_type": "markdown",
   "id": "e9ab779a",
   "metadata": {},
   "source": [
    "## Construcción del algoritmo\n",
    "\n",
    "El algoritmo tomará en cuenta ambos problemas y realziará dos búsquedas de manera paralela hasta coincidir. En cada búsqueda se creará un árbol de búsqueda. Por tanto, necesitamos definir la pila de prioridad que se utilizará en cada búsqueda, así como los objetos nodos y una función de expansión."
   ]
  },
  {
   "cell_type": "code",
   "execution_count": 3,
   "id": "45eb4415",
   "metadata": {},
   "outputs": [],
   "source": [
    "class PriorityQueue(object):\n",
    "    \"\"\"Clase de una cola de prioridad en los problemas de búsqueda.\"\"\"\n",
    "    def __init__(self,f=lambda x: 1):\n",
    "        self.queue = []\n",
    "        self.f = f\n",
    "  \n",
    "    def __str__(self):\n",
    "        return ' '.join([str(q) for q in self.queue])\n",
    "  \n",
    "    def isEmpty(self):\n",
    "        return self.queue == []\n",
    "  \n",
    "    def push(self, element):\n",
    "        \"\"\"Agrega elementos a la pila\"\"\"\n",
    "        self.queue.append(element)\n",
    "  \n",
    "    def pop(self):\n",
    "        \"\"\"Saca de la pila el elemento con mayor valor f.\"\"\"\n",
    "        #Encuentra el elemento máximo en base al costo\n",
    "        min_element = np.argmin([element.f for element in self.queue])\n",
    "        #Guarda el elemento máximo\n",
    "        item = self.queue[min_element]\n",
    "        #Borra este elemento de la cola\n",
    "        del self.queue[min_element]\n",
    "    \n",
    "        return item\n",
    "    \n",
    "    def top(self):\n",
    "        \"Muestra útlitmo elemento po salir\"\n",
    "        min_element = np.argmin([element.f for element in self.queue])\n",
    "        return self.queue[min_element]"
   ]
  },
  {
   "cell_type": "markdown",
   "id": "7ea93a6f",
   "metadata": {},
   "source": [
    "### Nodos y expansión\n",
    "\n",
    "Los nodos serán de la misma forma en que los hemos estado definiendo. En la expansión falta hacer algunas aclaraciones.\n",
    "\n",
    "Podemos notar que si $m$ es nodo en el camino de avance y $n$ en el de retroceso (asumiendo que ambas heurísticas son admisibles), podemos observar que:\n",
    "\n",
    "$$\\max\\{g_F(m)+g_B(n), f_F(m), f_B(n)\\} = lb(m,n) < C^*$$\n",
    "\n",
    "Donde $C^*$ es el costo del camino óptimo y $lb(m,n)$ es por tanto una cota inferior. Ya que estamos usando problemas de avance y retroces que son  en su mayor parte similares, podemos pensar que estas funciones comparten ciertos valores similares.\n",
    "\n",
    "En particular, se debe notar que el costo por acción es el mismo en ambos problemas, pues el costo depende del tráfico y no de la dirección de este. Entonces, si tenemos un camino de avance, si este fuera el mismo camino de retroceso, el costo sería el mismo. Por tanto, $g_F(n) = g_B(n)$, con la única salvedad de que el nodo inicial es el que puede variar en ambos casos.\n",
    "\n",
    "De igual forma, podemos ver que la heurística es la similar, exceptuando que se calcula sobre una meta distinta. Pero esto no afectará en gran medida a nuestros cálculos. En general, observaremos que el primer término $g_F(m)+g_B(n) = 2g(n)$, pues asumimos su igualdad. Asimismo, asuminedo que las funciones heurísticas son similares, basta con poner una función de prioridad en el máximo, lo que nos dará la función de prioridad para la búsqueda heurística bidireccional:\n",
    "\n",
    "$$f(n) = \\max\\{2g(n), g(n) + h(n)\\}$$\n",
    "\n",
    "Y esta es la función que utilizaremos para crear los nodos, y como función dentro de la pila de prioridad."
   ]
  },
  {
   "cell_type": "code",
   "execution_count": 4,
   "id": "a70d54ca",
   "metadata": {},
   "outputs": [],
   "source": [
    "class Node(object):\n",
    "    \"\"\"Clase para crear nodos con sus atributos.\"\"\"\n",
    "    def __init__(self):\n",
    "        self.state = (0,0)\n",
    "        self.parent = None \n",
    "        self.action = None\n",
    "        self.cost = 0\n",
    "        self.f = 0\n",
    "        \n",
    "    def __str__(self):\n",
    "        return str(self.state)\n",
    "            \n",
    "def expand(problem, node):\n",
    "    \"\"\"Función para expandir los nodos dado el problema\"\"\"\n",
    "    s = node.state \n",
    "    for action in problem.actions(s):\n",
    "        #Aplica la función de resultado\n",
    "        new_s = problem.result(s, action)\n",
    "        #Crea el nuevo nodo\n",
    "        new_node,new_node.state,new_node.parent,new_node.action = Node(),new_s,node,action\n",
    "        #Agrega el costo\n",
    "        new_node.cost = node.cost + problem.cost(s,action,new_s)\n",
    "        #Agrega sólo la heurística al nodo\n",
    "        new_node.f = max( 2*new_node.cost, new_node.cost + h(new_s, problem.goal) )\n",
    "        \n",
    "        yield new_node"
   ]
  },
  {
   "cell_type": "markdown",
   "id": "e7f1ee72",
   "metadata": {},
   "source": [
    "### Creación de los árboles de búsqueda\n",
    "\n",
    "Como lo señalamos, el algoritmo de búsqueda heurística bidireccional tomará en cuenta dos procesos de búsqueda; por tanto conviene definir una función que se utilice en ambos procesos para no crear código de más. Esta función la llamamos <tt>proceed</tt> y realiza precisamente los pasos de la expansión de nodos y agreagación de estos a la frontera. Pero además revisará si en algún punto las búsquedas coinciden, pues si es así, podríamos unir ambas búsquedas en este punto para tener una solución final.\n",
    "\n",
    "Los pasos que la función <tt>procees</tt> realizará son los siguientes:\n",
    "\n",
    "1. Hará pop sobre la frontera tomando el nodo de mayor prioridad primero.\n",
    "2. Expandirá el nodo para obtener los hijos de éste.\n",
    "3. Por cada hijo guardará el estado que representa.\n",
    "4. Revisa si el nodo no ha sido alcanzado o bien si su costo es menor, de tal forma que lo agregue a la frontera.\n",
    "5. Revisará si el estado de este nodo ya ha sido alcanzado en la otra búsqueda, si es así:\n",
    "    1. Revisa si está en la búsqueda de avance, para crear una solución uniendo ambas búsquedas.\n",
    "    2. Revisa si está en la búsqueda de retroceso, para crear una solución uniendo ambas búsquedas.\n",
    "6. En cualquier caso, si la solución que obtiene es mejor que la solución anterior, obtará por esta última solución."
   ]
  },
  {
   "cell_type": "code",
   "execution_count": 5,
   "id": "07e07753",
   "metadata": {},
   "outputs": [],
   "source": [
    "def path_cost(solution):\n",
    "    \"\"\"Función para obtener costo de camino\"\"\"\n",
    "    if solution == 'failure':\n",
    "        return np.inf\n",
    "    else:\n",
    "        return sum([n.cost for n  in solution[0]])+sum([n.cost for n  in solution[1]])\n",
    "               \n",
    "def get_path(leaf, path=[]):\n",
    "    \"\"\"Función para recuperar el camino de un nodo\"\"\"\n",
    "    if leaf.parent == None:\n",
    "        return [leaf]+path\n",
    "    else:\n",
    "        return get_path(leaf.parent, path=[leaf]+path)\n",
    "\n",
    "def proceed(d, problem, frontier, reached, reached2, solution):\n",
    "    \"\"\"Función que genera árbol tanto en forward como en backward\"\"\"\n",
    "    node = frontier.pop()\n",
    "    #Expande los nodos\n",
    "    for child in expand(problem, node):\n",
    "        s = child.state\n",
    "        #Si no han sido alcanzado o su costo es menor\n",
    "        if s not in reached or child.f < reached[s].f:\n",
    "            #Se agregan\n",
    "            reached[s] = child\n",
    "            frontier.push(child)\n",
    "            \n",
    "            #Condiciones para revisar la coincidencia de caminos\n",
    "            if s in reached2:\n",
    "                #Si el nodo ya ha sido alcanzado en el otro problema\n",
    "                if d == 'F':\n",
    "                    #Genera la solución de avance\n",
    "                    path_f = get_path(child)\n",
    "                    path_b = get_path(reached2[s])                          \n",
    "                    solution2 = (path_f, path_b)\n",
    "                    \n",
    "                    #Actualiza la solución si su costo es menor\n",
    "                    if path_cost(solution2) < path_cost(solution):\n",
    "                        solution = solution2\n",
    "                else:\n",
    "                    #Genera la solución de retriceso\n",
    "                    path_b = get_path(child)\n",
    "                    path_f = get_path(reached2[s])\n",
    "                    solution2 = (path_f, path_b)\n",
    "                    \n",
    "                    #Actualiza la solución si su costo es menor\n",
    "                    if path_cost(solution2) < path_cost(solution):\n",
    "                        solution = solution2\n",
    "            \n",
    "    return solution"
   ]
  },
  {
   "cell_type": "markdown",
   "id": "795cc593",
   "metadata": {},
   "source": [
    "### Algoritmo\n",
    "\n",
    "Finalmente, el algoritmo de búsqueda heurística bidireccional tomará como entrada el problema de avance y el de retroceso. Para cada uno de estos problemas guardará el estado inicial, creará una frontera para cada uno y guardará los nodos alcanzados en cada problema.\n",
    "\n",
    "Posteriormente procederá a comparar las búsquedas, aplicando la función de <tt>proceed</tt>, que hemos referido arriba, a la frontera del problema que tenga menor valor. De esta forma, cuando encuentre una coincidencia entre ambos problemas regresará la solución, que aquí hemos dividido en dos partes, y en otro caso fallará."
   ]
  },
  {
   "cell_type": "code",
   "execution_count": 6,
   "id": "17632ec4",
   "metadata": {},
   "outputs": [],
   "source": [
    "def bidirectional(forward, backward):\n",
    "    \"\"\"Algoritmo bidireccional para generar el camino más apto\"\"\"\n",
    "    #Nodo inicial\n",
    "    node_f, node_b = Node(), Node()\n",
    "    node_f.state, node_b.state = forward.initial, backward.initial\n",
    "    #Frontera con cola de prioridad\n",
    "    frontier_f, frontier_b = PriorityQueue(), PriorityQueue()\n",
    "    frontier_f.push(node_f)\n",
    "    frontier_b.push(node_b)\n",
    "    #Nodos alcanzados\n",
    "    reached_f, reached_b = {forward.initial:node_f}, {backward.initial:node_b}\n",
    "    #Solución\n",
    "    solution = 'failure'\n",
    "    \n",
    "    #Mientras la frontera no esté vacía\n",
    "    while not frontier_f.isEmpty() and not frontier_b.isEmpty():\n",
    "        if frontier_f.top().f < frontier_b.top().f:\n",
    "            solution = proceed('F', forward, frontier_f, reached_f, reached_b, solution)\n",
    "        else:\n",
    "            solution =  proceed('B', backward, frontier_b, reached_b, reached_f, solution)\n",
    "\n",
    "    return solution"
   ]
  },
  {
   "cell_type": "markdown",
   "id": "a8471a1b",
   "metadata": {},
   "source": [
    "### Aplicación del algoritmo\n",
    "\n",
    "Ahora que hemos definido el algoritmo, y hemos definido tanto el problema de avance como el de retroceso, podemos aplicar el algoritmo bidireccional para obtener una solución. En nuestro caso, la solución constará de dos partes: la parte de avance y la de retroceso. La solución final será unir estas dos partes por el punto intermedio."
   ]
  },
  {
   "cell_type": "code",
   "execution_count": 7,
   "id": "f98ae6ba",
   "metadata": {
    "scrolled": true
   },
   "outputs": [],
   "source": [
    "tree_f, tree_b = bidirectional(forward, backward)"
   ]
  },
  {
   "cell_type": "markdown",
   "id": "aafb791c",
   "metadata": {},
   "source": [
    "Cuando visualizamos ambas soluciones podemos entender mejor lo que hace el algoritmo:"
   ]
  },
  {
   "cell_type": "code",
   "execution_count": 8,
   "id": "3c3ace47",
   "metadata": {},
   "outputs": [
    {
     "name": "stdout",
     "output_type": "stream",
     "text": [
      "Solución Forward\n"
     ]
    },
    {
     "data": {
      "image/png": "[encoded data removed]",
      "text/plain": [
       "<Figure size 432x288 with 1 Axes>"
      ]
     },
     "metadata": {
      "needs_background": "light"
     },
     "output_type": "display_data"
    },
    {
     "name": "stdout",
     "output_type": "stream",
     "text": [
      "Costo total: 21\n",
      "Solución Backward\n"
     ]
    },
    {
     "data": {
      "image/png": "[encoded data removed]",
      "text/plain": [
       "<Figure size 432x288 with 1 Axes>"
      ]
     },
     "metadata": {
      "needs_background": "light"
     },
     "output_type": "display_data"
    },
    {
     "name": "stdout",
     "output_type": "stream",
     "text": [
      "Costo total: 21\n"
     ]
    }
   ],
   "source": [
    "#Visualiza la solución\n",
    "prev_s = forward.initial\n",
    "for n in tree_f:\n",
    "    forward.move(prev_s, n.state)\n",
    "    prev_s = n.state\n",
    "\n",
    "print('Solución Forward')\n",
    "forward.draw()\n",
    "print('Costo total: {}'.format(tree_f[-1].cost))\n",
    "\n",
    "#Visualiza la solución\n",
    "prev_s = backward.initial\n",
    "for n in tree_b:#get_path(tree_b[1], backward.initial):\n",
    "    backward.move(prev_s, n.state)\n",
    "    prev_s = n.state\n",
    "\n",
    "print('Solución Backward')\n",
    "backward.draw()\n",
    "print('Costo total: {}'.format(tree_b[-1].cost))"
   ]
  },
  {
   "cell_type": "markdown",
   "id": "e870de20",
   "metadata": {},
   "source": [
    "Como podemos ver, una parte de la búsqueda final, responde al paso de avance, mientras que la otra a la de retroceso. Pero es claro que ambos caminos coinciden en un punto intermedio. Al unir los caminos por este punto intermedio obtendremos la solución al problema original."
   ]
  }
 ],
 "metadata": {
  "kernelspec": {
   "display_name": "Python 3",
   "language": "python",
   "name": "python3"
  },
  "language_info": {
   "codemirror_mode": {
    "name": "ipython",
    "version": 3
   },
   "file_extension": ".py",
   "mimetype": "text/x-python",
   "name": "python",
   "nbconvert_exporter": "python",
   "pygments_lexer": "ipython3",
   "version": "3.8.8"
  }
 },
 "nbformat": 4,
 "nbformat_minor": 5
}
