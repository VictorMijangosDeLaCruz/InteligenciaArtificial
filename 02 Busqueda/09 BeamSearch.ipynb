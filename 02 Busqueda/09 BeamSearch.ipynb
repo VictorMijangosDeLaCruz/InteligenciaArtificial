{
 "cells": [
  {
   "cell_type": "markdown",
   "id": "f24ac138",
   "metadata": {},
   "source": [
    "# Beam Search\n",
    "\n",
    "El algoritmo de beam search (o búsqueda por haz) es un algoritmo de búsqueda que limita las acciones, los hijos que puede tener un nodo en el árbol de búsqueda, a un valor constante $k$. De esta forma, en cada paso selecciona únicamente las $k$ mejores acciones a ejecutar de acuerdo a una función de prioridad, ignorando las otras.\n",
    "\n",
    "Definimos aquí el algoritmo aplicado al problema del laberinto.\n",
    "\n",
    "### Construcción del problema\n",
    "\n",
    "El problema es idéntico al que hemos usado para los algoritmos anteriores. Se parte de un punto inicial (marcado con 'o') y se busca llegar al punto final (marcado con 'x')."
   ]
  },
  {
   "cell_type": "code",
   "execution_count": 1,
   "id": "7ec1834e",
   "metadata": {},
   "outputs": [
    {
     "data": {
      "image/png": "[encoded data removed]",
      "text/plain": [
       "<Figure size 640x480 with 1 Axes>"
      ]
     },
     "metadata": {},
     "output_type": "display_data"
    }
   ],
   "source": [
    "import numpy as np\n",
    "from maze_simulator import TrafficMaze\n",
    "\n",
    "mapa = \"\"\"\n",
    "##############################\n",
    "# o------...#                #\n",
    "# ####------########         #\n",
    "#    #------#           #    #\n",
    "#. . ###-      #####-####....#\n",
    "# -    #-    ###   #-....    #\n",
    "#  #    .      #   #---------x\n",
    "##############################\n",
    "\"\"\"\n",
    "\n",
    "ent = TrafficMaze(mapa)\n",
    "ent.draw()"
   ]
  },
  {
   "cell_type": "markdown",
   "id": "bbfefc23",
   "metadata": {},
   "source": [
    "## Función heurística\n",
    "\n",
    "Usamos una función de probabilidad basada en métricas, lo que define una probabilidad radial. Los elementos más cercanos a la meta son los elementos más probables. \n",
    "\n",
    "$$p(x;y) = \\exp\\{-d(x,y)\\}$$\n",
    "\n",
    "$d$ es una métrica y $y$ será el nodo meta. Es decir, la probabilidad de un elemento se basará en su distancia al nodo meta. En este caso, usamos una métrica euclideana para tomar la distancia. Así, entre más cerca nos encontremos de la meta, el valor de la heurística será mayor."
   ]
  },
  {
   "cell_type": "code",
   "execution_count": 2,
   "id": "07045222",
   "metadata": {},
   "outputs": [],
   "source": [
    "def h(state, goal):\n",
    "    \"\"\"Heurística probabilística\"\"\"\n",
    "    x1,y1 = state\n",
    "    x2,y2 = goal\n",
    "    #Obtiene distancia euclideana\n",
    "    dist = np.sqrt((x2-x1)**2 + (y2-y1)**2)\n",
    "    #Obtiene probabilidad\n",
    "    probability = np.exp(-dist)\n",
    "    return probability"
   ]
  },
  {
   "cell_type": "markdown",
   "id": "48a16254",
   "metadata": {},
   "source": [
    "### Pila de prioridad\n",
    "\n",
    "La pila de prioridad que tomamos aquí es similar a las anteriores, pero en este caso la prioridad estará determinada por un valor de probabilidad definida como anteriormente; esto tiene diferentes consecuencias, la más simple es que en lugar de minimizar el valor, se busca maximizar, aunque es claro que ambos casos son equivalentes pues basta usar el signo negativo $-$ o bien usar el inverso de la probabilidad $\\frac{1}{p}$ para tener un argumento que se minimice.\n",
    "\n",
    "El punto esencial aquí es que en cada paso la pila sólo puede contener a lo más $k$ elementos. Para esto definimos un parámetro $k$ y modificamos la función de <tt>push</tt> que antes de introducir un nuevo elemento revisa si este tiene mayor prioridad que otros en la pila. En cada caso, se quedará con los $k$ elementos con mayor prioridad."
   ]
  },
  {
   "cell_type": "code",
   "execution_count": 3,
   "id": "d482d0d7",
   "metadata": {},
   "outputs": [],
   "source": [
    "class PriorityQueue(object):\n",
    "    \"\"\"Clase de una cola de prioridad en los problemas de búsqueda, limitando el tamaño de pila\"\"\"\n",
    "    def __init__(self,h=lambda x: 1,k=3):\n",
    "        self.queue = []\n",
    "        self.h = h\n",
    "        self.size = k\n",
    "  \n",
    "    def __str__(self):\n",
    "        return ' '.join([str(q) for q in self.queue])\n",
    "  \n",
    "    def isEmpty(self):\n",
    "        \"\"\"Revisa si la pila está vacía\"\"\"\n",
    "        return self.queue == []\n",
    "  \n",
    "    def push(self, element):\n",
    "        \"\"\"Introduce un elemento, pero sólo puede contener a lo más k elementos\"\"\"\n",
    "        if len(self.queue) >= self.size:\n",
    "            #Si se sobrepasa el limite de elementos\n",
    "            for item in self.queue:\n",
    "                #Revisa cual es el de menor prioridad\n",
    "                if item.f < element.f:\n",
    "                    #y toma el de mayor prioridad\n",
    "                    self.queue.remove(item)\n",
    "                    self.queue.append(element)\n",
    "        else:\n",
    "            self.queue.append(element)\n",
    "  \n",
    "    def pop(self):\n",
    "        \"\"\"Saca el elemento con mayor prioridad\"\"\"\n",
    "        argmax = np.argmax([element.f for element in self.queue])\n",
    "        item = self.queue[argmax]\n",
    "        del self.queue[argmax]\n",
    "    \n",
    "        return item\n",
    "    \n",
    "    def top(self):\n",
    "        \"\"\"Muestra el elemento en el tope de la pila\"\"\"\n",
    "        argmax = np.argmax([element.f for element in self.queue])\n",
    "        item = self.queue[argmax]\n",
    "        \n",
    "        return item"
   ]
  },
  {
   "cell_type": "markdown",
   "id": "2b4cf76b",
   "metadata": {},
   "source": [
    "#### Nodos y expansión de nodos\n",
    "\n",
    "Los nodos tendrán los mismos elementos con los que hemos construido otros algoritmos. La diferencia aquí radicará en su expansión. Puesto que estamos considerando una probabilidad como función $f$, en lugar de sumar los valores de $f$, asumimos independencia y multiplicamos los productos, esto es, buscamos:\n",
    "\n",
    "$$\\arg\\max f(n_t) = \\arg\\max \\prod_{i=0}^t p(n_i; n_{goal})$$\n",
    "\n",
    "Pero es claro que esto es equivalente a:\n",
    "\n",
    "$$\\arg\\min f'(n_t) = \\arg\\min \\sum_{i=0}^t -\\log\\big( p(n_i; n_{goal}) \\big)$$\n",
    "\n",
    "Donde la función de prioridad respondería a $-\\log\\big( p(n_i; n_{goal}) \\big)$, en lugar de sólo a la probabilidad. De esta forma, tendríamos mayor similitud con los anteriores algoritmos."
   ]
  },
  {
   "cell_type": "code",
   "execution_count": 4,
   "id": "b0378a53",
   "metadata": {},
   "outputs": [],
   "source": [
    "class Node(object):\n",
    "    \"\"\"Clase para crear nodos con sus atributos.\"\"\"\n",
    "    def __init__(self):\n",
    "        self.state = None\n",
    "        self.parent = None \n",
    "        self.action = None\n",
    "        self.cost = 0\n",
    "        self.f = 1\n",
    "        \n",
    "    def __str__(self):\n",
    "        return str(self.state)\n",
    "    \n",
    "def expand(problem, node):\n",
    "    \"\"\"Expansión de nodos\"\"\"\n",
    "    s = node.state\n",
    "    for action in problem.actions(s):\n",
    "        new_s = problem.result(s, action)\n",
    "        new_node = Node()\n",
    "        new_node.state,new_node.parent,new_node.action,new_node.cost = new_s,node,action,node.cost+problem.cost(s,action,new_s)\n",
    "        #Prioridad del nodo\n",
    "        new_node.f = node.f*h(new_s, problem.goal)\n",
    "\n",
    "        yield new_node"
   ]
  },
  {
   "cell_type": "markdown",
   "id": "04cc1791",
   "metadata": {},
   "source": [
    "## Algoritmo Beam Search\n",
    "\n",
    "La implementación del algoritmo Beam Search se puede resumir en los siguientes pasos:\n",
    "\n",
    "1. Seleccionar los $k$ nodos de menor costo dado el inicial, y guardar sólo esos nodos.\n",
    "2. En cada nueva iteración se expande sólo los $k$ nodos obtenidos en la iteración anterior. Los otros nodos se olvidan.\n",
    "3. Se conservan sólo los $k$ nodos con menor costo en cada iteración.\n",
    "4. Se repite hasta alcanzar un estado meta."
   ]
  },
  {
   "cell_type": "code",
   "execution_count": 5,
   "id": "641f6e79",
   "metadata": {},
   "outputs": [],
   "source": [
    "def BeamSearch(problem, max_size=3):\n",
    "    \"\"\"Algoritmo de búsqueda por haz (Beam Search)\"\"\"\n",
    "    #Almacenamiento de nodos\n",
    "    nodes = []\n",
    "    #Nodo inicial\n",
    "    node = Node()\n",
    "    node.state = problem.initial\n",
    "    #Frontera con cola de prioridad con límite\n",
    "    frontier = PriorityQueue(k=max_size)\n",
    "    frontier.push(node)\n",
    "    #Nodos alcanzados\n",
    "    reached = {problem.initial:node}\n",
    "\n",
    "    #Mientras la frontera no esté vacía\n",
    "    while frontier.isEmpty() == False:\n",
    "        print('Tamaño de frontera: {}'.format(len(frontier.queue))) #Imprime tamaño de frontera\n",
    "        #Pop en frontera\n",
    "        node = frontier.pop()\n",
    "        #Guarda el nodo en la lista\n",
    "        nodes.append(node)\n",
    "        #Actualiza el estado del problema\n",
    "        problem.state = node.state\n",
    "\n",
    "        #Si llega a un estado final se detiene \n",
    "        #y regresa el camino de nodos\n",
    "        if problem.state == problem.goal:\n",
    "            return nodes\n",
    "\n",
    "        #Expande el nodo actual\n",
    "        expansion = expand(problem, node)\n",
    "        for child in expansion:\n",
    "            #print(child.f)\n",
    "            #Guarda estado de los hijos\n",
    "            state = child.state\n",
    "            #Guarda los hijos no alcanzados o que tengan menor costo\n",
    "            if state not in reached.keys() or child.f < reached[state].f:\n",
    "                reached[state] = child\n",
    "                frontier.push(child)\n",
    "\n",
    "    #Si no logra llegar a un nodo final\n",
    "    #El algoritmo regresa mensaje de error\n",
    "    return \"No se ha logrado llegar a un estado final.\""
   ]
  },
  {
   "cell_type": "markdown",
   "id": "979aad6a",
   "metadata": {},
   "source": [
    "#### Aplicación del algoritmo\n",
    "\n",
    "Finalmente podemos aplicar el algoritmo al problema del laberinto que hemos definido y observar los resultados obtenidos en este. También podremos ver que el tamaño de la frontera siempre será de máximo 3 elementos, los 3 elementos que cuenten con mayor prioridad."
   ]
  },
  {
   "cell_type": "code",
   "execution_count": 6,
   "id": "cc51bd47",
   "metadata": {},
   "outputs": [
    {
     "name": "stdout",
     "output_type": "stream",
     "text": [
      "Tamaño de frontera: 1\n",
      "Tamaño de frontera: 2\n",
      "Tamaño de frontera: 3\n",
      "Tamaño de frontera: 3\n",
      "Tamaño de frontera: 3\n",
      "Tamaño de frontera: 3\n",
      "Tamaño de frontera: 3\n",
      "Tamaño de frontera: 3\n",
      "Tamaño de frontera: 3\n",
      "Tamaño de frontera: 3\n",
      "Tamaño de frontera: 3\n",
      "Tamaño de frontera: 3\n",
      "Tamaño de frontera: 3\n",
      "Tamaño de frontera: 3\n",
      "Tamaño de frontera: 3\n",
      "Tamaño de frontera: 3\n",
      "Tamaño de frontera: 3\n",
      "Tamaño de frontera: 3\n",
      "Tamaño de frontera: 3\n",
      "Tamaño de frontera: 3\n",
      "Tamaño de frontera: 3\n",
      "Tamaño de frontera: 3\n",
      "Tamaño de frontera: 3\n",
      "Tamaño de frontera: 3\n",
      "Tamaño de frontera: 3\n",
      "Tamaño de frontera: 3\n",
      "Tamaño de frontera: 3\n",
      "Tamaño de frontera: 3\n",
      "Tamaño de frontera: 3\n",
      "Tamaño de frontera: 3\n",
      "Tamaño de frontera: 3\n",
      "Tamaño de frontera: 3\n",
      "Tamaño de frontera: 3\n",
      "Tamaño de frontera: 3\n",
      "Tamaño de frontera: 3\n",
      "Tamaño de frontera: 3\n",
      "Tamaño de frontera: 3\n",
      "Tamaño de frontera: 3\n",
      "Tamaño de frontera: 3\n",
      "Tamaño de frontera: 3\n",
      "Tamaño de frontera: 3\n",
      "Tamaño de frontera: 3\n",
      "Tamaño de frontera: 3\n",
      "Tamaño de frontera: 3\n",
      "Tamaño de frontera: 3\n",
      "Tamaño de frontera: 3\n",
      "Tamaño de frontera: 3\n",
      "Tamaño de frontera: 3\n",
      "Tamaño de frontera: 3\n",
      "Tamaño de frontera: 3\n",
      "Tamaño de frontera: 3\n",
      "Tamaño de frontera: 3\n",
      "Tamaño de frontera: 3\n",
      "Tamaño de frontera: 3\n",
      "Tamaño de frontera: 3\n",
      "Tamaño de frontera: 3\n",
      "Tamaño de frontera: 3\n",
      "Tamaño de frontera: 3\n",
      "Tamaño de frontera: 3\n",
      "Tamaño de frontera: 3\n",
      "Tamaño de frontera: 3\n",
      "Tamaño de frontera: 3\n",
      "Tamaño de frontera: 3\n",
      "Tamaño de frontera: 3\n",
      "Tamaño de frontera: 3\n",
      "Tamaño de frontera: 3\n",
      "Tamaño de frontera: 3\n",
      "Tamaño de frontera: 3\n",
      "Tamaño de frontera: 3\n",
      "Tamaño de frontera: 3\n",
      "Tamaño de frontera: 3\n",
      "Tamaño de frontera: 3\n",
      "Tamaño de frontera: 3\n",
      "Tamaño de frontera: 3\n",
      "Tamaño de frontera: 3\n",
      "Tamaño de frontera: 3\n",
      "Tamaño de frontera: 3\n",
      "Tamaño de frontera: 3\n",
      "Tamaño de frontera: 3\n",
      "Tamaño de frontera: 3\n",
      "Tamaño de frontera: 3\n",
      "Tamaño de frontera: 3\n",
      "Tamaño de frontera: 3\n",
      "Tamaño de frontera: 3\n",
      "Tamaño de frontera: 3\n",
      "Tamaño de frontera: 3\n",
      "Tamaño de frontera: 3\n",
      "Tamaño de frontera: 3\n",
      "Tamaño de frontera: 3\n",
      "Tamaño de frontera: 3\n",
      "Tamaño de frontera: 3\n",
      "Tamaño de frontera: 3\n",
      "Tamaño de frontera: 3\n",
      "Tamaño de frontera: 3\n",
      "Tamaño de frontera: 3\n",
      "Tamaño de frontera: 2\n"
     ]
    }
   ],
   "source": [
    "tree = BeamSearch(ent)"
   ]
  },
  {
   "cell_type": "code",
   "execution_count": 7,
   "id": "1c2a5aa8",
   "metadata": {},
   "outputs": [
    {
     "data": {
      "image/png": "[encoded data removed]",
      "text/plain": [
       "<Figure size 640x480 with 1 Axes>"
      ]
     },
     "metadata": {},
     "output_type": "display_data"
    },
    {
     "name": "stdout",
     "output_type": "stream",
     "text": [
      "Solución\n"
     ]
    },
    {
     "data": {
      "image/png": "[encoded data removed]",
      "text/plain": [
       "<Figure size 640x480 with 1 Axes>"
      ]
     },
     "metadata": {},
     "output_type": "display_data"
    },
    {
     "name": "stdout",
     "output_type": "stream",
     "text": [
      "Costo total: 58\n"
     ]
    }
   ],
   "source": [
    "def get_path(search_tree, root):\n",
    "    \"\"\"Recupera la solución.\"\"\"\n",
    "    leaf = search_tree[::-1][0]\n",
    "    parent = leaf.parent\n",
    "    path = [leaf, parent]\n",
    "    while parent.state != root:\n",
    "        parent = parent.parent\n",
    "        path.append(parent)\n",
    "        \n",
    "    return path[::-1]\n",
    "\n",
    "ent.draw()\n",
    "#Visualiza la solución\n",
    "prev_s = ent.initial\n",
    "for n in get_path(tree, ent.initial):\n",
    "    ent.move(prev_s, n.state)\n",
    "    prev_s = n.state\n",
    "\n",
    "print('Solución')\n",
    "ent.draw()\n",
    "print('Costo total: {}'.format(tree[-1].cost))"
   ]
  },
  {
   "cell_type": "markdown",
   "id": "295fea0c",
   "metadata": {},
   "source": [
    "   "
   ]
  }
 ],
 "metadata": {
  "kernelspec": {
   "display_name": "Python 3 (ipykernel)",
   "language": "python",
   "name": "python3"
  },
  "language_info": {
   "codemirror_mode": {
    "name": "ipython",
    "version": 3
   },
   "file_extension": ".py",
   "mimetype": "text/x-python",
   "name": "python",
   "nbconvert_exporter": "python",
   "pygments_lexer": "ipython3",
   "version": "3.8.10"
  }
 },
 "nbformat": 4,
 "nbformat_minor": 5
}
