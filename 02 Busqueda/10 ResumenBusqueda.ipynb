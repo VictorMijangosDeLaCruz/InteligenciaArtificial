{
 "cells": [
  {
   "cell_type": "markdown",
   "id": "1b332808",
   "metadata": {},
   "source": [
    "# Comparación de algoritmos de búsqueda\n",
    "\n",
    "Los diferentes algoritmos de búsqueda tienen una fundamentación básica que consiste en la construcción de árboles de búsqueda para encontrar soluciones a partir de un estado inicial. Dependiendo de las diferentes estrategias que se utilicen para explorar el árbol de búsqueda, hablamos de diferentes algoritmos. \n",
    "\n",
    "Cada algoritmo tiene sus complejidades y, en general, pueden usarse para diferentes tareas. En particular los algoritmos desinformados serán usados cuando no contamos con información, ni ninguna heurística que nos dirija. En otro caso, preferiremos algoritmos informados, pues estos tenderán a ser óptimos. \n",
    "\n",
    "Recordemos que tomaremos en consideración la siguiente:\n",
    "\n",
    "* Completo: es decir, si el algoritmo se garantiza que siempre encontrará una solución y por tanto ha de terminar.\n",
    "* Óptimo: que el algoritmo encuentre la solución óptima siempre que encuentre la solución.\n",
    "* Complejidad: el número de nodos expandidos durante el proceso de búsqueda.\n",
    "\n",
    "### Creación del problema\n",
    "\n",
    "Para poder comparar de manera más efectiva los algoritmos, definiremos un problema en el que conocemos la heurística óptima; se trata del mundo del laberinto, pero sin ningún obstáculo, por lo que sólo buscaremos llegar del punto A al punto B. En este caso, ya que estamos en un mundo discreto, cuadriculado, donde el agente no puede hacer movimientos en diagonal, la heurística óptima es la distancia Manhattan."
   ]
  },
  {
   "cell_type": "code",
   "execution_count": 1,
   "id": "d958e946",
   "metadata": {},
   "outputs": [
    {
     "data": {
      "image/png": "[encoded data removed]",
      "text/plain": [
       "<Figure size 640x480 with 1 Axes>"
      ]
     },
     "metadata": {},
     "output_type": "display_data"
    }
   ],
   "source": [
    "import numpy as np\n",
    "from maze_simulator import TrafficMaze\n",
    "import matplotlib.pyplot as plt\n",
    "import imageio\n",
    "\n",
    "mapa = \"\"\"\n",
    "####################\n",
    "#o                 #\n",
    "#                  #\n",
    "#                  #\n",
    "#                  #\n",
    "#                  #\n",
    "#                  #\n",
    "#                  #\n",
    "#                  #\n",
    "#                  #\n",
    "#                  #\n",
    "#                  #\n",
    "#                  #\n",
    "#                  #\n",
    "#                  #\n",
    "#                  #\n",
    "#                  #\n",
    "#                  #\n",
    "#                 x#\n",
    "####################\n",
    "\"\"\"\n",
    "\n",
    "ent = TrafficMaze(mapa)\n",
    "ent.draw()"
   ]
  },
  {
   "cell_type": "markdown",
   "id": "a4e0c597",
   "metadata": {},
   "source": [
    "### Heurística\n",
    "\n",
    "Definimos entonces una heurística en base a la distancia, en donde podamos variar los valores (euclideana, Manhattan) a partir del parámetro $p$:\n",
    "\n",
    "$$h(n) = \\Big(|x_n - x_{goal}|^p+|y_n-y_{goal}|^p \\Big)^{1/p}$$\n",
    "\n",
    "Si $p=1$ tenemos la distancia Manhattan, y si $p=2$ tenemos la euclideana."
   ]
  },
  {
   "cell_type": "code",
   "execution_count": 2,
   "id": "26279779",
   "metadata": {},
   "outputs": [],
   "source": [
    "def heuristic(state, goal, p=2):\n",
    "    \"\"\"Función de heurística de distancia Minkowsky\"\"\"\n",
    "    x,y = state\n",
    "    x_goal, y_goal = goal\n",
    "    distance = (abs(x - x_goal)**p + abs(y - y_goal)**p)**(1/p)\n",
    "    \n",
    "    return distance"
   ]
  },
  {
   "cell_type": "markdown",
   "id": "411761e5",
   "metadata": {},
   "source": [
    "### Funciones auxiliares\n",
    "\n",
    "Definimos también clases para la pila de prioridad, para definir los nodos del árbol de búsqueda y finalmente definimos la función de expansión de cada nodo.\n",
    "\n",
    "En la pila de prioridad consideramos la posibilidad de usar Beam Search, así si se le indica un número $k > 0$, se usará Beam Search con $k$ nodos. En otro caso, no se limitará la búsqueda.\n",
    "\n",
    "De igual forma, en la expansión consideramos el método para determinar la función de prioridad. Así podremos variar entre los distintos métodos vistos."
   ]
  },
  {
   "cell_type": "code",
   "execution_count": 3,
   "id": "7b566f25",
   "metadata": {},
   "outputs": [],
   "source": [
    "class PriorityQueue(object):\n",
    "    \"\"\"Clase de una cola de prioridad en los problemas de búsqueda\"\"\"\n",
    "    def __init__(self, k=None):\n",
    "        self.queue = []\n",
    "        self.size = k\n",
    "  \n",
    "    def __str__(self):\n",
    "        return ' '.join([str(q) for q in self.queue])\n",
    "  \n",
    "    def isEmpty(self):\n",
    "        return self.queue == []\n",
    "  \n",
    "    def push(self, element):\n",
    "        if self.size == None:\n",
    "            self.queue.append(element)\n",
    "        else:\n",
    "            if len(self.queue) >= self.size:\n",
    "                for item in self.queue:\n",
    "                    if item.f > element.f:\n",
    "                        self.queue.remove(item)\n",
    "                        self.queue.append(element)\n",
    "                    else:\n",
    "                        pass\n",
    "            else:\n",
    "                self.queue.append(element)        \n",
    "  \n",
    "    def pop(self):\n",
    "        min_element = np.argmin([element.f for element in self.queue])\n",
    "        item = self.queue[min_element]\n",
    "        del self.queue[min_element]\n",
    "    \n",
    "        return item\n",
    "    \n",
    "    def top(self):\n",
    "        min_element = np.argmin([element.f for element in self.queue])\n",
    "        item = self.queue[min_element]\n",
    "        \n",
    "        return item\n",
    "    \n",
    "class Node(object):\n",
    "    \"\"\"Clase para crear nodos con sus atributos\"\"\"\n",
    "    def __init__(self):\n",
    "        self.state = None\n",
    "        self.parent = None \n",
    "        self.action = None\n",
    "        self.path_cost = 0\n",
    "        self.depth = 0\n",
    "        self.f = 0\n",
    "        \n",
    "    def __str__(self):\n",
    "        return str(self.state)\n",
    "    \n",
    "def expand(problem, node, method='Astar',p=1):\n",
    "    \"\"\"Función para expandir los nodos dado el problema\"\"\"\n",
    "    s = node.state\n",
    "    for action in problem.actions(s):\n",
    "        new_s = problem.result(s, action)\n",
    "        \n",
    "        new_node,new_node.state,new_node.parent,new_node.action = Node(),new_s,node,action\n",
    "        new_node.depth = node.depth + 1\n",
    "        new_node.path_cost = heuristic(new_s,problem.initial,p=2)\n",
    "        if method == 'Astar':\n",
    "            new_node.f = new_node.path_cost + heuristic(new_s,problem.goal,p=p)\n",
    "        elif method == 'Dijkstra':\n",
    "            new_node.f = new_node.path_cost\n",
    "        elif method == 'Breadth':\n",
    "            new_node.f = new_node.depth\n",
    "        elif method == 'Depth':\n",
    "            new_node.f = -new_node.depth\n",
    "        else:\n",
    "            print(\"No es algoritmo válido\")\n",
    "            \n",
    "        yield new_node"
   ]
  },
  {
   "cell_type": "markdown",
   "id": "34c72057",
   "metadata": {},
   "source": [
    "Finalmente, definimos una serie de funciones auxiliares que nos permitirán visualizar los resultados que hemos obtenido. En particular, nos permitirán visualizar la forma en que cada algoritmo realiza la búsqueda de las soluciones."
   ]
  },
  {
   "cell_type": "code",
   "execution_count": 4,
   "id": "c9056db2",
   "metadata": {},
   "outputs": [],
   "source": [
    "from copy import deepcopy\n",
    "\n",
    "def canvas2rgb_array(canvas):\n",
    "    \"\"\"Adapted from: https://stackoverflow.com/a/21940031/959926\"\"\"\n",
    "    canvas.draw()\n",
    "    buf = np.frombuffer(canvas.tostring_rgb(), dtype=np.uint8)\n",
    "    ncols, nrows = canvas.get_width_height()\n",
    "    scale = round(np.sqrt(buf.size / 3 / nrows / ncols))\n",
    "    return buf.reshape(scale * nrows, scale * ncols, 3)\n",
    "\n",
    "def get_canvas(result, name='output'):\n",
    "    steps = []\n",
    "    board = deepcopy(ent.board)\n",
    "    figure = plt.figure()\n",
    "    plt.grid(linewidth=1)\n",
    "    plt.ylim(20,-1)\n",
    "    plt.xlim(-1,20)\n",
    "    x_in, y_in = ent.initial\n",
    "    x_g, y_g = ent.goal\n",
    "    plt.scatter(x_in,y_in,c='r')\n",
    "    plt.scatter(x_g,y_g,c='r')\n",
    "    for node in result[1:-1]:\n",
    "        x,y = node.state\n",
    "        plt.scatter(x, y, c='b')\n",
    "        steps.append(canvas2rgb_array(figure.canvas))\n",
    "        \n",
    "    imageio.mimsave(name+'.gif', steps)\n",
    "    \n",
    "    \n",
    "def get_path(leaf, path=[]):\n",
    "    \"\"\"Función para recuperar el camino de un nodo\"\"\"\n",
    "    if leaf.parent == None:\n",
    "        return [leaf]+path\n",
    "    else:\n",
    "        return get_path(leaf.parent, path=[leaf]+path)\n",
    "    \n",
    "def get_solution(result): \n",
    "    \"\"\"Muestra la solución\"\"\"\n",
    "    ent_a = deepcopy(ent)\n",
    "    for n in get_path(result[-1]):\n",
    "        x,y = n.state\n",
    "        ent_a.board[y][x] = 'o'\n",
    "\n",
    "    ent_a.draw()"
   ]
  },
  {
   "cell_type": "markdown",
   "id": "67d4aec5",
   "metadata": {},
   "source": [
    "## Algoritmos de búsqueda\n",
    "\n",
    "Definimos una función general que tomará en cuenta los siguientes parámetros:\n",
    "\n",
    "1. <tt>method</tt>: Indica qué algoritmo se usará, consideramos los siguientes:\n",
    "    1. Búsqueda en Profundidad\n",
    "    2. Búsqueda en Amplitud\n",
    "    3. Algoritmo de Dijkstra\n",
    "    4. $A^*$\n",
    "    5. Beam Search\n",
    "2. <tt>p</tt>: Controla la heurística, si $p=1$ se usa Manhattan, si $p=2$ se usa euclideana. Se pueden probar otros valores, considerando que den valores reales. Sólo aplica en $A^*$.\n",
    "3. <tt>beam</tt>: si en <tt>None</tt> No se usará Beam Search, si se escoge un $k>0$ se usará beam search. Se puede combinar con distintos algoritmos."
   ]
  },
  {
   "cell_type": "code",
   "execution_count": 5,
   "id": "c4fa4b85",
   "metadata": {},
   "outputs": [],
   "source": [
    "def search(problem, method, p=2, beam=None):\n",
    "    \"\"\"Algoritmos de búsqueda\"\"\"\n",
    "    nodes = []\n",
    "    node = Node()\n",
    "    node.state = problem.initial\n",
    "    frontier = PriorityQueue(k=beam)\n",
    "    frontier.push(node)\n",
    "    reached = {str(problem.initial):node}\n",
    " \n",
    "    while frontier.isEmpty() == False:\n",
    "        node = frontier.pop()\n",
    "        nodes.append(node)\n",
    "        if node.state == problem.goal:\n",
    "            return nodes\n",
    "        \n",
    "        for child in expand(problem, node, method=method, p=p):\n",
    "            state = child.state\n",
    "            if str(state) not in reached.keys():\n",
    "                reached[str(state)] = child\n",
    "                frontier.push(child)\n",
    "\n",
    "    print(\"No se ha logrado llegar a un estado final.\")\n",
    "    return nodes"
   ]
  },
  {
   "cell_type": "markdown",
   "id": "3d59f877",
   "metadata": {},
   "source": [
    "# Algoritmos desinformados\n",
    "\n",
    "## Algoritmo primero en profundidad\n",
    "\n",
    "El algoritmo de primero en profundidad es quizá de los menos recomendados pues no se asegura que sea completo. En general, este algoritmo persiste en una acción, la más profunda, hasta que no puede realizarla más y realiza otra, pero entonces sigue persistiendo en la acción de nuevo, repitiendo este proceso hasta encontrar solución. En este caso, consideramos la función de prioridad como:\n",
    "\n",
    "$$f(n) = -depth(n)$$"
   ]
  },
  {
   "cell_type": "code",
   "execution_count": 6,
   "id": "6f41c2db",
   "metadata": {},
   "outputs": [
    {
     "name": "stdout",
     "output_type": "stream",
     "text": [
      "Nodos de árbol: 171\n",
      "Costo solución: 24.04\n",
      "Profundidad solución: 170\n",
      "CPU times: user 12.8 ms, sys: 3.31 ms, total: 16.1 ms\n",
      "Wall time: 14.8 ms\n"
     ]
    }
   ],
   "source": [
    "%%time\n",
    "result_depth = search(ent, method='Depth')\n",
    "print('Nodos de árbol: {}\\nCosto solución: {}\\nProfundidad solución: {}'.format( len(result_depth), round(result_depth[-1].path_cost,2), result_depth[-1].depth ))"
   ]
  },
  {
   "cell_type": "code",
   "execution_count": 7,
   "id": "de2b819b",
   "metadata": {},
   "outputs": [],
   "source": [
    "#get_canvas(result_depth,name='depth')"
   ]
  },
  {
   "cell_type": "markdown",
   "id": "55590482",
   "metadata": {},
   "source": [
    "Vemos que la solución que encuentra es claramente no óptima, y que de hecho tiene a siempre hacer la acción hacia abajo hasta topar con pared, pasa a la siguiente acción y luego intenta de nuevo hacia arriba y de nuevo hacia abajo. Se realizan 170 pasos para llegar a la solución."
   ]
  },
  {
   "cell_type": "code",
   "execution_count": 8,
   "id": "122ff329",
   "metadata": {},
   "outputs": [
    {
     "data": {
      "image/png": "[encoded data removed]",
      "text/plain": [
       "<Figure size 640x480 with 1 Axes>"
      ]
     },
     "metadata": {},
     "output_type": "display_data"
    }
   ],
   "source": [
    "get_solution(result_depth)"
   ]
  },
  {
   "cell_type": "markdown",
   "id": "3e616ea9",
   "metadata": {},
   "source": [
    "El proceso de búsqueda se ilustra a continuación. Como vemos, en cada caso expande sólo el nodo que lo lleva hasta la solución, es decir, no está expandiendo más nodos de los necesarios para llegar a la solución. Pero de hecho, encuentra la solución más costosa de entre todos los algoritmos."
   ]
  },
  {
   "cell_type": "markdown",
   "id": "6cd69fe0",
   "metadata": {},
   "source": [
    "![image](images/depth.gif)"
   ]
  },
  {
   "cell_type": "markdown",
   "id": "b77a96ce",
   "metadata": {},
   "source": [
    "Resumimos las propiedades del algoritmo de primero en profundidad (b: índice de ramificación, m: profundidad máxima del árbol).\n",
    "\n",
    "| Completo | Óptimo | Complejidad |\n",
    "| --- | --- | --- |\n",
    "| No | No | $O(b^m)$ |\n",
    "\n",
    "\n",
    "## Algoritmo primero en amplitud\n",
    "\n",
    "El algoritmo primero en amplitud expande primero los nodos de menor profundidad y de hecho expande todos los nodos antes de la profundidad de la solución. Aquí la función de prioridad está dada como:\n",
    "\n",
    "$$f(n) = depth(n)$$"
   ]
  },
  {
   "cell_type": "code",
   "execution_count": 9,
   "id": "51f15948",
   "metadata": {},
   "outputs": [
    {
     "name": "stdout",
     "output_type": "stream",
     "text": [
      "Nodos de árbol: 324\n",
      "Costo solución: 24.04\n",
      "Profundidad solución: 34\n",
      "CPU times: user 14 ms, sys: 13.3 ms, total: 27.2 ms\n",
      "Wall time: 23.5 ms\n"
     ]
    }
   ],
   "source": [
    "%%time\n",
    "result_breadth = search(ent, method='Breadth')\n",
    "print('Nodos de árbol: {}\\nCosto solución: {}\\nProfundidad solución: {}'.format( len(result_breadth), round(result_breadth[-1].path_cost,2), result_breadth[-1].depth ))"
   ]
  },
  {
   "cell_type": "markdown",
   "id": "85732de4",
   "metadata": {},
   "source": [
    "En este caso, la solución expande muchos más nodos que primero en profundidad. Prácticamente explora todo el espacio de búsqueda. Pero la solución que tiene es más efectiva, pues sólo le toma 34 pasos llegar a la solución, por lo que tenemos una solución mejor que con búsqueda en profundidad."
   ]
  },
  {
   "cell_type": "code",
   "execution_count": 10,
   "id": "9ea6632a",
   "metadata": {},
   "outputs": [],
   "source": [
    "#get_canvas(result_breadth,name='breadth')"
   ]
  },
  {
   "cell_type": "code",
   "execution_count": 11,
   "id": "8ef57f23",
   "metadata": {},
   "outputs": [
    {
     "data": {
      "image/png": "[encoded data removed]",
      "text/plain": [
       "<Figure size 640x480 with 1 Axes>"
      ]
     },
     "metadata": {},
     "output_type": "display_data"
    }
   ],
   "source": [
    "get_solution(result_breadth)"
   ]
  },
  {
   "cell_type": "markdown",
   "id": "fda9bff5",
   "metadata": {},
   "source": [
    "La solución toma esta forma porque de hecho podemos ver que, ya que estamos usando early goal test, el primer nodo que al expandir da la solución hace que el algoritmo se detenga, y este nodo es el que llega por la izquierda de la meta. También vemos que este algoritmo es el que explora más detalladamente el espacio de búsqueda, por lo que tiene el problema de su complejidad. Aunque tiene la ventaja de que sí es completo.\n",
    "\n",
    "![image](images/breadth.gif)\n",
    "\n",
    "Resumimos las características del algoritmo de primero en amplitud (b: índice de ramificación, d: profundidad de la solución):\n",
    "\n",
    "| Completo | Óptimo | Complejidad |\n",
    "| --- | --- | --- |\n",
    "| Sí | No | $O(b^d)$ |"
   ]
  },
  {
   "cell_type": "markdown",
   "id": "caf1e6d4",
   "metadata": {},
   "source": [
    "## Algoritmo de Dijkstra\n",
    "\n",
    "El algoritmo de Dijkstra busca los caminos de menor costo, por lo que la función de prioridad está dada como:\n",
    "\n",
    "$$f(n) = g(n)$$\n",
    "\n",
    "Donde $g(n)$ es el costo."
   ]
  },
  {
   "cell_type": "code",
   "execution_count": 12,
   "id": "92e4b033",
   "metadata": {},
   "outputs": [
    {
     "name": "stdout",
     "output_type": "stream",
     "text": [
      "Nodos de árbol: 324\n",
      "Costo solución: 24.04\n",
      "Profundidad solución: 34\n",
      "CPU times: user 20.8 ms, sys: 603 µs, total: 21.4 ms\n",
      "Wall time: 19.3 ms\n"
     ]
    }
   ],
   "source": [
    "%%time\n",
    "result_dijks = search(ent, method='Dijkstra')\n",
    "print('Nodos de árbol: {}\\nCosto solución: {}\\nProfundidad solución: {}'.format( len(result_dijks), round(result_dijks[-1].path_cost,2), result_dijks[-1].depth ))"
   ]
  },
  {
   "cell_type": "markdown",
   "id": "487fd59a",
   "metadata": {},
   "source": [
    "En este caso, la solución que obtenemos es óptima, que de hecho consiste en 34 pasos (igual que la de búsqueda en amplitud); sin embargo, vemos que la complejidad es también la misma que en amplitud. Este algoritmo, expande casi todo el espacio de búsqueda."
   ]
  },
  {
   "cell_type": "code",
   "execution_count": 13,
   "id": "a11ad69b",
   "metadata": {},
   "outputs": [],
   "source": [
    "#get_canvas(result_dijks, name='dijkstra')"
   ]
  },
  {
   "cell_type": "code",
   "execution_count": 14,
   "id": "6a14bc65",
   "metadata": {},
   "outputs": [
    {
     "data": {
      "image/png": "[encoded data removed]",
      "text/plain": [
       "<Figure size 640x480 with 1 Axes>"
      ]
     },
     "metadata": {},
     "output_type": "display_data"
    }
   ],
   "source": [
    "get_solution(result_dijks)"
   ]
  },
  {
   "cell_type": "markdown",
   "id": "1f970ff8",
   "metadata": {},
   "source": [
    "La solución difiere a la de primero en amplitud, a pesar de expandir los mismo nodos y que la solución sea de la misma longitud. Esto se debe a la forma en que se hace la búsqueda, pues como lo hace mediante el costo, puede llegar a expandir todos los nodos, pero siempre desde el camino de menor costo:\n",
    "\n",
    "![image](images/dijkstra.gif)\n",
    "\n",
    "Resumimos las características del algoritmo de primero en amplitud (b: índice de ramificación, $C^*$: costo de la solución óptima):\n",
    "\n",
    "| Completo | Óptimo | Complejidad |\n",
    "| --- | --- | --- |\n",
    "| Sí | Sí | $O(b^{1+\\lfloor C^*/\\epsilon \\rfloor})$ |\n",
    "\n",
    "\n",
    "# Algoritmos informados\n",
    "\n",
    "## Algoritmo $A^*$\n",
    "\n",
    "El algoritmo $A^*$ es el algoritmo de búsqueda heurística por excelencia. Este se basa en una función heurística $h:V\\to \\mathbb{R}$ que nos informa qué tan lejos estamos de la meta. Su función está dada por:\n",
    "\n",
    "$$f(n) = g(n) + h(n)$$\n",
    "\n",
    "Donde $g(n)$ es el costo y $h(n)$ es la heurística. Es un algoritmo completo, sin embargo, es óptimo si la heurística es admisible; esto es, si $h$ cumple que para toda $n$: \n",
    "\n",
    "$$h(n) \\leq h^*(n)$$\n",
    "\n",
    "Donde $h^*(n)$ es la heurística óptima. Además, su complejidad dependerá también de la heurística. Es decir, tenemos que:\n",
    "\n",
    "| Completo | Óptimo | Complejidad |\n",
    "| --- | --- | --- |\n",
    "| Sí | Depende de $h$ | Depende de $h$ |\n",
    "\n",
    "#### Heurística euclideana\n",
    "\n",
    "Con la heurística de la distancia euclideana, el algoritmo si es óptimo, pues se trata de una heurística admisible, sin embargo, no es la óptima."
   ]
  },
  {
   "cell_type": "code",
   "execution_count": 15,
   "id": "538405f5",
   "metadata": {},
   "outputs": [
    {
     "name": "stdout",
     "output_type": "stream",
     "text": [
      "Nodos de árbol: 75\n",
      "Costo solución: 24.04\n",
      "Profundidad solución: 34\n",
      "CPU times: user 0 ns, sys: 6.2 ms, total: 6.2 ms\n",
      "Wall time: 6.12 ms\n"
     ]
    }
   ],
   "source": [
    "%%time\n",
    "result_a = search(ent, method='Astar',p=2)\n",
    "print('Nodos de árbol: {}\\nCosto solución: {}\\nProfundidad solución: {}'.format( len(result_a), round(result_a[-1].path_cost,2), result_a[-1].depth ))"
   ]
  },
  {
   "cell_type": "markdown",
   "id": "6a268bdc",
   "metadata": {},
   "source": [
    "Llega a la solución óptima de 34 pasos, y expande sólo 75 nodos, pues nuestra heurística está muy cercana a la óptima. Por lo que la complejidad, comparada con los algoritmos anteriores se reduce mucho."
   ]
  },
  {
   "cell_type": "code",
   "execution_count": 16,
   "id": "69fabfdf",
   "metadata": {},
   "outputs": [],
   "source": [
    "#get_canvas(result_a,name='astar')"
   ]
  },
  {
   "cell_type": "code",
   "execution_count": 17,
   "id": "69857c34",
   "metadata": {},
   "outputs": [
    {
     "data": {
      "image/png": "[encoded data removed]",
      "text/plain": [
       "<Figure size 640x480 with 1 Axes>"
      ]
     },
     "metadata": {},
     "output_type": "display_data"
    }
   ],
   "source": [
    "get_solution(result_a)"
   ]
  },
  {
   "cell_type": "markdown",
   "id": "800ca99c",
   "metadata": {},
   "source": [
    "Sin embargo, como lo señalamos, la heurística no es óptima. Vemos que, si bien, tiende a expandir en su mayoría nodos del camino óptimo, no siempre lo hace.\n",
    "\n",
    "![image](images/astar.gif)\n",
    "\n",
    "#### Heurística Manhattan\n",
    "\n",
    "Al usar la heurística Manhattan obtenemos una heurística admisible que domina sobre la euclideana. Esto es, para toda $n$:\n",
    "\n",
    "$$h_{euc}(n) \\leq h_{manh}(n)$$\n",
    "\n",
    "Es más, se trata de una heurística óptima."
   ]
  },
  {
   "cell_type": "code",
   "execution_count": 18,
   "id": "526e1b7c",
   "metadata": {},
   "outputs": [
    {
     "name": "stdout",
     "output_type": "stream",
     "text": [
      "Nodos de árbol: 35\n",
      "Costo solución: 24.04\n",
      "Profundidad solución: 34\n",
      "CPU times: user 0 ns, sys: 2.92 ms, total: 2.92 ms\n",
      "Wall time: 2.84 ms\n"
     ]
    }
   ],
   "source": [
    "%%time\n",
    "result_man = search(ent, method='Astar',p=1)\n",
    "print('Nodos de árbol: {}\\nCosto solución: {}\\nProfundidad solución: {}'.format( len(result_man), round(result_man[-1].path_cost,2), result_man[-1].depth ))"
   ]
  },
  {
   "cell_type": "code",
   "execution_count": 19,
   "id": "879cf85d",
   "metadata": {},
   "outputs": [],
   "source": [
    "#get_canvas(result_man,name='astarManh')"
   ]
  },
  {
   "cell_type": "markdown",
   "id": "143d9d69",
   "metadata": {},
   "source": [
    "Notamos que el número de nodos expandidos se corresponde al los pasos del camino óptimo (más el inicial), por eso garantizamos que es una heurística óptima."
   ]
  },
  {
   "cell_type": "code",
   "execution_count": 20,
   "id": "3a206ae0",
   "metadata": {},
   "outputs": [
    {
     "data": {
      "image/png": "[encoded data removed]",
      "text/plain": [
       "<Figure size 640x480 with 1 Axes>"
      ]
     },
     "metadata": {},
     "output_type": "display_data"
    }
   ],
   "source": [
    "get_solution(result_man)"
   ]
  },
  {
   "cell_type": "markdown",
   "id": "f2b4659e",
   "metadata": {},
   "source": [
    "De hecho, observamos que sólo expande nodos que están en este camino, por lo que su complejidad es lineal sobre la profundidad de la solución óptima, $O(d)$. No siempre será fácil encontrar heurísticas óptimas, pero hemos construido el problema de tal forma que conocemos de antemano esto.\n",
    "\n",
    "![image](images/astarManh.gif)\n",
    "\n",
    "\n",
    "## Beam Search\n",
    "\n",
    "La búsqueda por haz o Beam Search es un método de búsqueda que acota los nodos expandidos en cada iteración con base a su prioridad. De esta forma, en cada paso sólo toma $k$ nodos en la frontera que corresponden a los nodos con mayor prioridad."
   ]
  },
  {
   "cell_type": "code",
   "execution_count": 21,
   "id": "f3e667c2",
   "metadata": {},
   "outputs": [
    {
     "name": "stdout",
     "output_type": "stream",
     "text": [
      "Nodos de ábol: 48\n",
      "Costo solución: 24.04\n",
      "Profundidad solución: 34\n",
      "CPU times: user 3.18 ms, sys: 3.21 ms, total: 6.39 ms\n",
      "Wall time: 6.11 ms\n"
     ]
    }
   ],
   "source": [
    "%%time\n",
    "result_beam = search(ent, method='Astar', p=2, beam=3)\n",
    "print('Nodos de ábol: {}\\nCosto solución: {}\\nProfundidad solución: {}'.format( len(result_beam), round(result_beam[-1].path_cost,2), result_beam[-1].depth ))"
   ]
  },
  {
   "cell_type": "markdown",
   "id": "524f5e4b",
   "metadata": {},
   "source": [
    "Como se puede observar, los nodos expandidos con Beam Search son menos que los expandidos solo con $A^*$ de heurística euclideana, pues acotamos la expansión a sólo 3 nodos por iteración. En este caso, la solución encontrada sigue siendo óptima."
   ]
  },
  {
   "cell_type": "code",
   "execution_count": 22,
   "id": "66a91ace",
   "metadata": {},
   "outputs": [],
   "source": [
    "#get_canvas(result_beam,name='beam')"
   ]
  },
  {
   "cell_type": "code",
   "execution_count": 23,
   "id": "767aa7ab",
   "metadata": {},
   "outputs": [
    {
     "data": {
      "image/png": "[encoded data removed]",
      "text/plain": [
       "<Figure size 640x480 with 1 Axes>"
      ]
     },
     "metadata": {},
     "output_type": "display_data"
    }
   ],
   "source": [
    "get_solution(result_beam)"
   ]
  },
  {
   "cell_type": "markdown",
   "id": "07d55278",
   "metadata": {},
   "source": [
    "Si bien la solución es la misma que sin Beam Search, el proceso se hace de manera más rápida, pues no se consideran tantos nodos en la frontera.\n",
    "\n",
    "![image](images/beam.gif)\n",
    "\n",
    "Podemos ver que de hecho la complejidad de Beam Search es de $O(kd)$, donde $k$ es el parámetro de máximo números expandidos por iteración y $d$ es la profundidad de la solución.\n",
    "\n",
    "Sin embargo, el que el algoritmo sea complejo u óptimo depende en general de $k$ y del tipo de estrategia de búsqueda que se use, pues un valor muy pequeño podría hacer que no se converja a una solución, que no sea completo, o bien que no sea óptimo. \n",
    "\n",
    "Por ejemplo, podemos limitar la búsqueda con el algoritmo de Dijkstra:"
   ]
  },
  {
   "cell_type": "code",
   "execution_count": 24,
   "id": "e2949a33",
   "metadata": {},
   "outputs": [
    {
     "name": "stdout",
     "output_type": "stream",
     "text": [
      "Nodos de ábol: 48\n",
      "Costo solución: 24.04\n",
      "Profundidad solución: 34\n",
      "CPU times: user 12 ms, sys: 12 ms, total: 24 ms\n",
      "Wall time: 20.5 ms\n"
     ]
    }
   ],
   "source": [
    "%%time\n",
    "result_beamD = search(ent, method='Dijkstra', beam=3)\n",
    "print('Nodos de ábol: {}\\nCosto solución: {}\\nProfundidad solución: {}'.format( len(result_beam), round(result_beam[-1].path_cost,2), result_beam[-1].depth ))"
   ]
  },
  {
   "cell_type": "code",
   "execution_count": 25,
   "id": "67457f97",
   "metadata": {},
   "outputs": [
    {
     "data": {
      "image/png": "[encoded data removed]",
      "text/plain": [
       "<Figure size 640x480 with 1 Axes>"
      ]
     },
     "metadata": {},
     "output_type": "display_data"
    }
   ],
   "source": [
    "#get_canvas(result_beamD,name='beamdijks')\n",
    "get_solution(result_beamD)"
   ]
  },
  {
   "cell_type": "markdown",
   "id": "3c844739",
   "metadata": {},
   "source": [
    "Si bien el número de nodos que expande es mucho menor a usar el algoritmo de Dijkstra sin límite de los nodos de expansión, vemos sin embargo que la solución no es óptima. De hecho, la búsqueda qué hace, sólo con la información del costo, se desvía en general del camino óptimo.\n",
    "\n",
    "![image](images/beamdijks.gif)\n",
    "\n",
    "### Conclusiones\n",
    "\n",
    "En general, los algoritmos revisados tienen ciertas ventajas y desventajas. Pero el que muestra mejor desempeño es el algoritmo de $A^*$ principalmente cuando su heurística es óptima o cercana a la óptima. Sin embargo, no siempre se puede encontrar una heurística de este tipo, sobre todo cuando nuestros entornos son más complejos (como parcialmente observables, dinámicos, etc.); en estos casos, según la información que se cuente se puede usar un algoritmo de búsqueda desinformada.\n",
    "\n",
    "Los algoritmos como Beam Search también se utilizan bastantes para diferentes tareas, pues permiten acostar la búsqueda a los mejores resultados. Esto hace más eficiente el procesamiento sobre todo cuando se tiene un número grande de datos."
   ]
  }
 ],
 "metadata": {
  "kernelspec": {
   "display_name": "Python 3 (ipykernel)",
   "language": "python",
   "name": "python3"
  },
  "language_info": {
   "codemirror_mode": {
    "name": "ipython",
    "version": 3
   },
   "file_extension": ".py",
   "mimetype": "text/x-python",
   "name": "python",
   "nbconvert_exporter": "python",
   "pygments_lexer": "ipython3",
   "version": "3.8.10"
  }
 },
 "nbformat": 4,
 "nbformat_minor": 5
}
