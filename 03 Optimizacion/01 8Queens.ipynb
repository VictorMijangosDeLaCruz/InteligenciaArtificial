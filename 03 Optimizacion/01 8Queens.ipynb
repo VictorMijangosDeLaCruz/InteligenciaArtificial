{
 "cells": [
  {
   "cell_type": "markdown",
   "id": "140f79fb",
   "metadata": {},
   "source": [
    "# Problema de las 8 reinas\n",
    "\n",
    "El problema de las 8 reinas consiste en un tablero de ajedrez en donde se colocan 8 piezas correspondientes a las reinas. Como es sabido, estas piezas pueden moverse en todas direcciones (arriba, abajo, a los lados, en diagonal). Al colocar a las reinas, éstas pueden estar o no amenazando a las otras reinas en el tablero. \n",
    "\n",
    "En algunos casos, se buscará que las reinas estén en tal configuración tal que todas se ataquen entre sí o bien que ninguna se ataque entre sí. Para configurar el problema usamos el siguiente código:"
   ]
  },
  {
   "cell_type": "code",
   "execution_count": 1,
   "id": "2e1a4f38",
   "metadata": {},
   "outputs": [],
   "source": [
    "import numpy as np\n",
    "import matplotlib.pyplot as plt\n",
    "\n",
    "np.random.seed(12345)\n",
    "\n",
    "class Board():\n",
    "    \"\"\"Problemas de las k reinas\"\"\"\n",
    "    def __init__(self, size=8):\n",
    "        #Tamaño del tablero\n",
    "        self.size = size\n",
    "        #Piezas en el tablero\n",
    "        get_row = lambda size, shift: [{\"type\": (cell_index + shift) % 2, \"piece\": None} \n",
    "                                       for cell_index in range(size)]\n",
    "        self.board = [get_row(self.size, _ % 2) for _ in range(self.size)]\n",
    "        self.queen_board = np.zeros((size, size))\n",
    "        \n",
    "    def __str__(self):\n",
    "        return str([[cell[\"type\"] if cell[\"piece\"]==None else cell[\"piece\"] for cell in row] for row in self.board])\n",
    "\n",
    "    def put(self, piece: str, cell: tuple) -> bool:\n",
    "        \"\"\"Coloca una pieza en una configuración del tablero\"\"\"\n",
    "        row, column = cell\n",
    "        self.board[row][column]['piece'] = piece\n",
    "        \n",
    "    def create_array(self):\n",
    "        \"\"\"Crea una matriz con la información del tablero\"\"\"\n",
    "        self.queen_board = np.zeros((self.size, self.size))\n",
    "        for i,row in enumerate(self.board):\n",
    "            for j in range(self.size):\n",
    "                if row[j]['piece'] == 'Q':\n",
    "                    self.queen_board[i][j] = 1\n",
    "                    \n",
    "    def put_pieces(self, num=8, init='init', piece='Q'):\n",
    "        \"\"\"Coloca un número num de piezas en el tablero ya sea en configuración\n",
    "        aleatoria o en alguna otra.\"\"\"\n",
    "        if init == 'random':\n",
    "            elements = range(num)\n",
    "            for i in elements:\n",
    "                row, column = np.random.choice(elements), np.random.choice(elements)\n",
    "                self.put(piece=piece, cell=(row,column))\n",
    "        elif init == 'init':\n",
    "            for pos in [(0,6),(1,4),(2,1),(3,3),(4,5),(5,7),(6,2),(7,0)][:num]:\n",
    "                self.put(piece=piece, cell=pos)\n",
    "        self.create_array()\n",
    "                    \n",
    "    def move(self, i,j):\n",
    "        \"\"\"Acción de mover una pieza\"\"\"\n",
    "        s_p = self.board[i][j]\n",
    "        if s_p['piece'] != 'Q':\n",
    "            pass\n",
    "        else:\n",
    "            m,n = np.random.choice(range(self.size)), np.random.choice(range(self.size))\n",
    "            s_q = self.board[m][n]\n",
    "            if s_q['piece'] != 'Q':\n",
    "                self.board[i][j]['piece'] = None\n",
    "                self.queen_board[i][j] = 0\n",
    "                self.board[m][n]['piece'] = 'Q'\n",
    "                self.queen_board[m][n] = 1\n",
    "                #self.create_array()\n",
    "            else:\n",
    "                self.move(i,j)\n",
    "    \n",
    "    def draw(self):\n",
    "        \"\"\"Dibuja el tablero\"\"\"\n",
    "        img_board = np.array([[cell[\"type\"] if cell[\"piece\"]==None else 0.5 for cell in row] for row in self.board])\n",
    "        plt.imshow(img_board, cmap='Greys')\n",
    "        plt.axis('off')\n",
    "        plt.show()"
   ]
  },
  {
   "cell_type": "markdown",
   "id": "c88a31c6",
   "metadata": {},
   "source": [
    "Podemos visualizar cómo se comporta la simulación del problema que se ha programado. Colocamos las 8 piezas en una configuración predeterminada."
   ]
  },
  {
   "cell_type": "code",
   "execution_count": 2,
   "id": "d842e3fb",
   "metadata": {},
   "outputs": [
    {
     "data": {
      "image/png": "[encoded data removed]",
      "text/plain": [
       "<Figure size 640x480 with 1 Axes>"
      ]
     },
     "metadata": {},
     "output_type": "display_data"
    }
   ],
   "source": [
    "queens = Board()\n",
    "queens.put_pieces(num=8)\n",
    "queens.draw()"
   ]
  },
  {
   "cell_type": "markdown",
   "id": "7e26cb2d",
   "metadata": {},
   "source": [
    "    "
   ]
  }
 ],
 "metadata": {
  "kernelspec": {
   "display_name": "Python 3 (ipykernel)",
   "language": "python",
   "name": "python3"
  },
  "language_info": {
   "codemirror_mode": {
    "name": "ipython",
    "version": 3
   },
   "file_extension": ".py",
   "mimetype": "text/x-python",
   "name": "python",
   "nbconvert_exporter": "python",
   "pygments_lexer": "ipython3",
   "version": "3.8.10"
  }
 },
 "nbformat": 4,
 "nbformat_minor": 5
}
