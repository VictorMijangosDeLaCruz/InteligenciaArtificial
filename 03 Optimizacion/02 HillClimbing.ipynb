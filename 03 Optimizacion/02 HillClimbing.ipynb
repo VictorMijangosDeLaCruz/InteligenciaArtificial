{
 "cells": [
  {
   "cell_type": "markdown",
   "id": "43902185",
   "metadata": {},
   "source": [
    "# Ascenso de la colina\n",
    "\n",
    "El algoritmo de ascenso de la colina es un algoritmo de búsqueda local (que busca en las regiones próximas al estado actual) basado en la optimización de una función objetivo que está determinada por el problema que queremos resolver.\n",
    "\n",
    "Aquí se implementa una versión del algoritmo de la colina aplicado al problema de las $k$ reinas, colocadas en un tablero. En principio, la solución consiste en encontrar una configuración del tablero donde las reinas no se ataquen."
   ]
  },
  {
   "cell_type": "code",
   "execution_count": 1,
   "id": "bf7fe742",
   "metadata": {},
   "outputs": [],
   "source": [
    "from Queens import Board\n",
    "import numpy as np\n",
    "from copy import deepcopy"
   ]
  },
  {
   "cell_type": "markdown",
   "id": "95a4804a",
   "metadata": {},
   "source": [
    "### Creación del problema\n",
    "\n",
    "El problema consistirá en colocar un número $k$ de piezas reinas en un tablero de ajedrez. Se colocarán con una configuración inicial en donde la mayoría de las reinas no se atacan y se buscará organizarlas en una configuración que permita que se ataquen la mayoría de las reinas.\n",
    "\n",
    "Otra forma de configurar el problema es que se inicie en un estado dado aleatorio y de allí se parta a encontrar la solución donde las reinas no se ataquen. Ambos problemas son factibles, pero es más común encontrar la solución donde ninguna reina se esté atacando.\n",
    "\n",
    "En este caso iniciamos con una configuración inicial donde toda reina está en la diagonal."
   ]
  },
  {
   "cell_type": "code",
   "execution_count": 2,
   "id": "0f8dc8a9",
   "metadata": {},
   "outputs": [
    {
     "data": {
      "image/png": "[encoded data removed]",
      "text/plain": [
       "<Figure size 640x480 with 1 Axes>"
      ]
     },
     "metadata": {},
     "output_type": "display_data"
    }
   ],
   "source": [
    "#Crea el problema\n",
    "board = Board(size=8)\n",
    "board.put_pieces(num=8, init='line')\n",
    "\n",
    "#Visualiza el problema\n",
    "board.draw()"
   ]
  },
  {
   "cell_type": "markdown",
   "id": "65ebf7e7",
   "metadata": {},
   "source": [
    "## Algoritmo de ascenso de la colina\n",
    "\n",
    "Para poder definir el algoritmo de manera adecuada, definimos dos funciones que son: la función objetivo y una función para tomar en cuenta en cada estado, los estados cercanos que maximicen la función objetivo.\n",
    "\n",
    "La función objetivo suma un 1 si una de las reinas ataca a cualquiera otra de las reinas. En este caso, como el algoritmo de ascenso de la colina busca minimizar, podemos usar el valor negativo para minimizar el número de ataques. Es decir, entre más reinas se ataquen el valor será más pequeño. Y el máximo global será 0.\n",
    "\n",
    "Por otra parte, definimos las acciones que puede hacer la reina, en este caso, limitamos la acción a sólo los cuadros vecinos. Es decir, la reina se podrá mover solamente en las vecindades de los cuadros actuales."
   ]
  },
  {
   "cell_type": "code",
   "execution_count": 3,
   "id": "264d9cbf",
   "metadata": {},
   "outputs": [],
   "source": [
    "def objective(board):    \n",
    "    \"\"\"Heurística que detecta el número de piezas que se atacan\"\"\"\n",
    "    s = board.size\n",
    "    matrix = board.queen_board\n",
    "    err = 0\n",
    "    queens = np.stack(np.where(matrix == 1)).T\n",
    "    for i,j in queens:\n",
    "        for k in range(1,s+1):\n",
    "            #Revisa la diagonal\n",
    "            if i+k<s and j+k<s:\n",
    "                if [i+k,j+k] in queens.tolist():\n",
    "                    err += 1\n",
    "            if i-k>=0 and j-k>=0: \n",
    "                if [i-k,j-k] in queens.tolist():\n",
    "                    err += 1\n",
    "            if i-k>=0 and j+k<s:\n",
    "                if matrix[i-k, j+k] ==1:\n",
    "                    err += 1\n",
    "            if i+k<s and j-k>=0:\n",
    "                if matrix[i+k, j-k] ==1:\n",
    "                    err += 1\n",
    "                    \n",
    "            #Revisa las columnas\n",
    "            if i+k<s:\n",
    "                if matrix[i+k,j]== 1:\n",
    "                    err += 1\n",
    "            if i-k >= 0:\n",
    "                if matrix[i-k,j]== 1:\n",
    "                    err += 1\n",
    "            \n",
    "            #Revisa los renglones\n",
    "            if j+k<s:\n",
    "                if matrix[i,j+k]== 1:\n",
    "                    err += 1\n",
    "            if j-k >= 0:\n",
    "                if matrix[i,j-k]== 1:\n",
    "                    err += 1\n",
    "    return -err\n",
    "\n",
    "def best_valued_neighbor(board):\n",
    "    \"\"\"Regresa un movimiento cercano con mejor valor para la búsqueda\"\"\"\n",
    "    results = np.vstack(np.where(board.queen_board == 1))\n",
    "    neighbors = []\n",
    "    for pos in results.T:\n",
    "        i,j = pos\n",
    "        moves = [(i, j+1), (i+1,j), (i-1,j), (i,j-1), \n",
    "                 (i-1,j-1), (i+1,j+1), (i-1,j+1), (i+1,j-1)]\n",
    "    \n",
    "        for m, new_board in zip(moves, [deepcopy(board) for j in range(4)]):\n",
    "            if m[0]>0 and m[1]>0 and m[0]<board.size and m[1]<board.size:\n",
    "                if new_board.board[m[0]][m[1]]['piece'] != 'Q':\n",
    "                    new_board.queen_board[i,j] = 0\n",
    "                    new_board.board[i][j]['piece'] = None\n",
    "\n",
    "                    new_board.queen_board[m[0],m[1]] = 1\n",
    "                    new_board.board[m[0]][m[1]]['piece'] = 'Q'\n",
    "                    neighbors.append(new_board)\n",
    "            else:\n",
    "                neighbors.append(new_board)\n",
    "\n",
    "    best_idx = np.argmax([objective(b) for b in neighbors])\n",
    "    return neighbors[best_idx]"
   ]
  },
  {
   "cell_type": "markdown",
   "id": "d4934092",
   "metadata": {},
   "source": [
    "Tomemos el valor de la función objetivo en la configuración actual."
   ]
  },
  {
   "cell_type": "code",
   "execution_count": 4,
   "id": "f9f4691d",
   "metadata": {},
   "outputs": [
    {
     "name": "stdout",
     "output_type": "stream",
     "text": [
      "Función objetivo: -56\n"
     ]
    }
   ],
   "source": [
    "print(\"Función objetivo: {}\".format(objective(board)))"
   ]
  },
  {
   "cell_type": "markdown",
   "id": "eb1ff7d6",
   "metadata": {},
   "source": [
    "### Implementación del algoritmo\n",
    "\n",
    "El algoritmo de ascenso de la colina buscará maximizar (o minimizar) la función objetivo a partir de hacer una búsqueda en los estados próximos al estado actual. El algoritmo es muy sencillo, pues consiste en:\n",
    "\n",
    "1. Guardar el estado actual del problema.\n",
    "2. Buscar de manera local, el estado al que sea mejor avanzar.\n",
    "3. Se detendrá cuando la función objetivo no se haya maximizado."
   ]
  },
  {
   "cell_type": "code",
   "execution_count": 5,
   "id": "566f7b34",
   "metadata": {},
   "outputs": [],
   "source": [
    "def hill_climbing(problem, objective):\n",
    "    \"\"\"Algoritmo de ascenso de la colina\"\"\"\n",
    "    #Guarda configuración actual\n",
    "    current = deepcopy(problem)\n",
    "    while True:\n",
    "        #Elige un estado vecino que tenga mejor valor\n",
    "        neighbor = best_valued_neighbor(current)\n",
    "        #Si el nuevo movimiento tiene una mejor función objetivo\n",
    "        #que el estado anterior cambia el estado, de lo contrario\n",
    "        #permanece igual.\n",
    "        if objective(current) >= objective(neighbor):\n",
    "            return current\n",
    "        else:\n",
    "            current = deepcopy(neighbor)\n",
    "            \n",
    "    return current"
   ]
  },
  {
   "cell_type": "markdown",
   "id": "6eb063b6",
   "metadata": {},
   "source": [
    "Aplicando el algoritmo al problema, vemos que con pocas piezas encuentra una solución adecuada, aunque no necesariamente una solución mínima. De hecho, cuando comenzamos con la configuración inicial, y limitamos los movimientos de la reina a una sola casilla, vemos que el algoritmo converge a un máximo local. Cualquier otro movimiento que se haga no puede maximizar la función objetivo ya establecida, por tanto, el algoritmo se detiene a pesar de que todavía hay algunas reinas que se atacan."
   ]
  },
  {
   "cell_type": "code",
   "execution_count": 6,
   "id": "6425051a",
   "metadata": {},
   "outputs": [
    {
     "data": {
      "image/png": "[encoded data removed]",
      "text/plain": [
       "<Figure size 640x480 with 1 Axes>"
      ]
     },
     "metadata": {},
     "output_type": "display_data"
    },
    {
     "name": "stdout",
     "output_type": "stream",
     "text": [
      "Función objetivo de la solución: -8\n"
     ]
    }
   ],
   "source": [
    "solution_board = hill_climbing(board, objective)\n",
    "\n",
    "solution_board.draw()\n",
    "print(\"Función objetivo de la solución: {}\".format(objective(solution_board)))"
   ]
  }
 ],
 "metadata": {
  "kernelspec": {
   "display_name": "Python 3 (ipykernel)",
   "language": "python",
   "name": "python3"
  },
  "language_info": {
   "codemirror_mode": {
    "name": "ipython",
    "version": 3
   },
   "file_extension": ".py",
   "mimetype": "text/x-python",
   "name": "python",
   "nbconvert_exporter": "python",
   "pygments_lexer": "ipython3",
   "version": "3.8.10"
  }
 },
 "nbformat": 4,
 "nbformat_minor": 5
}
