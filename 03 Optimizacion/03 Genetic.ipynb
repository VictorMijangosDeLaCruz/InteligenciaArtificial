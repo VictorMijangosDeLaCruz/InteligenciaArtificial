{
 "cells": [
  {
   "cell_type": "markdown",
   "id": "4c5904cf",
   "metadata": {},
   "source": [
    "# Algoritmos genéticos\n",
    "\n",
    "Los algoritmos genéticos son algoritmos basados en conceptos biólogicos sobre la evolución. Son parte de los algoritmos evolutivos y se basan, precisamente, en la idea de que hay una evolución de los individuos a partir de diferentes procesos biólogicos: selección, reproducción, mutación, reemplazo.\n",
    "\n",
    "Estos tipos de algoritmos pueden ser muy variados. Una versión simple de un algoritmo genético se presenta aquí para solucionar el problema de las 8 reinas.\n",
    "\n",
    "### Creación del problema\n",
    "\n",
    "El problema consistirá en colocar un número $k$ de piezas reinas en un tablero de ajedrez. Se colocaran con una configuración inicial en donde la mayoría de las reinas no se atacan y se buscará organizarlas en una configuración que permita que se ataquen la mayoría de las reinas.\n",
    "\n",
    "Otra forma de configurar el problema es que se inicie en un estado dado aleatorio y de allí se parta a encontrar la solución donde las reinas no se ataquen. Aquí nos fijamos en principio en el primer problema."
   ]
  },
  {
   "cell_type": "code",
   "execution_count": 1,
   "id": "18b11f1c",
   "metadata": {},
   "outputs": [
    {
     "data": {
      "image/png": "[encoded data removed]",
      "text/plain": [
       "<Figure size 432x288 with 1 Axes>"
      ]
     },
     "metadata": {
      "needs_background": "light"
     },
     "output_type": "display_data"
    }
   ],
   "source": [
    "import numpy as np\n",
    "from Queens import Board\n",
    "\n",
    "#Crea el problema\n",
    "board = Board(size=8)\n",
    "board.put_pieces() #num=8, init='random')\n",
    "\n",
    "#Visualiza el problema\n",
    "board.draw()"
   ]
  },
  {
   "cell_type": "markdown",
   "id": "ec92ecb0",
   "metadata": {},
   "source": [
    "## Algoritmo genético simple\n",
    "\n",
    "Para definir nuestro algoritmo genético, debemos definir varias funciones auxiliares, entre ellas la función de selección, reproducción, mutación, reemplazo y además la función fitness. La función fitness es central en los algoritmos genéticos. \n",
    "\n",
    "Antes de pasar a definir estas funciones, definimos tres funciones auxiliares que nos ayudarán a implementar adecuadamente el algoritmo:\n",
    "\n",
    "1. Obtención de población inicial (<tt>get_population</tt>): Genera genes de la forma: $$[p_1, p_2, p_3, \\cdots, p_8]$$ donde cada $p_i$ es un número que representa la posición de la reina en esa columna (o 0 si no hay reina). De tal forma, si tenemos una reina en la posición $(2,3)$, tendremos que $p_2=3$.\n",
    "2. Obtención de pesos probabilísticos (<tt>get_scores</tt>): Obtiene valores de probabilidad de los individuos en base a la función $p(x) = \\frac{e^{f(x)}}{\\sum_y e^{f(y)}}$ donde $f$ es la función fitness. De esta forma podemos elegir aleatoriamente individuos según su probabilidad (selección ruleta).\n",
    "3. Dibuja la solución (<tt>get_biard</tt>): Dibuja el tablero final a partir del vector individuo $[p_1, p_2, p_3, \\cdots, p_8]$."
   ]
  },
  {
   "cell_type": "code",
   "execution_count": 2,
   "id": "c5ac6bd4",
   "metadata": {},
   "outputs": [],
   "source": [
    "def get_population(s=4):\n",
    "    \"\"\"Genera una población de genes de tamaño s\"\"\"\n",
    "    population = []\n",
    "    for i in range(s):\n",
    "        population.append(np.random.choice(8, size=8, replace=False)+1)\n",
    "    return population\n",
    "\n",
    "def get_scores(population, fitness_function):\n",
    "    \"\"\"Obtiene probabilidades a partir de la función fitness\"\"\"\n",
    "    partition = 0\n",
    "    probs = np.zeros(len(population))\n",
    "    for i, subject in enumerate(population):\n",
    "        score = fitness_function(subject)\n",
    "        exp = np.exp(score)\n",
    "        probs[i] = exp\n",
    "        partition += exp\n",
    "    \n",
    "    return probs/partition\n",
    "\n",
    "def get_board(array):\n",
    "    \"\"\"Dibuja la solución a partir de los genes\"\"\"\n",
    "    new_board = Board(size=8)\n",
    "    for x,y in enumerate(array):\n",
    "        new_board.put(piece='Q', cell=(x,y-1))\n",
    "        \n",
    "    return new_board"
   ]
  },
  {
   "cell_type": "markdown",
   "id": "eed74ff7",
   "metadata": {},
   "source": [
    "### Función fitness\n",
    "\n",
    "La función de fitness o función objetivo es una función\n",
    "$f : I \\to \\mathbb{R}$, que asigna un valor numérico a un individuo en base a su capacidad. En\n",
    "este caso, la capacidad estará determinada por qué tanto este individuo nos ayuda a\n",
    "solucionar el problema.\n",
    "\n",
    "Aquí tomamos una función que indica cuántas reinas se están atacando entre sí."
   ]
  },
  {
   "cell_type": "code",
   "execution_count": 3,
   "id": "94841401",
   "metadata": {},
   "outputs": [],
   "source": [
    "def fitness(array):\n",
    "    \"\"\"Función fitness para el problema de 8 reinas\"\"\"\n",
    "    board = np.zeros((8,8))\n",
    "    for i,j in enumerate(array):\n",
    "        board[i,j-1] = 1\n",
    "    \n",
    "    err = 0\n",
    "    for m in range(8):\n",
    "        for n in range(8):\n",
    "            if m != n:\n",
    "                rows = 1*(board[m] == board[n])*board[m]\n",
    "                columns = 1*(board[:,m] == board[:,n])*board[:,m]\n",
    "                diags = 1*(board[:,m] == np.roll(board[:,n],n-m))*board[:,m]\n",
    "                err += rows.sum() + columns.sum() + diags.sum()\n",
    "    \n",
    "    return err/2"
   ]
  },
  {
   "cell_type": "markdown",
   "id": "42ac4770",
   "metadata": {},
   "source": [
    "## Algoritmo genético\n",
    "\n",
    "El algoritmo genético contará de otras cuatro funciones esenciales, las cuáles son:\n",
    "\n",
    "1. Selección (<tt>selection</tt>): Selecciona los padres en base a un criterio. Aquí tomamos dos criterios:\n",
    "    1. Selección ruleta: Selecciona de manera aleatoria en base a su fitness; los individuos con más fitness tendrán mayor probabilidad de ser seleccionados.\n",
    "    2. Selección aleatoria: Culaquier par de individuos tiene la misma probabilidad de ser seleccionados.\n",
    "2. Reproducción (<tt>reproduce</tt>): Dado los dos padres, esta función reproduce un descendiente mediante la reproducción en un punto. Los genes padres se cortan en un punto y se recombinan para formar el gen descendiente.\n",
    "3. Mutación (<tt>mutate</tt>): Algunos de los individuos hijos pueden tener una mutación en sus genes (cambio de éstos) en base a una probabilidad pequeña.\n",
    "4. Reemplazo (<tt>replacement</tt>): Reemplaza la antigua generación/población por una nueva. Aquí el reemplazo se hace mediante el fitness, los padres y los descendientes compiten y la siguiente generación tendrá al individuo con mayor fitness."
   ]
  },
  {
   "cell_type": "code",
   "execution_count": 4,
   "id": "a4659112",
   "metadata": {},
   "outputs": [],
   "source": [
    "def selection(population, weights, size=2, method='Roulette'):\n",
    "    \"\"\"Función de selección\"\"\"\n",
    "    if method == 'Roulette':\n",
    "        idx1, idx2 = np.random.choice(range(len(population)), replace=False, size=size, p=weights)\n",
    "        return population[idx1], population[idx2]\n",
    "    elif method == 'Random':\n",
    "        idx1, idx2 = np.random.choice(range(len(population)), replace=False, size=size)\n",
    "        return population[idx1], population[idx2]\n",
    "\n",
    "def reproduce(parent1, parent2):\n",
    "    \"\"\"Función de reproducción\"\"\"\n",
    "    n = len(parent1)\n",
    "    c = np.random.choice(range(n))\n",
    "    return np.hstack((parent1[:c], parent2[c:]))\n",
    "\n",
    "def mutate(array,p=0.5):\n",
    "    \"\"\"Función de mutación\"\"\"\n",
    "    change = np.random.choice([0,1], p=[p,1-p])\n",
    "    if change == 0:\n",
    "        return array\n",
    "    else:\n",
    "        v1, v2 = np.random.choice(range(len(array)), size=2)\n",
    "        c1 = array[v1]\n",
    "        c2 = array[v2]\n",
    "        array[v1] = c2\n",
    "        array[v2] = c1\n",
    "        \n",
    "        return array\n",
    "    \n",
    "def replacement(candidates, fitness_function=fitness):\n",
    "    \"\"\"Función de reemplazo\"\"\"\n",
    "    sorted_candidates = sorted([(ind, fitness_function(ind)) for ind in candidates], key=lambda x: x[1])\n",
    "    \n",
    "    return sorted_candidates[-1][0]"
   ]
  },
  {
   "cell_type": "markdown",
   "id": "d9d48aef",
   "metadata": {},
   "source": [
    "Finalmente, podemos ya implementar el algoritmo genético propiamente dicho. Este algoritmo cambiará las poblaciones hasta que encuentre un criterio que le permita seleccionar al individuo con mayor fitness en la última descendencia. Aquí el criterio es el número de iteraciones. El algoritmo consta en, dado una población inicial:\n",
    "\n",
    "1. Obtenes los pesos para la selección de los padres.\n",
    "2. Seleccionar a los padres en base a estos pesos.\n",
    "3. Reproducirse para generar un descendiente.\n",
    "4. El descendiente puede presentar alguna mutación.\n",
    "5. Reemplzar la población previa, por la nueva población."
   ]
  },
  {
   "cell_type": "code",
   "execution_count": 5,
   "id": "ac5f482c",
   "metadata": {},
   "outputs": [],
   "source": [
    "def genetic_algorithm(population, fitness_function=fitness, t=0):\n",
    "    \"\"\"Algoritmo genético\"\"\"\n",
    "    #Obtiene pesos probabilísticos a partir de la función fitness\n",
    "    weights = get_scores(population,fitness_function=fitness_function)\n",
    "    #Guarda población descendiente\n",
    "    population2 = []\n",
    "    for i in range(len(population)):\n",
    "        #Selecciona los padres (selección ruleta)\n",
    "        parent1, parent2 = selection(population, weights, method='Roulette')\n",
    "        #Reproduce a partir de los padres\n",
    "        child = reproduce(parent1, parent2)\n",
    "        #Muta genes en el hijo\n",
    "        child = mutate(child)        \n",
    "        #Reemplaza por la nueva población en base al fitness\n",
    "        new_ind = replacement([child,parent1,parent2], fitness_function=fitness_function)\n",
    "        population2.append(new_ind)\n",
    "    \n",
    "    if t == 10:\n",
    "        #Si se cumple el criterio de detención, se visualiza la solución\n",
    "        idx = np.argmax([fitness_function(subject) for subject in population2])\n",
    "        get_board(population2[idx]).draw()\n",
    "    else:\n",
    "        #En otro caso repite los pasos\n",
    "        genetic_algorithm(population2, fitness_function=fitness_function, t=t+1)"
   ]
  },
  {
   "cell_type": "markdown",
   "id": "0b89ac24",
   "metadata": {},
   "source": [
    "### Aplicación al problema\n",
    "\n",
    "Cuando aplicamos el algoritmo genético al problema de las 8 reinas, debemos codificar el tablero como una secuencia de genes, de la forma que ya lo hemos definido.\n",
    "\n",
    "De esta forma, cada gen representará la posición de una reina en el tablero y la función fitness es el número de otras reinas a las que esta reina ataca. \n",
    "\n",
    "Para empezar, generamos una población aleatoria de tamaño 4, es decir, cuatro individuos cuyos genes representan configuraciones aleatorias del tablero. De esta forma, al aplicar el algoritmo genético vemos que terminas con una configuración que maximiza la función fitness; es decir, que maximiza el número de reinas que se atacan entre sí."
   ]
  },
  {
   "cell_type": "code",
   "execution_count": 6,
   "id": "5ef1c472",
   "metadata": {},
   "outputs": [
    {
     "data": {
      "image/png": "[encoded data removed]",
      "text/plain": [
       "<Figure size 432x288 with 1 Axes>"
      ]
     },
     "metadata": {
      "needs_background": "light"
     },
     "output_type": "display_data"
    }
   ],
   "source": [
    "init_population = get_population(s=4)\n",
    "genetic_algorithm(init_population)"
   ]
  },
  {
   "cell_type": "markdown",
   "id": "18df518b",
   "metadata": {},
   "source": [
    "   "
   ]
  }
 ],
 "metadata": {
  "kernelspec": {
   "display_name": "Python 3",
   "language": "python",
   "name": "python3"
  },
  "language_info": {
   "codemirror_mode": {
    "name": "ipython",
    "version": 3
   },
   "file_extension": ".py",
   "mimetype": "text/x-python",
   "name": "python",
   "nbconvert_exporter": "python",
   "pygments_lexer": "ipython3",
   "version": "3.8.8"
  }
 },
 "nbformat": 4,
 "nbformat_minor": 5
}
