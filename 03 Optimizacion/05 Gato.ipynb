{
 "cells": [
  {
   "cell_type": "markdown",
   "id": "6a42da8f",
   "metadata": {},
   "source": [
    "# Juego de gato\n",
    "\n",
    "El juego del gato consta en un tablero de $3\\times 3$ donde cada jugador marca con un signo distintivo ($o$ y $x$) una casilla. El jugador que pueda completar un renglón, una columna o una diagonal con sólo los signos que le corresponden ganará el juego. Para simular esto, tenemos que determinar una función que nos diga cuando las variables (casillas del tablero) son iguales, para identificar cuando se ha completado un juego ganador. "
   ]
  },
  {
   "cell_type": "code",
   "execution_count": 1,
   "id": "5a34c7a2",
   "metadata": {},
   "outputs": [],
   "source": [
    "import numpy as np\n",
    "from itertools import combinations\n",
    "\n",
    "def allsim(variables):\n",
    "    \"\"\"Revisa si son similares todas las variables\"\"\"\n",
    "    for x_i,x_j in combinations(variables, 2):\n",
    "        if x_i != x_j:\n",
    "            return False\n",
    "        \n",
    "    return True"
   ]
  },
  {
   "cell_type": "markdown",
   "id": "3da8bef0",
   "metadata": {},
   "source": [
    "Nuestro simulador para jugar gato consistirá en un tablero de $3\\times 3$ (una matriz) en donde cada jugador colocará un símbolo, 'x' ó 'o', para intentar formar una fila, columna o diagonal con estos símbolos. Ganará el jugador que primero logre realizar esto. Definimos aquí las siguientes funciones:\n",
    "\n",
    "* <tt>to_move</tt>: Determina quién es jugador al que le corresponde la jugada.\n",
    "* <tt>change_player</tt>: Cambia de jugador cuando se ha terminado una jugada.\n",
    "* <tt>actions</tt>: Regresa las coordenadas de las acciones posibles del estado actual del tablero; es decir, aquellas casillas que no han sido marcadas.\n",
    "* <tt>result</tt>: Regresa el resultado de la acción (marcar una casilla) dado el estado actual del tablero.\n",
    "* <tt>is_terminal</tt>: Revisa si el estado actual del tablero es un estado final, es decir, si alguno de los dos jugadores ha ganado. Si es así regresa <tt>True</tt>.\n",
    "* <tt>utility</tt>: Es la función de utilidad definida como: $$U(s) = \\begin{cases} 1 & \\text{si jugador 1 gana} \\\\ 0 & \\text{si hay empate} \\\\ -1 & \\text{si jugador 2 gana} \\end{cases}$$"
   ]
  },
  {
   "cell_type": "code",
   "execution_count": 2,
   "id": "11b847b0",
   "metadata": {},
   "outputs": [],
   "source": [
    "class Gato():\n",
    "    \"\"\"Clase para simular el juego de gato\"\"\"\n",
    "    def __init__(self):\n",
    "        #Tablero de 3x3\n",
    "        self.board = np.zeros((3,3))\n",
    "        #Guarda el jugador previo\n",
    "        self.previous_player = None\n",
    "        #Guarda el jugador actual\n",
    "        self.player = 1\n",
    "        \n",
    "    def __str__(self):\n",
    "        \"\"\"Imprime tablero\"\"\"\n",
    "        board = ''\n",
    "        for row_i in self.board:\n",
    "            row = '|'\n",
    "            for val in row_i:\n",
    "                if val == 0:\n",
    "                    row += ' |'\n",
    "                elif val == 1:\n",
    "                    row += 'o|'\n",
    "                else:\n",
    "                    row += 'x|'\n",
    "            board += row + '\\n'\n",
    "        \n",
    "        return board\n",
    "        \n",
    "    def to_move(self):\n",
    "        \"\"\"Quién moverá en el turno\"\"\"\n",
    "        return self.player\n",
    "    \n",
    "    def change_player(self):\n",
    "        \"\"\"Cambia el turno de cada jugador\"\"\"\n",
    "        if self.player == 1:\n",
    "            self.player = 2\n",
    "        elif self.player == 2:\n",
    "            self.player = 1\n",
    "        \n",
    "    def actions(self, state):\n",
    "        \"\"\"La posibles acciones que se pueden realizar\"\"\"\n",
    "        #En dónde hay espacios para marcar\n",
    "        return np.stack(np.where(state == 0)).T\n",
    "    \n",
    "    def result(self, state, action):\n",
    "        \"\"\"Resultado de la acción de cada jugador\"\"\"\n",
    "        if self.player == 1:\n",
    "            state[action[0],action[1]] = 1\n",
    "            return state\n",
    "        elif self.player == 2:\n",
    "            state[action[0],action[1]] = -1\n",
    "            return state\n",
    "            \n",
    "    def is_terminal(self, state):\n",
    "        \"\"\"Determina si un estado es final o no\n",
    "        El estado es final si un renglón, columna o diagonal tienen los mismos símbolos\"\"\"\n",
    "        rows, columns = False, False\n",
    "        for i in range(3):\n",
    "            rows = rows or allsim(list(state[i])+[1]) or allsim(list(state[i])+[-1])\n",
    "            columns = columns or allsim(list(state.T[i])+[1]) or allsim(list(state.T[i])+[-1])\n",
    "        diag1 = allsim([state[0,0],state[1,1],state[2,2],1]) or allsim([state[0,0],state[1,1],state[2,2],-1])\n",
    "        diag2 = allsim([state[0,2],state[1,1],state[2,0],1]) or allsim([state[0,2],state[1,1],state[2,0],-1])\n",
    "        draw = list(self.actions(state))==[] \n",
    "        \n",
    "        return rows or columns or diag1 or diag2\n",
    "    \n",
    "    def utility(self, state, player=1):\n",
    "        \"\"\"Función de utilidad de cada jugador\"\"\"\n",
    "        if player == 1:\n",
    "            w = 1\n",
    "        else:\n",
    "            w = -1\n",
    "            \n",
    "        if list(self.actions(state))==[]:\n",
    "            return 0\n",
    "        elif allsim([state[0,0],state[1,1],state[2,2]]):\n",
    "                return w*state[1,1]\n",
    "        elif allsim([state[0,2],state[1,1],state[2,0]]):\n",
    "                return w*state[1,1]\n",
    "        else:\n",
    "            for i in range(3):\n",
    "                if allsim(state[i]):\n",
    "                    return w*state[i,1]\n",
    "                elif allsim(state.T[i]):\n",
    "                    return w*state[1,i] "
   ]
  },
  {
   "cell_type": "markdown",
   "id": "2759bfc0",
   "metadata": {},
   "source": [
    "Podemos crear nuestro juego de gato que comenzará con un tablero con todas las casillas vacías. Asimismo, las acciones permitidas son marcar cualquiera de las casillas del tablero."
   ]
  },
  {
   "cell_type": "code",
   "execution_count": 3,
   "id": "9b39d282",
   "metadata": {},
   "outputs": [
    {
     "name": "stdout",
     "output_type": "stream",
     "text": [
      "| | | |\n",
      "| | | |\n",
      "| | | |\n",
      "\n",
      "Coordenadas de posibles movimientos:\n",
      "[[0 0]\n",
      " [0 1]\n",
      " [0 2]\n",
      " [1 0]\n",
      " [1 1]\n",
      " [1 2]\n",
      " [2 0]\n",
      " [2 1]\n",
      " [2 2]]\n"
     ]
    }
   ],
   "source": [
    "game = Gato()\n",
    "print(game)\n",
    "print('Coordenadas de posibles movimientos:\\n{}'.format(game.actions(game.board)))"
   ]
  },
  {
   "cell_type": "markdown",
   "id": "e0f63e0d",
   "metadata": {},
   "source": [
    "El jugador 1 puede marcar cualquier casillas con el símbolo 'o'."
   ]
  },
  {
   "cell_type": "code",
   "execution_count": 4,
   "id": "780751d8",
   "metadata": {},
   "outputs": [
    {
     "name": "stdout",
     "output_type": "stream",
     "text": [
      "Jugador actual: 1\n",
      "| | | |\n",
      "| |o| |\n",
      "| | | |\n",
      "\n"
     ]
    }
   ],
   "source": [
    "print('Jugador actual: {}'.format(game.to_move()))\n",
    "#Realiza jugada\n",
    "game.board = game.result(game.board, [1,1])\n",
    "game.change_player()\n",
    "print(game)"
   ]
  },
  {
   "cell_type": "markdown",
   "id": "2fe342ed",
   "metadata": {},
   "source": [
    "El jugador 2 también puede marcar una de las casillas no marcadas todavía con el símbolo 'x'."
   ]
  },
  {
   "cell_type": "code",
   "execution_count": 5,
   "id": "3d02c6a4",
   "metadata": {},
   "outputs": [
    {
     "name": "stdout",
     "output_type": "stream",
     "text": [
      "Jugador actual: 2\n",
      "| | |x|\n",
      "| |o| |\n",
      "| | | |\n",
      "\n"
     ]
    }
   ],
   "source": [
    "print('Jugador actual: {}'.format(game.to_move()))\n",
    "#Realiza jugada\n",
    "game.board = game.result(game.board, [0,2])\n",
    "game.change_player()\n",
    "print(game)"
   ]
  },
  {
   "cell_type": "markdown",
   "id": "cea2a996",
   "metadata": {},
   "source": [
    "Finalmente, podemos generar un juego aleatorio:"
   ]
  },
  {
   "cell_type": "code",
   "execution_count": 6,
   "id": "572021da",
   "metadata": {},
   "outputs": [
    {
     "name": "stdout",
     "output_type": "stream",
     "text": [
      "Jugador actual: 1\n",
      "| | |x|\n",
      "| |o|o|\n",
      "| | | |\n",
      "\n",
      "Jugador actual: 2\n",
      "| | |x|\n",
      "| |o|o|\n",
      "| |x| |\n",
      "\n",
      "Jugador actual: 1\n",
      "| | |x|\n",
      "| |o|o|\n",
      "|o|x| |\n",
      "\n",
      "Jugador actual: 2\n",
      "| | |x|\n",
      "|x|o|o|\n",
      "|o|x| |\n",
      "\n",
      "Jugador actual: 1\n",
      "| |o|x|\n",
      "|x|o|o|\n",
      "|o|x| |\n",
      "\n",
      "Jugador actual: 2\n",
      "| |o|x|\n",
      "|x|o|o|\n",
      "|o|x|x|\n",
      "\n",
      "Jugador actual: 1\n",
      "|o|o|x|\n",
      "|x|o|o|\n",
      "|o|x|x|\n",
      "\n"
     ]
    }
   ],
   "source": [
    "for i in range(7):\n",
    "    print('Jugador actual: {}'.format(game.to_move()))\n",
    "    #Selecciona acción aleatoriamente\n",
    "    actions = game.actions(game.board)\n",
    "    a = actions[np.random.choice(range(len(actions)))]\n",
    "    #Realiza jugada\n",
    "    game.board = game.result(game.board, a)\n",
    "    game.change_player()\n",
    "    print(game)"
   ]
  },
  {
   "cell_type": "markdown",
   "id": "6022bb10",
   "metadata": {},
   "source": [
    " "
   ]
  }
 ],
 "metadata": {
  "kernelspec": {
   "display_name": "Python 3",
   "language": "python",
   "name": "python3"
  },
  "language_info": {
   "codemirror_mode": {
    "name": "ipython",
    "version": 3
   },
   "file_extension": ".py",
   "mimetype": "text/x-python",
   "name": "python",
   "nbconvert_exporter": "python",
   "pygments_lexer": "ipython3",
   "version": "3.8.8"
  }
 },
 "nbformat": 4,
 "nbformat_minor": 5
}
