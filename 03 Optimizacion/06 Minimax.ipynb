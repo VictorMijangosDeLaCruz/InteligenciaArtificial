{
 "cells": [
  {
   "cell_type": "markdown",
   "id": "142bf073",
   "metadata": {},
   "source": [
    "# Algoritmo de búsqueda Minimax\n",
    "\n",
    "El algoritmo de búsqueda Minimax es un algoritmo para resolver problemas de búsqueda adversas. Las búsquedas adversarias se dan en entornos multi-agente y completitivos; es decir, en aquellos entornos en donde maximizar la función de utilidad de un jugador afecta a la utilidad del otro o los otros jugadores.\n",
    "\n",
    "El algoritmo de Minimax se basa en un árbol de búsqueda en donde se representan los movimientos de los adversarios. Por ejemplo, a partir del nodo raíz, el jugador 1, que llamaremos <b>Max</b>, será el que pueda realziar ciertos movimientos. De los nodos expandidos, el jugador 2, que llamaremos <b>Min</b>, podrá realizar diferentes movimientos de acuerdo a los nodos que ha expandido Max. \n",
    "\n",
    "El árbol buscará un un camino hacia un estado final en que alguno de los dos jugadores, Min o Max, haya logrado una victoria, o en donde no se puedan expandir más nodos (lo que podría corresponder a un empate).\n",
    "\n",
    "### Valores para Max y Min\n",
    "\n",
    "Para el algoritmo de Minimiax, ambos jugadores deben buscar los mejores movimientos para lograr ganar el juego. Para esto se definen dos funciones que determinan los movimientos posibles y los valores de estos movimientos. Los valores de Max comienzan en $-\\infty$ por lo que se buscarán maximizar sus valores, mientras que Min comienza en $\\infty$ para buscar minimizar los valores.\n",
    "\n",
    "De esta forma, la idea es que los dos jugadores, Max y Min, compitan, uno buscando maximizar el valor, mientras que el otro minimizándolo. La estrategia de Max será como sigue:\n",
    "\n",
    "1. Comienza con un movimiento y un valor bajos.\n",
    "2. Se explorarán las acciones, y se verá el valor que Min podrá alcanzar con tal acción, si el valor de Min es mayor al valor actual de Max, se tomará esa acción. \n",
    "3. Esto se repetirá para todas las acciones, de tal forma que se elegirá la acción que tenga siempre el valor más alto para Max.\n",
    "\n",
    "Para Min se hará lo mimso pero buscando la acción que minimice el valor. Estas funciones son recursivas y buscan los valores de utilidad que se han alcanzado al final de la búsqueda de los árboles para ir eligiendo las mejores acciones para cada jugador."
   ]
  },
  {
   "cell_type": "code",
   "execution_count": 1,
   "id": "1ac83aff",
   "metadata": {},
   "outputs": [],
   "source": [
    "import numpy as np\n",
    "\n",
    "def max_value(game, state):\n",
    "    \"\"\"Valores de los movimientos de Max\"\"\"\n",
    "    if game.is_terminal(state):\n",
    "        #Si el estado es terminal regresa la utilidad\n",
    "        return game.utility(state), None\n",
    "    \n",
    "    #Valores se inicializan bajos\n",
    "    v, move = -np.inf, -np.inf\n",
    "    for a in game.actions(state):\n",
    "        #Revisa los posibles movimientos de Min con acción a\n",
    "        v2, a2 = min_value(game, game.result(state, a))\n",
    "        #Si el posible movimiento de Min es mayor, \n",
    "        #antícipalo y toma éste\n",
    "        if v2 > v:\n",
    "            v, move = v2, a\n",
    "            \n",
    "    return v, move\n",
    "\n",
    "def min_value(game, state):\n",
    "    \"\"\"Valores de los movimientos de Min\"\"\"\n",
    "    if game.is_terminal(state):\n",
    "        #Si el estado es terminal regresa la utilidad\n",
    "        return game.utility(state), None\n",
    "    \n",
    "    #Valores se inicializan altos\n",
    "    v, move = np.inf, np.inf\n",
    "    for a in game.actions(state):\n",
    "        #Revisa los posibles movimientos de Max con acción a\n",
    "        v2, a2 = max_value(game, game.result(state, a))\n",
    "        #Si el posible movimiento de Max es menor, \n",
    "        #antícipalo y toma éste\n",
    "        if v2 < v:\n",
    "            v, move = v2, a\n",
    "            \n",
    "    return v, move"
   ]
  },
  {
   "cell_type": "markdown",
   "id": "6c12d796",
   "metadata": {},
   "source": [
    "## Algoritmo Minimax\n",
    "\n",
    "El algoritmo de Minimax hará uso de las funciones anteriores para buscar maximizar las acciones de Max (si se utiliza la función de Min, buscará que este jugador gane). \n",
    "\n",
    "El algoritmo simplemente llama a la función <tt>max_value</tt> para elegir la acción actual más conveniente en base al valor para este jugador. Esto lo repetirá hasta que el juego acabe. Cuando no pueda continuar (pues las búsquedas en el árbol se han agotado) regresará los valores obtenidos."
   ]
  },
  {
   "cell_type": "code",
   "execution_count": 2,
   "id": "1259271f",
   "metadata": {},
   "outputs": [],
   "source": [
    "def minimax(game):\n",
    "    \"\"\"Algoritmo de búsqueda Minimax\"\"\"\n",
    "    #Estado inicial del juego\n",
    "    state = game.board\n",
    "    #Guarda las jugadas realziadas\n",
    "    jugadas = []\n",
    "    value, move = max_value(game, state.copy())\n",
    "    \n",
    "    while True:\n",
    "        #Obtiene valor y movimiento para Max\n",
    "        value, move = max_value(game, state.copy())\n",
    "        \n",
    "        try:\n",
    "            #Realiza la jugada y cambia de jugador\n",
    "            state = game.result(state, move)\n",
    "            jugadas.append((game.player, move))\n",
    "            game.change_player()\n",
    "            \n",
    "        except:\n",
    "            #Regresa el resultado final\n",
    "            result = Gato()\n",
    "            result.board = state\n",
    "            return result, jugadas, value"
   ]
  },
  {
   "cell_type": "markdown",
   "id": "75ad577f",
   "metadata": {},
   "source": [
    "### Aplicación del algoritmo al juego de gato\n",
    "\n",
    "Ocupamos el algoritmo de Minimax para el juego del gato. En este caso, buscaremos que el jugador 1 (Max) que marca las casillas con 'o' obtenga la victoria del juego, su utilidad será entonces de 1."
   ]
  },
  {
   "cell_type": "code",
   "execution_count": 3,
   "id": "2f674e57",
   "metadata": {},
   "outputs": [
    {
     "name": "stdout",
     "output_type": "stream",
     "text": [
      "|o|x|o|\n",
      "|x|o|x|\n",
      "|o| | |\n",
      "\n",
      "\n",
      "Jugadas realizadas:\n",
      "\tPlayer: 1 - Position: [0 0]\n",
      "\tPlayer: 2 - Position: [0 1]\n",
      "\tPlayer: 1 - Position: [0 2]\n",
      "\tPlayer: 2 - Position: [1 0]\n",
      "\tPlayer: 1 - Position: [1 1]\n",
      "\tPlayer: 2 - Position: [1 2]\n",
      "\tPlayer: 1 - Position: [2 0]\n",
      "\n",
      "Utilidad:1.0\n"
     ]
    }
   ],
   "source": [
    "from gato import Gato\n",
    "#Creación del juego de gato\n",
    "game = Gato()\n",
    "\n",
    "#Aplicación del algoritmo\n",
    "result, jugadas, utilidad = minimax(game)\n",
    "\n",
    "#Imprime el resultado del juego\n",
    "print(result)\n",
    "#Imprime las jugadas realizadas\n",
    "print('\\nJugadas realizadas:')\n",
    "for j in jugadas:\n",
    "    print('\\tPlayer: {} - Position: {}'.format(j[0], j[1]))\n",
    "#Imprime la utilidad final\n",
    "print('\\nUtilidad:{}'.format(utilidad))"
   ]
  },
  {
   "cell_type": "markdown",
   "id": "bbd26c7e",
   "metadata": {},
   "source": [
    "Como podemos observar, llegamos a una conclusión del juego donde el jugador Max se lleva la victoria."
   ]
  }
 ],
 "metadata": {
  "kernelspec": {
   "display_name": "Python 3",
   "language": "python",
   "name": "python3"
  },
  "language_info": {
   "codemirror_mode": {
    "name": "ipython",
    "version": 3
   },
   "file_extension": ".py",
   "mimetype": "text/x-python",
   "name": "python",
   "nbconvert_exporter": "python",
   "pygments_lexer": "ipython3",
   "version": "3.8.8"
  }
 },
 "nbformat": 4,
 "nbformat_minor": 5
}
