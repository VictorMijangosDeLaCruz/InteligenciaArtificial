{
 "cells": [
  {
   "cell_type": "markdown",
   "id": "980ae9e0",
   "metadata": {},
   "source": [
    "# Algoritmo $\\alpha-\\beta$\n",
    "\n",
    "El algoritmo de $\\alpha-\\beta$ es un algoritmo de búsqueda adversaria similar al algoritmo Minimax, pero que busca simplificar la complejidad de la búsqueda a partir de descartar partes del árbol de búsqueda que no hacen diferencia en los resultados de dicha búsqueda. \n",
    "\n",
    "El principio del algoritmo de $\\alpha-\\beta$ se puede pensar como: Cuando $n$ es un nodo en el árbol de búsqueda tal que el jugador en turno puede moverse hacia el estado de este nodo, si existe una mejor opción $m$ en el mismo nivel o más arriba en el árbol, entonces el jugador no se moverá a $n$. Es decir, podemos ignorar el sub-árbol generado en $n$.\n",
    "\n",
    "El algoritmo, entonces tomará en cuenta dos parámetros para realizar esto:\n",
    "\n",
    "* $\\alpha$: El valor de la mejor elección  encontrada hasta el momento dentro del camino del jugador Max.\n",
    "* $\\beta$: El valor de la mejor elección  encontrada hasta el momento dentro del camino del jugador Min.\n",
    "\n",
    "Entonces, si el valor obtenido actualmente es mayor a $\\beta$ para Max (o menor a $\\alpha$ para Min), el jugador optará por la opción que tenga mayor valor. \n",
    "\n",
    "Para esto, igual que en el caso anterior, definimos las funciones recursivas para obtener los valores de Max y de Min."
   ]
  },
  {
   "cell_type": "code",
   "execution_count": 1,
   "id": "cb92c544",
   "metadata": {},
   "outputs": [],
   "source": [
    "import numpy as np\n",
    "\n",
    "def max_value(game, state, alpha, beta):\n",
    "    \"\"\"Valores para Max\"\"\"\n",
    "    if game.is_terminal(state):\n",
    "        #Revisa si es estado final\n",
    "        return game.utility(state), None\n",
    "    \n",
    "    #Inicializa valor y movimiento\n",
    "    v, move = -np.inf, None\n",
    "    for a in game.actions(state):\n",
    "        #Revisa los valores de Min\n",
    "        v2, a2 = min_value(game, game.result(state, a), alpha, beta)\n",
    "    \n",
    "        if v2 > v:\n",
    "            #Si el valor de Min es mayor que Max\n",
    "            #Actualiza valor y movimiento de Max por estos\n",
    "            v, move = v2, a\n",
    "            #alpha es el máximo entre alpha y el valor actual\n",
    "            alpha = max(alpha, v)\n",
    "            \n",
    "        if v >= beta:\n",
    "            #Si el valor es mayor que beta, se regresa el movimiento\n",
    "            return v, move\n",
    "        \n",
    "    return v, move\n",
    "\n",
    "def min_value(game, state, alpha, beta):\n",
    "    \"\"\"Valores para min\"\"\"\n",
    "    if game.is_terminal(state):\n",
    "        #Revisa si es estado final\n",
    "        return game.utility(state), None\n",
    "    \n",
    "    #Inicializa valor y movimiento\n",
    "    v, move = np.inf, None\n",
    "    for a in game.actions(state):\n",
    "        #Revisa los valores de Max\n",
    "        v2, a2 = max_value(game, game.result(state, a), alpha, beta)\n",
    "        \n",
    "        if v2 < v:\n",
    "            #Si el valor de Max es menor que Min\n",
    "            #Actualiza valor y movimiento de Min por estos\n",
    "            v, move = v2, a\n",
    "            #beta es el mínimo entre beta y el valor actual\n",
    "            beta = min(beta, v)\n",
    "            \n",
    "        if v <= alpha:\n",
    "            #Si el valor es menor a alpha regresa el movimiento\n",
    "            return v, move\n",
    "        \n",
    "    return v, move"
   ]
  },
  {
   "cell_type": "markdown",
   "id": "cf3c0a07",
   "metadata": {},
   "source": [
    "Ahora, simplemente, definimos el algoritmo de $\\alpha-\\beta$ al tomar el valor y los movimientos para el jugador Max. En principio, tomaremos los parámetros $\\alpha = \\infty$ y $\\beta = -\\infty$. El algoritmo, entonces, buscará las mejores jugadas para el jugador."
   ]
  },
  {
   "cell_type": "code",
   "execution_count": 2,
   "id": "733abbd8",
   "metadata": {},
   "outputs": [],
   "source": [
    "def alpha_beta(game):\n",
    "    \"\"\"Algoritmo alpha-beta\"\"\"\n",
    "    #Estado inicial\n",
    "    state = game.board\n",
    "    #Guarda las jugadas\n",
    "    jugadas = []\n",
    "    #Inicializa alpha y beta\n",
    "    alpha, beta = -np.inf, np.inf\n",
    "    while True:\n",
    "        #Obtiene el valor de Max\n",
    "        value, move = max_value(game, state.copy(), alpha, beta)\n",
    "        \n",
    "        try:\n",
    "            #Realiza la acción sugerida\n",
    "            state = game.result(state,move)\n",
    "            jugadas.append((game.player, move))\n",
    "            game.change_player()\n",
    "            \n",
    "        except:\n",
    "            #Regresa el resultado\n",
    "            result = Gato()\n",
    "            result.board = state\n",
    "            return result, jugadas, value"
   ]
  },
  {
   "cell_type": "markdown",
   "id": "82fe79f8",
   "metadata": {},
   "source": [
    "### Aplicación de $\\alpha-\\beta$ al juego de gato\n",
    "\n",
    "Podemos probar como es que el algoritmo recién definido propone las jugadas para el juego del gato. Como podemos ver, el resultado es similar que el método de Minimax, pero en general, este algoritmo suele ser más eficiente."
   ]
  },
  {
   "cell_type": "code",
   "execution_count": 3,
   "id": "9552f9bf",
   "metadata": {},
   "outputs": [
    {
     "name": "stdout",
     "output_type": "stream",
     "text": [
      "|o|x|o|\n",
      "|x|o|x|\n",
      "|o| | |\n",
      "\n",
      "\n",
      "Jugadas realizadas:\n",
      "\tPlayer: 1 - Position: [0 0]\n",
      "\tPlayer: 2 - Position: [0 1]\n",
      "\tPlayer: 1 - Position: [0 2]\n",
      "\tPlayer: 2 - Position: [1 0]\n",
      "\tPlayer: 1 - Position: [1 1]\n",
      "\tPlayer: 2 - Position: [1 2]\n",
      "\tPlayer: 1 - Position: [2 0]\n",
      "\n",
      "Utilidad:1.0\n"
     ]
    }
   ],
   "source": [
    "from gato import Gato\n",
    "#Creación del juego de gato\n",
    "game = Gato()\n",
    "\n",
    "#Aplicación del algoritmo\n",
    "result, jugadas, utilidad = alpha_beta(game)\n",
    "\n",
    "#Imprime el resultado del juego\n",
    "print(result)\n",
    "#Imprime las jugadas realizadas\n",
    "print('\\nJugadas realizadas:')\n",
    "for j in jugadas:\n",
    "    print('\\tPlayer: {} - Position: {}'.format(j[0], j[1]))\n",
    "#Imprime la utilidad final\n",
    "print('\\nUtilidad:{}'.format(utilidad))"
   ]
  },
  {
   "cell_type": "markdown",
   "id": "b0196b28",
   "metadata": {},
   "source": [
    "Finalmente, podemos ver qué tipo de jugadas propone el algoritmo si el estado en que inicia es distinto, por ejemplo, si el otro jugador (Min) ha colocado ya un símbolo en el tablero. "
   ]
  },
  {
   "cell_type": "code",
   "execution_count": 8,
   "id": "b82e1f12",
   "metadata": {},
   "outputs": [
    {
     "name": "stdout",
     "output_type": "stream",
     "text": [
      "|o|x|x|\n",
      "|o|x|o|\n",
      "|o| |x|\n",
      "\n",
      "\n",
      "Jugadas realizadas:\n",
      "\tPlayer: 1 - Position: [0 0]\n",
      "\tPlayer: 2 - Position: [0 1]\n",
      "\tPlayer: 1 - Position: [1 0]\n",
      "\tPlayer: 2 - Position: [1 1]\n",
      "\tPlayer: 1 - Position: [1 2]\n",
      "\tPlayer: 2 - Position: [2 2]\n",
      "\tPlayer: 1 - Position: [2 0]\n",
      "\n",
      "Utilidad:1.0\n"
     ]
    }
   ],
   "source": [
    "#Toma un juego en donde el jugador 2\n",
    "#ha iniciado marcando el centro\n",
    "game2 = Gato()\n",
    "game2.board[0,2] = -1\n",
    "\n",
    "#Aplica algoritmo\n",
    "result2, jugadas2, utilidad2 = alpha_beta(game2)\n",
    "#Imprime los resultados\n",
    "print(result2)\n",
    "print('\\nJugadas realizadas:')\n",
    "for j in jugadas2:\n",
    "    print('\\tPlayer: {} - Position: {}'.format(j[0], j[1]))\n",
    "print('\\nUtilidad:{}'.format(utilidad2))"
   ]
  },
  {
   "cell_type": "markdown",
   "id": "f09bb8f0",
   "metadata": {},
   "source": [
    "   "
   ]
  }
 ],
 "metadata": {
  "kernelspec": {
   "display_name": "Python 3",
   "language": "python",
   "name": "python3"
  },
  "language_info": {
   "codemirror_mode": {
    "name": "ipython",
    "version": 3
   },
   "file_extension": ".py",
   "mimetype": "text/x-python",
   "name": "python",
   "nbconvert_exporter": "python",
   "pygments_lexer": "ipython3",
   "version": "3.8.8"
  }
 },
 "nbformat": 4,
 "nbformat_minor": 5
}
