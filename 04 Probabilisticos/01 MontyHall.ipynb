{
 "cells": [
  {
   "cell_type": "markdown",
   "id": "a23374e9",
   "metadata": {},
   "source": [
    "# Red bayesiana para el problema de Monty Hall\n",
    "\n",
    "Las redes bayesianas son modelos gráficos dirigidos que representan una probabilidad conjunto como producto de factores de probabilidades condicionales. Cada uno de los nodos de la gráfica se asocia a una variable $X_i$. Si una variable $X_j$ condiciona a otra variable $X_i$, entonces se crea una arista del nodo que representa a $X_j$ hacia el nodo que representa a $X_i$. \n",
    "\n",
    "Esto permite simplificar el cálculo de diferentes probabilidades. Aquí, retomamos un problema probabilístico clásico: el problema de Monty Hall, el cual consiste en que un participante debe elegir 1 de 3 puertas (todas cerradas) de tal forma que éste recibirá como recompensa lo que esté detrás de la puerta. La idea es que en una de las puertas se encuentra un premio (un auto) y en las otras dos no los hay (se encuentran cabras). Así, el participante elige una puerta, pero antes de que se abra la puerta, el presentador, Monty Hall, elige otra puerta, donde sabe que no está el premio. "
   ]
  },
  {
   "cell_type": "markdown",
   "id": "8976f106",
   "metadata": {},
   "source": [
    "## Creación de la red\n",
    "\n",
    "Para crear una red Bayesiana para este problema determinaremos un conjunto de nodos que indexan las variables aleatorias del problema. Los nodos deben contar con:\n",
    "\n",
    "* Nombre: indica la forma en que nos referiremos a cada variable dentro de la red.\n",
    "* Padres: son los nodos que condicionan a la variable actual. Estos nodos son de suma importancia, pues determinan la estructura de la red.\n",
    "* Tabla de probabilidad condicional: es la tabla de probabilidades que se asocia a la variable en el nodo; esta tabla especifica las probabilidades $p\\big(X_i | \\pi(X_i)\\big)$ donde $\\pi(X_i)$ son los padres de la variable $X_i$."
   ]
  },
  {
   "cell_type": "code",
   "execution_count": 1,
   "id": "9bba03b5",
   "metadata": {},
   "outputs": [],
   "source": [
    "import numpy as np\n",
    "\n",
    "class Node(object):\n",
    "    \"\"\"Clase para nodos en la red bayesiana\"\"\"\n",
    "    def __init__(self, name, cpt, parents=None):\n",
    "        #Se asigna un nombre de vairable\n",
    "        self.name = name\n",
    "        #Se determinan sus padres (condiciones)\n",
    "        self.parents = parents\n",
    "        #Se asigna la tabla de probabilidad condicional de la variable\n",
    "        self.cpt = cpt\n",
    "        \n",
    "    def __str__(self):\n",
    "        return \"{}\\n{}\".format(self.name, self.cpt)"
   ]
  },
  {
   "cell_type": "markdown",
   "id": "6f352f8b",
   "metadata": {},
   "source": [
    "Una vez que tenemos la estructura de los nodos, construiremos la red bayesiana en base a la siguiente configuración:\n",
    "\n",
    "![image](images/MontyHall.png)\n",
    "\n",
    "Contamos con tres variables:\n",
    "\n",
    "1. $X_0$: la variable que corresponde a la puerta elegida por el participante.\n",
    "2. $X_1$: la variable que corresponde a la puerta que contiene el premio, y que es conocida por Monty, el presentador.\n",
    "3. $X_2$: la variable que elige el presentador Monty, en el conocimiento de que sabe dónde está el premio.\n",
    "\n",
    "Las variables $X_0$ (guestDoor) y $X_1$ (prizeDoor) son independientes entre sí, pero ambas condicionan a la elección que hará el presentador, es decir, el presentador elegirá una puerta en dónde sabe que no está el premio, y que no ha elegido el invitado.\n",
    "\n",
    "Por tanto, tenemos las probabilidades:\n",
    "\n",
    "1. $p(X_0 = d_0)$, donde $d_0 =0,1,2$, es la probabilidad de que el participante elija una de las 3 puertas. En todo caso, la probabilidad es de $\\frac{1}{3}$.\n",
    "2. $p(X_1 =d_1)$, donde $d_1 =0,1,2$, es la probabilidad de que el premio se encuentre detrás de la puerta $d$. Cada puerta tiene probabilidad de $\\frac{1}{3}$ de contener al premio.\n",
    "3. $p(X_2 = d_2 | X_0 =d_0, X_1= d_1)$ que es la probabilidad de que el presentador, Monty, elija una puerta dado los padres, es decir, dado que el invitado a elegido una puerta $d_0$, y dado que el premio se encuentra en la puerta $d_1$. En este caso, la probabilidad se peude determinar por las elecciones. Si el premio esta en una puerta $d_1$ y el invitado ha elegido $d_0$ entonces la probabilida de elegir alguna de estas puertas es 0. Si las puertas son las mismas $d_0 = d_1$, entonces cada una de las puertas restantes tiene probabilidad de 0.5. Finalemte si $d_0 \\neq d_1$, la probabilidad de que Monty elija la puerta restante es 1.\n",
    "\n",
    "Además, definimos algunas funciones de utilidad:\n",
    "\n",
    "* <tt>get_probs</tt>: Que da la probabilidad de una variable dado un valor.\n",
    "* <tt>consult</tt>: Regresa la probabilidad de una consulta, es decir de una asignación $X_0 =d_0, X_1 =d_1, X_2= d_2$"
   ]
  },
  {
   "cell_type": "code",
   "execution_count": 2,
   "id": "cc5dd79b",
   "metadata": {},
   "outputs": [],
   "source": [
    "class MontyNetwork(object):\n",
    "    \"\"\"Red Bayesiana para el problema de Monty Hall\"\"\"\n",
    "    def __init__(self):\n",
    "        #Variables nodos\n",
    "        self.X0 = Node(name='guestDoor', cpt=[1/3, 1/3, 1/3])\n",
    "        self.X1 = Node(name='prizeDoor', cpt=[1/3, 1/3, 1/3])\n",
    "        self.X2 = Node(name='montyDoor', parents=[self.X0, self.X1],\n",
    "                      cpt=np.array([[[0,0,0],[0.5,0,1],[0.5,1,0]],\n",
    "                                    [[0,0.5,1],[0,0,0],[1,0.5,0]],\n",
    "                                    [[0,1,0.5],[1,0,0.5],[0,0,0]]]))\n",
    "    def get_probs(self, var, value):\n",
    "        \"\"\"Obtiene la propbabilidad de una Variable en base a su valor\"\"\"\n",
    "        if var == 'guestDoor':\n",
    "            return self.X0.cpt[value]\n",
    "        elif var == 'prizeDoor':\n",
    "            return self.X1.cpt[value]\n",
    "        elif var == 'montyDoor':\n",
    "            return self.X2.cpt[:,value,:]\n",
    "    \n",
    "    def consult(self, guest=0, prize=0, monty=0):\n",
    "        \"\"\"Da la probabilidad de una consulta, donde las 3 variables tienen valores\"\"\"\n",
    "        p_guest = self.get_probs('guestDoor', guest)\n",
    "        p_prize = self.get_probs('prizeDoor', prize)\n",
    "        p_monty = self.get_probs('montyDoor', monty)[prize][guest]\n",
    "\n",
    "        return p_monty*p_prize*p_guest"
   ]
  },
  {
   "cell_type": "markdown",
   "id": "c0680e35",
   "metadata": {},
   "source": [
    "Creamos la red Bayesiana para el problema de Monty Hall:"
   ]
  },
  {
   "cell_type": "code",
   "execution_count": 3,
   "id": "caa23083",
   "metadata": {},
   "outputs": [],
   "source": [
    "#Guarda la estructura de red Bayesiana\n",
    "bn = MontyNetwork()"
   ]
  },
  {
   "cell_type": "markdown",
   "id": "a6fb25af",
   "metadata": {},
   "source": [
    "Podemos consultar, las probabilidades de que cada variable tome un valor específico:"
   ]
  },
  {
   "cell_type": "code",
   "execution_count": 4,
   "id": "8c591cd2",
   "metadata": {},
   "outputs": [
    {
     "name": "stdout",
     "output_type": "stream",
     "text": [
      "Probabilidades para monty = 0: \n",
      "0.3333333333333333\n",
      "\n",
      "Probabilidades para monty = 1: \n",
      "[[0.5 0.  1. ]\n",
      " [0.  0.  0. ]\n",
      " [1.  0.  0.5]]\n"
     ]
    }
   ],
   "source": [
    "print('Probabilidades para monty = 0: \\n{}\\n'.format(bn.get_probs('prizeDoor', 0)))\n",
    "print('Probabilidades para monty = 1: \\n{}'.format(bn.get_probs('montyDoor', 1)))"
   ]
  },
  {
   "cell_type": "markdown",
   "id": "2232466f",
   "metadata": {},
   "source": [
    "Y podemos realizar una consulta. Recuérdese que la probabilidad de una consulta es de la forma:\n",
    "\n",
    "$$p(X_0 =x_0, X_1 = x_1, \\cdots, X_n = x_n) = \\prod_{i=0}^n p\\big(X_i = x_i | \\pi(X_i)\\big)$$\n",
    "\n",
    "Que en este caso tiene la forma:\n",
    "\n",
    "$$p(X_0 =d_0, X_1= d_1, X_2=d_2) = p(X_2 = d_2 | X_0=d_0, X_1=d_1)p(X_1=d_1) p(X_0 = d_0)$$"
   ]
  },
  {
   "cell_type": "code",
   "execution_count": 5,
   "id": "8c05dfbb",
   "metadata": {},
   "outputs": [
    {
     "name": "stdout",
     "output_type": "stream",
     "text": [
      "Probabilidad de la consulta X1=0,X2=2,X_3=1: 0.1111111111111111\n"
     ]
    }
   ],
   "source": [
    "#Consulta\n",
    "cons = [0,2,1]\n",
    "#Probabilidad conjunta de una consulta\n",
    "prob = bn.consult(guest=cons[0], prize=cons[1], monty=cons[2])\n",
    "\n",
    "print('Probabilidad de la consulta X1={},X2={},X_3={}: {}'.format(cons[0],cons[1],cons[2], prob))"
   ]
  },
  {
   "cell_type": "markdown",
   "id": "ff846a01",
   "metadata": {},
   "source": [
    "De igual forma, podemos calcular la probabilidad de las variables. En este caso, por ejemplo, no conocemos la probabilidad marginal de la variable $X_2$ correspondiente a la elección de Monty. En este caso, la probabilidad está determinada de la forma:\n",
    "\n",
    "$$p(X_2 = d_2) = \\sum_{d_0} \\sum_{d_1} p(X_0 =d_0, X_1= d_1, X_2=d_2) $$\n",
    "\n",
    "Definimos una función que calcule esto para cada uno de los posibles valores de $d_2$, por lo que nos regresará un vector con 3 entradas."
   ]
  },
  {
   "cell_type": "code",
   "execution_count": 6,
   "id": "edf23fa8",
   "metadata": {},
   "outputs": [],
   "source": [
    "def prob_monty(bn):\n",
    "        \"\"\"Obtiene la probabilidad total de la variable monty\"\"\"\n",
    "        total_prob = 0\n",
    "        for i in [0,1,2]:\n",
    "            for j in [0,1,2]:\n",
    "                total_prob += bn.X2.cpt[i,:,j]*bn.X1.cpt[i]*bn.X0.cpt[j]\n",
    "                \n",
    "        return total_prob"
   ]
  },
  {
   "cell_type": "code",
   "execution_count": 7,
   "id": "1a1be18b",
   "metadata": {},
   "outputs": [
    {
     "name": "stdout",
     "output_type": "stream",
     "text": [
      "Probabilidades de X2: \n",
      "[0.33333333 0.33333333 0.33333333]\n"
     ]
    }
   ],
   "source": [
    "print('Probabilidades de X2: \\n{}'.format(prob_monty(bn)))"
   ]
  },
  {
   "cell_type": "markdown",
   "id": "100d51c7",
   "metadata": {},
   "source": [
    "Como podemos observar, la probabilidad de que Monty elija cada una de las puertas es $\\frac{1}{3}$, lo que no es de extrañar. Pues en principio esta probabilidad no cuenta con ninguna otra información. Lo que nos interesa ahora es saber qué pasa cuando tenemos información de otras variables. Principalmente, nos interesa saber qué pasa con la variable del premio. Si conocemos que el invitado y monty han hecho una elección ¿en dónde es más probable que se encuentre el premio."
   ]
  }
 ],
 "metadata": {
  "kernelspec": {
   "display_name": "Python 3",
   "language": "python",
   "name": "python3"
  },
  "language_info": {
   "codemirror_mode": {
    "name": "ipython",
    "version": 3
   },
   "file_extension": ".py",
   "mimetype": "text/x-python",
   "name": "python",
   "nbconvert_exporter": "python",
   "pygments_lexer": "ipython3",
   "version": "3.8.8"
  }
 },
 "nbformat": 4,
 "nbformat_minor": 5
}
