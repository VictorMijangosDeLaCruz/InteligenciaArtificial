{
 "cells": [
  {
   "cell_type": "markdown",
   "id": "383f6107",
   "metadata": {},
   "source": [
    "# Muestreo por rechazo\n",
    "\n",
    "Para estimar las probabilidades a partir de una red Bayesiana, se puede utilizar inferencia por aproximación, a partir de generar un conjunto de muestras de los eventos de interés. Un algoritmo para hacer este tipo de inferenecia es el de muestreo por rechazo. Este es un algoritmo simple que toma muestras aleatorias a partir de la red bayesiana y rechaza aquellas muestras que no respondan a la evidencia.\n",
    "\n",
    "Presentamos la aplicación del muestreo por rechazo a una red bayesiana que representa el problema de Monty Hall. El objetivo del muestreo por rechazo será que, dada la evidencia correspondiente a la elección de puertas del invitado y del presentador (Monty), podamos determinar la probabilidad de que en una puerta se encuentre o no el premio."
   ]
  },
  {
   "cell_type": "code",
   "execution_count": 1,
   "id": "c82964ac",
   "metadata": {},
   "outputs": [],
   "source": [
    "import numpy as np\n",
    "from bayesian_monty import MontyNetwork\n",
    "\n",
    "#Guarda la estructura de red Bayesiana\n",
    "bn = MontyNetwork()"
   ]
  },
  {
   "cell_type": "markdown",
   "id": "ebc24d2d",
   "metadata": {},
   "source": [
    "### Muestreo de prior\n",
    "\n",
    "El muestreo de prior es un método de muestreo directo que genera una muestra a partir de una red bayesiana. En este caso, se toma una muestra aleatoria de las puertas elegidas en cada variabe (invitado, monty y la puerta del premio). Estas muestras se toman en base a las probabilidades de la red. Generalmente, el muestre de variables se hace en orden topológico."
   ]
  },
  {
   "cell_type": "code",
   "execution_count": 2,
   "id": "a593a956",
   "metadata": {},
   "outputs": [],
   "source": [
    "def prior_sample(bn):\n",
    "    \"\"\"Muestreo de prior genera una muestra aleatoria de un evento\"\"\"\n",
    "    #Guarda la muestra generada\n",
    "    x = np.zeros(3, dtype=int)\n",
    "    #Genera muestra de la primera variable\n",
    "    x[0] = np.random.choice([0,1,2], p=bn.X0.cpt)\n",
    "    #Genera muestra de la segunda variable\n",
    "    x[1] = np.random.choice([0,1,2], p=bn.X1.cpt)\n",
    "    #Genera muestra de la tercera variable con base en las muestras previas\n",
    "    x[2] = np.random.choice([0,1,2], p=bn.X2.cpt[x[1],:,x[0]])\n",
    "    \n",
    "    return x"
   ]
  },
  {
   "cell_type": "markdown",
   "id": "902b5c56",
   "metadata": {},
   "source": [
    "Aplicando la función de <tt>prior_sample</tt> lo que obtendremos es una muestra aleatoria donde cada entrada será la elección de una de las puertas para cada variable $X_0, X_1$ y $X_2$ en este orden."
   ]
  },
  {
   "cell_type": "code",
   "execution_count": 3,
   "id": "017919c8",
   "metadata": {},
   "outputs": [
    {
     "name": "stdout",
     "output_type": "stream",
     "text": [
      "[2 2 1]\n"
     ]
    }
   ],
   "source": [
    "#Genera una muestra\n",
    "print(prior_sample(bn))"
   ]
  },
  {
   "cell_type": "markdown",
   "id": "092b8f36",
   "metadata": {},
   "source": [
    "## Método de muestreo por rechazo\n",
    "\n",
    "El muestre por rechazo se basa en el muestreo de prior. Es un algoritmo muy sencillo que realizará los siguientes pasos:\n",
    "\n",
    "1. Generará un vector $C$ para los valores de la variable de interés, que en este caso es $X_1$, que corresponde la variable del premio.\n",
    "2. Tomará una muestra aleatoria en base al muestreo de prior.\n",
    "3. Si esta muestra es consistente con la evidencia (toma los valores que se han determinado para las otras variables), entonces sumará 1 al valor correspondiente en $C$.\n",
    "4. Repetirá el proceso $N$ veces, para obtener $N$ muestras.\n",
    "5. Normaliza $C$ dividiendo entre la suma total de los conteos en $C$ para obtener una probabilidad y regresa $C$.\n",
    "\n",
    "Por tanto, lo que obtendremos será una inferencia de las probabilidades para la variable determinada; en este caso, tendremos la probabilidad de que dada la elección previa de un invitado y la elección del presentador, el premio se encuentre detrás de alguna de las puertas."
   ]
  },
  {
   "cell_type": "code",
   "execution_count": 4,
   "id": "5e93d89a",
   "metadata": {},
   "outputs": [],
   "source": [
    "def rejection_sampling(bn, guest, monty, N=100):\n",
    "    \"\"\"Algoritmo de muestreo por rechazo\"\"\"\n",
    "    #Inicializa la variable\n",
    "    C = np.zeros(3)\n",
    "    for j in range(0, N):\n",
    "        #Genera una muestra aleatoria\n",
    "        x = prior_sample(bn)\n",
    "        #Rechaza las muestras que no cuentan con la evidencia\n",
    "        if x[0]==guest and x[2]==monty:\n",
    "            C[x[1]] += 1\n",
    "            \n",
    "    return C/C.sum()"
   ]
  },
  {
   "cell_type": "markdown",
   "id": "8eb157a6",
   "metadata": {},
   "source": [
    "En general, esperamos que entre mayor sea el número de muestras, más cercano sea el valor obtenido por el muestreo por rechazo a las probabilidades reales. Esto se debe a la ley de los grandes números, la cuál señala que:\n",
    "\n",
    "$$\\lim_{N\\to \\infty} \\frac{1}{N} X_i  = \\mathbb{E}\\big[ X \\big]$$\n",
    "\n",
    "Donde la convergencia es en probabilidad. De tal forma que, entre más grande sea $N$, más podremos acercarnos al valor real. Aunque muchas veces, la convergencia puede darse antes. En este caso tomamos 1000 muestras."
   ]
  },
  {
   "cell_type": "code",
   "execution_count": 5,
   "id": "21efc8a0",
   "metadata": {},
   "outputs": [
    {
     "name": "stdout",
     "output_type": "stream",
     "text": [
      "p(X1=0|X0=1, X2=2)=0.68\n",
      "p(X1=1|X0=1, X2=2)=0.32\n",
      "p(X1=2|X0=1, X2=2)=0.0\n"
     ]
    }
   ],
   "source": [
    "#Genera la inferencia\n",
    "pX1 = rejection_sampling(bn, guest=1,monty=2, N=1000)\n",
    "\n",
    "#Imprime los resiltados\n",
    "for i in range(3):\n",
    "    print('p(X1={}|X0=1, X2=2)={}'.format(i, np.round(pX1[i],2)))"
   ]
  },
  {
   "cell_type": "markdown",
   "id": "1f1ede78",
   "metadata": {},
   "source": [
    "Los valores de las probabilidades se acercan mucho a los valores estimados de forma exacta. La puerta elegida por el presentador siempre tendrá probabilidad 0 (pues siempre elegirá una puerta que no tenga el premio), mientras que la puerta elegida por el invitado tendrá probabilidad $\\frac{1}{3}$, y la puerta restante probabilidad de $\\frac{2}{3}$. En este caso, vemos que con 1000 muestras hemos aproximado suficiente los valores reales."
   ]
  },
  {
   "cell_type": "markdown",
   "id": "82e18236",
   "metadata": {},
   "source": [
    "### Convergencia de la inferencia\n",
    "\n",
    "Finalmente, podemos ver como se da la convergencia de esta inferencia a través del número de muestras:"
   ]
  },
  {
   "cell_type": "code",
   "execution_count": 6,
   "id": "d164f46c",
   "metadata": {
    "scrolled": true
   },
   "outputs": [
    {
     "name": "stderr",
     "output_type": "stream",
     "text": [
      "<ipython-input-6-36e3aafe4a9a>:9: RuntimeWarning: invalid value encountered in divide\n",
      "  p0.append((C/C.sum())[0])\n",
      "<ipython-input-6-36e3aafe4a9a>:10: RuntimeWarning: invalid value encountered in divide\n",
      "  p1.append((C/C.sum())[1])\n",
      "<ipython-input-6-36e3aafe4a9a>:11: RuntimeWarning: invalid value encountered in divide\n",
      "  p2.append((C/C.sum())[2])\n"
     ]
    }
   ],
   "source": [
    "#Obtiene probabilidades\n",
    "p0, p1, p2 = [], [], []\n",
    "C = np.zeros(3)\n",
    "for j in range(1,1000):\n",
    "    x = prior_sample(bn)\n",
    "    if x[0]==1 and x[2]==2:\n",
    "        C[x[1]] += 1\n",
    "    \n",
    "    p0.append((C/C.sum())[0])\n",
    "    p1.append((C/C.sum())[1])\n",
    "    p2.append((C/C.sum())[2])"
   ]
  },
  {
   "cell_type": "markdown",
   "id": "88efcb6d",
   "metadata": {},
   "source": [
    "Como se puede observar, entre más crece el número de meustras más se acercan las probabilidades estimadas por el muestre por rechazo a las probabilidades reales, estabilizándose cerca de los valores de $\\frac{2}{3}$ y $\\frac{1}{3}$."
   ]
  },
  {
   "cell_type": "code",
   "execution_count": 7,
   "id": "f17798e4",
   "metadata": {},
   "outputs": [
    {
     "data": {
      "image/png": "[encoded data removed]",
      "text/plain": [
       "<Figure size 432x288 with 1 Axes>"
      ]
     },
     "metadata": {
      "needs_background": "light"
     },
     "output_type": "display_data"
    }
   ],
   "source": [
    "import matplotlib.pyplot as plt\n",
    "fig, ax = plt.subplots()\n",
    "\n",
    "ax.plot(p0, label='$p(X_1=0|X_0=1,X_2=2)$')\n",
    "ax.plot(p1, label='$p(X_1=1|X_0=1,X_2=2)$')\n",
    "ax.plot(p2, label='$p(X_1=2|X_0=1,X_2=2)$')\n",
    "legend = ax.legend(loc='upper right', shadow=True)\n",
    "plt.title('Convergencia de las muestras a la probabilidad')\n",
    "plt.xlabel('Número de muestras')\n",
    "plt.ylabel('Probabilidad')\n",
    "plt.show()"
   ]
  }
 ],
 "metadata": {
  "kernelspec": {
   "display_name": "Python 3",
   "language": "python",
   "name": "python3"
  },
  "language_info": {
   "codemirror_mode": {
    "name": "ipython",
    "version": 3
   },
   "file_extension": ".py",
   "mimetype": "text/x-python",
   "name": "python",
   "nbconvert_exporter": "python",
   "pygments_lexer": "ipython3",
   "version": "3.8.8"
  }
 },
 "nbformat": 4,
 "nbformat_minor": 5
}
