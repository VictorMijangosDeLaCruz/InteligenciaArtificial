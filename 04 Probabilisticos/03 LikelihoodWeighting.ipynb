{
 "cells": [
  {
   "cell_type": "markdown",
   "id": "025d82bc",
   "metadata": {},
   "source": [
    "# Ponderación de verosimilitud\n",
    "\n",
    "El algoritmo de ponderación de verosimilitud es un método de muestreo por importancia, métodos que se enfocan en usar una distribución particular $Q$ para obtener la inferencia de la distribución objetivo $P$. Presentamos una aplicación de la ponderación de verosimilitud para la red bayesiana correspondiente al problema de Monty Hall. Usamos este método para estimar la probabilidad de elegir entre la puerta previamente dada (la puerta del invitado) y la otra puerta con base en la evidencia de las elecciones del invitado y Monty."
   ]
  },
  {
   "cell_type": "code",
   "execution_count": 1,
   "id": "32caead7",
   "metadata": {},
   "outputs": [],
   "source": [
    "import numpy as np\n",
    "from bayesian_monty import MontyNetwork\n",
    "\n",
    "#Guarda la estructura de red Bayesiana\n",
    "bn = MontyNetwork()"
   ]
  },
  {
   "cell_type": "markdown",
   "id": "8303608d",
   "metadata": {},
   "source": [
    "### Muestreo pesado\n",
    "\n",
    "La ponderación de verosimilitud se basa en una función de muestreo pesado. Esta función toma valores determinados de la evidencia (que en nuestro caso corresponden a las elecciones del invitado y del presentador, Monty), y muestrea los valores que no son evidencia (en este caso, el premio) condicionados a sus padres en un orden topológico. Este orden topológico es aquí $X_0, X_1, X_2$, pues $X_0$ y $X_1$ no están condicionados a ninguna otra variable (también se podría tomar el orden $X_1, X_0, X_2$), mientras que $X_2$ se explora al final, pues está condicionada a las variables anteriores.\n",
    "\n",
    "El muestreo pesado devuelve el resultado de la muestra, pero también regresa un peso, que es una probabilidad determinada como:\n",
    "\n",
    "$$w(x) = \\prod_{i=1}^l p\\big(x_i|\\pi(X_i) \\big)$$\n",
    "\n",
    "Por lo tanto, no sólo se obtiene la muestra, sino un peso que representa la probabilidad de esta muestra.    "
   ]
  },
  {
   "cell_type": "code",
   "execution_count": 2,
   "id": "16aa6ddb",
   "metadata": {},
   "outputs": [],
   "source": [
    "def weighted_sample(bn, guest, monty):\n",
    "    \"\"\"Realiza un muestreo aleatorio con peso, según evidencia\"\"\"\n",
    "    #Inicializa peso y muestra\n",
    "    w = 1\n",
    "    x = 0\n",
    "    for Xi in [bn.X0, bn.X1, bn.X2]:\n",
    "        #Revisa las variables\n",
    "        #Si no es evidencia, genera una muestra\n",
    "        if Xi.name == 'prizeDoor':\n",
    "            x = np.random.choice([0,1,2], p= Xi.cpt)\n",
    "        #Si es evidencia, toma el valor con peso\n",
    "        elif Xi.name == 'guestDoor':\n",
    "            w = w*Xi.cpt[guest]\n",
    "        else:\n",
    "            w = w*Xi.cpt[x,monty,guest]\n",
    "            \n",
    "    return x,w"
   ]
  },
  {
   "cell_type": "markdown",
   "id": "d6ebbd37",
   "metadata": {},
   "source": [
    "Podemos ver un ejemplo de lo que devuelve la función, el primer elemento es la muestra: la elección posible de una de las puertas; el segundo elemento es el peso $w(x)$."
   ]
  },
  {
   "cell_type": "code",
   "execution_count": 3,
   "id": "5dea15df",
   "metadata": {},
   "outputs": [
    {
     "data": {
      "text/plain": [
       "(0, 0.3333333333333333)"
      ]
     },
     "execution_count": 3,
     "metadata": {},
     "output_type": "execute_result"
    }
   ],
   "source": [
    "weighted_sample(bn, guest=1, monty=2)"
   ]
  },
  {
   "cell_type": "markdown",
   "id": "fd2f5a7f",
   "metadata": {},
   "source": [
    "## Algoritmo de ponderación de la verosimilitud\n",
    "\n",
    "Finalmente, para realizar la estimación de la probabilidad de la consulta (que en este caso es la probabilidad de que el premio esté en alguna de las puertas dada las elecciones anteriores), el algoritmo tomará un vector de valores $W$ y cada vez que haga una muestra no sumará 1 (como lo hacia el muestreo por rechazo), si no el peso de esta muestra. Esto es:\n",
    "\n",
    "$$W(x_i) = \\sum_{j=1}^N w(x)_j$$\n",
    "\n",
    "Donde $N$ es el número de muestras que se desean realizar. De nuevo, entre mayor sea $N$ más nos acercaremos a la probabilidad real, por la ley de los grandes números. Finalmente, los valores se normalizan para obtener probabilidades."
   ]
  },
  {
   "cell_type": "code",
   "execution_count": 4,
   "id": "a57df473",
   "metadata": {},
   "outputs": [],
   "source": [
    "def likelihood_weighting(bn, guest, monty, N=100):\n",
    "    \"\"\"Inferencia por ponderación de verosimilitud\"\"\"\n",
    "    #Inicializa los valores\n",
    "    W = np.zeros(3)\n",
    "    for j in range(N):\n",
    "        #Aplica muestreo ponderado\n",
    "        x,w = weighted_sample(bn, guest,monty)\n",
    "        #Actualiza los valores\n",
    "        W[x] = W[x] + w\n",
    "        \n",
    "    return W/W.sum()"
   ]
  },
  {
   "cell_type": "markdown",
   "id": "1db580d4",
   "metadata": {},
   "source": [
    "Podemos observar que al correr el método para $N=1000$ muestras podemos obtener valores bastante cercanos a la probabilidad que esperamos obtener:"
   ]
  },
  {
   "cell_type": "code",
   "execution_count": 5,
   "id": "240d5579",
   "metadata": {},
   "outputs": [
    {
     "name": "stdout",
     "output_type": "stream",
     "text": [
      "p(X1=0|X0=1, X2=2)=0.65\n",
      "p(X1=1|X0=1, X2=2)=0.35\n",
      "p(X1=2|X0=1, X2=2)=0.0\n"
     ]
    }
   ],
   "source": [
    "#Realzia la inferencia\n",
    "pX1 = likelihood_weighting(bn, guest=1,monty=2, N=1000)\n",
    "\n",
    "#Imprime los resiltados\n",
    "for i in range(3):\n",
    "    print('p(X1={}|X0=1, X2=2)={}'.format(i, np.round(pX1[i],2)))"
   ]
  },
  {
   "cell_type": "markdown",
   "id": "9d8d341f",
   "metadata": {},
   "source": [
    "### Convergencia de la inferencia\n",
    "\n",
    "Finalmente, podemos ver como convergen los valores de las probabilidades según el número de muestras que se han realizado."
   ]
  },
  {
   "cell_type": "code",
   "execution_count": 6,
   "id": "a41aa240",
   "metadata": {},
   "outputs": [],
   "source": [
    "p0, p1, p2 = [], [], []\n",
    "W = np.zeros(3)\n",
    "for j in range(1,1000):\n",
    "    x,w = weighted_sample(bn, 1,2)\n",
    "    W[x] = W[x] + w\n",
    "    prob = W/W.sum()\n",
    "    p0.append(prob[0])\n",
    "    p1.append(prob[1])\n",
    "    p2.append(prob[2])"
   ]
  },
  {
   "cell_type": "markdown",
   "id": "44f966cd",
   "metadata": {},
   "source": [
    "Como se puede observar, entre más crece el número de meustras más se acercan las probabilidades estimadas por ponderación de la verosimilitud a las probabilidades reales, estabilizándose cerca de los valores de $\\frac{2}{3}$ y $\\frac{1}{3}$. Puede, además, observarse, que la convergencia parece estabilizarse más rápido que con el muestreo por rechazo."
   ]
  },
  {
   "cell_type": "code",
   "execution_count": 7,
   "id": "6d8cff75",
   "metadata": {},
   "outputs": [
    {
     "data": {
      "image/png": "[encoded data removed]",
      "text/plain": [
       "<Figure size 432x288 with 1 Axes>"
      ]
     },
     "metadata": {
      "needs_background": "light"
     },
     "output_type": "display_data"
    }
   ],
   "source": [
    "import matplotlib.pyplot as plt\n",
    "fig, ax = plt.subplots()\n",
    "\n",
    "ax.plot(p0, label='$p(X_1=0|X_0=1,X_2=2)$')\n",
    "ax.plot(p1, label='$p(X_1=1|X_0=1,X_2=2)$')\n",
    "ax.plot(p2, label='$p(X_1=2|X_0=1,X_2=2)$')\n",
    "legend = ax.legend(loc='upper right', shadow=True)\n",
    "plt.title('Convergencia de las muestras a la probabilidad')\n",
    "plt.xlabel('Número de muestras')\n",
    "plt.ylabel('Probabilidad')\n",
    "plt.show()"
   ]
  },
  {
   "cell_type": "markdown",
   "id": "a9db726f",
   "metadata": {},
   "source": [
    "    "
   ]
  }
 ],
 "metadata": {
  "kernelspec": {
   "display_name": "Python 3",
   "language": "python",
   "name": "python3"
  },
  "language_info": {
   "codemirror_mode": {
    "name": "ipython",
    "version": 3
   },
   "file_extension": ".py",
   "mimetype": "text/x-python",
   "name": "python",
   "nbconvert_exporter": "python",
   "pygments_lexer": "ipython3",
   "version": "3.8.8"
  }
 },
 "nbformat": 4,
 "nbformat_minor": 5
}
