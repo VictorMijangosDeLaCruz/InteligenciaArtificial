{
 "cells": [
  {
   "cell_type": "markdown",
   "id": "4c984fc9",
   "metadata": {},
   "source": [
    "# Modelo de Bayes Naïve Gaussiano\n",
    "\n",
    "El modelo de Bayes Naïve Gaussiano es un modelo de red bayesiana simple, en donde la variable $Y$ (la clase) es el nodo padre de un conjunto de nodos $X_i$ que representan una evidencia. De tal forma, que dado un vector de evidencia $x = \\begin{pmatrix} x_1 & x_2 \\cdots & x_d \\end{pmatrix}$ determina la probabilidad de que pertenezca a una de las clases $y$, valores que puede tomar la variable $Y$.\n",
    "\n",
    "En el modelo Gaussiano, la estimación de las probabilidades se hace por medio de asumir que los datos tienen una distribución gaussiana; en este sentido, tenemos que estimar, a partir de datos de entrenamiento, los valores de las medias y las varianzas de cada una de las clases.\n",
    "\n",
    "## Algoritmo de Bayes Naïve Gaussiano\n",
    "\n",
    "La implementación del algoritmo se hace a partir de una clase; esta clase guardará los priors: estos se pueden asignar en un principio o estimarse a partir de las clases. Estos priors responden a las tablas de probabilidad para la variable $Y$, $p(Y)$.\n",
    "\n",
    "También estimaremos la tabla condicional para cada una de las variables $X_i$, que sólo tienen como padre a la variable $Y$. De tal forma, que estimaremos las probabilidades $p(X_i|Y)$; se asume que estas probabilidades son gaussianas, y por tanto estimaremos los parámetros de la distribución $\\mu_y$ (las medias de las clases $y$), así como $\\sigma^2_y$ (las varianzas de las clases $y$). Por tanto, las probabilidades que se estimarán serán:\n",
    "\n",
    "$$p(X_i = x_i | Y=y) = \\frac{1}{\\sqrt{2\\pi\\sigma^2}}e^{-\\frac{(x_i - \\mu_y)^2}{2 \\sigma_y^2}}$$\n",
    "\n",
    "De tal forma, que la probabilidad conjunta estará determinada como:\n",
    "\n",
    "$$p(Y=y, X_1=x_1, \\cdots, X_d=x_d) = p(Y=y) \\prod_{i=1}^d p(X_i = x_i | Y=y)$$\n",
    "\n",
    "Y para poder decidir sobre una clase, simplemente se elegirá aquella clase que maximice la probabilidad estimada:\n",
    "\n",
    "$$\\hat{y} = \\arg\\max_y p(Y=y, X_1=x_1, \\cdots, X_d=x_d)$$"
   ]
  },
  {
   "cell_type": "code",
   "execution_count": 1,
   "id": "87ee57be",
   "metadata": {},
   "outputs": [],
   "source": [
    "import numpy as np\n",
    "from collections import Counter\n",
    "\n",
    "class GaussianNaiveBayes(object):\n",
    "    \"\"\"Clase para el modelo de Bayes ingenuo Gaussiano\"\"\"\n",
    "    def __init__(self, priors={}, labels=[]):\n",
    "        #Si hay priors predefinidos se consideran\n",
    "        #De otra forma, calcula los priors\n",
    "        self.priors = priors\n",
    "        #Guarda nombres de clases\n",
    "        self.labels = list(labels)\n",
    "        \n",
    "    def fit(self, x,y):\n",
    "        \"\"\"Función para estimación de las probabilidades. Estima medias y varianzas\"\"\"\n",
    "        self.n, self.m = x.shape\n",
    "        self.samples = Counter(y)\n",
    "        self.num_cats = len(self.samples.keys())\n",
    "        \n",
    "        #Si se ha dado nombres categóricos a las clases, los toma en cuenta\n",
    "        if self.labels != []:\n",
    "            self.labels = {k:name for k,name in enumerate(self.labels)}\n",
    "        else:\n",
    "            self.labels = {k:k for k in self.samples.keys()}\n",
    "        \n",
    "        #Estima los priors\n",
    "        if self.priors == {}:\n",
    "            n = sum(self.samples.values())\n",
    "            self.priors = {i:f/n for i,f in self.samples.items()}\n",
    "        \n",
    "        #Estima las medias\n",
    "        self.means = np.zeros((self.num_cats,self.m))\n",
    "        for x_i, y_i in zip(x,y):\n",
    "            self.means[y_i] += x_i/self.samples[y_i]\n",
    "\n",
    "        #Estima las varianzas\n",
    "        self.sigmas = np.zeros((self.num_cats,self.m))\n",
    "        for x_i, y_i in zip(x,y):\n",
    "            self.sigmas[y_i] += (x_i - self.means[y_i])**2/(self.samples[y_i]-1)\n",
    "            \n",
    "    def predict_proba(self, x):\n",
    "        \"\"\"Predice la probabilidad en base a la función gaussiana\"\"\"\n",
    "        diff = (x-self.means)**2\n",
    "        value =  diff/(2*self.sigmas)\n",
    "        probs = np.prod( np.exp(-value), axis=1 )\n",
    "        \n",
    "        return {label:probs[k] for k,label in self.labels.items()}\n",
    "    \n",
    "    def predict(self, x):\n",
    "        \"\"\"Devuelve la clase con mayor probabilidad\"\"\"\n",
    "        probs = self.predict_proba(x)\n",
    "        return max(probs, key=probs.get)"
   ]
  },
  {
   "cell_type": "markdown",
   "id": "a857539d",
   "metadata": {},
   "source": [
    "### Conjunto de datos a utilizar\n",
    "\n",
    "Para probar nuestro modelo de Bayes naïve gaussiano, utilizamos un conjunto de datos que se puede encontrar en la paquetería <tt>sklearn</tt>. Este conjunto de datos, <tt>iris</tt>, contiene 3 clases correspondientes a especies de iris: setosa, vesicolor y virginica.\n",
    "\n",
    "![image](images/Iris.png)\n",
    "\n",
    "Cada muestra está caracterizada por un vector de cuatro variables:\n",
    "\n",
    "1. La longitud de la sepa.\n",
    "2. Anchura de la sepa.\n",
    "3. Longitud del pétalo.\n",
    "4. Anchura del pétalo.\n",
    "\n",
    "A partir de estas cuatro variables, estimaremos las medias y las varianzas de cada una de ellas, de tal forma que se pueda calcular la probabilidad de que un vector $x$ caracterizado por estas cuatro variables pertenezca a alguno de los tres tipos de iris. \n",
    "\n",
    "Para probar qué también trabaja el modelo, separaremos los datos en los de entrenamiento y evaluación. El entrenamiento nos ayudará a estimar la media y la varianza. La evaluación se usará para estimar las clases y poder evaluar qué también lo hace el modelo."
   ]
  },
  {
   "cell_type": "code",
   "execution_count": 2,
   "id": "20740418",
   "metadata": {},
   "outputs": [
    {
     "name": "stdout",
     "output_type": "stream",
     "text": [
      "Clases de los datos:\n",
      "['setosa' 'versicolor' 'virginica']\n"
     ]
    },
    {
     "data": {
      "text/html": [
       "<div>\n",
       "<style scoped>\n",
       "    .dataframe tbody tr th:only-of-type {\n",
       "        vertical-align: middle;\n",
       "    }\n",
       "\n",
       "    .dataframe tbody tr th {\n",
       "        vertical-align: top;\n",
       "    }\n",
       "\n",
       "    .dataframe thead th {\n",
       "        text-align: right;\n",
       "    }\n",
       "</style>\n",
       "<table border=\"1\" class=\"dataframe\">\n",
       "  <thead>\n",
       "    <tr style=\"text-align: right;\">\n",
       "      <th></th>\n",
       "      <th>sepal length (cm)</th>\n",
       "      <th>sepal width (cm)</th>\n",
       "      <th>petal length (cm)</th>\n",
       "      <th>petal width (cm)</th>\n",
       "    </tr>\n",
       "  </thead>\n",
       "  <tbody>\n",
       "    <tr>\n",
       "      <th>0</th>\n",
       "      <td>5.8</td>\n",
       "      <td>2.8</td>\n",
       "      <td>5.1</td>\n",
       "      <td>2.4</td>\n",
       "    </tr>\n",
       "    <tr>\n",
       "      <th>1</th>\n",
       "      <td>6.3</td>\n",
       "      <td>3.4</td>\n",
       "      <td>5.6</td>\n",
       "      <td>2.4</td>\n",
       "    </tr>\n",
       "    <tr>\n",
       "      <th>2</th>\n",
       "      <td>5.5</td>\n",
       "      <td>2.3</td>\n",
       "      <td>4.0</td>\n",
       "      <td>1.3</td>\n",
       "    </tr>\n",
       "    <tr>\n",
       "      <th>3</th>\n",
       "      <td>5.1</td>\n",
       "      <td>3.8</td>\n",
       "      <td>1.5</td>\n",
       "      <td>0.3</td>\n",
       "    </tr>\n",
       "    <tr>\n",
       "      <th>4</th>\n",
       "      <td>4.4</td>\n",
       "      <td>3.0</td>\n",
       "      <td>1.3</td>\n",
       "      <td>0.2</td>\n",
       "    </tr>\n",
       "    <tr>\n",
       "      <th>...</th>\n",
       "      <td>...</td>\n",
       "      <td>...</td>\n",
       "      <td>...</td>\n",
       "      <td>...</td>\n",
       "    </tr>\n",
       "    <tr>\n",
       "      <th>100</th>\n",
       "      <td>5.1</td>\n",
       "      <td>3.5</td>\n",
       "      <td>1.4</td>\n",
       "      <td>0.3</td>\n",
       "    </tr>\n",
       "    <tr>\n",
       "      <th>101</th>\n",
       "      <td>5.1</td>\n",
       "      <td>2.5</td>\n",
       "      <td>3.0</td>\n",
       "      <td>1.1</td>\n",
       "    </tr>\n",
       "    <tr>\n",
       "      <th>102</th>\n",
       "      <td>5.6</td>\n",
       "      <td>3.0</td>\n",
       "      <td>4.5</td>\n",
       "      <td>1.5</td>\n",
       "    </tr>\n",
       "    <tr>\n",
       "      <th>103</th>\n",
       "      <td>6.2</td>\n",
       "      <td>2.8</td>\n",
       "      <td>4.8</td>\n",
       "      <td>1.8</td>\n",
       "    </tr>\n",
       "    <tr>\n",
       "      <th>104</th>\n",
       "      <td>7.2</td>\n",
       "      <td>3.6</td>\n",
       "      <td>6.1</td>\n",
       "      <td>2.5</td>\n",
       "    </tr>\n",
       "  </tbody>\n",
       "</table>\n",
       "<p>105 rows × 4 columns</p>\n",
       "</div>"
      ],
      "text/plain": [
       "     sepal length (cm)  sepal width (cm)  petal length (cm)  petal width (cm)\n",
       "0                  5.8               2.8                5.1               2.4\n",
       "1                  6.3               3.4                5.6               2.4\n",
       "2                  5.5               2.3                4.0               1.3\n",
       "3                  5.1               3.8                1.5               0.3\n",
       "4                  4.4               3.0                1.3               0.2\n",
       "..                 ...               ...                ...               ...\n",
       "100                5.1               3.5                1.4               0.3\n",
       "101                5.1               2.5                3.0               1.1\n",
       "102                5.6               3.0                4.5               1.5\n",
       "103                6.2               2.8                4.8               1.8\n",
       "104                7.2               3.6                6.1               2.5\n",
       "\n",
       "[105 rows x 4 columns]"
      ]
     },
     "execution_count": 2,
     "metadata": {},
     "output_type": "execute_result"
    }
   ],
   "source": [
    "import pandas as pd\n",
    "from sklearn.datasets import load_iris\n",
    "from sklearn.model_selection import train_test_split\n",
    "\n",
    "#Carga los datos tabulares\n",
    "dataset = load_iris()\n",
    "x = dataset.data\n",
    "y = dataset.target\n",
    "\n",
    "#Separa los datos en entrenamiento y evaluación\n",
    "x_train, x_test, y_train, y_test = train_test_split(\n",
    "    x, y, test_size=0.3, random_state=123\n",
    ")\n",
    "\n",
    "#Imprime las clases\n",
    "print('Clases de los datos:\\n{}'.format(dataset.target_names))\n",
    "#Muestra los valores de los datos\n",
    "pd.DataFrame(data=x_train, columns=dataset.feature_names)"
   ]
  },
  {
   "cell_type": "markdown",
   "id": "2cc1632a",
   "metadata": {},
   "source": [
    "### Estimación de parámetros\n",
    "\n",
    "Procedemos a cargar el modelo y aplicamos la función <tt>fit</tt> (que al igual que con el modelo frecuentista, estima los parámetros); en este caso, los parámetros son valores de la media y la varianza de cada una de las variables en cada una de las tres clases:"
   ]
  },
  {
   "cell_type": "code",
   "execution_count": 3,
   "id": "d027326f",
   "metadata": {},
   "outputs": [],
   "source": [
    "#Carga el modelo asignando etiquetas a las clases\n",
    "model = GaussianNaiveBayes(labels=dataset.target_names)\n",
    "#Estima el modelo\n",
    "model.fit(x,y)"
   ]
  },
  {
   "cell_type": "markdown",
   "id": "0d18da57",
   "metadata": {},
   "source": [
    "Podemos observar cuáles son los valores obtenidos para las varianzas:"
   ]
  },
  {
   "cell_type": "code",
   "execution_count": 4,
   "id": "9af99ad8",
   "metadata": {},
   "outputs": [
    {
     "name": "stdout",
     "output_type": "stream",
     "text": [
      "\t\tValores de las medias\n"
     ]
    },
    {
     "data": {
      "text/html": [
       "<div>\n",
       "<style scoped>\n",
       "    .dataframe tbody tr th:only-of-type {\n",
       "        vertical-align: middle;\n",
       "    }\n",
       "\n",
       "    .dataframe tbody tr th {\n",
       "        vertical-align: top;\n",
       "    }\n",
       "\n",
       "    .dataframe thead th {\n",
       "        text-align: right;\n",
       "    }\n",
       "</style>\n",
       "<table border=\"1\" class=\"dataframe\">\n",
       "  <thead>\n",
       "    <tr style=\"text-align: right;\">\n",
       "      <th></th>\n",
       "      <th>sepal length (cm)</th>\n",
       "      <th>sepal width (cm)</th>\n",
       "      <th>petal length (cm)</th>\n",
       "      <th>petal width (cm)</th>\n",
       "    </tr>\n",
       "  </thead>\n",
       "  <tbody>\n",
       "    <tr>\n",
       "      <th>setosa</th>\n",
       "      <td>5.006</td>\n",
       "      <td>3.428</td>\n",
       "      <td>1.462</td>\n",
       "      <td>0.246</td>\n",
       "    </tr>\n",
       "    <tr>\n",
       "      <th>versicolor</th>\n",
       "      <td>5.936</td>\n",
       "      <td>2.770</td>\n",
       "      <td>4.260</td>\n",
       "      <td>1.326</td>\n",
       "    </tr>\n",
       "    <tr>\n",
       "      <th>virginica</th>\n",
       "      <td>6.588</td>\n",
       "      <td>2.974</td>\n",
       "      <td>5.552</td>\n",
       "      <td>2.026</td>\n",
       "    </tr>\n",
       "  </tbody>\n",
       "</table>\n",
       "</div>"
      ],
      "text/plain": [
       "            sepal length (cm)  sepal width (cm)  petal length (cm)  \\\n",
       "setosa                  5.006             3.428              1.462   \n",
       "versicolor              5.936             2.770              4.260   \n",
       "virginica               6.588             2.974              5.552   \n",
       "\n",
       "            petal width (cm)  \n",
       "setosa                 0.246  \n",
       "versicolor             1.326  \n",
       "virginica              2.026  "
      ]
     },
     "execution_count": 4,
     "metadata": {},
     "output_type": "execute_result"
    }
   ],
   "source": [
    "print('\\t\\tValores de las medias')\n",
    "pd.DataFrame(data=model.means, index=dataset.target_names, columns=dataset.feature_names)"
   ]
  },
  {
   "cell_type": "markdown",
   "id": "ee6f59ed",
   "metadata": {},
   "source": [
    "Asimismo, podemos ver cuáles son los valores que el modelo ha estimado para las varianzas:"
   ]
  },
  {
   "cell_type": "code",
   "execution_count": 5,
   "id": "d603ce76",
   "metadata": {},
   "outputs": [
    {
     "name": "stdout",
     "output_type": "stream",
     "text": [
      "\t\tValores de las varianzas\n"
     ]
    },
    {
     "data": {
      "text/html": [
       "<div>\n",
       "<style scoped>\n",
       "    .dataframe tbody tr th:only-of-type {\n",
       "        vertical-align: middle;\n",
       "    }\n",
       "\n",
       "    .dataframe tbody tr th {\n",
       "        vertical-align: top;\n",
       "    }\n",
       "\n",
       "    .dataframe thead th {\n",
       "        text-align: right;\n",
       "    }\n",
       "</style>\n",
       "<table border=\"1\" class=\"dataframe\">\n",
       "  <thead>\n",
       "    <tr style=\"text-align: right;\">\n",
       "      <th></th>\n",
       "      <th>sepal length (cm)</th>\n",
       "      <th>sepal width (cm)</th>\n",
       "      <th>petal length (cm)</th>\n",
       "      <th>petal width (cm)</th>\n",
       "    </tr>\n",
       "  </thead>\n",
       "  <tbody>\n",
       "    <tr>\n",
       "      <th>setosa</th>\n",
       "      <td>0.124249</td>\n",
       "      <td>0.143690</td>\n",
       "      <td>0.030159</td>\n",
       "      <td>0.011106</td>\n",
       "    </tr>\n",
       "    <tr>\n",
       "      <th>versicolor</th>\n",
       "      <td>0.266433</td>\n",
       "      <td>0.098469</td>\n",
       "      <td>0.220816</td>\n",
       "      <td>0.039106</td>\n",
       "    </tr>\n",
       "    <tr>\n",
       "      <th>virginica</th>\n",
       "      <td>0.404343</td>\n",
       "      <td>0.104004</td>\n",
       "      <td>0.304588</td>\n",
       "      <td>0.075433</td>\n",
       "    </tr>\n",
       "  </tbody>\n",
       "</table>\n",
       "</div>"
      ],
      "text/plain": [
       "            sepal length (cm)  sepal width (cm)  petal length (cm)  \\\n",
       "setosa               0.124249          0.143690           0.030159   \n",
       "versicolor           0.266433          0.098469           0.220816   \n",
       "virginica            0.404343          0.104004           0.304588   \n",
       "\n",
       "            petal width (cm)  \n",
       "setosa              0.011106  \n",
       "versicolor          0.039106  \n",
       "virginica           0.075433  "
      ]
     },
     "execution_count": 5,
     "metadata": {},
     "output_type": "execute_result"
    }
   ],
   "source": [
    "print('\\t\\tValores de las varianzas')\n",
    "pd.DataFrame(data=model.sigmas, index=dataset.target_names, columns=dataset.feature_names)"
   ]
  },
  {
   "cell_type": "markdown",
   "id": "c71b82c6",
   "metadata": {},
   "source": [
    "#### Evaluación del modelo\n",
    "\n",
    "Con los datos de evaluación, podemos ahora usar el modelo con los parámetros obtenidos para poder predecir a que clase pertenece cada uno de los elementos en este conjunto de datos. Como podemos observar, el accuracy o exactitud es de 0.98. Lo que nos está diciendo que el modelo estima acertadamente el 98% de las clases."
   ]
  },
  {
   "cell_type": "code",
   "execution_count": 6,
   "id": "3fff7726",
   "metadata": {},
   "outputs": [
    {
     "name": "stdout",
     "output_type": "stream",
     "text": [
      "              precision    recall  f1-score   support\n",
      "\n",
      "      setosa       1.00      1.00      1.00        18\n",
      "  versicolor       1.00      0.83      0.91        12\n",
      "   virginica       0.88      1.00      0.94        15\n",
      "\n",
      "    accuracy                           0.96        45\n",
      "   macro avg       0.96      0.94      0.95        45\n",
      "weighted avg       0.96      0.96      0.95        45\n",
      "\n"
     ]
    }
   ],
   "source": [
    "from sklearn.metrics import classification_report\n",
    "\n",
    "#Obtiene las predicciones\n",
    "y_pred = [model.predict(x_i) for x_i in x_test]\n",
    "#Imprime el reporte de clasificación\n",
    "print(classification_report(y_pred, [model.labels[y_i] for y_i in y_test]))"
   ]
  },
  {
   "cell_type": "markdown",
   "id": "5c514aa5",
   "metadata": {},
   "source": [
    "   "
   ]
  }
 ],
 "metadata": {
  "kernelspec": {
   "display_name": "Python 3 (ipykernel)",
   "language": "python",
   "name": "python3"
  },
  "language_info": {
   "codemirror_mode": {
    "name": "ipython",
    "version": 3
   },
   "file_extension": ".py",
   "mimetype": "text/x-python",
   "name": "python",
   "nbconvert_exporter": "python",
   "pygments_lexer": "ipython3",
   "version": "3.8.10"
  }
 },
 "nbformat": 4,
 "nbformat_minor": 5
}
