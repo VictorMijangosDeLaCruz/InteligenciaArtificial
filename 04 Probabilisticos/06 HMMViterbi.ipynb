{
 "cells": [
  {
   "cell_type": "markdown",
   "metadata": {},
   "source": [
    "# Modelos Ocultos de Márkov \n",
    "# Ejemplo de Etiquetado en Texto\n",
    "\n",
    "El algoritmo de Viterbi es un algoritmo dinámico ampliamente usado para estimar probabilidades de forma eficiente dentro de los Modelos Ocultos de Márkov. La idea general del algoritmo de Viterbi es realizar una búsqueda por caminos que sean altamente probables desde el principio, descartando aquellos caminos que tengan menos probabilidad. De esta forma, el algoritmo de Viterbi recorrerá únicamente los caminos que tengan la mayor probabilidad para cada una de los posibles valores de las variables de emisiones $Y_t$, con $t=1,2,...,T$. Si bien esto no garantiza que se haya encontrado la probabilidad máxima global, si nos puede llevar hacia máximos locales que nos ayuden a resolver el problema.\n",
    "\n",
    "En este notebook presentamos una implementación del algoritmo de Viterbi para realizar etiquetado de partes de la oración en texto. Esta es una tarea común en lingüística computacional que consiste en asignar a las palabras en un texto su categoría gramaticas; es decir, si son verbos, adjetivos, sustantivos, etcétera.\n",
    "\n",
    "## Estimación del Modelo Oculto de Márkov\n",
    "\n",
    "En primer lugar, haremos una estimación de las probabilidades que corresponden al Modelo Oculto Márkov que representará nuestro problema. Para esto, debemos obtener, a partir del texto, los valores de las observaciones y las emisiones; para hacer esto, definimos dos funciones que nos permitirán crear estos elementos. Como estamos trabajando con texto de lenguaje natural, nuestras observaciones y emisiones consistirán en vocabularios."
   ]
  },
  {
   "cell_type": "code",
   "execution_count": 1,
   "metadata": {},
   "outputs": [],
   "source": [
    "from collections import Counter, defaultdict\n",
    "from itertools import chain\n",
    "import numpy as np\n",
    "import matplotlib.pyplot as plt\n",
    "import pandas as pd\n",
    "import networkx as nx\n",
    "\n",
    "#Funcion que crea un vocabulario de palabras con un indice numerico\n",
    "def vocab():\n",
    "    vocab = defaultdict()\n",
    "    vocab.default_factory = lambda: len(vocab)\n",
    "    return vocab    \n",
    "\n",
    "#Funcion que pasa la cadena de simbolos a una secuencia con indices numericos\n",
    "def text2numba(corpus, vocab):\n",
    "    for doc in corpus:\n",
    "        yield [vocab[w] for w in doc.strip().split()]"
   ]
  },
  {
   "cell_type": "markdown",
   "metadata": {},
   "source": [
    "La idea es encontrar el modelo que sea capaz de mapear cadenas en un lenguaje $L_1$ a un lenguaje $L_2$. En este sentido, el primer lenguaje es el español y el segundo corresponde a las cadenas de etiqeutas gramaticales. Explicamos a continuación en qué consisten estas etiquetas:\n",
    "\n",
    "1. <b>DA</b>: Refiere a un Determinante Artículo, es decir, a aquellas palabras como 'el', 'la', 'las', 'los', etc., cuya función es determinar a los sustantivos.\n",
    "2. <b>DP</b>: Refiere a un Determinante Personal o pronombre personal, y refiere a los pronombres como 'yo', 'tú', 'ella', 'èl', etc.\n",
    "3. <b>PP</b>: Refiere a Preposición, tales como 'a', 'ante', 'de', 'desde', etc.\n",
    "4. <b>NC</b>: Refiere a Nombre Común o sustantivo, palabras tales como 'perro', 'niña', 'flor', etc.\n",
    "5. <b>V</b>: Etiqueta a los Verbos, las palabras que denotan la acción de la oración."
   ]
  },
  {
   "cell_type": "code",
   "execution_count": 2,
   "metadata": {
    "scrolled": false
   },
   "outputs": [],
   "source": [
    "obs = ['el salto de altura', 'yo salto la cuerda', \n",
    "         'ellos tomaban vino', 'ellos saltaban la cuerda', 'ellos saltaban el salto',\n",
    "      'yo salto', 'salto de altura']\n",
    "ems = ['DA NC PP NC', 'DP V DA NC', 'DP V NC', 'DP V DA NC', 'DP V DA NC', 'DP V', 'NC PP NC']"
   ]
  },
  {
   "cell_type": "markdown",
   "metadata": {},
   "source": [
    "## Obtención de los vocabularios para observaciones y emisiones\n",
    "\n",
    "Ahora tenemos que indicar cuáles son las observaciones y cuáles los símbolos de emisión. Asimimso, asignaremos sus frecuencias y las probabilidades iniciales. El trabajar con texto no es sencillo, pues generalmente las estructuras de datos que utilizamos en este tipo de modelos responden mejor con valores númericos o arreglos de números.\n",
    "\n",
    "En la lingüística computacional es común contar con un vocabulario de cadenas de palabras (o algunos otros elementos de interés) e indexar estas palabras con valores numéricos. De esta forma, en lugar de trabajar directamente con las cadenas textuales, trabajaremos con óindices numéricos que refieren a estas.\n",
    "\n",
    "En primer lugar, aplicamos la función <tt>text2numba</tt> que nos permitirá indexar las palabras a partir de las oraciones dadas y que generará, además, cadenas que en lugar de palabras textuales contengan índices numéricos."
   ]
  },
  {
   "cell_type": "code",
   "execution_count": 3,
   "metadata": {},
   "outputs": [
    {
     "name": "stdout",
     "output_type": "stream",
     "text": [
      "Vocabulario de índices:\n",
      "defaultdict(<function vocab.<locals>.<lambda> at 0x7f9574669790>, {'el': 0, 'salto': 1, 'de': 2, 'altura': 3, 'yo': 4, 'la': 5, 'cuerda': 6, 'ellos': 7, 'tomaban': 8, 'vino': 9, 'saltaban': 10})\n",
      "Cadenas de observaciones con índices:\n",
      "[0, 1, 2, 3]\n"
     ]
    }
   ],
   "source": [
    "#Vocabulario de observaciones\n",
    "obs_voc = vocab()\n",
    "obs_cads = list(text2numba(obs,obs_voc))\n",
    "print('Vocabulario de índices:\\n{}'.format(obs_voc))\n",
    "print('Cadenas de observaciones con índices:\\n{}'.format(obs_cads[0]))"
   ]
  },
  {
   "cell_type": "markdown",
   "metadata": {},
   "source": [
    "Lo mismo haremos con las emisiones, esto es, con los valores que esperamos obtener de salida:"
   ]
  },
  {
   "cell_type": "code",
   "execution_count": 4,
   "metadata": {},
   "outputs": [
    {
     "name": "stdout",
     "output_type": "stream",
     "text": [
      "Vocabulario de índices:\n",
      "defaultdict(<function vocab.<locals>.<lambda> at 0x7f9532a0dd30>, {'DA': 0, 'NC': 1, 'PP': 2, 'DP': 3, 'V': 4})\n",
      "Cadenas de observaciones con índices:\n",
      "[0, 1, 2, 1]\n"
     ]
    }
   ],
   "source": [
    "#Vocabulario de emisiones\n",
    "ems_voc = vocab()\n",
    "ems_cads = list(text2numba(ems,ems_voc))\n",
    "print('Vocabulario de índices:\\n{}'.format(ems_voc))\n",
    "print('Cadenas de observaciones con índices:\\n{}'.format(ems_cads[0]))"
   ]
  },
  {
   "cell_type": "markdown",
   "metadata": {},
   "source": [
    "### Estimación del Modelo Oculto de Márkov\n",
    "\n",
    "Recuérdese que un Modelo Oculto de Márkov está definido como $HMM = (\\mathcal{Y}, \\mathcal{X}, A, \\Pi, B)$ donde cada elemento es:\n",
    "\n",
    "1. $\\mathcal{Y} = \\{y_1, y_2,...,y_n\\}$: corresponde a un conjunto finito de símbolos de emisiones; es decir, de valores que las variables $Y_t$ pueden tomar. En este caso, se asume que las $Y_t$ son idéticamente distribuidas, por lo que sin importar el tiempo $t$ en el que se encuentren pueden tomar valores dentro del mismo conjunto $\\mathcal{Y}$. En este caso, $\\mathcal{Y}$ corresponde a las etiquetas gramaticales.\n",
    "2. $\\mathcal{X} = \\{x_1, x_2,...,x_n\\}$ son los valores que las variables $X_t$ pueden tomar. De igual forma, asumimos que para cada tiempo $t$, las variables $X_t$ son idénticamente distribuidas y sólo toman valores de $\\mathcal{X}$. En este caso, corresponde a las palabras del lenguaje español.\n",
    "3. $A = (a_{i,j}) = p(y_j | y_i)$: corresponde a las probabilidades de transición sobre las emisiones $\\mathcal{Y}$. En este caso, se representan las probabilidades $p(Y_{t+1} = y_j | Y_t = y_i)$, pero asumimos que el proceso es homogéneo, esto es, que la probabilidad de transición es siempre la mismta, sin importar el tiempo en que no encontremos, por lo que omitimos las variables $Y_t$.\n",
    "4. $\\Pi = (\\pi_i) = p(y_i)$: es la probabilidad de que el símbolo $y_i$ sea inicial; es decir, de que inicie el proceso $P(Y_0 = y_i)$, de nuevo, omitimos la variable $Y_0$.\n",
    "5. $B = (b_{i,j}) = p(x_j|y_i)$: es la matriz de probabilidades de observaciones, esto es, la probabilidad de que $y_i$ genere a $x_j$ o $p(X_t = x_j | Y_t = y_i)$. De nuevo, ya que el proceso es homogéneo, podemos omitir las vairables que indican el tiempo.\n",
    "\n",
    "Para obtener la matriz $B$ de probabilidades de emisión, requerimos saber que observaciones son generadas por qué emisiones. Para esto obtendremos pares de la forma $(y_i,x_j)$ con $x_j \\in \\mathcal{X}$ y $y_i \\in \\mathcal{Y})$. A partir de esto, simplemente haremos un conteo de las veces que una etiqueta y una palabra aparecen juntas."
   ]
  },
  {
   "cell_type": "code",
   "execution_count": 5,
   "metadata": {},
   "outputs": [
    {
     "name": "stdout",
     "output_type": "stream",
     "text": [
      "[(0, 0), (1, 1), (2, 2), (3, 1), (4, 3), (1, 4), (5, 0), (6, 1), (7, 3), (8, 4), (9, 1), (7, 3), (10, 4), (5, 0), (6, 1), (7, 3), (10, 4), (0, 0), (1, 1), (4, 3), (1, 4), (1, 1), (2, 2), (3, 1)]\n"
     ]
    }
   ],
   "source": [
    "#Pares de observaciones y sus etiquetas\n",
    "obs_ems = list(chain(*[list(zip(c[0],c[1])) for c in zip(obs_cads,ems_cads)]))\n",
    "print(obs_ems)"
   ]
  },
  {
   "cell_type": "code",
   "execution_count": 6,
   "metadata": {},
   "outputs": [],
   "source": [
    "#Obtención de las etiquetas\n",
    "tags = {v:k for k,v in ems_voc.items()}"
   ]
  },
  {
   "cell_type": "markdown",
   "metadata": {},
   "source": [
    "Ahora obtendremos las estimaciones de probabilidad para las transiciones y el inicial sobre los símbolos en $\\mathcal{Y}$. Para que las probabilidades sean adecuadas, introduciremos dos nuevos símbolos:\n",
    "\n",
    "1. BOS: o Begining Of String, símbolo que nos permitirá ver cuándo un símbolo de emisión inicia una cadena y de tal forma nos permitirá obtener las proabilidades iniciales en $\\Pi$\n",
    "2. EOS: o End Of String, este símbolo nos garantiza que las probabilidades condicionales $p(y_j|y_i)$ sumen a 1: es decir que tenemos que $\\sum_{j=1}^n p(y_j |y_i) = 1$. Este símbolo es necesaria para garantizar esto cuando realizamos las probabilidades por conteo, ya que de otra forma, las palabras que terminan una oración estarían incompletas."
   ]
  },
  {
   "cell_type": "code",
   "execution_count": 7,
   "metadata": {},
   "outputs": [
    {
     "name": "stdout",
     "output_type": "stream",
     "text": [
      "[[6, 0, 1, 2, 1, 5], [6, 3, 4, 0, 1, 5], [6, 3, 4, 1, 5], [6, 3, 4, 0, 1, 5], [6, 3, 4, 0, 1, 5], [6, 3, 4, 5], [6, 1, 2, 1, 5]]\n"
     ]
    }
   ],
   "source": [
    "#Indicamos las etiquetas a usar\n",
    "EOS = '<EOS>'\n",
    "BOS = '<BOS>'\n",
    "\n",
    "#Cada etiqeuta se le asigna un indice numerico\n",
    "BOS_IDX = max(ems_voc.values())+2\n",
    "EOS_IDX = max(ems_voc.values())+1\n",
    "\n",
    "#Se agregan estas etiqeutas al vocabulario\n",
    "ems_voc[EOS] = EOS_IDX\n",
    "ems_voc[BOS] = BOS_IDX\n",
    "\n",
    "#A cada cadena se le agrega la etiqueta BOS al inicio y EOS al final\n",
    "ems_cads = [[BOS_IDX] + cad + [EOS_IDX] for cad in ems_cads]\n",
    "\n",
    "emsID = {v:k for k,v in ems_voc.items()}\n",
    "\n",
    "print(ems_cads)"
   ]
  },
  {
   "cell_type": "markdown",
   "metadata": {},
   "source": [
    "A partir de las cadenas de emisiones (que pertenencen a $S^*$) obtenemos los bigramas que se atestiguaron en el corpus."
   ]
  },
  {
   "cell_type": "code",
   "execution_count": 8,
   "metadata": {},
   "outputs": [
    {
     "name": "stdout",
     "output_type": "stream",
     "text": [
      "[(6, 0), (0, 1), (1, 2), (2, 1), (1, 5), (6, 3), (3, 4), (4, 0), (0, 1), (1, 5), (6, 3), (3, 4), (4, 1), (1, 5), (6, 3), (3, 4), (4, 0), (0, 1), (1, 5), (6, 3), (3, 4), (4, 0), (0, 1), (1, 5), (6, 3), (3, 4), (4, 5), (6, 1), (1, 2), (2, 1), (1, 5)]\n"
     ]
    }
   ],
   "source": [
    "#Bigramas a partir de las cadenas de emisiones\n",
    "ems_bigrams = list(chain(*[ zip(cad,cad[1:]) for cad in ems_cads] ))\n",
    "print(ems_bigrams)"
   ]
  },
  {
   "cell_type": "markdown",
   "metadata": {},
   "source": [
    "#### Obtención de los parámetros del modelo\n",
    "\n",
    "Una vez obtenido los vocabularios, así como sus indices y los pares de observaciones y sus emisiones, además de los pares que determinan las transiciones de las emisiones, podemos determinar el modelo; es decir, estimaremos las probabilidades que llenarán las marices $A$, $\\Pi$ y $B$.\n",
    "\n",
    "En este caso, generaremos un vector de iniciales, y dos matrices, una para las transiciones y otras para las emisiones. En inicio, estas matrices comenzarán con 0's y se irán llenando con las probabilidades correspondientes."
   ]
  },
  {
   "cell_type": "code",
   "execution_count": 9,
   "metadata": {},
   "outputs": [],
   "source": [
    "#Longitud del vocabulario de emisiones\n",
    "N = len(ems_voc)\n",
    "#Longitud del vocabulario de observaciones\n",
    "M = len(obs_voc)\n",
    "\n",
    "#ems language model\n",
    "Pi = np.zeros(N-2)\n",
    "A = np.zeros((N-2,N-1))\n",
    "\n",
    "#Prob ems\n",
    "B = np.zeros((M,N-2))"
   ]
  },
  {
   "cell_type": "markdown",
   "metadata": {},
   "source": [
    "En primer lugar, comenzaremos obteniendo las probabilidades de $p(Y_0)$ que corresponden a lo que en el modelo se conocen como <b>probabilidades iniciales</b>. Para esto, calcularemos $p(Y_0=y_i)$ o simplemente $p(y_i)$ apoyándonos del símbolo BOS que hemos introducido:\n",
    "\n",
    "$$p(y_i) = \\frac{\\#(BOS, y_i) + 1}{\\# BOS + N}$$\n",
    "\n",
    "En este caso, $\\#(BOS, y_i)$ responde a las veces en que el símbolo de emisión $y_i$ aparece después del símbolo BOS (esto corresponde a las veces que $y_i$ inicia una secuencia, esto sobre $\\# BOS$ que es el total de veces que se inicia una secuencia.\n",
    "\n",
    "Es importante notar que aquí hemos sumado un 1 al numerador y un $N$ al denominador. Esto es un suavizamiento Laplaciano de la probabilidad y se realiza para evitar que haya probabilidades 0. Las probabilidades 0 son problemáticas, pues cuando se hace el producto de las probabilidades un 0 puede llevar la probabilidad conjunta total a 0, a pesar de que otros valores sean altos. Además, aquí $N$ es el total de entradas del vector, que corresponde al número de símbolos. Esto garantiza que la probabilidad suavizada siga siendo una medida de probabilidad, pues es fácil observar que:\n",
    "\n",
    "$$\\sum_{i=1}^N p(y_i) = \\sum_{i=1}^n \\Big(\\frac{\\#(BOS, y_i) + 1}{\\# BOS + N}\\Big) =  \\frac{\\sum_{i=1}^n \\#(BOS, y_i) + 1}{\\# BOS + N} = \\frac{\\# BOS + N}{\\# BOS + N} = 1$$\n",
    "\n",
    "\n",
    "Para la matriz de transiciones hacemos algo similar, contamos el número de veces que el símbolo $y_i$ es seguido por el símbolo $y_j$ y lo dividimos entre el total de veces que atestiguamos el símbolo $y_i$. Asimismo, usamos el suavizamiento Laplaciano para eliminar las posibles probabilidades 0.\n",
    "\n",
    "$$p(y_j|y_i)  = \\frac{\\#(y_i y_j)+1}{\\#(y_i) + N}$$\n",
    "\n",
    "Al final obtenemos tanto el vector de iniciales con entradas:\n",
    "\n",
    "$$\\Pi_i = p(y_i)$$\n",
    "\n",
    "Y así mismo obtenemos la matriz de transiciones con las entradas:\n",
    "\n",
    "$$A_{i,j} = p(y_j|y_i)$$"
   ]
  },
  {
   "cell_type": "code",
   "execution_count": 10,
   "metadata": {},
   "outputs": [],
   "source": [
    "#Frecuencia de bigramas de emisiones\n",
    "frec_ems = Counter(ems_bigrams)\n",
    "\n",
    "#Llenado de las frecuencias\n",
    "for em, frec_em in frec_ems.items():\n",
    "    if em[0] == BOS_IDX:\n",
    "        Pi[em[1]] = frec_em\n",
    "    else:\n",
    "        A[em] = frec_em\n",
    "        \n",
    "#Suavizamiento\n",
    "A = ((A.T+1)/(A+1).sum(1)).T\n",
    "Pi = (Pi+1)/(Pi+1).sum(0)"
   ]
  },
  {
   "cell_type": "markdown",
   "metadata": {},
   "source": [
    "Para nuesto ejemplo, el <b>vector de iniciales</b> queda de la siguiente forma:"
   ]
  },
  {
   "cell_type": "code",
   "execution_count": 11,
   "metadata": {},
   "outputs": [
    {
     "data": {
      "text/html": [
       "<div>\n",
       "<style scoped>\n",
       "    .dataframe tbody tr th:only-of-type {\n",
       "        vertical-align: middle;\n",
       "    }\n",
       "\n",
       "    .dataframe tbody tr th {\n",
       "        vertical-align: top;\n",
       "    }\n",
       "\n",
       "    .dataframe thead th {\n",
       "        text-align: right;\n",
       "    }\n",
       "</style>\n",
       "<table border=\"1\" class=\"dataframe\">\n",
       "  <thead>\n",
       "    <tr style=\"text-align: right;\">\n",
       "      <th></th>\n",
       "      <th>Init</th>\n",
       "    </tr>\n",
       "  </thead>\n",
       "  <tbody>\n",
       "    <tr>\n",
       "      <th>DA</th>\n",
       "      <td>0.166667</td>\n",
       "    </tr>\n",
       "    <tr>\n",
       "      <th>NC</th>\n",
       "      <td>0.166667</td>\n",
       "    </tr>\n",
       "    <tr>\n",
       "      <th>PP</th>\n",
       "      <td>0.083333</td>\n",
       "    </tr>\n",
       "    <tr>\n",
       "      <th>DP</th>\n",
       "      <td>0.500000</td>\n",
       "    </tr>\n",
       "    <tr>\n",
       "      <th>V</th>\n",
       "      <td>0.083333</td>\n",
       "    </tr>\n",
       "  </tbody>\n",
       "</table>\n",
       "</div>"
      ],
      "text/plain": [
       "        Init\n",
       "DA  0.166667\n",
       "NC  0.166667\n",
       "PP  0.083333\n",
       "DP  0.500000\n",
       "V   0.083333"
      ]
     },
     "execution_count": 11,
     "metadata": {},
     "output_type": "execute_result"
    }
   ],
   "source": [
    "pd.DataFrame(data=Pi, index=list(ems_voc.keys())[:-2], columns=['Init'])"
   ]
  },
  {
   "cell_type": "markdown",
   "metadata": {},
   "source": [
    "Por su parte la <b>matriz de transiciones</b> está dada por la siguiente matriz. En este caso, los renglones son las condiciones y las columnas las variables condicionales:"
   ]
  },
  {
   "cell_type": "code",
   "execution_count": 12,
   "metadata": {},
   "outputs": [
    {
     "data": {
      "text/html": [
       "<div>\n",
       "<style scoped>\n",
       "    .dataframe tbody tr th:only-of-type {\n",
       "        vertical-align: middle;\n",
       "    }\n",
       "\n",
       "    .dataframe tbody tr th {\n",
       "        vertical-align: top;\n",
       "    }\n",
       "\n",
       "    .dataframe thead th {\n",
       "        text-align: right;\n",
       "    }\n",
       "</style>\n",
       "<table border=\"1\" class=\"dataframe\">\n",
       "  <thead>\n",
       "    <tr style=\"text-align: right;\">\n",
       "      <th></th>\n",
       "      <th>DA</th>\n",
       "      <th>NC</th>\n",
       "      <th>PP</th>\n",
       "      <th>DP</th>\n",
       "      <th>V</th>\n",
       "      <th>&lt;EOS&gt;</th>\n",
       "    </tr>\n",
       "  </thead>\n",
       "  <tbody>\n",
       "    <tr>\n",
       "      <th>DA</th>\n",
       "      <td>0.100000</td>\n",
       "      <td>0.500000</td>\n",
       "      <td>0.100000</td>\n",
       "      <td>0.100000</td>\n",
       "      <td>0.100000</td>\n",
       "      <td>0.100000</td>\n",
       "    </tr>\n",
       "    <tr>\n",
       "      <th>NC</th>\n",
       "      <td>0.071429</td>\n",
       "      <td>0.071429</td>\n",
       "      <td>0.214286</td>\n",
       "      <td>0.071429</td>\n",
       "      <td>0.071429</td>\n",
       "      <td>0.500000</td>\n",
       "    </tr>\n",
       "    <tr>\n",
       "      <th>PP</th>\n",
       "      <td>0.125000</td>\n",
       "      <td>0.375000</td>\n",
       "      <td>0.125000</td>\n",
       "      <td>0.125000</td>\n",
       "      <td>0.125000</td>\n",
       "      <td>0.125000</td>\n",
       "    </tr>\n",
       "    <tr>\n",
       "      <th>DP</th>\n",
       "      <td>0.090909</td>\n",
       "      <td>0.090909</td>\n",
       "      <td>0.090909</td>\n",
       "      <td>0.090909</td>\n",
       "      <td>0.545455</td>\n",
       "      <td>0.090909</td>\n",
       "    </tr>\n",
       "    <tr>\n",
       "      <th>V</th>\n",
       "      <td>0.363636</td>\n",
       "      <td>0.181818</td>\n",
       "      <td>0.090909</td>\n",
       "      <td>0.090909</td>\n",
       "      <td>0.090909</td>\n",
       "      <td>0.181818</td>\n",
       "    </tr>\n",
       "  </tbody>\n",
       "</table>\n",
       "</div>"
      ],
      "text/plain": [
       "          DA        NC        PP        DP         V     <EOS>\n",
       "DA  0.100000  0.500000  0.100000  0.100000  0.100000  0.100000\n",
       "NC  0.071429  0.071429  0.214286  0.071429  0.071429  0.500000\n",
       "PP  0.125000  0.375000  0.125000  0.125000  0.125000  0.125000\n",
       "DP  0.090909  0.090909  0.090909  0.090909  0.545455  0.090909\n",
       "V   0.363636  0.181818  0.090909  0.090909  0.090909  0.181818"
      ]
     },
     "execution_count": 12,
     "metadata": {},
     "output_type": "execute_result"
    }
   ],
   "source": [
    "pd.DataFrame(data=A, index=list(ems_voc.keys())[:-2], columns=list(ems_voc.keys())[:-1])"
   ]
  },
  {
   "cell_type": "markdown",
   "metadata": {},
   "source": [
    "Podemos comprobar que la suma del vector de iniciales es igual a 1, garantizando que es una medida de probabilidad, así como que sumar sobre las columnas en la matriz $A$ hace que cada renglón sume 1."
   ]
  },
  {
   "cell_type": "code",
   "execution_count": 13,
   "metadata": {},
   "outputs": [
    {
     "name": "stdout",
     "output_type": "stream",
     "text": [
      "Suma del vector de iniciales: 1.0\n",
      "Sumas de las columnas de A: [1. 1. 1. 1. 1.]\n"
     ]
    }
   ],
   "source": [
    "#Comprobar que las sumas sean 1\n",
    "print('Suma del vector de iniciales: {}'.format(Pi.sum(0)))\n",
    "print('Sumas de las columnas de A: {}'.format(A.sum(1)))"
   ]
  },
  {
   "cell_type": "markdown",
   "metadata": {},
   "source": [
    "Finalmente, nos basta con obtener la <b>matriz de probabilidades de observaciones</b> $B$. En este caso debemos de estimar las probabilidades $p(x_j|y_i)$ donde $x_j \\in \\mathcal{X}$ es un símbolo de observación, nuestra evidencia.\n",
    "La estimación de estas probabilidades también la haremos de forma frecuentista y aplicando el suavizamiento Laplaciano. Así obtenemos que estas probabilidades están determinadas como:\n",
    "\n",
    "$$p(x_j|y_i) = \\frac{\\#(x_j, y_i)+1}{\\#(y_i)+M}$$\n",
    "\n",
    "Aquí $\\# (x_j, y_i)$ corresponde al número de veces que $y_i$ ha generado a $x_j$, es decir, cuántas veces le corresponde la clase $y_i$ a la observación $x_j$. En nuestro ejemplo, esto responde a las veces que una etiqueta gramatical con valor $y_i$ está siendo asignada a la palabra $x_j$. Asimismo, aplicamos el suavizamiento, pero en el denominador, la $M$ corresponde al número de palabras que tenemos en nuestro vocabulario, o al número de valores que pueden tomar nuestras observaciones."
   ]
  },
  {
   "cell_type": "code",
   "execution_count": 14,
   "metadata": {},
   "outputs": [],
   "source": [
    "#Frecuencia de pares de observaciones y emisiones\n",
    "frec_obs = Counter(obs_ems)\n",
    "\n",
    "#Llenado con las frecuencias\n",
    "for ob, frec_ob in frec_obs.items():\n",
    "    B[ob] = frec_ob\n",
    "    \n",
    "#Suavizamiento\n",
    "B1 = B+1\n",
    "B = B1/B1.sum(0)"
   ]
  },
  {
   "cell_type": "markdown",
   "metadata": {},
   "source": [
    "Finalmente, nuestra matriz de <b>probabilidades de observaciones</b> queda de la siguiente forma:"
   ]
  },
  {
   "cell_type": "code",
   "execution_count": 15,
   "metadata": {},
   "outputs": [
    {
     "data": {
      "text/html": [
       "<div>\n",
       "<style scoped>\n",
       "    .dataframe tbody tr th:only-of-type {\n",
       "        vertical-align: middle;\n",
       "    }\n",
       "\n",
       "    .dataframe tbody tr th {\n",
       "        vertical-align: top;\n",
       "    }\n",
       "\n",
       "    .dataframe thead th {\n",
       "        text-align: right;\n",
       "    }\n",
       "</style>\n",
       "<table border=\"1\" class=\"dataframe\">\n",
       "  <thead>\n",
       "    <tr style=\"text-align: right;\">\n",
       "      <th></th>\n",
       "      <th>DA</th>\n",
       "      <th>NC</th>\n",
       "      <th>PP</th>\n",
       "      <th>DP</th>\n",
       "      <th>V</th>\n",
       "    </tr>\n",
       "  </thead>\n",
       "  <tbody>\n",
       "    <tr>\n",
       "      <th>el</th>\n",
       "      <td>0.200000</td>\n",
       "      <td>0.052632</td>\n",
       "      <td>0.076923</td>\n",
       "      <td>0.0625</td>\n",
       "      <td>0.0625</td>\n",
       "    </tr>\n",
       "    <tr>\n",
       "      <th>salto</th>\n",
       "      <td>0.066667</td>\n",
       "      <td>0.210526</td>\n",
       "      <td>0.076923</td>\n",
       "      <td>0.0625</td>\n",
       "      <td>0.1875</td>\n",
       "    </tr>\n",
       "    <tr>\n",
       "      <th>de</th>\n",
       "      <td>0.066667</td>\n",
       "      <td>0.052632</td>\n",
       "      <td>0.230769</td>\n",
       "      <td>0.0625</td>\n",
       "      <td>0.0625</td>\n",
       "    </tr>\n",
       "    <tr>\n",
       "      <th>altura</th>\n",
       "      <td>0.066667</td>\n",
       "      <td>0.157895</td>\n",
       "      <td>0.076923</td>\n",
       "      <td>0.0625</td>\n",
       "      <td>0.0625</td>\n",
       "    </tr>\n",
       "    <tr>\n",
       "      <th>yo</th>\n",
       "      <td>0.066667</td>\n",
       "      <td>0.052632</td>\n",
       "      <td>0.076923</td>\n",
       "      <td>0.1875</td>\n",
       "      <td>0.0625</td>\n",
       "    </tr>\n",
       "    <tr>\n",
       "      <th>la</th>\n",
       "      <td>0.200000</td>\n",
       "      <td>0.052632</td>\n",
       "      <td>0.076923</td>\n",
       "      <td>0.0625</td>\n",
       "      <td>0.0625</td>\n",
       "    </tr>\n",
       "    <tr>\n",
       "      <th>cuerda</th>\n",
       "      <td>0.066667</td>\n",
       "      <td>0.157895</td>\n",
       "      <td>0.076923</td>\n",
       "      <td>0.0625</td>\n",
       "      <td>0.0625</td>\n",
       "    </tr>\n",
       "    <tr>\n",
       "      <th>ellos</th>\n",
       "      <td>0.066667</td>\n",
       "      <td>0.052632</td>\n",
       "      <td>0.076923</td>\n",
       "      <td>0.2500</td>\n",
       "      <td>0.0625</td>\n",
       "    </tr>\n",
       "    <tr>\n",
       "      <th>tomaban</th>\n",
       "      <td>0.066667</td>\n",
       "      <td>0.052632</td>\n",
       "      <td>0.076923</td>\n",
       "      <td>0.0625</td>\n",
       "      <td>0.1250</td>\n",
       "    </tr>\n",
       "    <tr>\n",
       "      <th>vino</th>\n",
       "      <td>0.066667</td>\n",
       "      <td>0.105263</td>\n",
       "      <td>0.076923</td>\n",
       "      <td>0.0625</td>\n",
       "      <td>0.0625</td>\n",
       "    </tr>\n",
       "    <tr>\n",
       "      <th>saltaban</th>\n",
       "      <td>0.066667</td>\n",
       "      <td>0.052632</td>\n",
       "      <td>0.076923</td>\n",
       "      <td>0.0625</td>\n",
       "      <td>0.1875</td>\n",
       "    </tr>\n",
       "  </tbody>\n",
       "</table>\n",
       "</div>"
      ],
      "text/plain": [
       "                DA        NC        PP      DP       V\n",
       "el        0.200000  0.052632  0.076923  0.0625  0.0625\n",
       "salto     0.066667  0.210526  0.076923  0.0625  0.1875\n",
       "de        0.066667  0.052632  0.230769  0.0625  0.0625\n",
       "altura    0.066667  0.157895  0.076923  0.0625  0.0625\n",
       "yo        0.066667  0.052632  0.076923  0.1875  0.0625\n",
       "la        0.200000  0.052632  0.076923  0.0625  0.0625\n",
       "cuerda    0.066667  0.157895  0.076923  0.0625  0.0625\n",
       "ellos     0.066667  0.052632  0.076923  0.2500  0.0625\n",
       "tomaban   0.066667  0.052632  0.076923  0.0625  0.1250\n",
       "vino      0.066667  0.105263  0.076923  0.0625  0.0625\n",
       "saltaban  0.066667  0.052632  0.076923  0.0625  0.1875"
      ]
     },
     "execution_count": 15,
     "metadata": {},
     "output_type": "execute_result"
    }
   ],
   "source": [
    "pd.DataFrame(data=B, index=list(obs_voc.keys()), columns=list(ems_voc.keys())[:-2])"
   ]
  },
  {
   "cell_type": "markdown",
   "metadata": {},
   "source": [
    "Y de igual forma podemos ver que la suma sobre los renglones es 1."
   ]
  },
  {
   "cell_type": "code",
   "execution_count": 16,
   "metadata": {},
   "outputs": [
    {
     "name": "stdout",
     "output_type": "stream",
     "text": [
      "Sumas sobre B: [1. 1. 1. 1. 1.]\n"
     ]
    }
   ],
   "source": [
    "#Comprobar que se sume 1\n",
    "print('Sumas sobre B: {}'.format(B.sum(0)))"
   ]
  },
  {
   "cell_type": "markdown",
   "metadata": {},
   "source": [
    "## Cálculo bruto de cadena de emisiones\n",
    "\n",
    "Podemos preguntarnos cómo obtener la mejor secuencia de emisiones dado una secuencia de observaciones. En este caso, esto implica estimar la probabilidad:\n",
    "\n",
    "$$p(y^{(0)},y^{(1)},...,y^{(T)}| x^{(0)}, x^{(1)},...,x^{(T)})$$\n",
    "\n",
    "Donde $x^{(0)}, x^{(1)},...,x^{(T)}$ es la cadena de observaciones (o evidencia) de entrada, que son conocidas. Por tanto, lo que buscamos son los valores $y^{(1)},...,y^{(T)}$ que maximicen esta probabilidad. Podemos observar que:\n",
    "\n",
    "$$\\arg\\max p(y^{(0)},y^{(1)},...,y^{(T)}| x^{(0)}, x^{(1)},...,x^{(T)}) = \\arg\\max p(y^{(0)},y^{(1)},...,y^{(T)}, x^{(0)}, x^{(1)},...,x^{(T)})$$\n",
    "\n",
    "Cuando el argumento que maximiza se computa sobre la secuencia $y^{(0)}, y^{(1)},...,y^{(T)}$. Esto nos remite a la estimación por la red bayesiana. Sabemos que la estructura de esta red es como sigue:\n",
    "\n",
    "![image](images/hmm.png)\n",
    "\n",
    "En este caso, las variables $Y_t$ tiene como tabla de proabilidades condicionales a la matriz de transición (i para $Y_0$ al vector de iniciales), mientras que las observaciones, al depender sólo de la $Y_t$ correspondiente tienen como su tabla de probabilidades a la matriz de observaciones. Entonces, al ser una red bayesiana con la estructura previamente definida, sabemos que:\n",
    "\n",
    "$$p(y^{(0)}, y^{(1)},...,y^{(T)}, x^{(0)}, x^{(1)},...,x^{(T)}) = p(y^{(0)})\\prod_{t=1}^{T} p(x^{(t)}|y^{t})p(y^{(t)}|y^{(t-1)})$$\n",
    "\n",
    "Sin embargo, para obtener la secuencia que maximiza esta cadena, tenemos que obtener todas las posibles combinaciones de $N$ símbolos de emisiones en $T+1$ elementos de la secuencia. Es decir, tenemos que realizar $N^{T+1}$ cálculos, una complejidad exponencial. Podemos ver qué pasa si intentamos hacer esto."
   ]
  },
  {
   "cell_type": "code",
   "execution_count": 17,
   "metadata": {},
   "outputs": [
    {
     "name": "stdout",
     "output_type": "stream",
     "text": [
      "Total de posibles combinaciones: 15625\n",
      "Algunas posibles combinaciones: [('DA', 'DA', 'DA', 'DA', 'DA', 'DA'), ('DA', 'DA', 'DA', 'DA', 'DA', 'NC'), ('DA', 'DA', 'DA', 'DA', 'DA', 'PP'), ('DA', 'DA', 'DA', 'DA', 'DA', 'DP'), ('DA', 'DA', 'DA', 'DA', 'DA', 'V')]\n"
     ]
    }
   ],
   "source": [
    "from itertools import product\n",
    "\n",
    "text1 = 'yo salto el salto de altura'\n",
    "\n",
    "candidatos = list(product( list(ems_voc.keys())[:-2], repeat=len(text1.split()) ))\n",
    "print('Total de posibles combinaciones: {}'.format(len(candidatos)))\n",
    "print('Algunas posibles combinaciones: {}'.format(candidatos[:5]))"
   ]
  },
  {
   "cell_type": "markdown",
   "metadata": {},
   "source": [
    "Como nos damos cuenta, hemos obtenido más de 15 mil posibles casos. Aquí observamos algunas combinaciones posibles que pueden etiquetar al texto de entrada, pero como vemos, las primeras de estas combinaciones contienen varios símbolos repetidos, y claramente no responden a las necesidades del problema actual.\n",
    "\n",
    "Podemos observar el tiempo que se tardaría en tratar de encontrar las probabilidades para estas combinaciones y elegir cuál es la que maximiza la probabilidad."
   ]
  },
  {
   "cell_type": "code",
   "execution_count": 18,
   "metadata": {},
   "outputs": [
    {
     "name": "stdout",
     "output_type": "stream",
     "text": [
      "Texto de entrada:\n",
      "yo salto el salto de altura\n",
      "Etiqueta con mayor probabilidad:\n",
      "('DP', 'V', 'DA', 'NC', 'PP', 'NC')\n",
      "Tiempo de ejecución:\n",
      "CPU times: user 82.1 ms, sys: 3.01 ms, total: 85.1 ms\n",
      "Wall time: 84.4 ms\n"
     ]
    }
   ],
   "source": [
    "%%time\n",
    "\n",
    "#Función para el cálculo de probabilidades conjuntas p(y1,...,yT,x1,..,xT)\n",
    "def prob_conj(text, tags):\n",
    "    tags_bigrs = list(zip( tags.split(), tags.split()[1:] ))\n",
    "    text_pairs = list(zip( text.split(), tags.split() ))\n",
    "    p = Pi[ ems_voc[tags_bigrs[0][0]] ]\n",
    "    \n",
    "    for bi in tags_bigrs:\n",
    "        p *= A[ ems_voc[bi[0]], ems_voc[bi[1]] ]\n",
    "        \n",
    "    for t in text_pairs:\n",
    "        p *= B[ obs_voc[t[0]], ems_voc[t[1]] ]\n",
    "    \n",
    "    return p\n",
    "\n",
    "#Guarda los candidatos\n",
    "temp = np.zeros(len(candidatos))\n",
    "\n",
    "#Obtiene la probabilidad para todos los candidatos\n",
    "for i,cand in enumerate(candidatos):\n",
    "    cand_tags = ' '.join(cand)\n",
    "    temp[i] = prob_conj(text1, cand_tags )\n",
    "\n",
    "#El candidato que maximiza la probabilidad\n",
    "ArgMax = np.argmax(temp)\n",
    "\n",
    "print('Texto de entrada:\\n{}'.format(text1))\n",
    "print('Etiqueta con mayor probabilidad:\\n{}'.format(candidatos[ArgMax]))\n",
    "print('Tiempo de ejecución:')"
   ]
  },
  {
   "cell_type": "markdown",
   "metadata": {},
   "source": [
    "La cadena de emisiones que encuentra es adecuada. Sin embargo, el tiempo de ejecución es tardado, y sobre todo considerando que las cadenas pueden tener una longitud más grande, o que hay problemas en donde podemos tener un número mucho mayor de emisiones."
   ]
  },
  {
   "cell_type": "markdown",
   "metadata": {},
   "source": [
    "## Algoritmo de Viterbi\n",
    "\n",
    "El algoritmo de Viterbi es un lagoritmo dinámico que obtiene las probabilidades de caminos que maximizan cada una de sus transiciones. \n",
    "\n",
    "El algoritmo nos permitirá obtener las emisiones que maximicen la probabilidad conjunta con las observaciones. Podemos observar que las posibles combinaciones de observaciones son $N^{T+1}$ donde $N$ es el número de símbolos de emisión y $T$ la longitud de la observación. La complejidad del algoritmo anterior es entonces $O(N^T)$, pero el algoritmo de Viterbi nos permitirá reducir esta complejidad significativamente.\n",
    "\n",
    "\n",
    "Se puede pensar como un algoritmo de búsqueda en donde en cada transición se elijen sólo los caminos previos que maximizan la probabilidad de llegar al estado actual.\n",
    "En primer lugar, observemos que cuando estimamos la probabilidad de una secuencia de emisiones $y^{(0)}, y^{(1)},...,y^{(T)}$, podemos pensar a $y^{(0)}$ como un estado inicial; sin embargo, hay $N$ posibles estados iniciales, correspondientes a los valores que puede tomar esta vairable; es decir, podemos iniciar desde cualquier variable $y_i$ con probabilidad $\\pi$. Transitar hacia el siguiente valor $y^{(1)}$ se puede hacer desde cualquiera de los $N$ valor iniciales y puede llegar a cualquiera de los $N$ valores actuales, por lo que tenemos $N^2$ posibles caminos con probabilidad $p(y_j|y_i)$. Esto mismo pasa para cada otro estado, por lo que en el tiempo $t$ tendremos que considera $N^t$ caminos posibles. Además debemos considerar las observaciones. \n",
    "\n",
    "El espacio de búsqueda se puede gráficar en lo que se conoce como <b>diagrama de Trellis</b>. En nuestro caso particular, el diagrama de Trellis para la entrada dada se meustra en la siguiente figura."
   ]
  },
  {
   "cell_type": "code",
   "execution_count": 19,
   "metadata": {},
   "outputs": [
    {
     "data": {
      "image/png": "[encoded data removed]",
      "text/plain": [
       "<Figure size 1080x216 with 1 Axes>"
      ]
     },
     "metadata": {
      "needs_background": "light"
     },
     "output_type": "display_data"
    }
   ],
   "source": [
    "#Aristas\n",
    "edges = []\n",
    "#Posiciones\n",
    "layout_all = {}\n",
    "for t,w in enumerate(text1.split()):\n",
    "    #Obtienes las aristas del diagrama Trellis\n",
    "    for s in list(ems_voc.keys())[:-2]:\n",
    "        for st in list(ems_voc.keys())[:-2]:\n",
    "            prev = '$'+s+'_'+str(t+1)+'$'\n",
    "            actual = '$'+st+'_'+str(t+1+1)+'$'\n",
    "            layout_all[prev] = np.array([t, ems_voc[s]])\n",
    "            if t < len(text1.split()) - 1:\n",
    "                edges.append( (prev, actual) )\n",
    "                layout_all[actual] = np.array([t+1, ems_voc[s]])\n",
    "        \n",
    "\n",
    "#Gráfica del diagrama\n",
    "graph = nx.DiGraph()\n",
    "graph.add_edges_from(edges)\n",
    "\n",
    "#Visualización\n",
    "fig, ax = plt.subplots(figsize=(15, 3))\n",
    "nx.draw_networkx(graph, with_labels=True, node_size=700, font_size=10, node_color='#ffffff', pos=layout_all, ax=ax)\n",
    "ax.tick_params(bottom=True, labelbottom=True)\n",
    "plt.title('Diagrama de Trellis del problema')\n",
    "#plt.xticks([0,1,2,3,4,5,6,7], text1.split())\n",
    "plt.xticks(range(len(text1.split())), text1.split())\n",
    "plt.show()"
   ]
  },
  {
   "cell_type": "markdown",
   "metadata": {},
   "source": [
    "### Implementación del Algoritmo de Viterbi\n",
    "\n",
    "Lo que busca el algoritmo de Viterbo es reducir el espacio de búsqueda a sólo aquellos caminos que sean los más probables en cada tiempo $t$. Para esto, se basa en dos pasos generales:\n",
    "\n",
    "1. Forward (avance): En esta parte busca calcular las probabilidades y los caminos que tengan la mayor probabilidad para cada tiempo $t$ olvidando aquellos caminos que en este tiempo no maximicen la probabilidad. Al final se quedará con sólo $N$ caminos posibles.\n",
    "2. Backward (retroceso): De los $N$ caminos posibles elige al que tenga la mayor probabilidad total y recupera las emisiones correspondientes a este camino.\n",
    "\n",
    "La salida del algoritmo será la secuencia de emisiones que mazimiza la probabilidad de los $N$ caminos restantes durante el paso forward. Como señalamos, no se puede garantizar que el algoritmo de Viterbi llegue al máximo global, pero si garantiza un máximo local, y en la mayoría de los casos funciona adecuadamente.\n",
    "\n",
    "\n",
    "#### Forward\n",
    "\n",
    "El paso forward define una variable $\\delta_j(t)$, donde $j$ corresponde acada una de las $N$ valores que pueden tomar nuestras variables $Y_t$ en el tiempo $t$. Asimismo, define variables categóricas $\\phi_j(t)$ que lo que hacen es guardar los caminos definidos por las probabilidades de las variables $\\delta_j(t)$. El paso forward consiste en:\n",
    "\n",
    "* <b>Inicialización</b>:  Inicializa los valores $\\delta$ para cada $j$ correspondiente a los valores de emisión como: $$\\delta_j(0) = p(x^{(0)}|y_j)p(y_j)$$ En términos de matrices $$\\delta(0) = B_{x^{(0)}} \\odot \\Pi$$\n",
    "* <b>Inducción</b>: Obtiene las probabilidades en cada tiempo $t$ quedándose sólo con aquellas que maximizan los valores, de igual forma lo hace para cada valor $j$: $$\\delta_j(t+1) = \\max_i p(x^{(t+1)}|y_j)p(y_j|y_i)\\delta_i(t)$$ En términos de vectores y matrices: $$\\delta(t+1) = \\max_i A \\odot \\Big(B_{w^{(t+1)}} \\otimes \\delta(t) \\Big)$$ Las variables $\\phi$ se calculan de forma similar pero usando el $\\arg\\max$.\n",
    "\n",
    "Podemos observar que lo que obtiene son las probabilidades en cada tiempo $t$ para $\\delta$ de la siguiente forma:\n",
    "\n",
    "$$\\delta_j(t) = \\max_{i_1,...,i_{t-1}} p(y_{i_1}^{(0)},..., y_{i_{t-1}}^{(t-1)}, x^{(1)},...,x^{(t)}, y^{(t)}_j)$$\n",
    "\n",
    "Es decir, las variables $\\delta$ guardan las probabilidades conjuntas para cada tiempo $t$, por lo que en el último paso $T$, tendremos $N$ variables $\\delta_j$ cada una con una probabilidad conjunta. El caso de $\\phi$ es similar:\n",
    "\n",
    "$$\\phi_j(t) = \\arg\\max_{i_1,...,i_{t-1}} p(y_{i_1}^{(1)},..., y_{i_{t-1}}^{(t-1)}, x^{(1)},...,x^{(t)}, y^{(t)}_j)$$\n",
    "\n",
    "En este caso, lo que las variables $\\phi_j$ guardan son los valores de los caminos que maximizan las probabilidades."
   ]
  },
  {
   "cell_type": "code",
   "execution_count": 20,
   "metadata": {},
   "outputs": [],
   "source": [
    "def forward(obs, HMM):\n",
    "    \"\"\"Función de paso forward del algoritmo de Viterbi\"\"\"\n",
    "    #Obtiene el HMM\n",
    "    ems_voc, obs_voc, A, Pi, B = HMM\n",
    "    #Variable delta guarda las probs máximas\n",
    "    d = np.zeros((len(obs),len(ems_voc)-2))\n",
    "    #Variable phi guarda los argumentos que maximizan las probs\n",
    "    phi = np.zeros((len(obs),len(ems_voc)-2))\n",
    "\n",
    "    #Inicialización\n",
    "    d[0] = B[ obs_voc[obs[0]] ]*Pi\n",
    "    #Inducción\n",
    "    for t in range(0, len(obs)-1):\n",
    "        #Calculamos las probabilidades\n",
    "        probs = A[:,:-1]*np.outer(B[obs_voc[obs[t]]], d[t])    \n",
    "        #Obtenemos las variables delta\n",
    "        d[t+1] = np.max(probs, axis=0)\n",
    "        #Obtenemos variables phi\n",
    "        phi[t] = np.argmax(probs, axis=0)\n",
    "        \n",
    "    return d, phi"
   ]
  },
  {
   "cell_type": "markdown",
   "metadata": {},
   "source": [
    "Nuestra función forward tomará una secuencia de entrada a etiquetar y el modelo de Márkov y regresará las variables $\\delta$ y $\\phi$ para cada tiempo, recordemos que cada tiempo representa una observación de la entrada. Por tanto, podemos ver que las variables $\\delta$ se pueden representar en una tabla con columnas que son las variables $y_i$ y con renglones que responden a las observaciones en cada tiempo $t$."
   ]
  },
  {
   "cell_type": "code",
   "execution_count": 21,
   "metadata": {},
   "outputs": [
    {
     "name": "stdout",
     "output_type": "stream",
     "text": [
      "CPU times: user 626 µs, sys: 225 µs, total: 851 µs\n",
      "Wall time: 696 µs\n"
     ]
    },
    {
     "data": {
      "text/html": [
       "<div>\n",
       "<style scoped>\n",
       "    .dataframe tbody tr th:only-of-type {\n",
       "        vertical-align: middle;\n",
       "    }\n",
       "\n",
       "    .dataframe tbody tr th {\n",
       "        vertical-align: top;\n",
       "    }\n",
       "\n",
       "    .dataframe thead th {\n",
       "        text-align: right;\n",
       "    }\n",
       "</style>\n",
       "<table border=\"1\" class=\"dataframe\">\n",
       "  <thead>\n",
       "    <tr style=\"text-align: right;\">\n",
       "      <th></th>\n",
       "      <th>DA</th>\n",
       "      <th>NC</th>\n",
       "      <th>PP</th>\n",
       "      <th>DP</th>\n",
       "      <th>V</th>\n",
       "    </tr>\n",
       "  </thead>\n",
       "  <tbody>\n",
       "    <tr>\n",
       "      <th>yo</th>\n",
       "      <td>1.111111e-02</td>\n",
       "      <td>8.771930e-03</td>\n",
       "      <td>6.410256e-03</td>\n",
       "      <td>9.375000e-02</td>\n",
       "      <td>5.208333e-03</td>\n",
       "    </tr>\n",
       "    <tr>\n",
       "      <th>salto</th>\n",
       "      <td>2.525253e-04</td>\n",
       "      <td>2.923977e-04</td>\n",
       "      <td>1.092657e-04</td>\n",
       "      <td>1.598011e-03</td>\n",
       "      <td>5.326705e-04</td>\n",
       "    </tr>\n",
       "    <tr>\n",
       "      <th>el</th>\n",
       "      <td>1.721763e-05</td>\n",
       "      <td>9.968102e-06</td>\n",
       "      <td>4.929281e-06</td>\n",
       "      <td>2.723883e-05</td>\n",
       "      <td>1.815922e-05</td>\n",
       "    </tr>\n",
       "    <tr>\n",
       "      <th>salto</th>\n",
       "      <td>3.913098e-07</td>\n",
       "      <td>9.968102e-07</td>\n",
       "      <td>9.858562e-08</td>\n",
       "      <td>5.447766e-07</td>\n",
       "      <td>6.190643e-07</td>\n",
       "    </tr>\n",
       "    <tr>\n",
       "      <th>de</th>\n",
       "      <td>2.668021e-08</td>\n",
       "      <td>3.398217e-08</td>\n",
       "      <td>4.447472e-09</td>\n",
       "      <td>9.285965e-09</td>\n",
       "      <td>2.110447e-08</td>\n",
       "    </tr>\n",
       "    <tr>\n",
       "      <th>altura</th>\n",
       "      <td>7.696215e-10</td>\n",
       "      <td>2.940764e-09</td>\n",
       "      <td>1.282925e-10</td>\n",
       "      <td>2.678644e-10</td>\n",
       "      <td>7.194704e-10</td>\n",
       "    </tr>\n",
       "  </tbody>\n",
       "</table>\n",
       "</div>"
      ],
      "text/plain": [
       "                  DA            NC            PP            DP             V\n",
       "yo      1.111111e-02  8.771930e-03  6.410256e-03  9.375000e-02  5.208333e-03\n",
       "salto   2.525253e-04  2.923977e-04  1.092657e-04  1.598011e-03  5.326705e-04\n",
       "el      1.721763e-05  9.968102e-06  4.929281e-06  2.723883e-05  1.815922e-05\n",
       "salto   3.913098e-07  9.968102e-07  9.858562e-08  5.447766e-07  6.190643e-07\n",
       "de      2.668021e-08  3.398217e-08  4.447472e-09  9.285965e-09  2.110447e-08\n",
       "altura  7.696215e-10  2.940764e-09  1.282925e-10  2.678644e-10  7.194704e-10"
      ]
     },
     "execution_count": 21,
     "metadata": {},
     "output_type": "execute_result"
    }
   ],
   "source": [
    "%%time\n",
    "#Obtenemos las observaciones por estado\n",
    "obs_text = text1.split()\n",
    "\n",
    "d, phi = forward(obs_text, (ems_voc, obs_voc, A, Pi, B))\n",
    "\n",
    "pd.DataFrame(data=d, index=obs_text, columns=list(ems_voc.keys())[:-2])"
   ]
  },
  {
   "cell_type": "markdown",
   "metadata": {},
   "source": [
    "De igual forma, podemos visualizar las variables $\\phi$, que como señalamos, marcan el camino en cada tiempo $t$, representado por un valor de entrada (palabra). Así, cada entrada de la tabla para las variables $\\phi$ representa el valor anterior más probables para llegar al valor actual $y_i$ representado en la columna de la tabla."
   ]
  },
  {
   "cell_type": "code",
   "execution_count": 22,
   "metadata": {},
   "outputs": [
    {
     "data": {
      "text/html": [
       "<div>\n",
       "<style scoped>\n",
       "    .dataframe tbody tr th:only-of-type {\n",
       "        vertical-align: middle;\n",
       "    }\n",
       "\n",
       "    .dataframe tbody tr th {\n",
       "        vertical-align: top;\n",
       "    }\n",
       "\n",
       "    .dataframe thead th {\n",
       "        text-align: right;\n",
       "    }\n",
       "</style>\n",
       "<table border=\"1\" class=\"dataframe\">\n",
       "  <thead>\n",
       "    <tr style=\"text-align: right;\">\n",
       "      <th></th>\n",
       "      <th>DA</th>\n",
       "      <th>NC</th>\n",
       "      <th>PP</th>\n",
       "      <th>DP</th>\n",
       "      <th>V</th>\n",
       "    </tr>\n",
       "  </thead>\n",
       "  <tbody>\n",
       "    <tr>\n",
       "      <th>yo</th>\n",
       "      <td>V</td>\n",
       "      <td>DA</td>\n",
       "      <td>DP</td>\n",
       "      <td>DP</td>\n",
       "      <td>DP</td>\n",
       "    </tr>\n",
       "    <tr>\n",
       "      <th>salto</th>\n",
       "      <td>V</td>\n",
       "      <td>V</td>\n",
       "      <td>NC</td>\n",
       "      <td>V</td>\n",
       "      <td>DP</td>\n",
       "    </tr>\n",
       "    <tr>\n",
       "      <th>el</th>\n",
       "      <td>V</td>\n",
       "      <td>DA</td>\n",
       "      <td>DA</td>\n",
       "      <td>DA</td>\n",
       "      <td>DP</td>\n",
       "    </tr>\n",
       "    <tr>\n",
       "      <th>salto</th>\n",
       "      <td>V</td>\n",
       "      <td>V</td>\n",
       "      <td>NC</td>\n",
       "      <td>V</td>\n",
       "      <td>DP</td>\n",
       "    </tr>\n",
       "    <tr>\n",
       "      <th>de</th>\n",
       "      <td>PP</td>\n",
       "      <td>PP</td>\n",
       "      <td>PP</td>\n",
       "      <td>PP</td>\n",
       "      <td>DP</td>\n",
       "    </tr>\n",
       "    <tr>\n",
       "      <th>altura</th>\n",
       "      <td>DA</td>\n",
       "      <td>DA</td>\n",
       "      <td>DA</td>\n",
       "      <td>DA</td>\n",
       "      <td>DA</td>\n",
       "    </tr>\n",
       "  </tbody>\n",
       "</table>\n",
       "</div>"
      ],
      "text/plain": [
       "        DA  NC  PP  DP   V\n",
       "yo       V  DA  DP  DP  DP\n",
       "salto    V   V  NC   V  DP\n",
       "el       V  DA  DA  DA  DP\n",
       "salto    V   V  NC   V  DP\n",
       "de      PP  PP  PP  PP  DP\n",
       "altura  DA  DA  DA  DA  DA"
      ]
     },
     "execution_count": 22,
     "metadata": {},
     "output_type": "execute_result"
    }
   ],
   "source": [
    "phi_cat = []\n",
    "for j, c in enumerate(phi):\n",
    "    phi_cat.append([tags[i] for i in c])\n",
    "    \n",
    "pd.DataFrame(data=phi_cat, index=obs_text, columns=list(ems_voc.keys())[:-2])"
   ]
  },
  {
   "cell_type": "markdown",
   "metadata": {},
   "source": [
    "Lo que esta parte del algoritmo ha hecho es crear una gráfica con $N$ caminos, tantos como símbolos de emisión. De esta forma, la complejidad de la búsqueda se simplifica. Podemos observar cómo se comportan los caminos encontrados."
   ]
  },
  {
   "cell_type": "code",
   "execution_count": 23,
   "metadata": {},
   "outputs": [
    {
     "name": "stdout",
     "output_type": "stream",
     "text": [
      "yo\n",
      "\t V --> DA 0.01111111111111111\n",
      "\t DA --> NC 0.008771929824561403\n",
      "\t DP --> PP 0.00641025641025641\n",
      "\t DP --> DP 0.09375\n",
      "\t DP --> V 0.005208333333333333\n",
      "salto\n",
      "\t V --> DA 0.0002525252525252525\n",
      "\t V --> NC 0.00029239766081871346\n",
      "\t NC --> PP 0.00010926573426573428\n",
      "\t V --> DP 0.0015980113636363637\n",
      "\t DP --> V 0.0005326704545454545\n",
      "el\n",
      "\t V --> DA 1.7217630853994492e-05\n",
      "\t DA --> NC 9.968102073365231e-06\n",
      "\t DA --> PP 4.929281245070719e-06\n",
      "\t DA --> DP 2.7238830061983472e-05\n",
      "\t DP --> V 1.815922004132231e-05\n",
      "salto\n",
      "\t V --> DA 3.913097921362385e-07\n",
      "\t V --> NC 9.968102073365232e-07\n",
      "\t NC --> PP 9.858562490141437e-08\n",
      "\t V --> DP 5.447766012396696e-07\n",
      "\t DP --> V 6.190643195905332e-07\n",
      "de\n",
      "\t PP --> DA 2.668021310019808e-08\n",
      "\t PP --> NC 3.3982166159199657e-08\n",
      "\t PP --> PP 4.447471800063806e-09\n",
      "\t PP --> DP 9.285964793858004e-09\n",
      "\t DP --> V 2.110446544058636e-08\n",
      "altura\n",
      "\t DA 7.696215317364832e-10\n",
      "\t NC 2.9407643791615087e-09\n",
      "\t PP 1.2829245577107133e-10\n",
      "\t DP 2.6786436905359626e-10\n",
      "\t V 7.194704127472622e-10\n"
     ]
    }
   ],
   "source": [
    "trellis = []\n",
    "#Creamos las transiciones que se dan con Viterbi\n",
    "for i, w in enumerate(obs_text):\n",
    "    print(w)\n",
    "    for s,j in ems_voc.items():\n",
    "        try:\n",
    "            if i != len(obs_text)-1:\n",
    "                print('\\t', phi_cat[i][j], '-->', s, d[i][j])\n",
    "                trellis.append(('$'+phi_cat[i][j]+'_'+str(i+1)+'$', '$'+s+'_'+str(i+2)+'$', d[i][j]))\n",
    "            else:\n",
    "                print('\\t', s, d[i][j],)\n",
    "        except:\n",
    "            pass"
   ]
  },
  {
   "cell_type": "markdown",
   "metadata": {},
   "source": [
    "Una forma más clara de verlo es a partir del diagrama de caminos que resultan de aplicar el algoritmo de Viterbi. Tenemos tantos caminos como símbolos. Sólo basta escoger un camino que máximice la probabilidad para obtener la cadena de emisiones más óptima.\n",
    "\n",
    "En el nuevo diagrama obtenido, vemos que el número de caminos se ha simplificado bastante. Ya no hay $O(N^{T})$ caminos, pues el algoritmo de Viterbi sólo toma un camino por valor en cada tiempo. Podemos ver que en la fase inicial considerara $N$ valores. Pero en el siguiente paso, para cada valor $y_i$ tomará sólo el camino previo más probable para cada valor actual. Entonces comparará $N$ símbolos actuales con los $N$ símbolos previos, teniendo un total de $N^2$ operaciones. Esto lo hará para cada tiempo. Por lo que en total sólo tendremos $T N^2$ operaciones en total, reduciendo la complejidad a una complejidad cuadrática."
   ]
  },
  {
   "cell_type": "code",
   "execution_count": 24,
   "metadata": {},
   "outputs": [
    {
     "data": {
      "image/png": "[encoded data removed]",
      "text/plain": [
       "<Figure size 1080x216 with 1 Axes>"
      ]
     },
     "metadata": {
      "needs_background": "light"
     },
     "output_type": "display_data"
    }
   ],
   "source": [
    "#Crea el diagrama Trellis\n",
    "Trell = nx.DiGraph()\n",
    "Trell.add_weighted_edges_from(trellis)\n",
    "\n",
    "#Posiciona los nodos\n",
    "layout = {}\n",
    "for n in Trell.nodes:\n",
    "    lab, t = n.split('_')\n",
    "    layout[n] = np.array([float(t[:1])-1, ems_voc[lab[1:]]])\n",
    "\n",
    "#Visalización\n",
    "fig, ax = plt.subplots(figsize=(15, 3))\n",
    "nx.draw_networkx(Trell, with_labels=True, node_size=700, font_size=10, node_color='#ffffff', pos=layout, ax=ax)\n",
    "ax.tick_params(bottom=True, labelbottom=True)\n",
    "plt.title('Caminos encontrados por algoritmo de Viterbi')\n",
    "#plt.xticks([0,1,2,3,4,5,6,7], obs_text)\n",
    "plt.xticks(range(len(text1.split())), text1.split())\n",
    "plt.show()"
   ]
  },
  {
   "cell_type": "markdown",
   "metadata": {},
   "source": [
    "#### Backward\n",
    "\n",
    "El paso backward se basará en la salida del paso forward, pues lo que hará es recuperar el camino, de los caminos obtenidos en el forward, que maximice la probabilidad total. De esta forma, lo único que hace es encontrar el camino con mayor probabilidad y recuperar los valores que le corresponden. Este oalgoritmo entonces se basará en:\n",
    "\n",
    "\n",
    "* <b>Inicialización</b>: Encuentra el camino que tiene la mayor probabilidad total y recupera el último símbolo de este camino como: $$\\hat{y}^{(T)} = \\arg\\max_i \\delta_i(T)$$\n",
    "* <b>Inducción</b>: Recupera el valor previo en el camino elegido en la inicialización de la forma: $$\\hat{y}^{(t)} = \\phi_{\\hat{y}^{(t+1)}}(t+1)$$\n",
    "\n",
    "Como podemos observar, la inicialización busca la probabilidad más alta en las variables $\\delta_i(T)$ y la inducción recupera el camino con las variables $\\phi$. El camino lo recupera de manera inversa, pues empieza del último valor y de allí recorre hacia atrás (de allí el nombre backward) hasta el primer símbolo. Por lo que la secuencia debe ser invertida para obtener la secuencia real."
   ]
  },
  {
   "cell_type": "code",
   "execution_count": 25,
   "metadata": {},
   "outputs": [
    {
     "name": "stdout",
     "output_type": "stream",
     "text": [
      "Secuencia de índices de saldia: [3, 4, 0, 1, 2, 1]\n"
     ]
    }
   ],
   "source": [
    "def backward(d,phi):\n",
    "    \"\"\"Función backward para el algoritmo de Viterbi\"\"\"\n",
    "    #Inicialización\n",
    "    yT = np.argmax(d[-1])\n",
    "\n",
    "    #Guarda las etiquetas\n",
    "    tags_prop = [yT]\n",
    "    for t in range(0, d.shape[1])[::-1]:\n",
    "        #Inducción\n",
    "        yt = int(phi[t][tags_prop[-1]])\n",
    "        tags_prop.append(yt)\n",
    "        \n",
    "    return tags_prop[::-1]\n",
    "\n",
    "print('Secuencia de índices de saldia: {}'.format(backward(d,phi)))"
   ]
  },
  {
   "cell_type": "markdown",
   "metadata": {},
   "source": [
    "Como hemos trabajado con valores enteros que indexan a las etiquetas gramaticales, necesitamos recuperar los valores de etieutas que corresponden a estos índices. Para hacer esto, definiremos una función que implementa el algoritmo de Viterbi aplicando el forward y el backward:"
   ]
  },
  {
   "cell_type": "code",
   "execution_count": 26,
   "metadata": {},
   "outputs": [
    {
     "name": "stdout",
     "output_type": "stream",
     "text": [
      "Input:\tyo\tsalto\tel\tsalto\tde\taltura\n",
      "Output:\tDP\tV\tDA\tNC\tPP\tNC\n"
     ]
    },
    {
     "data": {
      "text/plain": [
       "['DP', 'V', 'DA', 'NC', 'PP', 'NC']"
      ]
     },
     "execution_count": 26,
     "metadata": {},
     "output_type": "execute_result"
    }
   ],
   "source": [
    "def Viterbi(obs_text, HMM):\n",
    "    \"\"\"Algoritmo de Viterbi\"\"\"\n",
    "    #Obtiene el HMM\n",
    "    ems_voc, obs_voc, A, Pi, B = HMM\n",
    "    #Forward\n",
    "    d,phi = forward(obs_text, (ems_voc, obs_voc, A, Pi, B))\n",
    "    #Backward\n",
    "    tags_idx = backward(d,phi)\n",
    "    \n",
    "    #Recupera los tags de los índices\n",
    "    tags = {value:key for key, value in ems_voc.items()}\n",
    "    output = [tags[yt] for yt in tags_idx]\n",
    "    \n",
    "    print( 'Input:\\t{}\\nOutput:\\t{}'.format('\\t'.join(obs_text), '\\t'.join(output)) ) \n",
    "    \n",
    "    return output\n",
    "    \n",
    "Viterbi(obs_text, (ems_voc, obs_voc, A, Pi, B))"
   ]
  },
  {
   "cell_type": "markdown",
   "metadata": {},
   "source": [
    "Como podemos observar, las etiquetas elegidas para esta cadena son correctas. En este caso, el algoritmo de Viterbi nos ha llevado a encontrar el máximo global, y coincide con el resultado obtenido con fuerza bruta, pero es mucho más eficiente."
   ]
  }
 ],
 "metadata": {
  "kernelspec": {
   "display_name": "Python 3",
   "language": "python",
   "name": "python3"
  },
  "language_info": {
   "codemirror_mode": {
    "name": "ipython",
    "version": 3
   },
   "file_extension": ".py",
   "mimetype": "text/x-python",
   "name": "python",
   "nbconvert_exporter": "python",
   "pygments_lexer": "ipython3",
   "version": "3.8.8"
  }
 },
 "nbformat": 4,
 "nbformat_minor": 1
}
