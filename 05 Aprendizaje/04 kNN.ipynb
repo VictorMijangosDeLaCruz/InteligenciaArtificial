{
 "cells": [
  {
   "cell_type": "markdown",
   "id": "c9453eed",
   "metadata": {},
   "source": [
    "# k-Nearest Neighbors\n",
    "\n",
    "El algoritmo de $k$-NN se basa en la cercanía que tienen los puntos de evaluación con respecto a los puntos de entrenamiento que pertenecen a una clase. Entre más vecinos de una clase tenga un punto, mayor probabilidad de pertenecer a esa clase.\n",
    "\n",
    "Aquí mostramos una implementación de este algoritmo."
   ]
  },
  {
   "cell_type": "code",
   "execution_count": 1,
   "id": "596d1a32",
   "metadata": {},
   "outputs": [],
   "source": [
    "from collections import Counter\n",
    "import matplotlib.pyplot as plt\n",
    "import numpy as np"
   ]
  },
  {
   "cell_type": "markdown",
   "id": "30ffbf3c",
   "metadata": {},
   "source": [
    "El algoritmo es simple, para <b>entrenar</b> se basa en guardar los datos supervisados, los puntos asociados a sus clases.\n",
    "\n",
    "Es en la predicción en donde se hacen los cálculos, pues se estiman los $k$ vecinos más cercanos; es decir aquellos que cumplen:\n",
    "\n",
    "$$||x-x'||_p \\leq ||x-x''||_p$$\n",
    "\n",
    "Para todo $x''$ en los puntos guardados. Usamos una familia de métricas que dependen de $p$ definidas como:\n",
    "\n",
    "$$||x-x'||_p = \\Big( \\sum_i |x_i - x_i'|^p\\Big)^{1/p}$$\n",
    "\n",
    "De estos, $k$ vecinos se decide la clase en base a la clase que esté mejor representada por los vecinos. Se puede estimar una probabilidad como:\n",
    "\n",
    "$$p(Y=y_i|x) = \\frac{\\mathrm{count}(y_i)}{k}$$\n",
    "\n",
    "Es decir, el número de vecinos que pertenecen a una clase sobre el total de vecinos considerados. De tal forma que la clase predicha se puede estimar como:\n",
    "\n",
    "$$\\hat{y} = \\arg\\max_y p(Y=y|x)$$"
   ]
  },
  {
   "cell_type": "code",
   "execution_count": 2,
   "id": "0c814f15",
   "metadata": {},
   "outputs": [],
   "source": [
    "class kNN():\n",
    "    \"\"\"\n",
    "    Clase para el modelo de k-NN.\n",
    "    \"\"\"\n",
    "    def __init__(self, k=1, p=2):\n",
    "        #Núm de vecinos\n",
    "        self.k = k\n",
    "        #Métrica a utilizar\n",
    "        self.metric = lambda u,v: sum([(u[i]-v[i])**p for i in range(len(u))])**(1/p)\n",
    "        #Modelo de entrenamiento\n",
    "        self.X = None\n",
    "        self.Y = None\n",
    "        self.n = 0\n",
    "        \n",
    "    def fit(self, X,Y):\n",
    "        \"\"\"\n",
    "        Entrena la red guardando los datos de entrenamiento.\n",
    "        \"\"\"\n",
    "        self.X = X\n",
    "        self.Y = Y\n",
    "        self.n = X.shape[0]\n",
    "        \n",
    "    def predict(self, x):\n",
    "        \"\"\"\n",
    "        Función que predice la clase de un elemento.\n",
    "        \"\"\"\n",
    "        #Guarda los puntos guardados y sus métricas con x\n",
    "        results = []\n",
    "        for j in range(self.n):\n",
    "            #Calcula la cercanía\n",
    "            close = self.metric(x,self.X[j])\n",
    "            #Guarda las clases de los vecinos más cercanos\n",
    "            results.append((close, self.Y[j]))\n",
    "        \n",
    "        #Considera sólo los k vecinos más cercanos\n",
    "        knn = [neigh[1] for neigh in sorted(results)[:self.k]]\n",
    "        #Cuenta las repeticiones de cada clase en los vecinos\n",
    "        repetitions = Counter(knn)\n",
    "        #Predice la clase más frecuente\n",
    "        predicted_class = max(repetitions, key=repetitions.get) \n",
    "        \n",
    "        return predicted_class\n",
    "    \n",
    "    def predict_proba(self, x):\n",
    "        \"\"\"\n",
    "        Función para obtener la probabilidad de la clase dado x.\n",
    "        \"\"\"\n",
    "        #Guarda los puntos guardados y sus métricas con x\n",
    "        results = []\n",
    "        for j in range(self.n):\n",
    "            #Calcula la cercanía\n",
    "            close = self.metric(x,self.X[j])\n",
    "            #Guarda las clases de los vecinos más cercanos\n",
    "            results.append((close, self.Y[j]))\n",
    "        \n",
    "        #Considera sólo los k vecinos más cercanos\n",
    "        knn = [neigh[1] for neigh in sorted(results)[:self.k]]\n",
    "        #Cuenta las repeticiones de cada clase en los vecinos\n",
    "        repetitions = Counter(knn)\n",
    "        #Guarda las probs.\n",
    "        proba = {}\n",
    "        for neigh, frec in repetitions.items():\n",
    "            #Obtiene las probabilidades\n",
    "            proba[neigh] = frec/self.k\n",
    "        \n",
    "        return proba"
   ]
  },
  {
   "cell_type": "markdown",
   "id": "2c6693e7",
   "metadata": {},
   "source": [
    "### Un ejemplo sencillo\n",
    "\n",
    "Probamos el algoritmo de k-NN en un ejemplo sencillo con 4 puntos."
   ]
  },
  {
   "cell_type": "code",
   "execution_count": 3,
   "id": "24631ef1",
   "metadata": {},
   "outputs": [
    {
     "data": {
      "image/png": "[encoded data removed]",
      "text/plain": [
       "<Figure size 640x480 with 1 Axes>"
      ]
     },
     "metadata": {},
     "output_type": "display_data"
    }
   ],
   "source": [
    "#Dataset de entrenamiento\n",
    "X = np.array([[0,1], [0,0.7], [1,0], [1,0.3]])\n",
    "y = [0, 0, 1, 1]\n",
    "\n",
    "#Visualización\n",
    "plt.scatter(X[:,0], X[:,1], c=y)\n",
    "plt.show()"
   ]
  },
  {
   "cell_type": "code",
   "execution_count": 4,
   "id": "6be9662a",
   "metadata": {},
   "outputs": [
    {
     "name": "stdout",
     "output_type": "stream",
     "text": [
      "1\n",
      "{1: 0.6666666666666666, 0: 0.3333333333333333}\n"
     ]
    }
   ],
   "source": [
    "#Cargamos el modelo y lo entrenamos\n",
    "knn = kNN(k=3, p=2)\n",
    "knn.fit(X,y)\n",
    "\n",
    "#Hacemos las predicciones\n",
    "print(knn.predict([0.9,0.5]))\n",
    "print(knn.predict_proba([0.9,0.5]))"
   ]
  },
  {
   "cell_type": "markdown",
   "id": "06f52eea",
   "metadata": {},
   "source": [
    "### Un ejemplo más complejo\n",
    "\n",
    "Un ejemplo más completo lo tomamos de <i>sklearn</i> el dataset para predecir iris en plantas. Cargamos entonces este dataset:"
   ]
  },
  {
   "cell_type": "code",
   "execution_count": 5,
   "id": "ed116f30",
   "metadata": {},
   "outputs": [],
   "source": [
    "from sklearn.datasets import load_iris\n",
    "from sklearn.model_selection import train_test_split\n",
    "from sklearn.metrics import classification_report\n",
    "\n",
    "# Cargamos el dataset\n",
    "X = load_iris().data\n",
    "Y = load_iris().target\n",
    "\n",
    "# separamos en train y test\n",
    "x_train, x_test, y_train, y_test = train_test_split(\n",
    "    X, Y, test_size=0.3, random_state=123\n",
    ")"
   ]
  },
  {
   "cell_type": "markdown",
   "id": "d8587be9",
   "metadata": {},
   "source": [
    "Entrenamos con los datos de entrenamiento."
   ]
  },
  {
   "cell_type": "code",
   "execution_count": 6,
   "id": "3b1c72ff",
   "metadata": {},
   "outputs": [],
   "source": [
    "#Cargamos y entrenamos el modelo\n",
    "model = kNN(k=5, p=2)\n",
    "model.fit(x_train, y_train)"
   ]
  },
  {
   "cell_type": "markdown",
   "id": "cf2e69dd",
   "metadata": {},
   "source": [
    "Y finalmente evaluamos el modelo obtenido con los datos del test:"
   ]
  },
  {
   "cell_type": "code",
   "execution_count": 7,
   "id": "9a55be1f",
   "metadata": {},
   "outputs": [
    {
     "name": "stdout",
     "output_type": "stream",
     "text": [
      "              precision    recall  f1-score   support\n",
      "\n",
      "           0       1.00      1.00      1.00        18\n",
      "           1       1.00      0.90      0.95        10\n",
      "           2       0.94      1.00      0.97        17\n",
      "\n",
      "    accuracy                           0.98        45\n",
      "   macro avg       0.98      0.97      0.97        45\n",
      "weighted avg       0.98      0.98      0.98        45\n",
      "\n"
     ]
    }
   ],
   "source": [
    "#Obtenemos las clases que predice el modelo\n",
    "y_pred = [model.predict(x) for x in x_test]\n",
    "#Imprimimos la evaluación\n",
    "print(classification_report(y_test, y_pred))"
   ]
  },
  {
   "cell_type": "markdown",
   "id": "7ce368b4",
   "metadata": {},
   "source": [
    "     "
   ]
  }
 ],
 "metadata": {
  "kernelspec": {
   "display_name": "Python 3 (ipykernel)",
   "language": "python",
   "name": "python3"
  },
  "language_info": {
   "codemirror_mode": {
    "name": "ipython",
    "version": 3
   },
   "file_extension": ".py",
   "mimetype": "text/x-python",
   "name": "python",
   "nbconvert_exporter": "python",
   "pygments_lexer": "ipython3",
   "version": "3.8.10"
  }
 },
 "nbformat": 4,
 "nbformat_minor": 5
}
