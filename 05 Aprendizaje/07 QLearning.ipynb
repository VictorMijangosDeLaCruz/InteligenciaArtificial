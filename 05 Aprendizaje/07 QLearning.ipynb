{
 "cells": [
  {
   "cell_type": "markdown",
   "id": "fb633b29",
   "metadata": {},
   "source": [
    "# Q-learning en el ambiente del Frozen Lake\n",
    "\n",
    "<b>Autora</b>: Alicia Muñiz Jiménez"
   ]
  },
  {
   "cell_type": "markdown",
   "id": "62d3b745",
   "metadata": {},
   "source": [
    "\n",
    "La clave para resolver problemas de aprendizaje por refuerzo (RL) es encontrar la política óptima ($\\pi^{*}$) de la función de valor para el problema específico. El Q-learning es un algoritmo del tipo modelo libre del RL basado en valor y es un policy off-learner, es decir, depende del ensayo y error para actualizar su experiencia y conocimiento del entorno, ya que tienen que aprender la dinámica del sistema a través de la experiencia, y aprende el valor de la política óptima independientemente del tipo de acciones del agente, así como que las actualizaciones de la función de valor se basan en la ecuación de Bellman  (Jang, Kim, Harerimana y Kim, 2019). \n",
    "\n",
    "\n",
    "Su Q proviene de quality (cualidad en inglés), ya que el Q-learning representa qué tan útil es una acción en ganar una recompensa a futuro (Shyalika, 2019). Es así que el Q-learning estima la función $Q(s,a)$ que es el valor esperado de hacer una acción 'a' en un estado 's' para estimar la política óptima y la ecuación de actualización de los valores $Q(s,a)$ es la siguiente: \n",
    "\n",
    "\n",
    "$$\n",
    "Q(s, a) = Q(s, a) + \\alpha [ r(s, a) + γmax Q' (s',a') - Q(s, a) ]\n",
    "$$\n",
    "\n",
    "\n",
    "Donde: \n",
    "\n",
    "*   $r(s,a)$ = recompensa obetenida en ese estado dada una acción.\n",
    "*   $γ$ = factor de descuento para el estado futuro (al que se transitará), su valor es fijo y puede tomar el rango de valores de [0,1].\n",
    "*   $α$ = parámetro de aprendizaje, no es fijo ya que al inicio comienza en 1 y con cada iteración irá disminuyendo su valor hasta alcanzar el valor de 0 o un límite inferior definido de antemano (ej. 0.01).\n",
    "*   $Q(s, a)$ = valor Q del estado actual dada la acción a.\n",
    "*   $max Q'(s', a')$ = máxima futura recompesa esperada del estado nuevo al que se transitará.\n",
    "\n",
    "\n",
    "Como se puede apreciar en la ecuación anterior, el Q-learning usa el método de diferencias temporales para la actualización o estimación de los valores Q, ya que sólo toma en cuenta el estado actual y el siguiente estado para estimar los valores Q (Matiisen, s. f.). Por otro lado, cuando el Q-learning es ejecutado se crea lo que se llama una tabla-Q, que es una matriz donde las filas normalmente representan cada estado posible y las columnas las acciones posibles en cada estado (Aggarwal, s.f. ). Por lo tanto, cada entrada de la matriz es un par estado-acción. La tabla siempre se inicializa con todos los valores en 0 y se actualiza cada entrada con la ecuación de actualización de los valores Q, de acuerdo con lo que el agente explora en cada iteración. La tabla al final sirve como referencia para que el agente pueda seleccionar la mejor acción basada en los valores Q.\n",
    "\n",
    "Finalmente, es importante recalcar que en el Q-learning el agente trabaja con una política epsilon-greedy, mas esta política no tiene valores fijos, sino que al inicio el algoritmo tiene un  epsilon de 1 y con cada iteración este valor va disminuyendo hasta terminar en 0 o en un límite inferior como 0.01, si es que así se especifica de antemano (Matiisen, s.f.). Esto se debe a que como el algoritmo no tiene conocimiento de la dinámica del sistema al inicio, entonces necesita explorar mucho para conocer el entorno, pero conforme va conociendo más del entorno puede explotar cada vez más y no solo explorar. "
   ]
  },
  {
   "cell_type": "markdown",
   "id": "17e68fc5",
   "metadata": {},
   "source": [
    "Después de la breve introducción al Q-learning, ahora se procederá con un ejemplo práctico sobre dos agentes agentes que interactúan en el entorno virtual \"Frozen Lake\" del gimnasio OpenAI, esto para entender mejor el Q-learning y las diferencias que se pueden observar al compararlo con un agente que tiene una política de elección de comportamiento de acciones aleatorias. \n",
    "\n"
   ]
  },
  {
   "cell_type": "markdown",
   "id": "f57ae6a6",
   "metadata": {},
   "source": [
    "## Explicación del ambiente"
   ]
  },
  {
   "cell_type": "markdown",
   "id": "a18e10ee",
   "metadata": {},
   "source": [
    "La documentación de la paquetería *gymnasium* describe las sigueintes características del ambiente *Frozen Lake* (Farama Foundation, 2023): \n",
    "\n",
    "* **Estado de acciones (4):**\n",
    "\n",
    "    - 0 = Izquierda\n",
    "    - 1 = Abajo\n",
    "    - 2 = Derecha\n",
    "    - 3 = Arriba\n",
    "    \n",
    "* **Espacio observacional (16):** Se utilizará el ambiente de Frozen Lake con una cuadrícula de tamaño 4x4, por lo que el total de observaciones posibles (estados) son 16. \n",
    "\n",
    "\n",
    "* **Recompenzas:**\n",
    "\n",
    "     - +1 si el agente alcanza la meta.\n",
    "     - 0 si el agente cae en alún hoyo en el hielo.\n",
    "     - 0 si el agente pasa por estados donde hay hielo congelado. \n",
    "     \n"
   ]
  },
  {
   "cell_type": "markdown",
   "id": "71b9dc33",
   "metadata": {},
   "source": [
    "# Código"
   ]
  },
  {
   "cell_type": "markdown",
   "id": "e72d943b",
   "metadata": {},
   "source": [
    "**Instalación e importación de librerías**"
   ]
  },
  {
   "cell_type": "code",
   "execution_count": 1,
   "id": "ad9f1773",
   "metadata": {},
   "outputs": [],
   "source": [
    "import numpy as np\n",
    "import pandas as pd\n",
    "import gymnasium as gym \n",
    "import math, random"
   ]
  },
  {
   "cell_type": "markdown",
   "id": "b6cf0e2f",
   "metadata": {},
   "source": [
    "# Agente con acciones aleatorias"
   ]
  },
  {
   "cell_type": "code",
   "execution_count": 2,
   "id": "2ff1a16c",
   "metadata": {},
   "outputs": [
    {
     "name": "stdout",
     "output_type": "stream",
     "text": [
      "Ambiente:\n",
      "[[b'S' b'H' b'F' b'F']\n",
      " [b'F' b'F' b'F' b'F']\n",
      " [b'F' b'F' b'F' b'H']\n",
      " [b'F' b'F' b'F' b'G']]\n",
      " Tamaño: 16; Núm. acciones: 4\n"
     ]
    }
   ],
   "source": [
    "#Crea ambiente; render_mode='human' permite visualizar gráficamente el entorno \n",
    "env=gym.make(\"FrozenLake-v1\",desc=[\"SHFF\", \"FFFF\", \"FFFH\", \"FFFG\"], is_slippery=False, render_mode=\"human\")\n",
    "#Índices de las acciones\n",
    "action_names = {0:'Izquierda', 1: 'Abajo', 2: 'Derecha', 3: 'Arriba'}\n",
    "\n",
    "#Número de acciones\n",
    "action_space_size = env.action_space.n\n",
    "#Número de cuadros\n",
    "state_space_size = env.observation_space.n\n",
    "\n",
    "print('Ambiente:\\n{}\\n Tamaño: {}; Núm. acciones: {}'.format(env.desc, state_space_size, action_space_size))"
   ]
  },
  {
   "cell_type": "code",
   "execution_count": 3,
   "id": "da9db83a",
   "metadata": {},
   "outputs": [
    {
     "name": "stdout",
     "output_type": "stream",
     "text": [
      "Ensayo:1\n",
      "\tAcciones:['Izquierda', 'Derecha']; Recompensa: 0.0\n",
      "Ensayo:2\n",
      "\tAcciones:['Arriba', 'Arriba', 'Izquierda', 'Derecha']; Recompensa: 0.0\n",
      "Ensayo:3\n",
      "\tAcciones:['Abajo', 'Arriba', 'Arriba', 'Derecha']; Recompensa: 0.0\n"
     ]
    }
   ],
   "source": [
    "#Número de ensayos\n",
    "ensayos = 3\n",
    "for ensayos in range(1, ensayos+1):\n",
    "    #Estado inicial\n",
    "    estado = env.reset()\n",
    "    done = False\n",
    "    score = 0\n",
    "\n",
    "    actions = []\n",
    "    while not done:\n",
    "        #Visualiza el ambiente\n",
    "        #env.render() #Quitar comentario para visualizar\n",
    "        #Muestrea una acción\n",
    "        action = env.action_space.sample()\n",
    "        actions.append(action_names[action])\n",
    "        #Obtiene la recompensa por la acción\n",
    "        _, reward, done, _, _ = env.step(action)\n",
    "        score += reward\n",
    "\n",
    "    print('Ensayo:{}\\n\\tAcciones:{}; Recompensa: {}'.format(ensayos, actions, score))\n",
    "\n",
    "env.close()"
   ]
  },
  {
   "cell_type": "markdown",
   "id": "0f975a90",
   "metadata": {},
   "source": [
    "Un ejemplo de la exploración que hace el agente se puede visualizar de la siguiente forma:\n",
    "\n",
    "![image](Images/FrozenLake.gif)"
   ]
  },
  {
   "cell_type": "markdown",
   "id": "eeb0544e",
   "metadata": {},
   "source": [
    "## Agente con el algorito de Q-learning"
   ]
  },
  {
   "cell_type": "markdown",
   "id": "32ecb236",
   "metadata": {},
   "source": [
    "Se usó como base el código de Brooker (2020) sobre su agente de Q-learning en el ambiente de CartPole-v1, pero se adaptó para el ambiente Frozen Lake y el tipo de variables que maneja este ambiente. Además se implementaron cambios respecto al ambiente original, para fines didácticos y cambios en el código para adaptarlo a las nuevas actualizaciones de la paquetería gymnasium. De igual forma, se agregó una etapa de prueba al final para comprobar qué tan bien aprendió el agente. "
   ]
  },
  {
   "cell_type": "code",
   "execution_count": 4,
   "id": "9dd18478",
   "metadata": {},
   "outputs": [],
   "source": [
    "env=gym.make(\"FrozenLake-v1\",desc=[\"SFFF\", \"FHFF\", \"FFFH\", \"FFFG\"], is_slippery=False, render_mode=\"ansi\")"
   ]
  },
  {
   "cell_type": "code",
   "execution_count": 5,
   "id": "04289d16",
   "metadata": {},
   "outputs": [
    {
     "data": {
      "text/html": [
       "<div>\n",
       "<style scoped>\n",
       "    .dataframe tbody tr th:only-of-type {\n",
       "        vertical-align: middle;\n",
       "    }\n",
       "\n",
       "    .dataframe tbody tr th {\n",
       "        vertical-align: top;\n",
       "    }\n",
       "\n",
       "    .dataframe thead th {\n",
       "        text-align: right;\n",
       "    }\n",
       "</style>\n",
       "<table border=\"1\" class=\"dataframe\">\n",
       "  <thead>\n",
       "    <tr style=\"text-align: right;\">\n",
       "      <th></th>\n",
       "      <th>Izquierda</th>\n",
       "      <th>Abajo</th>\n",
       "      <th>Derecha</th>\n",
       "      <th>Arriba</th>\n",
       "    </tr>\n",
       "  </thead>\n",
       "  <tbody>\n",
       "    <tr>\n",
       "      <th>0</th>\n",
       "      <td>0.0</td>\n",
       "      <td>0.0</td>\n",
       "      <td>0.0</td>\n",
       "      <td>0.0</td>\n",
       "    </tr>\n",
       "    <tr>\n",
       "      <th>1</th>\n",
       "      <td>0.0</td>\n",
       "      <td>0.0</td>\n",
       "      <td>0.0</td>\n",
       "      <td>0.0</td>\n",
       "    </tr>\n",
       "    <tr>\n",
       "      <th>2</th>\n",
       "      <td>0.0</td>\n",
       "      <td>0.0</td>\n",
       "      <td>0.0</td>\n",
       "      <td>0.0</td>\n",
       "    </tr>\n",
       "    <tr>\n",
       "      <th>3</th>\n",
       "      <td>0.0</td>\n",
       "      <td>0.0</td>\n",
       "      <td>0.0</td>\n",
       "      <td>0.0</td>\n",
       "    </tr>\n",
       "    <tr>\n",
       "      <th>4</th>\n",
       "      <td>0.0</td>\n",
       "      <td>0.0</td>\n",
       "      <td>0.0</td>\n",
       "      <td>0.0</td>\n",
       "    </tr>\n",
       "    <tr>\n",
       "      <th>5</th>\n",
       "      <td>0.0</td>\n",
       "      <td>0.0</td>\n",
       "      <td>0.0</td>\n",
       "      <td>0.0</td>\n",
       "    </tr>\n",
       "    <tr>\n",
       "      <th>6</th>\n",
       "      <td>0.0</td>\n",
       "      <td>0.0</td>\n",
       "      <td>0.0</td>\n",
       "      <td>0.0</td>\n",
       "    </tr>\n",
       "    <tr>\n",
       "      <th>7</th>\n",
       "      <td>0.0</td>\n",
       "      <td>0.0</td>\n",
       "      <td>0.0</td>\n",
       "      <td>0.0</td>\n",
       "    </tr>\n",
       "    <tr>\n",
       "      <th>8</th>\n",
       "      <td>0.0</td>\n",
       "      <td>0.0</td>\n",
       "      <td>0.0</td>\n",
       "      <td>0.0</td>\n",
       "    </tr>\n",
       "    <tr>\n",
       "      <th>9</th>\n",
       "      <td>0.0</td>\n",
       "      <td>0.0</td>\n",
       "      <td>0.0</td>\n",
       "      <td>0.0</td>\n",
       "    </tr>\n",
       "    <tr>\n",
       "      <th>10</th>\n",
       "      <td>0.0</td>\n",
       "      <td>0.0</td>\n",
       "      <td>0.0</td>\n",
       "      <td>0.0</td>\n",
       "    </tr>\n",
       "    <tr>\n",
       "      <th>11</th>\n",
       "      <td>0.0</td>\n",
       "      <td>0.0</td>\n",
       "      <td>0.0</td>\n",
       "      <td>0.0</td>\n",
       "    </tr>\n",
       "    <tr>\n",
       "      <th>12</th>\n",
       "      <td>0.0</td>\n",
       "      <td>0.0</td>\n",
       "      <td>0.0</td>\n",
       "      <td>0.0</td>\n",
       "    </tr>\n",
       "    <tr>\n",
       "      <th>13</th>\n",
       "      <td>0.0</td>\n",
       "      <td>0.0</td>\n",
       "      <td>0.0</td>\n",
       "      <td>0.0</td>\n",
       "    </tr>\n",
       "    <tr>\n",
       "      <th>14</th>\n",
       "      <td>0.0</td>\n",
       "      <td>0.0</td>\n",
       "      <td>0.0</td>\n",
       "      <td>0.0</td>\n",
       "    </tr>\n",
       "    <tr>\n",
       "      <th>15</th>\n",
       "      <td>0.0</td>\n",
       "      <td>0.0</td>\n",
       "      <td>0.0</td>\n",
       "      <td>0.0</td>\n",
       "    </tr>\n",
       "  </tbody>\n",
       "</table>\n",
       "</div>"
      ],
      "text/plain": [
       "    Izquierda  Abajo  Derecha  Arriba\n",
       "0         0.0    0.0      0.0     0.0\n",
       "1         0.0    0.0      0.0     0.0\n",
       "2         0.0    0.0      0.0     0.0\n",
       "3         0.0    0.0      0.0     0.0\n",
       "4         0.0    0.0      0.0     0.0\n",
       "5         0.0    0.0      0.0     0.0\n",
       "6         0.0    0.0      0.0     0.0\n",
       "7         0.0    0.0      0.0     0.0\n",
       "8         0.0    0.0      0.0     0.0\n",
       "9         0.0    0.0      0.0     0.0\n",
       "10        0.0    0.0      0.0     0.0\n",
       "11        0.0    0.0      0.0     0.0\n",
       "12        0.0    0.0      0.0     0.0\n",
       "13        0.0    0.0      0.0     0.0\n",
       "14        0.0    0.0      0.0     0.0\n",
       "15        0.0    0.0      0.0     0.0"
      ]
     },
     "execution_count": 5,
     "metadata": {},
     "output_type": "execute_result"
    }
   ],
   "source": [
    "#Tabla de valores Q inicalmente con 0s\n",
    "Q_table= np.zeros((state_space_size, action_space_size))\n",
    "pd.DataFrame(data=Q_table, columns=['Izquierda', 'Abajo', 'Derecha', 'Arriba'])"
   ]
  },
  {
   "cell_type": "code",
   "execution_count": 6,
   "id": "cc266f94",
   "metadata": {},
   "outputs": [],
   "source": [
    "def policy(state, Q_table):\n",
    "    \"\"\"Elije la acción en base a una política ambiciosa\"\"\"\n",
    "    return np.argmax(Q_table[state])\n",
    "\n",
    "def new_Q_value( reward, new_state, Q_table, discount_factor=1 ):\n",
    "    \"\"\"Diferencia temporta para acutaliza el valor-Q del par estado-acción\"\"\"\n",
    "    #obtiene Q*\n",
    "    future_optimal_value = np.max(Q_table[new_state])\n",
    "    #R + \\gammaxQ*\n",
    "    learned_value = reward + discount_factor * future_optimal_value\n",
    "    \n",
    "    return learned_value\n",
    "\n",
    "def learning_rate(n, min_rate=0.01 ):\n",
    "    \"\"\"Apata la tasa de aprendizaje\"\"\"\n",
    "    return max(min_rate, min(1.0, 1.0 - math.log10((n + 1) / 25)))\n",
    "\n",
    "def exploration_rate(n, min_rate= 0.1 ):\n",
    "    \"\"\"Adapta la tasa de exploración\"\"\"\n",
    "    return max(min_rate, min(1, 1.0 - math.log10((n  + 1) / 25)))"
   ]
  },
  {
   "cell_type": "code",
   "execution_count": 7,
   "id": "290b6e0b",
   "metadata": {},
   "outputs": [
    {
     "name": "stdout",
     "output_type": "stream",
     "text": [
      "Episode 100\n",
      "\tPuntaje:0.0; Acciones:['Derecha', 'Abajo']\n"
     ]
    }
   ],
   "source": [
    "puntajes_ep = []\n",
    "#Número de episodios\n",
    "n_episodes = 100\n",
    "for e in range(1, n_episodes+1):\n",
    "    #Estado inicial\n",
    "    current_state = env.reset()[0]\n",
    "    done = False\n",
    "    score = 0\n",
    "    actions = []\n",
    "    while done==False:\n",
    "        #Escoje acción de acuerdo con la política\n",
    "        action = policy(current_state, Q_table)\n",
    "        \n",
    "        #Genera núm. aleatorio, si es menor al rango de exploración\n",
    "        #realiza una acción aleatoria\n",
    "        if np.random.random() < exploration_rate(e) : \n",
    "            action = env.action_space.sample()\n",
    "        actions.append(action_names[action])\n",
    "         \n",
    "        #Cálcula la recompensa y actualiza las observaciones\n",
    "        obs, reward, done, _, _ = env.step(action)\n",
    "        new_state = obs\n",
    "        score += reward\n",
    "\n",
    "        #Rango de aprendizaje\n",
    "        lr = learning_rate(e)\n",
    "        #Actualiza la tabla para valores Q\n",
    "        learnt_value = new_Q_value(reward, new_state, Q_table )\n",
    "        old_value = Q_table[current_state, action]\n",
    "        #Cálcula el nuevo valor Q: (1-l)*Q_t + l*Q_t+1\n",
    "        Q_table[current_state, action] = (1-lr)*old_value + lr*learnt_value\n",
    "        #Cambia al nuevo estado\n",
    "        current_state = new_state\n",
    "    puntajes_ep.append(score)\n",
    "    if e % 100 == 0:\n",
    "        print('Episode {}\\n\\tPuntaje:{}; Acciones:{}'.format(e, score, actions))\n"
   ]
  },
  {
   "cell_type": "code",
   "execution_count": 8,
   "id": "9b135a9f",
   "metadata": {},
   "outputs": [
    {
     "data": {
      "image/png": "[encoded data removed]",
      "text/plain": [
       "<Figure size 640x480 with 1 Axes>"
      ]
     },
     "metadata": {},
     "output_type": "display_data"
    }
   ],
   "source": [
    "import matplotlib.pyplot as plt\n",
    "\n",
    "plt.plot(puntajes_ep,'o')\n",
    "plt.title('Scores en cada episodio')\n",
    "plt.xlabel('Episodio')\n",
    "plt.ylabel('Recompensa')\n",
    "plt.show()"
   ]
  },
  {
   "cell_type": "code",
   "execution_count": 9,
   "id": "56646c15",
   "metadata": {},
   "outputs": [
    {
     "data": {
      "text/html": [
       "<div>\n",
       "<style scoped>\n",
       "    .dataframe tbody tr th:only-of-type {\n",
       "        vertical-align: middle;\n",
       "    }\n",
       "\n",
       "    .dataframe tbody tr th {\n",
       "        vertical-align: top;\n",
       "    }\n",
       "\n",
       "    .dataframe thead th {\n",
       "        text-align: right;\n",
       "    }\n",
       "</style>\n",
       "<table border=\"1\" class=\"dataframe\">\n",
       "  <thead>\n",
       "    <tr style=\"text-align: right;\">\n",
       "      <th></th>\n",
       "      <th>Izquierda</th>\n",
       "      <th>Abajo</th>\n",
       "      <th>Derecha</th>\n",
       "      <th>Arriba</th>\n",
       "    </tr>\n",
       "  </thead>\n",
       "  <tbody>\n",
       "    <tr>\n",
       "      <th>0</th>\n",
       "      <td>0.982011</td>\n",
       "      <td>0.995040</td>\n",
       "      <td>0.999982</td>\n",
       "      <td>0.997014</td>\n",
       "    </tr>\n",
       "    <tr>\n",
       "      <th>1</th>\n",
       "      <td>0.995936</td>\n",
       "      <td>0.000000</td>\n",
       "      <td>0.999988</td>\n",
       "      <td>0.985112</td>\n",
       "    </tr>\n",
       "    <tr>\n",
       "      <th>2</th>\n",
       "      <td>0.978925</td>\n",
       "      <td>0.999991</td>\n",
       "      <td>0.954103</td>\n",
       "      <td>0.995505</td>\n",
       "    </tr>\n",
       "    <tr>\n",
       "      <th>3</th>\n",
       "      <td>0.998937</td>\n",
       "      <td>0.122738</td>\n",
       "      <td>0.852224</td>\n",
       "      <td>0.690136</td>\n",
       "    </tr>\n",
       "    <tr>\n",
       "      <th>4</th>\n",
       "      <td>0.428628</td>\n",
       "      <td>0.903808</td>\n",
       "      <td>0.000000</td>\n",
       "      <td>0.999740</td>\n",
       "    </tr>\n",
       "    <tr>\n",
       "      <th>5</th>\n",
       "      <td>0.000000</td>\n",
       "      <td>0.000000</td>\n",
       "      <td>0.000000</td>\n",
       "      <td>0.000000</td>\n",
       "    </tr>\n",
       "    <tr>\n",
       "      <th>6</th>\n",
       "      <td>0.000000</td>\n",
       "      <td>0.999992</td>\n",
       "      <td>0.930017</td>\n",
       "      <td>0.964474</td>\n",
       "    </tr>\n",
       "    <tr>\n",
       "      <th>7</th>\n",
       "      <td>0.411164</td>\n",
       "      <td>0.000000</td>\n",
       "      <td>0.000000</td>\n",
       "      <td>0.968456</td>\n",
       "    </tr>\n",
       "    <tr>\n",
       "      <th>8</th>\n",
       "      <td>0.000000</td>\n",
       "      <td>0.000000</td>\n",
       "      <td>0.391208</td>\n",
       "      <td>0.996588</td>\n",
       "    </tr>\n",
       "    <tr>\n",
       "      <th>9</th>\n",
       "      <td>0.916456</td>\n",
       "      <td>0.000000</td>\n",
       "      <td>0.000000</td>\n",
       "      <td>0.000000</td>\n",
       "    </tr>\n",
       "    <tr>\n",
       "      <th>10</th>\n",
       "      <td>0.536965</td>\n",
       "      <td>0.999995</td>\n",
       "      <td>0.000000</td>\n",
       "      <td>0.988984</td>\n",
       "    </tr>\n",
       "    <tr>\n",
       "      <th>11</th>\n",
       "      <td>0.000000</td>\n",
       "      <td>0.000000</td>\n",
       "      <td>0.000000</td>\n",
       "      <td>0.000000</td>\n",
       "    </tr>\n",
       "    <tr>\n",
       "      <th>12</th>\n",
       "      <td>0.000000</td>\n",
       "      <td>0.000000</td>\n",
       "      <td>0.000000</td>\n",
       "      <td>0.369315</td>\n",
       "    </tr>\n",
       "    <tr>\n",
       "      <th>13</th>\n",
       "      <td>0.000000</td>\n",
       "      <td>0.000000</td>\n",
       "      <td>0.000000</td>\n",
       "      <td>0.000000</td>\n",
       "    </tr>\n",
       "    <tr>\n",
       "      <th>14</th>\n",
       "      <td>0.000000</td>\n",
       "      <td>0.709178</td>\n",
       "      <td>0.999999</td>\n",
       "      <td>0.867545</td>\n",
       "    </tr>\n",
       "    <tr>\n",
       "      <th>15</th>\n",
       "      <td>0.000000</td>\n",
       "      <td>0.000000</td>\n",
       "      <td>0.000000</td>\n",
       "      <td>0.000000</td>\n",
       "    </tr>\n",
       "  </tbody>\n",
       "</table>\n",
       "</div>"
      ],
      "text/plain": [
       "    Izquierda     Abajo   Derecha    Arriba\n",
       "0    0.982011  0.995040  0.999982  0.997014\n",
       "1    0.995936  0.000000  0.999988  0.985112\n",
       "2    0.978925  0.999991  0.954103  0.995505\n",
       "3    0.998937  0.122738  0.852224  0.690136\n",
       "4    0.428628  0.903808  0.000000  0.999740\n",
       "5    0.000000  0.000000  0.000000  0.000000\n",
       "6    0.000000  0.999992  0.930017  0.964474\n",
       "7    0.411164  0.000000  0.000000  0.968456\n",
       "8    0.000000  0.000000  0.391208  0.996588\n",
       "9    0.916456  0.000000  0.000000  0.000000\n",
       "10   0.536965  0.999995  0.000000  0.988984\n",
       "11   0.000000  0.000000  0.000000  0.000000\n",
       "12   0.000000  0.000000  0.000000  0.369315\n",
       "13   0.000000  0.000000  0.000000  0.000000\n",
       "14   0.000000  0.709178  0.999999  0.867545\n",
       "15   0.000000  0.000000  0.000000  0.000000"
      ]
     },
     "execution_count": 9,
     "metadata": {},
     "output_type": "execute_result"
    }
   ],
   "source": [
    "pd.DataFrame(data=Q_table, columns=['Izquierda', 'Abajo', 'Derecha', 'Arriba'])"
   ]
  },
  {
   "cell_type": "markdown",
   "id": "6ac53d8e",
   "metadata": {},
   "source": [
    "## Prueba de aprendizaje"
   ]
  },
  {
   "cell_type": "code",
   "execution_count": 10,
   "id": "076109fb",
   "metadata": {},
   "outputs": [],
   "source": [
    "env=gym.make(\"FrozenLake-v1\",desc=[\"SFFF\", \"FHFF\", \"FFFH\", \"FFFG\"], is_slippery=False, render_mode=\"human\")"
   ]
  },
  {
   "cell_type": "code",
   "execution_count": 11,
   "id": "d355f8b9",
   "metadata": {},
   "outputs": [
    {
     "name": "stdout",
     "output_type": "stream",
     "text": [
      "Episodio: 1\n",
      "\tAcciones: ['Derecha', 'Abajo', 'Derecha', 'Derecha', 'Abajo', 'Abajo', 'Abajo', 'Derecha']; Puntaje: 1.0\n",
      "Episodio: 2\n",
      "\tAcciones: ['Derecha', 'Abajo', 'Derecha', 'Derecha', 'Abajo', 'Abajo', 'Abajo', 'Derecha', 'Derecha', 'Derecha', 'Abajo', 'Abajo', 'Abajo', 'Derecha']; Puntaje: 1.0\n",
      "Episodio: 3\n",
      "\tAcciones: ['Derecha', 'Abajo', 'Derecha', 'Derecha', 'Abajo', 'Abajo', 'Abajo', 'Derecha', 'Derecha', 'Derecha', 'Abajo', 'Abajo', 'Abajo', 'Derecha', 'Derecha', 'Derecha', 'Abajo', 'Abajo', 'Abajo', 'Derecha']; Puntaje: 1.0\n"
     ]
    }
   ],
   "source": [
    "n_episodes_t = 3\n",
    "for e in range(1, n_episodes_t+1):\n",
    "    #Estado inicial\n",
    "    current_state = env.reset()[0]\n",
    "    done = False\n",
    "    score = 0\n",
    "    actions\n",
    "    while done==False:\n",
    "        #Elije acción de acuerdo a política \n",
    "        action = policy(current_state, Q_table)\n",
    "        actions.append(action_names[action])\n",
    "        #Actúa en el ambiente y cálcula recompensa\n",
    "        obs, reward, done, _,_= env.step(action)\n",
    "        new_state = obs        \n",
    "        score += reward\n",
    "        #Actualiza el estado\n",
    "        current_state = new_state\n",
    "\n",
    "\n",
    "    print('Episodio: {}\\n\\tAcciones: {}; Puntaje: {}'.format(e, actions, score))\n",
    "    \n",
    "env.close()"
   ]
  },
  {
   "cell_type": "markdown",
   "id": "83fd4172",
   "metadata": {},
   "source": [
    "![image](Images/SolFrozenLake.gif)"
   ]
  },
  {
   "cell_type": "markdown",
   "id": "94514a2a",
   "metadata": {},
   "source": [
    "**Referencias:** \n",
    "\n",
    "* Aggarwal, R. (s. f.). Q-learning - Reinforcement Learning. Recuperado el 15 de diciembre de 2022. https://miet.ac.in/assets/uploads/cs/Q%20Learning.pdf\n",
    "\n",
    "* Brooker, R. (2020). OpenAI Gym: CartPole-v1 - Q-Learning [Youtube]. https://www.youtube.com/watch?v=JNKvJEzuNsc&t=227s\n",
    "\n",
    "* Jang, B. Kim, M. Harerimana, G. y Kim, J.W. (2019). \"Q-Learning Algorithms: A Comprehensive Classification and Applications,\". IEEE Access, vol. 7,133653-133667, doi: 10.1109/ACCESS.2019.2941229\n",
    "\n",
    "* Matiisen, T. (s. f.). Q-learning [Presentación]. Recuperado el 15 de diciembre de 2022. https://courses.cs.ut.ee/MTAT.03.292/2014_spring/uploads/Main/Q-learning.pdf\n",
    "\n",
    "* Farama Foundation. (2023). Frozen Lake. Gymnasium Documentation. Recuperado el 28 de marzo de 2023. https://gymnasium.farama.org/environments/toy_text/frozen_lake/\n",
    "\n",
    "* Shyalika, C. (2019). A Beginners Guide to Q-Learning. En Towards Data Science. Recuperado el 8 de diciembre de 2022. https://towardsdatascience.com/a-beginners-guide-to-q-learning-c3e2a30a653c\n"
   ]
  }
 ],
 "metadata": {
  "kernelspec": {
   "display_name": "Python 3 (ipykernel)",
   "language": "python",
   "name": "python3"
  },
  "language_info": {
   "codemirror_mode": {
    "name": "ipython",
    "version": 3
   },
   "file_extension": ".py",
   "mimetype": "text/x-python",
   "name": "python",
   "nbconvert_exporter": "python",
   "pygments_lexer": "ipython3",
   "version": "3.10.6"
  }
 },
 "nbformat": 4,
 "nbformat_minor": 5
}
