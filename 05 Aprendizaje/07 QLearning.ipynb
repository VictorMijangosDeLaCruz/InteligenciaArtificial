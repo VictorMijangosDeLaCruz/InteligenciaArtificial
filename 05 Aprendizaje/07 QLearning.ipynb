{
 "cells": [
  {
   "cell_type": "markdown",
   "id": "fb633b29",
   "metadata": {
    "id": "fb633b29"
   },
   "source": [
    "# Q-learning en el ambiente del Frozen Lake\n",
    "\n",
    "**Alicia Muñiz Jiménez**"
   ]
  },
  {
   "cell_type": "markdown",
   "id": "62d3b745",
   "metadata": {
    "id": "62d3b745"
   },
   "source": [
    "\n",
    "La clave para resolver problemas de aprendizaje por refuerzo (RL) es encontrar la política óptima ($\\pi^{*}$) de la función de valor para el problema específico. El Q-learning es un algoritmo del tipo modelo libre del RL basado en valor y es un policy off-learner, es decir, depende del ensayo y error para actualizar su experiencia y conocimiento del entorno, ya que tienen que aprender la dinámica del sistema a través de la experiencia y aprende el valor de la política óptima independientemente del tipo de acciones del agente, así como que las actualizaciones de la función de valor se basan en la ecuación de Bellman  (Jang, Kim, Harerimana y Kim, 2019).\n",
    "\n",
    "\n",
    "Su Q proviene de quality (cualidad en inglés), ya que el Q-learning representa qué tan útil es una acción en ganar una recompensa a futuro (Shyalika, 2019). Es así que el Q-learning estima la función $Q(s,a)$ que es el valor esperado de hacer una acción 'a' en un estado 's' para estimar la política óptima y la ecuación de actualización de los valores $Q(s,a)$ es la siguiente:\n",
    "\n",
    "\n",
    "$$\n",
    "Q(s, a) \\leftarrow Q(s, a) + \\alpha [ r(s, a) + γmax Q' (s',a') - Q(s, a) ]\n",
    "$$\n",
    "\n",
    "\n",
    "Donde:\n",
    "\n",
    "*   $r(s,a)$ = recompensa obtenida en ese estado dada una acción.\n",
    "*   $γ$ = factor de descuento para el estado futuro (al que se transitará), su valor es fijo y puede tomar el rango de valores de [0,1].\n",
    "*   $α$ = parámetro de aprendizaje, no es fijo ya que al inicio comienza en 1 y con cada iteración irá disminuyendo su valor hasta alcanzar el valor de 0 o un límite inferior definido de antemano (ej. 0.01).\n",
    "*   $Q(s, a)$ = valor Q del estado actual dada la acción a.\n",
    "*   $max Q'(s', a')$ = máxima futura recompensa esperada del estado nuevo al que se transitará.\n",
    "\n",
    "\n",
    "Como se puede apreciar en la ecuación anterior, el Q-learning usa el método de diferencias temporales para la actualización o estimación de los valores Q, ya que sólo toma en cuenta el estado actual y el siguiente estado para estimar los valores Q (Matiisen, s. f.). Por otro lado, cuando el Q-learning es ejecutado se crea lo que se llama una tabla-Q, que es una matriz donde las filas normalmente representan cada estado posible y las columnas las acciones posibles en cada estado (Aggarwal, s.f. ). Por lo tanto, cada entrada de la matriz es un par estado-acción. La tabla siempre se inicializa con todos los valores en 0 y se actualiza cada entrada con la ecuación de actualización de los valores Q, de acuerdo con lo que el agente explora en cada iteración. La tabla al final sirve como referencia para que el agente pueda seleccionar la mejor acción basada en los valores Q.\n",
    "\n",
    "Finalmente, es importante recalcar que en el Q-learning el agente trabaja con una política epsilon-greedy, mas esta política no tiene valores fijos, sino que al inicio el algoritmo tiene un  epsilon de 1 y con cada iteración este valor va disminuyendo hasta terminar en 0 o en un límite inferior como 0.01, si es que así se especifica de antemano (Matiisen, s.f.). Esto se debe a que como el algoritmo no tiene conocimiento de la dinámica del sistema al inicio, entonces necesita explorar mucho para conocer el entorno, pero conforme va conociendo más del entorno puede explotar cada vez más y no solo explorar."
   ]
  },
  {
   "cell_type": "markdown",
   "id": "17e68fc5",
   "metadata": {
    "id": "17e68fc5"
   },
   "source": [
    "Después de la breve introducción al Q-learning, ahora se procederá con un ejemplo práctico sobre dos agentes que interactúan en el entorno virtual \"Frozen Lake\" del gimnasio OpenAI, esto para entender mejor el Q-learning y las diferencias que se pueden observar al compararlo con un agente que tiene una política de elección de comportamiento de acciones aleatorias.\n",
    "\n"
   ]
  },
  {
   "cell_type": "markdown",
   "id": "f57ae6a6",
   "metadata": {
    "id": "f57ae6a6"
   },
   "source": [
    "## Explicación del ambiente"
   ]
  },
  {
   "cell_type": "markdown",
   "id": "a18e10ee",
   "metadata": {
    "id": "a18e10ee"
   },
   "source": [
    "La documentación de la paquetería *gymnasium* describe las siguientes características del ambiente *Frozen Lake* (Farama Foundation, 2023):\n",
    "\n",
    "* **Estado de acciones (4):**\n",
    "\n",
    "    - 0 = Izquierda\n",
    "    - 1 = Abajo\n",
    "    - 2 = Derecha\n",
    "    - 3 = Arriba\n",
    "\n",
    "* **Espacio observacional (16):** Se utilizará el ambiente de Frozen Lake con una cuadrícula de tamaño 4x4, por lo que el total de observaciones posibles (estados) son 16, como se puede ver en la imagen de abajo.\n",
    "\n",
    "\n",
    "* **Recompensas:**\n",
    "\n",
    "     - +1 si el agente alcanza la meta.\n",
    "     - 0 si el agente cae en algún hoyo en el hielo.\n",
    "     - 0 si el agente pasa por estados donde hay hielo congelado.\n",
    "\n"
   ]
  },
  {
   "cell_type": "markdown",
   "id": "50e6c9b1",
   "metadata": {
    "id": "50e6c9b1"
   },
   "source": [
    "Un ejemplo de la exploración que hace el agente se puede visualizar de la siguiente forma:\n",
    "\n",
    "![image](Images/FrozenLake.gif)"
   ]
  },
  {
   "cell_type": "markdown",
   "id": "71b9dc33",
   "metadata": {
    "id": "71b9dc33"
   },
   "source": [
    "# Código"
   ]
  },
  {
   "cell_type": "markdown",
   "id": "e72d943b",
   "metadata": {
    "id": "e72d943b"
   },
   "source": [
    "**Instalación e importación de librerías**"
   ]
  },
  {
   "cell_type": "code",
   "execution_count": 1,
   "id": "48ee25e0",
   "metadata": {
    "id": "48ee25e0"
   },
   "outputs": [],
   "source": [
    "#Instalación de paqueterías necesarias para usar el ambiente virtual de gymnasium sin problemas\n",
    "\n",
    "#!pip install gymnasium[toy-text]\n",
    "#!pip install pyglet==1.5.27"
   ]
  },
  {
   "cell_type": "code",
   "execution_count": 2,
   "id": "ad9f1773",
   "metadata": {
    "id": "ad9f1773"
   },
   "outputs": [],
   "source": [
    "#importación de librerías que se usarán en el código\n",
    "\n",
    "import numpy as np\n",
    "import pandas as pd\n",
    "import gymnasium as gym\n",
    "import math, random\n",
    "import matplotlib.pyplot as plt\n",
    "import seaborn as sns"
   ]
  },
  {
   "cell_type": "markdown",
   "id": "b6cf0e2f",
   "metadata": {
    "id": "b6cf0e2f"
   },
   "source": [
    "# Agente con acciones aleatorias"
   ]
  },
  {
   "cell_type": "markdown",
   "id": "f9d185b6",
   "metadata": {
    "id": "f9d185b6"
   },
   "source": [
    "**Creación del ambiente virtual de Frozen Lake**\n",
    "\n",
    "Para implementar un agente de aprendizaje supervisado; determinamos, en primer lugar, un ambiente. Este se determina por una cuadrícula de $n\\times n$. En la paquetería de Gymnasium, se usa la función <tt>make</tt> y le indicamos que queremos un ambiente de Frozen Lake. Este ambiente simula un entorno en que una gente se mueve con las acciones antes indicadas para llegar a una meta; en el ambiente hay obstáculos, que son hoyos donde el agente puede caer. Como resultado, se necesitan indicar los siguientes elementos:\n"
   ]
  },
  {
   "cell_type": "markdown",
   "id": "6ebd5424",
   "metadata": {
    "id": "6ebd5424"
   },
   "source": [
    "1. Se especifica la estructura del entorno con una cuadrícula de $n\\times n$ (en este caso $4\\times 4$) con el comando **desc = [\"SFFF\", \"FHFF\", \"FFFH\", \"FFFG\"]** (se pueden variar el orden de sus elementos), donde:\n",
    "\n",
    "    * S = posición inicial del agente (start)\n",
    "    * F = hielo (frozen)\n",
    "    * H = hoyo\n",
    "    * G = meta (goal)\n",
    "\n",
    "2. El comando **is_slippery=True** implica que el suelo está resbaloso y hace que el agente se mueva con una probabilidad de 1/3 a la casilla deseada y con un 1/3 de probabilidad a las casillas perpendiculares a la acción deseada. Si es **False** el agente se mueve a la casilla deseada siempre.\n",
    "\n",
    "3. El comando **render_mode=\"human\"** sirve para visualizar al entorno gráficamente, si es igual a **\"ansi\"** entonces los valores de las acciones se guardan en un string que contiene una representación de texto de estilo terminal para cada paso temporal, aunque sólo se visualiza este string si es solicitado."
   ]
  },
  {
   "cell_type": "code",
   "execution_count": 3,
   "id": "2ff1a16c",
   "metadata": {
    "colab": {
     "base_uri": "https://localhost:8080/"
    },
    "id": "2ff1a16c",
    "outputId": "31697324-8af6-474c-e3e1-10cba86c4d52"
   },
   "outputs": [
    {
     "name": "stdout",
     "output_type": "stream",
     "text": [
      "Ambiente:\n",
      "[[b'S' b'F' b'F' b'F']\n",
      " [b'F' b'H' b'F' b'F']\n",
      " [b'F' b'F' b'F' b'H']\n",
      " [b'F' b'F' b'F' b'G']]\n",
      " Núm. estados: 16 \n",
      " Núm. acciones: 4\n"
     ]
    }
   ],
   "source": [
    "#creación del ambiente virtual con la paquetería gymnasium\n",
    "env=gym.make(\"FrozenLake-v1\",\n",
    "             desc=[\"SFFF\", \"FHFF\", \"FFFH\", \"FFFG\"],\n",
    "             is_slippery=False,\n",
    "             render_mode=\"human\")\n",
    "\n",
    "#Índices de las acciones\n",
    "action_names = {0:'Izquierda', 1: 'Abajo', 2: 'Derecha', 3: 'Arriba'}\n",
    "\n",
    "#Número de acciones\n",
    "action_space_size = env.action_space.n\n",
    "#Número de estados(cuadros)\n",
    "state_space_size = env.observation_space.n\n",
    "\n",
    "print('Ambiente:\\n{}\\n Núm. estados: {} \\n Núm. acciones: {}'.format(env.get_wrapper_attr('desc'), state_space_size, action_space_size))"
   ]
  },
  {
   "cell_type": "markdown",
   "id": "299cb795",
   "metadata": {
    "id": "299cb795"
   },
   "source": [
    "A modo de prueba se programaron 10 episodios con un agente que elige sólo acciones aleatorias para ver cómo se comportaría y comparar al final este agente con el agente que aprende con Q-learning.\n"
   ]
  },
  {
   "cell_type": "code",
   "execution_count": 4,
   "id": "da9db83a",
   "metadata": {
    "colab": {
     "base_uri": "https://localhost:8080/"
    },
    "id": "da9db83a",
    "outputId": "33eef717-82c5-419a-845a-28a53050abc5"
   },
   "outputs": [
    {
     "name": "stdout",
     "output_type": "stream",
     "text": [
      "Ensayo:1\n",
      "\tAcciones:['Derecha', 'Arriba', 'Izquierda', 'Arriba', 'Abajo', 'Derecha']; Recompensa: 0.0\n",
      "Ensayo:2\n",
      "\tAcciones:['Arriba', 'Izquierda', 'Abajo', 'Derecha']; Recompensa: 0.0\n",
      "Ensayo:3\n",
      "\tAcciones:['Abajo', 'Arriba', 'Derecha', 'Arriba', 'Abajo']; Recompensa: 0.0\n",
      "Ensayo:4\n",
      "\tAcciones:['Derecha', 'Derecha', 'Derecha', 'Izquierda', 'Abajo', 'Abajo', 'Abajo', 'Derecha']; Recompensa: 1.0\n",
      "Ensayo:5\n",
      "\tAcciones:['Arriba', 'Derecha', 'Abajo']; Recompensa: 0.0\n",
      "Ensayo:6\n",
      "\tAcciones:['Derecha', 'Arriba', 'Izquierda', 'Derecha', 'Abajo']; Recompensa: 0.0\n",
      "Ensayo:7\n",
      "\tAcciones:['Izquierda', 'Abajo', 'Arriba', 'Derecha', 'Derecha', 'Arriba', 'Derecha', 'Arriba', 'Izquierda', 'Abajo', 'Derecha', 'Derecha', 'Arriba', 'Izquierda', 'Derecha', 'Abajo', 'Arriba', 'Derecha', 'Abajo', 'Arriba', 'Derecha', 'Derecha', 'Derecha', 'Abajo', 'Arriba', 'Abajo', 'Abajo']; Recompensa: 0.0\n",
      "Ensayo:8\n",
      "\tAcciones:['Derecha', 'Abajo']; Recompensa: 0.0\n",
      "Ensayo:9\n",
      "\tAcciones:['Abajo', 'Izquierda', 'Derecha']; Recompensa: 0.0\n",
      "Ensayo:10\n",
      "\tAcciones:['Derecha', 'Derecha', 'Izquierda', 'Arriba', 'Derecha', 'Arriba', 'Arriba', 'Izquierda', 'Abajo']; Recompensa: 0.0\n"
     ]
    }
   ],
   "source": [
    "\n",
    "episodios = 10\n",
    "\n",
    "for episodio in range(1, episodios+1):\n",
    "\n",
    "    #Estado inicial\n",
    "    estado = env.reset()\n",
    "    done = False                    #done = False implica que el agente no ha llegado a la meta\n",
    "    score = 0\n",
    "\n",
    "    actions = []\n",
    "    while not done:\n",
    "\n",
    "        #visualizar el ambiente\n",
    "        #env.render()                #quitar comentario para visualizar\n",
    "\n",
    "        #Muestrea una acción aleatoria\n",
    "        action = env.action_space.sample()\n",
    "        actions.append(action_names[action])\n",
    "\n",
    "        #Actualización de las variables en el ambiente por la acción tomada\n",
    "        _, reward, done, _, _ = env.step(action)\n",
    "        score += reward\n",
    "\n",
    "    print('Ensayo:{}\\n\\tAcciones:{}; Recompensa: {}'.format(episodio, actions, score))\n",
    "\n",
    "env.close()\n"
   ]
  },
  {
   "cell_type": "markdown",
   "id": "eeb0544e",
   "metadata": {
    "id": "eeb0544e"
   },
   "source": [
    "# Agente con el algoritmo de Q-learning"
   ]
  },
  {
   "cell_type": "markdown",
   "id": "143a591e",
   "metadata": {
    "id": "143a591e"
   },
   "source": [
    "### Creación del entorno virtual para el nuevo agente"
   ]
  },
  {
   "cell_type": "markdown",
   "id": "a9337ec0",
   "metadata": {
    "id": "a9337ec0"
   },
   "source": [
    "Se volverá a crear el ambiente virtual porque a diferencia del agente de acciones aleatorias, en este ambiente se usará render_mode=\"ansi\", ya que como el agente necesitará muchos episodios para aprender, es mejor no visualizar al agente en el ambiente, sino sería más tardado el aprendizaje por el costo computacional."
   ]
  },
  {
   "cell_type": "code",
   "execution_count": 5,
   "id": "9dd18478",
   "metadata": {
    "id": "9dd18478"
   },
   "outputs": [],
   "source": [
    "# creación del ambiente del agente que aprenderá con Q-learning\n",
    "env=gym.make(\"FrozenLake-v1\",desc=[\"SFFF\", \"FHFF\", \"FFFH\", \"FFFG\"], is_slippery=False, render_mode=\"ansi\")"
   ]
  },
  {
   "cell_type": "markdown",
   "id": "da7102bf",
   "metadata": {
    "id": "da7102bf"
   },
   "source": [
    "Se confirman cuántas acciones posibles hay:"
   ]
  },
  {
   "cell_type": "code",
   "execution_count": 6,
   "id": "c074975c",
   "metadata": {
    "colab": {
     "base_uri": "https://localhost:8080/"
    },
    "id": "c074975c",
    "outputId": "284b9447-bd29-4d3a-e307-d2fd7b32530c"
   },
   "outputs": [
    {
     "data": {
      "text/plain": [
       "4"
      ]
     },
     "execution_count": 6,
     "metadata": {},
     "output_type": "execute_result"
    }
   ],
   "source": [
    "env.action_space.n"
   ]
  },
  {
   "cell_type": "markdown",
   "id": "f8cbebcf",
   "metadata": {
    "id": "f8cbebcf"
   },
   "source": [
    "Se confirman cuántos estados hay en el ambiente:"
   ]
  },
  {
   "cell_type": "code",
   "execution_count": 7,
   "id": "4a892f33",
   "metadata": {
    "colab": {
     "base_uri": "https://localhost:8080/"
    },
    "id": "4a892f33",
    "outputId": "1814d738-83b6-4baa-c774-556d38db45f4"
   },
   "outputs": [
    {
     "data": {
      "text/plain": [
       "16"
      ]
     },
     "execution_count": 7,
     "metadata": {},
     "output_type": "execute_result"
    }
   ],
   "source": [
    "env.observation_space.n"
   ]
  },
  {
   "cell_type": "markdown",
   "id": "108a9652",
   "metadata": {
    "id": "108a9652"
   },
   "source": [
    "Se crea una tabla Q (Q_table), que es una matriz donde las filas representan cada estado posible y las columnas las acciones posibles en cada estado. Esta se inicializa con todos sus valores en cero y conforme el agente aprenda actualizará los valores de cada entrada."
   ]
  },
  {
   "cell_type": "code",
   "execution_count": 8,
   "id": "04289d16",
   "metadata": {
    "colab": {
     "base_uri": "https://localhost:8080/",
     "height": 551
    },
    "id": "04289d16",
    "outputId": "26b1440d-588e-47d7-8e68-07992ebf8ea5"
   },
   "outputs": [
    {
     "data": {
      "text/html": [
       "<div>\n",
       "<style scoped>\n",
       "    .dataframe tbody tr th:only-of-type {\n",
       "        vertical-align: middle;\n",
       "    }\n",
       "\n",
       "    .dataframe tbody tr th {\n",
       "        vertical-align: top;\n",
       "    }\n",
       "\n",
       "    .dataframe thead th {\n",
       "        text-align: right;\n",
       "    }\n",
       "</style>\n",
       "<table border=\"1\" class=\"dataframe\">\n",
       "  <thead>\n",
       "    <tr style=\"text-align: right;\">\n",
       "      <th>Estado</th>\n",
       "      <th>Izquierda</th>\n",
       "      <th>Abajo</th>\n",
       "      <th>Derecha</th>\n",
       "      <th>Arriba</th>\n",
       "    </tr>\n",
       "  </thead>\n",
       "  <tbody>\n",
       "    <tr>\n",
       "      <th>1</th>\n",
       "      <td>0.0</td>\n",
       "      <td>0.0</td>\n",
       "      <td>0.0</td>\n",
       "      <td>0.0</td>\n",
       "    </tr>\n",
       "    <tr>\n",
       "      <th>2</th>\n",
       "      <td>0.0</td>\n",
       "      <td>0.0</td>\n",
       "      <td>0.0</td>\n",
       "      <td>0.0</td>\n",
       "    </tr>\n",
       "    <tr>\n",
       "      <th>3</th>\n",
       "      <td>0.0</td>\n",
       "      <td>0.0</td>\n",
       "      <td>0.0</td>\n",
       "      <td>0.0</td>\n",
       "    </tr>\n",
       "    <tr>\n",
       "      <th>4</th>\n",
       "      <td>0.0</td>\n",
       "      <td>0.0</td>\n",
       "      <td>0.0</td>\n",
       "      <td>0.0</td>\n",
       "    </tr>\n",
       "    <tr>\n",
       "      <th>5</th>\n",
       "      <td>0.0</td>\n",
       "      <td>0.0</td>\n",
       "      <td>0.0</td>\n",
       "      <td>0.0</td>\n",
       "    </tr>\n",
       "    <tr>\n",
       "      <th>6</th>\n",
       "      <td>0.0</td>\n",
       "      <td>0.0</td>\n",
       "      <td>0.0</td>\n",
       "      <td>0.0</td>\n",
       "    </tr>\n",
       "    <tr>\n",
       "      <th>7</th>\n",
       "      <td>0.0</td>\n",
       "      <td>0.0</td>\n",
       "      <td>0.0</td>\n",
       "      <td>0.0</td>\n",
       "    </tr>\n",
       "    <tr>\n",
       "      <th>8</th>\n",
       "      <td>0.0</td>\n",
       "      <td>0.0</td>\n",
       "      <td>0.0</td>\n",
       "      <td>0.0</td>\n",
       "    </tr>\n",
       "    <tr>\n",
       "      <th>9</th>\n",
       "      <td>0.0</td>\n",
       "      <td>0.0</td>\n",
       "      <td>0.0</td>\n",
       "      <td>0.0</td>\n",
       "    </tr>\n",
       "    <tr>\n",
       "      <th>10</th>\n",
       "      <td>0.0</td>\n",
       "      <td>0.0</td>\n",
       "      <td>0.0</td>\n",
       "      <td>0.0</td>\n",
       "    </tr>\n",
       "    <tr>\n",
       "      <th>11</th>\n",
       "      <td>0.0</td>\n",
       "      <td>0.0</td>\n",
       "      <td>0.0</td>\n",
       "      <td>0.0</td>\n",
       "    </tr>\n",
       "    <tr>\n",
       "      <th>12</th>\n",
       "      <td>0.0</td>\n",
       "      <td>0.0</td>\n",
       "      <td>0.0</td>\n",
       "      <td>0.0</td>\n",
       "    </tr>\n",
       "    <tr>\n",
       "      <th>13</th>\n",
       "      <td>0.0</td>\n",
       "      <td>0.0</td>\n",
       "      <td>0.0</td>\n",
       "      <td>0.0</td>\n",
       "    </tr>\n",
       "    <tr>\n",
       "      <th>14</th>\n",
       "      <td>0.0</td>\n",
       "      <td>0.0</td>\n",
       "      <td>0.0</td>\n",
       "      <td>0.0</td>\n",
       "    </tr>\n",
       "    <tr>\n",
       "      <th>15</th>\n",
       "      <td>0.0</td>\n",
       "      <td>0.0</td>\n",
       "      <td>0.0</td>\n",
       "      <td>0.0</td>\n",
       "    </tr>\n",
       "    <tr>\n",
       "      <th>16</th>\n",
       "      <td>0.0</td>\n",
       "      <td>0.0</td>\n",
       "      <td>0.0</td>\n",
       "      <td>0.0</td>\n",
       "    </tr>\n",
       "  </tbody>\n",
       "</table>\n",
       "</div>"
      ],
      "text/plain": [
       "Estado  Izquierda  Abajo  Derecha  Arriba\n",
       "1             0.0    0.0      0.0     0.0\n",
       "2             0.0    0.0      0.0     0.0\n",
       "3             0.0    0.0      0.0     0.0\n",
       "4             0.0    0.0      0.0     0.0\n",
       "5             0.0    0.0      0.0     0.0\n",
       "6             0.0    0.0      0.0     0.0\n",
       "7             0.0    0.0      0.0     0.0\n",
       "8             0.0    0.0      0.0     0.0\n",
       "9             0.0    0.0      0.0     0.0\n",
       "10            0.0    0.0      0.0     0.0\n",
       "11            0.0    0.0      0.0     0.0\n",
       "12            0.0    0.0      0.0     0.0\n",
       "13            0.0    0.0      0.0     0.0\n",
       "14            0.0    0.0      0.0     0.0\n",
       "15            0.0    0.0      0.0     0.0\n",
       "16            0.0    0.0      0.0     0.0"
      ]
     },
     "execution_count": 8,
     "metadata": {},
     "output_type": "execute_result"
    }
   ],
   "source": [
    "Q_table = np.zeros((env.observation_space.n,env.action_space.n ))\n",
    "\n",
    "#para visualizar la Q-table como un data frame\n",
    "df=pd.DataFrame(data=Q_table, columns=['Izquierda', 'Abajo', 'Derecha', 'Arriba'])\n",
    "df.index = [i+1 for i in range(len(df))]\n",
    "df.columns.name = 'Estado'\n",
    "df"
   ]
  },
  {
   "cell_type": "markdown",
   "id": "6e8c9644",
   "metadata": {
    "id": "6e8c9644"
   },
   "source": [
    "## Funciones"
   ]
  },
  {
   "cell_type": "markdown",
   "id": "df4fa652",
   "metadata": {
    "id": "df4fa652"
   },
   "source": [
    "**Tasa de aprendizaje (learning_rate)**\n",
    "\n",
    "En Q-learning el agente en los primeros episodios aprende mucho porque el agente no tiene un modelo del entorno, pero conforme va conociendo el entorno su tasa de aprendizaje irá disminuyendo, es decir, la tasa de aprendizaje es dinámica (no es fija).\n",
    "\n",
    "Si se analiza el siguiente código se puede ver al inicio la tasa de aprendizaje comienza en 1 y con cada iteración irá disminuyendo su valor hasta alcanzar el límite de 0.01. Los argumentos que toma la función son:\n",
    "\n",
    "* **n** = Episodio en el que está el agente (se aprecia en partes del código más adelante cuando se usa la función).\n",
    "* **min_rate** = Límite inferior que puede alcanzar la tasa de aprendizaje. Este límite se pone porque se quiere que el agente siempre siga aprendiendo en cierta medida, aunque ya tenga un buen modelo del entorno."
   ]
  },
  {
   "cell_type": "code",
   "execution_count": 9,
   "id": "6126fcdd",
   "metadata": {
    "id": "6126fcdd"
   },
   "outputs": [],
   "source": [
    "def learning_rate(n : int , min_rate=0.01 ) -> float  :\n",
    "    \"\"\"Tasa de decaimiento del aprendizaje por cada episodio\"\"\"\n",
    "\n",
    "    return max(min_rate, min(1.0, 1.0 - math.log10((n + 1) / 25)))"
   ]
  },
  {
   "cell_type": "markdown",
   "id": "84d05a5d",
   "metadata": {
    "id": "84d05a5d"
   },
   "source": [
    "**Tasa de exploración (exploration_rate)**\n",
    "\n",
    "Hay que recordar que en Q-learning al principio se explora mucho porque el agente no tiene un modelo del entorno y debe explorar para aprender, pero con el paso de los episodios comenzará a explotar más.\n",
    "\n",
    "En el siguiente código se puede ver que la tasa de exploración se inicializa en 1 y va disminuyendo en cada episodio hasta alcanzar un límite de 0.1. Los argumentos que toma la función son:\n",
    "* **n** = Episodio en el que está el agente (se aprecia en partes del código más adelante cuando se usa la función).\n",
    "* **min_rate** = Límite inferior que puede alcanzar la tasa de exploración. Este límite se pone porque lo que se quiere es que el agente siga explorando de vez en cuando, aunque ya tenga un buen modelo del entorno."
   ]
  },
  {
   "cell_type": "code",
   "execution_count": 10,
   "id": "fba2f653",
   "metadata": {
    "id": "fba2f653"
   },
   "outputs": [],
   "source": [
    "def exploration_rate(n : int, min_rate= 0.1 ) -> float :\n",
    "    \"\"\"Tasa de decaimiento de exploración en cada episodio\"\"\"\n",
    "    #\n",
    "    return max(min_rate, min(1, 1.0 - math.log10((n  + 1) / 25)))"
   ]
  },
  {
   "cell_type": "markdown",
   "id": "9cfccf90",
   "metadata": {
    "id": "9cfccf90"
   },
   "source": [
    "**Política epsilon-greedy**\n",
    "\n",
    "La política epsilon-greedy elige la opción de mayor recompensa la mayoría de las\n",
    "veces y con probabilidad ϵ elige aleatoriamente el resto de las veces (Francois-Lavent et al., 2018).\n",
    "\n",
    "El código a continuación muestra que si un número aleatorio es menor que la tasa de exploración, entonces se decide explorar, sino, se explota al elegir el argumento máximo de las acciones del Q-table (dado un estado específico)."
   ]
  },
  {
   "cell_type": "code",
   "execution_count": 11,
   "id": "08c83740",
   "metadata": {
    "id": "08c83740"
   },
   "outputs": [],
   "source": [
    "def policy_e_greedy(current_state : tuple):\n",
    "    \"\"\"Regla de decisión basada en una política epsilon-greedy, dado en el estado que se está\"\"\"\n",
    "\n",
    "    # explorar (acción aleatoria)\n",
    "    if np.random.random() < exploration_rate(e):\n",
    "        action = env.action_space.sample()\n",
    "\n",
    "    # explotar\n",
    "    else:\n",
    "        action = np.argmax(Q_table[current_state])\n",
    "\n",
    "    return action"
   ]
  },
  {
   "cell_type": "markdown",
   "id": "b7c4d44e",
   "metadata": {
    "id": "b7c4d44e"
   },
   "source": [
    "**Actualización del valor Q**\n",
    "\n",
    "En Q-learning se emplea el método de diferencias temporales para actualizar los valores Q (recordemos que un valor Q es la entrada de un par estado-acción de la tabla Q), porque para actualizar lo aprendido sólo se toma en cuenta el estado actual y el siguiente.\n",
    "\n",
    "El siguiente código corresponde la ecuación mencionada al inicio:\n",
    "\n",
    "$$\n",
    "Q(s, a) \\leftarrow Q(s, a) + \\alpha [ r(s, a) + γmax Q' (s',a') - Q(s, a) ]\n",
    "$$"
   ]
  },
  {
   "cell_type": "code",
   "execution_count": 12,
   "id": "cc266f94",
   "metadata": {
    "id": "cc266f94"
   },
   "outputs": [],
   "source": [
    "\n",
    "def new_Q_value( reward : float , action, current_state, new_state : tuple , discount_factor=1 ) -> float:\n",
    "    \"\"\"\n",
    "    Actualización del Q-value de un par estado-acción con el método de diferencias temporales:\n",
    "\n",
    "       reward = recompensa obtenida en el estado actual.\n",
    "       action = acción realizada\n",
    "       current_state = estado actual\n",
    "       new_state = estado siguiente\n",
    "       discount_factor = el peso que se le da al estado siguiente (entre más cercano a 1, más importa).\n",
    "\n",
    "    \"\"\"\n",
    "    act_val = Q_table[current_state, action]                             #se obtiene el valor del estado actual\n",
    "    fut_opt_val = np.max(Q_table[new_state])                             #se obtiene el valor del estado siguiente\n",
    "    learned_value = reward + discount_factor * fut_opt_val-act_val       # r(s, a) + γmax Q' (s',a') - Q(s, a)\n",
    "    new_val = (1-lr)*act_val + lr*(learned_value)\n",
    "\n",
    "    return new_val"
   ]
  },
  {
   "cell_type": "markdown",
   "id": "d82831f3",
   "metadata": {
    "id": "d82831f3"
   },
   "source": [
    "**Etapa de entrenamiento-aprendizaje**"
   ]
  },
  {
   "cell_type": "code",
   "execution_count": 13,
   "id": "290b6e0b",
   "metadata": {
    "colab": {
     "base_uri": "https://localhost:8080/"
    },
    "id": "290b6e0b",
    "outputId": "ffb19074-10eb-4e60-d36e-3c8d6a170e82"
   },
   "outputs": [
    {
     "name": "stdout",
     "output_type": "stream",
     "text": [
      "Episode 100\n",
      "\tPuntaje:1.0; Acciones:['Arriba', 'Abajo', 'Abajo', 'Abajo', 'Derecha', 'Arriba', 'Abajo', 'Izquierda', 'Derecha', 'Derecha', 'Derecha']\n",
      "Episode 200\n",
      "\tPuntaje:1.0; Acciones:['Abajo', 'Abajo', 'Izquierda', 'Abajo', 'Derecha', 'Derecha', 'Derecha']\n",
      "Episode 300\n",
      "\tPuntaje:1.0; Acciones:['Abajo', 'Abajo', 'Abajo', 'Derecha', 'Derecha', 'Derecha']\n",
      "Episode 400\n",
      "\tPuntaje:1.0; Acciones:['Abajo', 'Abajo', 'Abajo', 'Derecha', 'Derecha', 'Derecha']\n",
      "Episode 500\n",
      "\tPuntaje:1.0; Acciones:['Abajo', 'Abajo', 'Abajo', 'Derecha', 'Izquierda', 'Arriba', 'Abajo', 'Derecha', 'Derecha', 'Derecha']\n"
     ]
    }
   ],
   "source": [
    "#Etapa de entrenamiento/aprendizaje\n",
    "\n",
    "num_episodio = []         #lista donde se irán guardando el número de episodio\n",
    "puntajes_ep = []          #lista donde se irán guardando los puntajes por episodio\n",
    "\n",
    "n_episodes = 500         #se entrenará al agente con 1000 episodios\n",
    "\n",
    "for e in range(1, n_episodes+1):\n",
    "\n",
    "    #Estado inicial\n",
    "    current_state = env.reset()[0]\n",
    "    done = False\n",
    "    num_episodio.append(e)\n",
    "    score = 0\n",
    "\n",
    "    actions = []\n",
    "    while done==False:\n",
    "\n",
    "        #Se selecciona la acción con la política epsilon greedy\n",
    "        action = policy_e_greedy(current_state)\n",
    "        actions.append(action_names[action])\n",
    "\n",
    "        #Actualización de las variables en el ambiente\n",
    "        #a partir de la acción tomada\n",
    "        obs, reward, done, _, _ = env.step(action)\n",
    "\n",
    "        new_state = obs\n",
    "        score += reward\n",
    "        lr = learning_rate(e)                         #se actualiza la tasa de aprendizaje\n",
    "\n",
    "        #Se actualiza el valor Q\n",
    "        Q_table[current_state, action] = new_Q_value(reward, action, current_state, new_state)\n",
    "\n",
    "        #Se transita al nuevo estado\n",
    "        current_state = new_state\n",
    "\n",
    "    puntajes_ep.append(score)\n",
    "\n",
    "    #impresión de resultados cada 100 episodios\n",
    "    if e % 100 == 0:\n",
    "        puntaje = puntajes_ep[e-1]\n",
    "\n",
    "        print('Episode {}\\n\\tPuntaje:{}; Acciones:{}'.format(e, score, actions))\n",
    "\n"
   ]
  },
  {
   "cell_type": "markdown",
   "id": "CBQtvtmtsAml",
   "metadata": {
    "id": "CBQtvtmtsAml"
   },
   "source": [
    "**Graficación de los puntajes por episodio**"
   ]
  },
  {
   "cell_type": "code",
   "execution_count": 14,
   "id": "63ab3db0",
   "metadata": {
    "colab": {
     "base_uri": "https://localhost:8080/",
     "height": 472
    },
    "id": "63ab3db0",
    "outputId": "d1ef2c51-0424-4718-f5a6-93e1a7121299"
   },
   "outputs": [
    {
     "data": {
      "image/png": "[encoded data removed]",
      "text/plain": [
       "<Figure size 640x480 with 1 Axes>"
      ]
     },
     "metadata": {},
     "output_type": "display_data"
    }
   ],
   "source": [
    "plt.plot(puntajes_ep,'.')\n",
    "plt.title('Scores en cada episodio')\n",
    "plt.xlabel('Episodio')\n",
    "plt.ylabel('Recompensa')\n",
    "plt.show()"
   ]
  },
  {
   "cell_type": "markdown",
   "id": "f4f21fb3",
   "metadata": {
    "id": "f4f21fb3"
   },
   "source": [
    "**Visualización del Q-table después del aprendizaje**\n",
    "\n",
    "Recordemos que las filas representan los 16 diferentes estados y las columnas las 4 diferentes acciones. El hecho de la tabla tenga valores diferentes de 0 significa que el agente aprendió algo. En cada fila la entrada con un valor más cercano a uno representa la acción más óptima, porque se elige el argumento máximo del estado cuando se explota. Las filas con sólo ceros es porque probablemente el agente nunca pasó por ese estado o porque es la meta."
   ]
  },
  {
   "cell_type": "code",
   "execution_count": 15,
   "id": "f2d98380",
   "metadata": {
    "colab": {
     "base_uri": "https://localhost:8080/",
     "height": 435
    },
    "id": "f2d98380",
    "outputId": "10d05cf9-600b-4746-cf6d-35f982258d40"
   },
   "outputs": [
    {
     "data": {
      "image/png": "[encoded data removed]",
      "text/plain": [
       "<Figure size 640x480 with 2 Axes>"
      ]
     },
     "metadata": {},
     "output_type": "display_data"
    }
   ],
   "source": [
    "from seaborn import heatmap\n",
    "\n",
    "datos = pd.DataFrame(data=Q_table, columns=['Izquierda', 'Abajo', 'Derecha', 'Arriba'])\n",
    "heatmap(datos, cmap='Blues', annot=True, square=False)\n",
    "plt.ylabel('Estados')\n",
    "plt.show()"
   ]
  },
  {
   "cell_type": "markdown",
   "id": "6ac53d8e",
   "metadata": {
    "id": "6ac53d8e"
   },
   "source": [
    "## Prueba de aprendizaje"
   ]
  },
  {
   "cell_type": "markdown",
   "id": "115f47e3",
   "metadata": {
    "id": "115f47e3"
   },
   "source": [
    "En esta parte del código el agente ya no aprenderá, sino que se utilizará el Q-table para que el agente seleccione las acciones.\n",
    "\n",
    "**Correr esta parte del código sólo si se ha corrido toa las partes del código del apartado \"Agente con Q-learning\".**"
   ]
  },
  {
   "cell_type": "code",
   "execution_count": 16,
   "id": "076109fb",
   "metadata": {
    "id": "076109fb"
   },
   "outputs": [],
   "source": [
    "#Se crea el ambiente virtual\n",
    "env=gym.make(\"FrozenLake-v1\",desc=[\"SFFF\", \"FHFF\", \"FFFH\", \"FFFG\"], is_slippery=False, render_mode=\"human\")"
   ]
  },
  {
   "cell_type": "code",
   "execution_count": 17,
   "id": "d355f8b9",
   "metadata": {
    "colab": {
     "base_uri": "https://localhost:8080/"
    },
    "id": "d355f8b9",
    "outputId": "23a0d9f6-6fd8-4401-b49f-6021c43529e5"
   },
   "outputs": [
    {
     "name": "stdout",
     "output_type": "stream",
     "text": [
      "Episodio: 1\n",
      "\tAcciones: ['Abajo', 'Abajo', 'Abajo', 'Derecha', 'Derecha', 'Derecha']; Puntaje: 1.0\n",
      "Episodio: 2\n",
      "\tAcciones: ['Abajo', 'Abajo', 'Abajo', 'Derecha', 'Derecha', 'Derecha']; Puntaje: 1.0\n",
      "Episodio: 3\n",
      "\tAcciones: ['Abajo', 'Abajo', 'Abajo', 'Derecha', 'Derecha', 'Derecha']; Puntaje: 1.0\n",
      "Episodio: 4\n",
      "\tAcciones: ['Abajo', 'Abajo', 'Abajo', 'Derecha', 'Derecha', 'Derecha']; Puntaje: 1.0\n",
      "Episodio: 5\n",
      "\tAcciones: ['Abajo', 'Abajo', 'Abajo', 'Derecha', 'Derecha', 'Derecha']; Puntaje: 1.0\n"
     ]
    }
   ],
   "source": [
    "#Se evalúa el agente en 5 episodios\n",
    "\n",
    "n_episodes_t = 5\n",
    "\n",
    "for e in range(1, n_episodes_t+1):\n",
    "\n",
    "    current_state = env.reset()[0]\n",
    "    done = False\n",
    "    score = 0\n",
    "\n",
    "    actions = []\n",
    "    while done==False:\n",
    "\n",
    "        # política de acción\n",
    "        action = np.argmax(Q_table[current_state]) #la accion del agente es siempre explotar\n",
    "        actions.append(action_names[action])\n",
    "\n",
    "        #se obtienen los resultados del ambiente por la acción elegida\n",
    "        obs, reward, done, _,_= env.step(action)\n",
    "        score += reward\n",
    "\n",
    "        #se transita al nuevo estado\n",
    "        current_state = obs\n",
    "\n",
    "    print('Episodio: {}\\n\\tAcciones: {}; Puntaje: {}'.format(e, actions, score))\n",
    "\n",
    "env.close()"
   ]
  },
  {
   "cell_type": "markdown",
   "id": "b88bec04",
   "metadata": {
    "id": "b88bec04"
   },
   "source": [
    "**Ejercicio:**\n",
    "\n",
    "    1) Modificar el código en la etapa de entrenamiento para que corra sólo 20 episodio (n_episodes = 20) y correr todo el código que sigue. ¿Qué cambios observas en la tabla Q? ¿En la etapa de prueba o testing el agente sí llega a la meta o qué pasa?\n",
    "\n",
    "    2) ¿Cuáles son las diferencias en la conducta del agente de acciones aleatorias y el agente con el algoritmo de Q-learning?\n"
   ]
  },
  {
   "cell_type": "markdown",
   "id": "94514a2a",
   "metadata": {
    "id": "94514a2a"
   },
   "source": [
    "**Referencias:**\n",
    "\n",
    "* Aggarwal, R. (s. f.). Q-learning - Reinforcement Learning. Recuperado el 15 de diciembre de 2022. https://miet.ac.in/assets/uploads/cs/Q%20Learning.pdf\n",
    "\n",
    "* Brooker, R. (2020). OpenAI Gym: CartPole-v1 - Q-Learning [Youtube]. https://www.youtube.com/watch?v=JNKvJEzuNsc&t=227s\n",
    "\n",
    "* Jang, B. Kim, M. Harerimana, G. y Kim, J.W. (2019). \"Q-Learning Algorithms: A Comprehensive Classification and Applications,\". IEEE Access, vol. 7,133653-133667, doi: 10.1109/ACCESS.2019.2941229\n",
    "\n",
    "* Matiisen, T. (s. f.). Q-learning [Presentación]. Recuperado el 15 de diciembre de 2022. https://courses.cs.ut.ee/MTAT.03.292/2014_spring/uploads/Main/Q-learning.pdf\n",
    "\n",
    "* Francois-Lavet, V. Henderson, P. Islam, R. Bellemare, M. G. y Pineau, J. (2018).\n",
    "Foundations and Trends in Machine Learning, 11 (3-4).\n",
    "https://doi.org/10.1561/2200000071\n",
    "\n",
    "* Farama Foundation. (2023). Frozen Lake. Gymnasium Documentation. Recuperado el 28 de marzo de 2023. https://gymnasium.farama.org/environments/toy_text/frozen_lake/\n",
    "\n",
    "* Shyalika, C. (2019). A Beginners Guide to Q-Learning. En Towards Data Science. Recuperado el 8 de diciembre de 2022. https://towardsdatascience.com/a-beginners-guide-to-q-learning-c3e2a30a653c\n"
   ]
  }
 ],
 "metadata": {
  "colab": {
   "provenance": []
  },
  "kernelspec": {
   "display_name": "Python 3 (ipykernel)",
   "language": "python",
   "name": "python3"
  },
  "language_info": {
   "codemirror_mode": {
    "name": "ipython",
    "version": 3
   },
   "file_extension": ".py",
   "mimetype": "text/x-python",
   "name": "python",
   "nbconvert_exporter": "python",
   "pygments_lexer": "ipython3",
   "version": "3.8.10"
  }
 },
 "nbformat": 4,
 "nbformat_minor": 5
}
