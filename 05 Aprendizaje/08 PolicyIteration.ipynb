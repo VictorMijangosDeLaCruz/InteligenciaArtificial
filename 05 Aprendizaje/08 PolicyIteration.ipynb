{
 "cells": [
  {
   "cell_type": "markdown",
   "metadata": {
    "id": "AXlVTHi9r3uq"
   },
   "source": [
    "# **Procesos de Decisión Markovianos (MDP)**"
   ]
  },
  {
   "cell_type": "markdown",
   "metadata": {
    "id": "L4g1nnrIsFP4"
   },
   "source": [
    "**Alicia Muñiz Jiménez**\n",
    "\n",
    "25 de Julio de 2023"
   ]
  },
  {
   "cell_type": "markdown",
   "metadata": {
    "id": "VEMKZalsDXNc"
   },
   "source": [
    "## **Introducción**\n",
    "\n",
    "Para entender de manera apropiada que es un Proceso de Decisión Markoviano o MDP, primero se explicarán los conceptos de proceso estocástico, propiedad de Márkov y proceso de Márkov."
   ]
  },
  {
   "cell_type": "markdown",
   "metadata": {
    "id": "pKQ7Q7VIw5sn"
   },
   "source": [
    "### Procesos Estocásticos\n",
    "\n",
    "Un proceso estocástico es una colección o familia de variables aleatorias { $X_{t}$, con $t \\in T$ }, ordenadas según el subíndice $t$ que en general se suele identificar con el tiempo. Se asume que las variables dependen del tiempo y se considera que el proceso representa una serie de tiempo (UPCT, s.f.). Es decir, los procesos estocásticos son la evolución en el tiempo de algún fenómeno cuya dinámica se rige por el azar o en un espacio de probabilidad (no es determinista) y para cada instante $t$ se tiene una variable aleatoria distinta representada por $X_{t}$, donde los valores del tiempos y las variables aleatorias pueden ser de tipo discreto o continuas.  \n",
    "\n",
    "**Ejemplo:** Las ondas de voz puede ser modeladas con un proceso estocástico, lo cual se aprecia en la siguiente imagen (Dhruv, 2005), donde en el eje Y se tiene la amplitud de la señal y en el eje X el tiempo en segundos.\n",
    "\n",
    "<img src=\"Images/Time_audio.jpg\" width=\"300\"/>"
   ]
  },
  {
   "cell_type": "markdown",
   "metadata": {
    "id": "JmmeV-x8-VOn"
   },
   "source": [
    "\n",
    "### Propiedad de Márkov\n",
    "\n",
    "La propiedad de Márkov nos dice que la probabilidad de alcanzar un estado futuro ($s_{t+1}$) depende sólo del estado actual ($s_{t}$) y no de la historia de los estados anteriores (Grabski, 2015). Esto se debe a que el estado actual captura toda la información relevante de la historia de los estados, es decir, el estado actual es un estadístico suficiente para el futuro (Silver, s.f.).\n",
    "\n",
    "De esta forma, si $\\{S_t\\}_t$ es un proceso estocástico, la propiedad de Márkov nos dice que:\n",
    "\n",
    "$$P(s_{t+1}|s_{t}) = P (s_{t+1}|s_{1}, ..., s_{t}) $$\n",
    "\n",
    "\n",
    "**Ejemplo:** Un juego de mesa como el monopoly, que usa un dado para que avancen los jugadores en el juego, depende sólo del estado actual del juego y del resultado del dado para saber a qué nuevo estado transitará el jugador y no importa cómo llegó el jugador al estado actual (Amitabh, Malaya y Zakir, 2021).\n"
   ]
  },
  {
   "cell_type": "markdown",
   "metadata": {
    "id": "p3k4NAz9Yhyh"
   },
   "source": [
    "### Proceso de Márkov\n",
    "\n",
    "Un proceso estocástico es llamado proceso de Márkov si cumple la propiedad de Márkov; además, los procesos de Márkov están clasificados principalmente de acuerdo con la naturaleza del espacio de estados (Ibe, 2014):\n",
    "\n",
    "- **Cadena de Márkov:** se tiene un espacio de estados discreto, aunque puede ser continua o discreta en el tiempo.  \n",
    "- **Proceso de Márkov:** se tiene un espacio de estados continuo, aunque puede ser continuo o discreto en el tiempo.  \n",
    "\n",
    "Tanto en la investigación como en la práctica las cadenas de Márkov son las más usadas, ya que son lo suficientemente complejas para describir ciertas características no triviales de los sistemas, pero al mismo tiempo son lo suficientemente sencillas para ser analizadas matemáticamente (Rincón, 2012). Además, pueden aplicarse a una amplia gama de fenómenos científicos y sociales. De hecho, las cadenas de Markov fueron introducidas por Andrey Markov con la intención de crear un modelo probabilístico para analizar la frecuencia con la que aparecen las vocales en los poemas y textos literarios (Rincón, 2012). No obstante, ahora su aplicación es tan extensa que sirven incluso para analizar problemas de cognición o aprendizaje, lo cual se ha trasladado hasta la inteligencia artificial, por ejemplo, en los algoritmos de aprendizaje por refuerzo.\n",
    "\n",
    "Por otra parte, la matriz que describe las probabilidades de transición entre los diferentes estados de un proceso de Markov se llama **matriz de transición** (*P*), donde si el número de estados es finito (*k*), entonces se tendrá una matriz cuadrada cuya dimensión será de *k x k*.  \n",
    "\n",
    "\n",
    "\n",
    "\\begin{equation*}\n",
    "P =\n",
    "\\begin{bmatrix}\n",
    "P_{1,1} & P_{1,2} & \\cdots & P_{1,k} \\\\\n",
    "P_{2,1} & P_{2,2} & \\cdots & P_{2,k} \\\\\n",
    "\\vdots  & \\vdots  & \\ddots & \\vdots  \\\\\n",
    "P_{k,1} & P_{k,2} & \\cdots & P_{k,k}\n",
    "\\end{bmatrix}\n",
    "\\end{equation*}\n",
    "\n",
    "Además, esta matriz ha de cumplir otras propiedades como las siguientes (University of Auckland, s.f.):\n",
    "\n",
    "- Todas las entradas de $P_{ij}$ tienen valores no negativos y su valor corresponde a la probabilidad condicional de ir del estado *i* al *j* (a estas probabilidades se les conoce también como probabilidades de un paso).\n",
    "\n",
    " $$P_{ij} = P (s_{t+1} = s_j | s_{t}=s_i)$$\n",
    "\n",
    "- La suma de las entradas de cada fila deben ser igual a 1.\n",
    "\n",
    "Es importante aclarar que un proceso de Markov está completamente definido una vez que se especifica su matriz de transición y su estado inicial (Pinsky y Karlin, 2011). Adicionalmente,  se considera que una cadena de Markov es estacionaria u homogénea en el tiempo si la distribución de la cadena con una matriz de transición P es un vector, $v$, tal que $v P = v$, es decir, no importa cuál es el estado inicial sino que la proporción que pasa la cadena en el estado $j$ es aproximadamente $v_{j}$ para todas las $j$ (Goldman, 2008)."
   ]
  },
  {
   "cell_type": "markdown",
   "metadata": {
    "id": "WqD-oAsiXyaw"
   },
   "source": [
    "**Nota:** un proceso es estacionario en sentido estricto sí es independiente del tiempo (para mayor información ver el apéndice I)."
   ]
  },
  {
   "cell_type": "markdown",
   "metadata": {
    "id": "72fdC5I5y72B"
   },
   "source": [
    "La siguiente imagen muestra un ejemplo sencillo de un proceso de Márkov con su diagrama de transición con 2 estados (A y B) y su correspondiente matriz de transición, donde las filas representan el posible estado actual y las columnas los posibles estados futuros.\n",
    "\n",
    "<img src=\"Images/X.png\" width=\"300\"/>"
   ]
  },
  {
   "cell_type": "markdown",
   "metadata": {
    "id": "MYQCxJ1C9vZ8"
   },
   "source": [
    "## Proceso de Decisión Markoviano"
   ]
  },
  {
   "cell_type": "markdown",
   "metadata": {
    "id": "Ghu3AYX7rmo6"
   },
   "source": [
    "Un Proceso de Decisión Markoviano (MDP por sus siglas en inglés) es un problema de decisión secuencial en un ambiente totalmente observable y estocástico, con un modelo de transición Markoviano (propiedad de Markov).\n",
    "Un MDP es una 4-tupla, $\\mu= (S, A, R, P)$, que consiste en lo siguiente (Russel y Norvig, 2022):\n",
    "\n",
    "- Un conjunto de estados, $ s\\in S $.\n",
    "- Un conjunto de acciones, $ a \\in A $.\n",
    "- Una función de recompensa, $R (s,a ,s')$.\n",
    "- Probabilidades de transición, $P(s'|s,a)$.\n",
    "\n",
    "**Nota:** por facilidad de notación se usa $s' = s_{t+1}$ y $s = s_{t}$.\n",
    "\n"
   ]
  },
  {
   "cell_type": "markdown",
   "metadata": {
    "id": "miAcZAZLA6Df"
   },
   "source": [
    "Los MDP son una forma de idealización matemática para problemas de aprendizaje por reforzamiento donde un agente aprende de la interacción con su ambiente para alcanzar una meta (Vinay, Shiuann-Shuoh, Minal, Brijesh, Arpan, Agam, 2022). En un MDP un agente y el ambiente interactúan en una secuencia de pasos temporales discretos y en cada paso *t* el agente recibe una representación del estado en el ambiente en el que está, con base en ello el agente luego selecciona una acción y como resultado recibe una recompensa y transita a un nuevo estado (Doya, 2023). Esto se puede apreciar de forma gráfica en el diagrama de abajo de los autores Sutton y Barto (2018).\n",
    "\n",
    "<img src=\"Images/RL-MDP.png\" width=\"300\"/>"
   ]
  },
  {
   "cell_type": "markdown",
   "metadata": {
    "id": "HTDgFE2967m5"
   },
   "source": [
    "\n",
    "Es importante notar que en cada paso temporal el agente implementa un mapeo de la probabilidad en el estado actual para elegir una acción, a lo cual se le conoce como la *política* del agente ($π_{t}$ o $π$), donde $π (a|s)$ es la probabilidad de elegir la acció $a$ en el estado $s$, mientras que $π(s)$ es la acción recomendada por la política $π$ en el estado $s$ (Sutton et. al, 2018; Russel et. al, 2022). Es decir, la política es la solución que especifica lo que el agente debe hacer en cada estado que alcance. Dada la propiedad estocástica del entorno en un MDP, entonces cada vez que una política es ejecutada esta termina en una historia del ambiente diferente y, por ello, la calidad de una politica es medidad con la utilidad esperada ($U$) de las posibles historias de los entornos generados por esa política (Russel et. al, 2018).\n",
    "\n",
    "### Función de utilidad\n",
    "\n",
    "La función de utilidad que describe la utilidad esperada obtenida de ejecutar la política $π$ empezando en el estado $s$ es la siguiente:\n",
    "  \n",
    "\n",
    "$$\n",
    "U^{π} (s) = E \\left[\\sum_{t=0}^{∞} γ^t R(s, \\pi(s), s') \\right]\n",
    "$$\n",
    "\n",
    "Donde:\n",
    "\n",
    "- **γ** = Factor de descuento que puede tomar valores entre 0 y 1. Entre más cercano sea su valor a 1 significa que el agente está más dispuesto a esperar por las recompensas a largo plazo.  "
   ]
  },
  {
   "cell_type": "markdown",
   "metadata": {
    "id": "NQA-HKefEKKl"
   },
   "source": [
    "### Función de valor\n",
    "\n",
    "Por otra parte, **la función de valor** parte de la función de utilidad, sólo que está condicionada al estado actual. Esta pequeña modificación permite estimar qué tan bueno es para el agente estar en un estado. Su ecuación es la siguiente:\n",
    "\n",
    "$$\n",
    " v_{π} (s) = E \\left[\\sum_{t=0}^{∞} γ^t R(s, \\pi(s), s')  \\bigg\\vert  S_{t}=s\\right]\n",
    " =  \\sum_{a} π(a|s)\\sum_{s'. r} P(s', r| s, a)[r + γv_{\\pi}(s')] \\\\\n",
    "$$\n",
    "\n"
   ]
  },
  {
   "cell_type": "markdown",
   "metadata": {
    "id": "E3n8jeDHPu7h"
   },
   "source": [
    "Adicionalmente, una política óptima ($π^{*}$) es aquella que tiene el valor más alto de la utilidad esperada, es así que si se asume que el agente usa una política óptima, entonces la función de valor sería la siguiente:\n",
    "\n",
    "\n",
    "\n",
    "\n",
    "\n",
    "$$\n",
    " v_{π^*} (s)= max_{π} v_{\\pi}(s) = max_a\n",
    "\\sum_{s'. r} P(s', r| s, a)[r + γv_{\\pi^*}(s')]\n",
    "$$\n",
    "\n",
    "Por otro lado, es importante diferenciar entre un ambiente con un **horizonte finito o infinito**, ya que esto impactará en la política del agente. A diferencia de un horizonte infinito, en el horizonte finito existe un número fijo $N$ de pasos temporales que el agente puede ejecutar y en ese caso las acciones elegidas dependen del tiempo que resta, teniendo una **política no estacionaria** (Russel et. al, 2018). En cambio, cuando no existe tiempo límite, entonces tampoco hay razón para actuar diferente en el mismo estado en diferentes ocasiones, por ende, la política depende sólo del estado actual y no del tiempo, lo que se conoce como una **política estacionaria**.  \n"
   ]
  },
  {
   "cell_type": "markdown",
   "metadata": {
    "id": "3nxjGgjpQA1V"
   },
   "source": [
    "### Función de valor-acción\n",
    "\n",
    "Otro concepto importante es la **función de valor-acción** para una política $\\pi$, misma que estima el valor de tomar la acción $a$ en el estado $s$ bajo la política $\\pi$ (Sutton et. al, 2018). Si se está usando la política óptima se tiene la siguiente ecuación (Russel et. al, 2022):\n",
    "\n",
    "$$\n",
    "q(s,a) = \\sum_{s'} P(s',r| s,a)[r+ γmax_{a'}q_{π^*}(s', a')]  \n",
    "$$\n",
    "\n",
    "**Nota:** Es común usar una **tabla q** para guardar y actualizar los valores de cada acción por cada estado, donde las filas representan los estados y las columnas las acciones."
   ]
  },
  {
   "cell_type": "markdown",
   "metadata": {
    "id": "ooCTuT_2Lbz2"
   },
   "source": [
    "## Algoritmos de Policy Iteration"
   ]
  },
  {
   "cell_type": "markdown",
   "metadata": {
    "id": "PAANqHkCKWyH"
   },
   "source": [
    "Existen diferentes algoritmos para resolver un MDP y algunos de los más conocidos dependen de los métodos de aprendizaje de Programación Dinámica (DP), Monte Carlo (MC) o por Diferencias Temporales(TD). En este notebook sólo se produnfizará en el algortimo de **policy iteration** para ejemplificar cómo resolver un MDP, esto porque conocerlo es importante teóricamente para entender algoritmos posteriores que se basan en él. Cabe aclarar que este algoritmo pertenece a la programación dinámica y por lo mismo para usarlo se necesita tener conocimiento total del entorno en el que estará el agente, así como que es un método computacionalmente costoso (Sutton et. al, 2018). No obstante, para el ejemplo simple de este notebook no representa ningún problema.  A continuación se muestra el algoritmo de *policy iteration*:\n",
    "\n",
    "<img src=\"Images/PI.jpeg\" width=\"500\"/>"
   ]
  },
  {
   "cell_type": "markdown",
   "metadata": {
    "id": "UXXhHP_V8vxO"
   },
   "source": [
    "### Aplicación del algoritmo\n",
    "\n",
    "Se aplicará el algorito de policy iteration a un problema de encontrar el camino desde un punto A a un punto B en donde dentro del ambiente hay estados con recompensa negativa. Además el entorno es no determinista, pues una acción puede verse afectada por un parámetro de \"resbalo\", de tal forma que podemos terminar en un estado diferente al esperado con cierta probabilidad. El entorno se exporta desde la paquetería de <tt>gymnasium</tt>."
   ]
  },
  {
   "cell_type": "code",
   "execution_count": 1,
   "metadata": {
    "id": "eX2o7GE1Xzlb"
   },
   "outputs": [],
   "source": [
    "import gymnasium as gym\n",
    "import matplotlib.pyplot as plt\n",
    "import seaborn as sns\n",
    "import numpy as np"
   ]
  },
  {
   "cell_type": "markdown",
   "metadata": {
    "id": "TPjdP_iOe8ns"
   },
   "source": [
    "**Creación del ambiente virtual de Frozen Lake**\n",
    "\n",
    "Para la creación del ambiente utilizamos <tt>gymnasium</tt>: en particular, se carga el entorno <tt>Frozen-Lake</tt> que está definido por una cuadrícula en donde el agente busca llegar de un punto A hacia una meta B. El entorno presenta obstáculos o estados antagónicos en donde la recompensa que se recibe es negativa. \n",
    "\n",
    "Asimismo, el entorno es no determinista, pues existe la probabilidad de \"resbalar\", de tal forma que la ejecución de una acción $a$ en un estado $s$ puede llevar a más de un estado con cierta probabilidad. Esto se introduce por el comando <tt>is_slippery = True</tt> que implica que el suelo está resbaloso y hace que el agente se mueva con una probalidad de 1/3 a la casilla deseada y con un 1/3 de probabilidad a las casillas perpendiculares a la acción deseada.\n",
    "\n",
    "![frozen-lake](Images/FrozenLake.gif)"
   ]
  },
  {
   "cell_type": "code",
   "execution_count": 2,
   "metadata": {
    "id": "NXDyZQfZ9Xbh"
   },
   "outputs": [
    {
     "name": "stdout",
     "output_type": "stream",
     "text": [
      "Número de estados:  Discrete(16)\n",
      "Número de acciones:  Discrete(4)\n"
     ]
    }
   ],
   "source": [
    "#creación del entorno\n",
    "env = gym.make(\"FrozenLake-v1\",desc=[\"SFFF\", \"FHFF\", \"FFHF\", \"FFFG\"], is_slippery=True, render_mode=\"ansi\")\n",
    "#Acciones\n",
    "action_names = {0:'Izquierda', 1:'Abajo', 2:'Derecha',3:'Arriba'}\n",
    "\n",
    "print('Número de estados: ', env.observation_space)\n",
    "# acciones: izquierda = 0, abajo = 1, derecha = 2 y arriba = 3\n",
    "print('Número de acciones: ', env.action_space)"
   ]
  },
  {
   "cell_type": "markdown",
   "metadata": {
    "id": "Yk1BtpfPhRyg"
   },
   "source": [
    "En este entorno, los resultados de aplicar a una acción $a$ en un estado $s$ se obtienen mediante la función <tt>env.unwrapped.P[s][a]</tt>. La salida de esta fuunción nos da la probabilidad y el posible estado resultante."
   ]
  },
  {
   "cell_type": "code",
   "execution_count": 3,
   "metadata": {
    "colab": {
     "base_uri": "https://localhost:8080/"
    },
    "id": "RXx2mivz_pfw",
    "outputId": "caf3e239-7963-4144-d357-8fe370107d1b"
   },
   "outputs": [
    {
     "data": {
      "text/plain": [
       "[(0.3333333333333333, 0, 0.0, False),\n",
       " (0.3333333333333333, 4, 0.0, False),\n",
       " (0.3333333333333333, 1, 0.0, False)]"
      ]
     },
     "execution_count": 3,
     "metadata": {},
     "output_type": "execute_result"
    }
   ],
   "source": [
    "# La salida es una lista, donde cada entrada representa una de las acciones probables dada la acción elegida con las siguientes variables:\n",
    "# (probailidad de transición, siguiente estado, recompenza, ¿Es un estado terminal?)\n",
    "env.unwrapped.P[0][1]"
   ]
  },
  {
   "cell_type": "markdown",
   "metadata": {
    "id": "ZX1UANT_EoKV"
   },
   "source": [
    "#### Evualuación de la política\n",
    "\n",
    "El algoritmo de iteración de la política consiste de dos pasos: la evaluación y el mejoramiento. En la evaluación de la política se estima la función de valor de los estados $V(s)$ por medio de una actualización de la forma:\n",
    "\n",
    "$$V(s) \\leftarrow \\mathbb{E}_\\pi[G_t|S_t =s] = \\sum_a \\pi(a|s) \\sum_{s',r} p(s',r|s, a)[r + \\gamma V(s')]$$\n",
    "\n",
    "Es decir, se estima como el retorno esperado de estado de forma recursiva. En este caso, asumimos que cada acción tiene una probabilidad uniforme, por lo que la función de valor se estiam sólo como $V(s) \\leftarrow \\sum_{s',r} p(s',r|s, a)[r + \\gamma V(s')]$. Asmimismo, se calculan los valores $\\Delta$ como el máximo entre el valor anterior y la diferencia entre los valores del estado $s$."
   ]
  },
  {
   "cell_type": "code",
   "execution_count": 4,
   "metadata": {
    "id": "qkTTnAzKfJUS"
   },
   "outputs": [],
   "source": [
    "def policy_evaluation(env, policy_vec, val_fun_vec, conv_tolerance, discount=0.9):\n",
    "    \"\"\"Evaluación de la política\"\"\"\n",
    "    while True:\n",
    "        delta = 0\n",
    "        for state in env.unwrapped.P:\n",
    "            prev_val = val_fun_vec[state]\n",
    "            #Cálculo del retorno esperando\n",
    "            expected_return = sum([prob*(reward + discount*val_fun_vec[next_state]) \n",
    "                                      for prob,next_state,reward,is_terminal_state \n",
    "                                      in env.unwrapped.P[state][policy_vec[state]]])\n",
    "            #Actualización de los valores\n",
    "            val_fun_vec[state] = expected_return\n",
    "            #Actualización de delta\n",
    "            delta = np.max([delta, np.abs(prev_val - val_fun_vec[state])])\n",
    "\n",
    "        if(delta < conv_tolerance):\n",
    "            return policy_vec, val_fun_vec, delta"
   ]
  },
  {
   "cell_type": "markdown",
   "metadata": {
    "id": "tGkIhYxIq5vB"
   },
   "source": [
    "#### Mejoramiento de la política\n",
    "\n",
    "En el mejoramiento de la política, se actualizan los valores de las acciones que la política elige en cada estado. Para esto, se determina una mejor política a partir de la actualización:\n",
    "\n",
    "$$\\pi \\leftarrow \\mathbb{E}_\\pi[R_{t+1} + \\gamma v_\\pi(s)|S_t = s, A_t=a] =  \\arg\\max_a \\sum_{s',r} p(s',r|s,a) [r+\\gamma V(s')]$$\n",
    "\n",
    "El algoritmo se deteien cuando la política se estabiliza; es decir, cuando los valores de la política en la iteración anterior son los mismos que en la actual."
   ]
  },
  {
   "cell_type": "code",
   "execution_count": 5,
   "metadata": {
    "id": "lSV8LsLOhlL8"
   },
   "outputs": [],
   "source": [
    "def policy_improvement(policy_vec, val_fun_vec, policy_stable_vec, discount=0.9):\n",
    "    \"\"\"Mejoramiento de la política\"\"\"\n",
    "    for state in env.unwrapped.P:\n",
    "        old_action = policy_vec[state]\n",
    "        #Cálculo de los valores de acción\n",
    "        action_values = np.zeros(env.action_space.n)\n",
    "        for action_p in env.unwrapped.P[state]:\n",
    "            action_values[action_p] = sum([prob*(reward + discount*val_fun_vec[next_state]) \n",
    "                                           for prob, next_state, reward, is_terminal_state \n",
    "                                           in env.unwrapped.P[state][action_p]])\n",
    "        #Acción de mayor valor\n",
    "        policy_vec[state] = np.argmax(action_values)\n",
    "        \n",
    "        if old_action == policy_vec[state]:\n",
    "            policy_stable_vec[state] = True\n",
    "            \n",
    "    return policy_vec, policy_stable_vec"
   ]
  },
  {
   "cell_type": "markdown",
   "metadata": {
    "id": "vXL_KdUGq82T"
   },
   "source": [
    "### Policy Iteration\n",
    "\n",
    "Finalmente, definirmos el algoritmo de iteración de la política por medio de la aplicación de la evaluación de la política y el mejoramiento de la política. El algoritmo tomará el problema y regresará la política y la función de valor que aprende a partir del problema dado."
   ]
  },
  {
   "cell_type": "code",
   "execution_count": 6,
   "metadata": {
    "id": "seYBqOLPiUkJ"
   },
   "outputs": [],
   "source": [
    "def policy_iteration(env, discount = 0.9, conv_tolerance=1e-4, max_iterations=100):\n",
    "    \"\"\"Algoritmo de iteración de política\"\"\"\n",
    "    #Vector de estabilidad\n",
    "    policy_stable_vec = np.zeros(env.observation_space.n, dtype=bool)\n",
    "    #Función de valor\n",
    "    val_fun_vec = np.zeros(env.observation_space.n)\n",
    "    #Política\n",
    "    policy_vec = np.ones(env.observation_space.n, dtype=int)\n",
    "    for iterations in range(max_iterations):\n",
    "        #Evaluación de política\n",
    "        policy_vec, val_fun_vec, delta = policy_evaluation(env, policy_vec, val_fun_vec, \n",
    "                                                                       conv_tolerance, discount=discount)\n",
    "        #Mejoramiento de la política\n",
    "        policy_vec, policy_stable_vec = policy_improvement(policy_vec, val_fun_vec, policy_stable_vec, \n",
    "                                                           discount=discount)\n",
    "        \n",
    "        if np.all(policy_stable_vec == True):\n",
    "            return policy_vec, val_fun_vec"
   ]
  },
  {
   "cell_type": "markdown",
   "metadata": {
    "id": "3Q0e-GNErLMO"
   },
   "source": [
    "Aplicamos el algoritmo al problema definido del Frozen-Lake para otener la política y la función de valor:"
   ]
  },
  {
   "cell_type": "code",
   "execution_count": 7,
   "metadata": {
    "colab": {
     "base_uri": "https://localhost:8080/"
    },
    "id": "pbVoAvLQm0f_",
    "outputId": "109aa041-90d0-4581-c278-2269ca1f370f"
   },
   "outputs": [],
   "source": [
    "#ejecución del algoritmo de policy iteration\n",
    "policy_vec, val_fun_vec = policy_iteration(env, discount=0.5)"
   ]
  },
  {
   "cell_type": "markdown",
   "metadata": {
    "id": "WElZy-kKr87L"
   },
   "source": [
    "#### Resultados\n",
    "\n",
    "Podemos observar los resultados obtenidos a partir del algoritmo de iteración de la polítcia. Visualizamos la función de valor de los estados y las acciones determinadas."
   ]
  },
  {
   "cell_type": "code",
   "execution_count": 8,
   "metadata": {
    "colab": {
     "base_uri": "https://localhost:8080/",
     "height": 406
    },
    "id": "klzuKzJE9qky",
    "outputId": "01c96cbf-ad39-4f0d-bb68-4ee49b4d5cb1"
   },
   "outputs": [
    {
     "data": {
      "image/png": "[encoded data removed]",
      "text/plain": [
       "<Figure size 640x480 with 1 Axes>"
      ]
     },
     "metadata": {},
     "output_type": "display_data"
    },
    {
     "data": {
      "image/png": "[encoded data removed]",
      "text/plain": [
       "<Figure size 640x480 with 1 Axes>"
      ]
     },
     "metadata": {},
     "output_type": "display_data"
    }
   ],
   "source": [
    "def values_print(valueFunction,reshapeDim=4):\n",
    "    ax = sns.heatmap(valueFunction.reshape(reshapeDim,reshapeDim),annot=True, square=True,cbar=False, \n",
    "                     cmap='Blues',xticklabels=False, yticklabels=False)\n",
    "    plt.title('Función de valor por cada estado')\n",
    "    plt.show()\n",
    "\n",
    "def actions_print(policy_vec,reshapeDim=4):\n",
    "    ax = sns.heatmap(policy_vec.reshape(reshapeDim,reshapeDim),annot=np.array([action_names[a] for a in policy_vec]).reshape(reshapeDim,reshapeDim), \n",
    "                     fmt='',cbar=False, cmap='Oranges',xticklabels=False, yticklabels=False)\n",
    "    plt.title('Política en cada estado')\n",
    "    plt.show()\n",
    "\n",
    "values_print(val_fun_vec)\n",
    "actions_print(policy_vec)"
   ]
  },
  {
   "cell_type": "markdown",
   "metadata": {
    "id": "_anCZmUlPHT8"
   },
   "source": [
    "### Prueba de la política\n",
    "\n",
    "Finalmente, probamos la política en un entorno para determinar el cómo trabaja la política elegida."
   ]
  },
  {
   "cell_type": "code",
   "execution_count": 9,
   "metadata": {
    "colab": {
     "base_uri": "https://localhost:8080/"
    },
    "id": "n5uxmpZHGzrS",
    "outputId": "9ae6a513-5cea-4e0e-8679-813a753b7a19"
   },
   "outputs": [
    {
     "name": "stdout",
     "output_type": "stream",
     "text": [
      "Episodio: 1\n",
      "\tAcciones: ['Abajo', 'Abajo', 'Abajo', 'Arriba', 'Derecha', 'Derecha', 'Derecha', 'Derecha', 'Derecha', 'Derecha', 'Derecha', 'Derecha', 'Derecha', 'Derecha', 'Derecha', 'Derecha', 'Derecha', 'Derecha', 'Derecha', 'Derecha', 'Derecha', 'Derecha', 'Derecha'];\n",
      "\tPuntaje: 1.0\n",
      "Episodio: 2\n",
      "\tAcciones: ['Abajo', 'Abajo', 'Abajo', 'Abajo', 'Izquierda', 'Abajo', 'Abajo', 'Abajo', 'Abajo', 'Abajo', 'Abajo', 'Abajo', 'Abajo', 'Abajo', 'Abajo', 'Abajo', 'Abajo', 'Abajo', 'Abajo', 'Abajo', 'Abajo', 'Abajo', 'Abajo', 'Abajo', 'Abajo', 'Abajo', 'Abajo', 'Abajo', 'Abajo', 'Abajo', 'Abajo', 'Abajo', 'Abajo', 'Abajo', 'Abajo', 'Abajo', 'Abajo', 'Abajo', 'Abajo', 'Abajo', 'Abajo', 'Abajo', 'Abajo', 'Abajo', 'Abajo', 'Abajo', 'Abajo', 'Abajo', 'Abajo', 'Abajo', 'Abajo', 'Abajo', 'Abajo', 'Abajo', 'Abajo', 'Abajo', 'Abajo', 'Abajo', 'Abajo', 'Abajo'];\n",
      "\tPuntaje: 1.0\n"
     ]
    }
   ],
   "source": [
    "env.reset()\n",
    "n_episodes_t = 2\n",
    "for e in range(1, n_episodes_t+1):\n",
    "    current_state = env.reset()[0]\n",
    "    done = False\n",
    "    score = 0\n",
    "    actions = []\n",
    "    while done == False:\n",
    "        #Acción ambiciosa\n",
    "        action = policy_vec[current_state]\n",
    "        actions.append(action_names[action])\n",
    "        #Se obtienen los resultados del ambiente por la acción elegida\n",
    "        state, reward, done, _,_= env.step(action)\n",
    "        score += reward\n",
    "        #Se transita al nuevo estado\n",
    "        current_state = state\n",
    "\n",
    "    print('Episodio: {}\\n\\tAcciones: {};\\n\\tPuntaje: {}'.format(e, actions, score))\n",
    "\n",
    "env.close()"
   ]
  },
  {
   "cell_type": "markdown",
   "metadata": {
    "id": "lnBD-NwKPUgT"
   },
   "source": [
    "### Ejercicios:\n",
    "\n",
    "    1) Corre de nuevo el apartado \"prueba de la política\", si en algún episodio el agente obtiene un puntaje de 0.0, ¿esto cómo lo justificarías?\n",
    "\n",
    "    2) Si se inicializa el ambiente y el policy_vec de la siguiente forma:\n",
    "    \n",
    "      env=gym.make(\"FrozenLake-v1\",desc=[\"SFFF\", \"FHFF\", \"FFH\", \"FFFG\"], is_slippery=True, render_mode=\"human\")\n",
    "      policy_vec = np.zeros(env.observation_space.n, dtype=int).\n",
    "     \n",
    "      Entonce, qué pasa con el algorimto en la parte de entrenamiento y explica a qué se debe esto. Pista: pon atención en el penúltimo estado del entorno (el último es la meta o el estado terminal).\n",
    "\n",
    "     3) Si se inicializa el ambiente de la siguiente forma (is_slippery=False):\n",
    "\n",
    "        env=gym.make(\"FrozenLake-v1\",desc=[\"SFFF\", \"FHFF\", \"FFHF\", \"FFFG\"], is_slippery=False, render_mode=\"human\")\n",
    "\n",
    "       Entonces, ¿el policy_vec cambia sus valores? ¿A qué se debe que cambie o no sus valores?"
   ]
  },
  {
   "cell_type": "markdown",
   "metadata": {
    "id": "YbkKcZPjzhI-"
   },
   "source": [
    "**Referencias:**\n",
    "\n",
    "- Universidad Politécnica de Cartagena (UPCT). (s.f.). Introducción a los Procesos Estocásticos. Departamento de Matemáticas Aplicadas y Estadística (DMAE). Recuperado el 25 de julio de 2023. https://halweb.uc3m.es/esp/personal/personas/jmmarin/esp/pest/tema2pe.pdf\n",
    "\n",
    "- Dhruv, L. (2005). Audio Signal Filtering. Recuperado el 25 de julio de 2023. https://www.projectrhea.org/rhea/index.php/Audio_Signal_Filtering\n",
    "\n",
    "- Grabski, F. (2015). 1 - Discrete state space Markov processes en\n",
    "F. Grabski (Ed.), Semi-Markov Processes: Applications in System Reliability and Maintenance (pp. 1-17). Elsevier.\n",
    "https://doi.org/10.1016/B978-0-12-800518-7.00001-6.\n",
    "\n",
    "\n",
    "- Amitabh, B., Malaya, D. B. and Zakir, H. (2021). Chapter Eleven - Music recommender system using restricted Boltzmann machine with implicit feedback in S. Kim and G. Chandra Deka (Eds.), Advances in Computers (vol. 122, pp. 367-402). Elsevier.\n",
    "https://doi.org/10.1016/bs.adcom.2021.01.001.\n",
    "\n",
    "\n",
    "- Russel, S. y Norvig, P. (2022). Making Complex decisions, in Artificial intelligence: A Modern Approach (2ª ed., pp. 552-586). Pearson.\n",
    "\n",
    "- Doya, K. (2023).Reinforcement Learning, in R. Sun (Ed.), The Cambridge Handbook of Computational Cognitive Sciences (2nd ed., pp. 350-380). Cambridge: Cambridge University Press. doi:10.1017/9781108755610\n",
    "\n",
    "- Vinay, S., Shiuann-Shuoh, C., Minal, S., Brijesh, N. Arpan, K. y Agam, G. (2022). How are reinforcement learning and deep learning algorithms used for big data based decision making in financial industries–A review and research agenda, International Journal of Information Management Data Insights, 2 (2). https://doi.org/10.1016/j.jjimei.2022.100094.\n",
    "\n",
    "- Sutton, R. y Barto, A. (2018). Reinforcement learning: An introduction (2ª ed.). The MIT Press.  \n",
    "\n",
    "- Silver, D. (s.f.). Markov Decision Processes [presentación]. Recuperado el 25 de julio de 2023. https://www.davidsilver.uk/wp-content/uploads/2020/03/MDP.pdf\n",
    "\n",
    "- Sala, A. (2021). Procesos estocásticos estacionarios [presentación]. Univaersidad Politécnica de valencia. recuperado el 27 de julio de 2023. http://personales.upv.es/asala/DocenciaOnline/material/estocs3stac.pdf\n",
    "\n",
    "- Montañés-Bernal, A. (2008). Tema 1. Procesos estacionarios [presentación]. Universidad de Zaragoza. Recuperado el 27 de julio de 2023. https://personal.unizar.es/amontane/doc/ts/tema1.pdf\n",
    "\n",
    "- The University of Auckland. (s.f.). Chapter 8: Markov Chains [PDF]. Recuperado el 27 de julio de 2023. https://www.stat.auckland.ac.nz/~fewster/325/notes/ch8.pdf\n",
    "\n",
    "- Goldman, M. (2008). 1 Markov Chains - Stationary Distributions [course notes]. Berkeley. https://www.stat.berkeley.edu/~mgoldman/Section0220.pdf\n",
    "\n",
    "- Ibe, O. (2014). Chapter 12 - Special Random Processes. In Fundamentals of Applied Probability and Random Processes (2nd ed., pp. 369-425). Academic Press. https://www.sciencedirect.com/book/9780128008522/fundamentals-of-applied-probability-and-random-processes#book-description\n",
    "\n",
    "- Pinsky, M. A. y Karlin, S. (2011). Markov Chains: introduction. En An introduction to Stochastic modeling (4ª ed., pp. 79-163). Academic Press. https://doi.org/10.1016/C2009-1-61171-0\n",
    "\n",
    "- Rincón, L. (2012). Procesos Estocásticos. Las Prensas de Ciencias. http://lya.fciencias.unam.mx/lars/libros/procesos2012.pdf"
   ]
  },
  {
   "cell_type": "markdown",
   "metadata": {
    "id": "A5WKlw-vYKbr"
   },
   "source": [
    "## Apéndice I"
   ]
  },
  {
   "cell_type": "markdown",
   "metadata": {
    "id": "hBzQbyJeXrNh"
   },
   "source": [
    "### Procesos estacionarios vs no estacionarios\n",
    "\n",
    "A diferencia de un proceso estocástico **no estacionario** que depende del tiempo, un proceso es **estacionario en sentido estricto** sí es independiente del tiempo y, por lo tanto, para todo conjunto finito de instantes $t_{1}, t_{2}, ..., t_{n} $ con n arbitraria la función de densidad conjunta no cambia con un desplazamiento temporal $τ \\in  \\mathbb R $ (Sala, 2021). Es decir, los momentos estadísticos y los momentos estadísticos conjuntos son constantes.\n",
    "\n",
    "$$\n",
    "f_{t_{1}, ..., t_{n}} (X_{1}, ..., X_{n}) = f_{t_{1} + τ, ..., {t_{n}+τ}} (X_{1}, ..., X_{n})\n",
    "$$\n",
    "\n",
    "Un proceso estocástico es **estacionario en el sentido amplio** si se conserva constante, no la función de densidad completa, sino solamente lo siguiente (Montañés-Bernal, 2008):\n",
    "\n",
    "- La media y varianza son constantes (no dependen del tiempo).\n",
    "$$\n",
    "E ( y_{t} ) = μ ∀ t\n",
    "$$\n",
    "$$\n",
    "Var ( y_{t} ) = σ^{2} ∀ t\n",
    "$$\n",
    "- La covarianza (y la correlación) sólo depende de la distancia en tiempo entre los instantes comparados.\n",
    "\n",
    "$$\n",
    "Cov (y_{i}, y_{j}) = Cov (y_{k+i}, y_{k+j}) = γ (i-j) = γ (j-i) ∀ i \\neq j\n",
    "$$"
   ]
  }
 ],
 "metadata": {
  "colab": {
   "provenance": []
  },
  "kernelspec": {
   "display_name": "Python 3 (ipykernel)",
   "language": "python",
   "name": "python3"
  },
  "language_info": {
   "codemirror_mode": {
    "name": "ipython",
    "version": 3
   },
   "file_extension": ".py",
   "mimetype": "text/x-python",
   "name": "python",
   "nbconvert_exporter": "python",
   "pygments_lexer": "ipython3",
   "version": "3.10.9"
  }
 },
 "nbformat": 4,
 "nbformat_minor": 1
}
